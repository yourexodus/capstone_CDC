{
 "cells": [
  {
   "cell_type": "code",
   "execution_count": 3,
   "id": "14221ca5",
   "metadata": {},
   "outputs": [
    {
     "name": "stdout",
     "output_type": "stream",
     "text": [
      "   ID  Diabetes_binary  HighBP  HighChol  CholCheck  BMI  Smoker  Stroke  \\\n",
      "0   0                0       1         1          1   40       1       0   \n",
      "\n",
      "   HeartDiseaseorAttack  PhysActivity  ...  AnyHealthcare  NoDocbcCost  \\\n",
      "0                     0             0  ...              1            0   \n",
      "\n",
      "   GenHlth  MentHlth  PhysHlth  DiffWalk  Sex  Age  Education  Income  \n",
      "0        5        18        15         1    0    9          4       3  \n",
      "\n",
      "[1 rows x 23 columns]\n"
     ]
    }
   ],
   "source": [
    "import pandas as pd\n",
    "\n",
    "url = \"https://archive.ics.uci.edu/static/public/891/data.csv\"\n",
    "df = pd.read_csv(url)\n",
    "\n",
    "print(df.head(1))  # Print the first few rows"
   ]
  },
  {
   "cell_type": "code",
   "execution_count": null,
   "id": "c09301b3",
   "metadata": {},
   "outputs": [],
   "source": []
  }
 ],
 "metadata": {
  "kernelspec": {
   "display_name": "Python 3 (ipykernel)",
   "language": "python",
   "name": "python3"
  },
  "language_info": {
   "codemirror_mode": {
    "name": "ipython",
    "version": 3
   },
   "file_extension": ".py",
   "mimetype": "text/x-python",
   "name": "python",
   "nbconvert_exporter": "python",
   "pygments_lexer": "ipython3",
   "version": "3.9.12"
  }
 },
 "nbformat": 4,
 "nbformat_minor": 5
}
