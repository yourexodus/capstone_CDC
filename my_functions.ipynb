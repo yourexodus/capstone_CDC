{
 "cells": [
  {
   "cell_type": "code",
   "execution_count": 1,
   "id": "61ea07ce-7b69-42e6-821e-1ebbaa43e193",
   "metadata": {},
   "outputs": [],
   "source": [
    "import pandas as pd\n",
    "\n",
    "url = (\n",
    "    \"https://archive.ics.uci.edu/static/public/891/data.csv\"\n",
    ")\n"
   ]
  },
  {
   "cell_type": "code",
   "execution_count": 2,
   "id": "b5966b8a-2168-4047-a26a-be001c776fe5",
   "metadata": {},
   "outputs": [],
   "source": [
    "def download_data(x):\n",
    "    \"\"\"\n",
    "    Reads in a single dataset from the CDC website as csv\n",
    "        \n",
    "    Return: DataFrame\n",
    "    \"\"\"\n",
    "    if x== 1:\n",
    "      return pd.read_csv(url)"
   ]
  },
  {
   "cell_type": "code",
   "execution_count": 3,
   "id": "6bc37957-4ca7-48fb-8d3f-6011f57f1454",
   "metadata": {},
   "outputs": [],
   "source": [
    "def write_data(data, directory, **kwargs):\n",
    "    \"\"\"\n",
    "    Writes each raw data DataFrame to a file as a CSV\n",
    "    \n",
    "    Parameters\n",
    "    ----------\n",
    "    data : dictionary of DataFrames\n",
    "\n",
    "    directory : string name of directory to save files i.e. \"data/raw\"\n",
    "    \n",
    "    kwargs : extra keyword arguments for the `to_csv` DataFrame method\n",
    "    \n",
    "    Returns\n",
    "    -------X_test.to_csv('data/prepared/X_test_ScoreNewData.csv',index=False)\n",
    "    None\n",
    "    Note bashlash is a special character so will need to double the path string\n",
    "    directory name, name of key.csv.  forwardign any keyword argument\n",
    "    \"\"\"\n",
    "    for name, df in data.items():\n",
    "        #df.to_csv(f'data/raw/{name}.csv')\n",
    "        df.to_csv(f'{directory}/{name}.csv',**kwargs)"
   ]
  },
  {
   "cell_type": "code",
   "execution_count": 1,
   "id": "051c1eb9-edbe-4ed1-b44a-f888cf6a5b61",
   "metadata": {},
   "outputs": [],
   "source": [
    "def read_local_data(name, directory):\n",
    "    \"\"\"\n",
    "    Read in one CSV as a DataFrame from the given directory\n",
    "\n",
    "    Parameters\n",
    "    ----------\n",
    "    name : menhealth or menhealth or physical or dietary,heart,sex,edu,al   \n",
    "\n",
    "    directory : string name of directory to save files i.e. \"data/raw\"\n",
    "\n",
    "    Returns\n",
    "    -------\n",
    "    DataFrame\n",
    "    \"\"\"\n",
    "    return pd.read_csv(f\"{directory}/{name}_data.csv\")\n",
    "\n"
   ]
  },
  {
   "cell_type": "code",
   "execution_count": 2,
   "id": "8e3b34c9-f08d-4eae-87d4-56204149fd0f",
   "metadata": {},
   "outputs": [],
   "source": [
    "def run():\n",
    "    \"\"\"\n",
    "    Run all cleaning and transformation steps\n",
    "\n",
    "    Returns\n",
    "    -------\n",
    "    Dictionary of DataFrames\n",
    "    \"\"\"\n",
    "    names = ['menhealth','menhealth','physical','dietary','heart','sex','edu','all']\n",
    "    data = {}\n",
    "    for i in names:\n",
    "      data[f\"{i}\"] = read_local_data(i,'data/raw')\n",
    "    return data"
   ]
  },
  {
   "cell_type": "code",
   "execution_count": null,
   "id": "a569a221-a7f2-4e2a-a4cc-b7f41fe0ead7",
   "metadata": {},
   "outputs": [],
   "source": []
  },
  {
   "cell_type": "code",
   "execution_count": null,
   "id": "a6b23bee-f9dc-411c-bdd9-4edbb1c04e39",
   "metadata": {},
   "outputs": [],
   "source": []
  }
 ],
 "metadata": {
  "kernelspec": {
   "display_name": "Python 3 (ipykernel)",
   "language": "python",
   "name": "python3"
  },
  "language_info": {
   "codemirror_mode": {
    "name": "ipython",
    "version": 3
   },
   "file_extension": ".py",
   "mimetype": "text/x-python",
   "name": "python",
   "nbconvert_exporter": "python",
   "pygments_lexer": "ipython3",
   "version": "3.11.2"
  }
 },
 "nbformat": 4,
 "nbformat_minor": 5
}
