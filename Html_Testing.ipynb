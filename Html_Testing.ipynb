{
 "cells": [
  {
   "cell_type": "code",
   "execution_count": 5,
   "id": "38ceb084-1fed-4a73-9265-f89385c67c20",
   "metadata": {},
   "outputs": [
    {
     "data": {
      "text/html": [
       "<style>\n",
       "    p{\n",
       "        color:red;\n",
       "        font-size:25px;\n",
       "        font-weight:750;\n",
       "        background-color:tan;        \n",
       "    }\n",
       "</style>\n",
       "<h3>Forecasting Diabetes Dashboard</h3>\n",
       "<p>Makes predictions for diabetes</p>\n"
      ],
      "text/plain": [
       "<IPython.core.display.HTML object>"
      ]
     },
     "metadata": {
      "text/html": {
       "isolated": true
      }
     },
     "output_type": "display_data"
    }
   ],
   "source": [
    "%%html --isolated\n",
    "<style>\n",
    "    p{\n",
    "        color:red;\n",
    "        font-size:25px;\n",
    "        font-weight:750;\n",
    "        background-color:tan;        \n",
    "    }\n",
    "</style>\n",
    "<h3>Forecasting Diabetes Dashboard</h3>\n",
    "<p>Makes predictions for diabetes</p>"
   ]
  },
  {
   "cell_type": "code",
   "execution_count": 10,
   "id": "3396c02a-eada-4873-bf0d-2d8b5664167f",
   "metadata": {},
   "outputs": [
    {
     "data": {
      "text/html": [
       "<style>\n",
       "    h2 {\n",
       "        border: 2px dashed blue;\n",
       "        \n",
       "    }\n",
       "    p{\n",
       "        color: darkgreen;\n",
       "        font-size:25px;\n",
       "        font-weight:750;\n",
       "        background-color:tan; \n",
       "        text-align: center;\n",
       "        border: 2px dashed blue;\n",
       "        \n",
       "    }\n",
       "</style>\n",
       "<h2>Forecasting Diabetes Dashboard</h2>\n",
       "<p>Makes predictions for diabetes</p>\n",
       "<h2>Another header</h2>\n"
      ],
      "text/plain": [
       "<IPython.core.display.HTML object>"
      ]
     },
     "metadata": {
      "text/html": {
       "isolated": true
      }
     },
     "output_type": "display_data"
    }
   ],
   "source": [
    "%%html --isolated\n",
    "<style>\n",
    "    h2 {\n",
    "        border: 2px dashed blue;\n",
    "        \n",
    "    }\n",
    "    p{\n",
    "        color: darkgreen;\n",
    "        font-size:25px;\n",
    "        font-weight:750;\n",
    "        background-color:tan; \n",
    "        text-align: center;\n",
    "        border: 2px dashed blue;\n",
    "        \n",
    "    }\n",
    "</style>\n",
    "<h2>Forecasting Diabetes Dashboard</h2>\n",
    "<p>Makes predictions for diabetes</p>\n",
    "<h2>Another header</h2>"
   ]
  },
  {
   "cell_type": "code",
   "execution_count": 11,
   "id": "9ac8bcae-de09-4a49-919a-e6eb5d5cbb9e",
   "metadata": {},
   "outputs": [
    {
     "data": {
      "text/html": [
       "<style>\n",
       "    h2 {\n",
       "        border: 2px dashed blue;\n",
       "        \n",
       "    }\n",
       "    p{\n",
       "        color: darkgreen;\n",
       "        font-size:25px;\n",
       "        font-weight:750;\n",
       "        background-color:tan; \n",
       "        text-align: center;\n",
       "        border: 2px dashed blue;\n",
       "        display: inline;\n",
       "    }\n",
       "</style>\n",
       "<h2>Forecasting Diabetes Dashboard</h2>\n",
       "<p>Makes predictions for diabetes</p>\n",
       "<h2>Another header</h2>\n"
      ],
      "text/plain": [
       "<IPython.core.display.HTML object>"
      ]
     },
     "metadata": {
      "text/html": {
       "isolated": true
      }
     },
     "output_type": "display_data"
    }
   ],
   "source": [
    "%%html --isolated\n",
    "<style>\n",
    "    h2 {\n",
    "        border: 2px dashed blue;\n",
    "        \n",
    "    }\n",
    "    p{\n",
    "        color: darkgreen;\n",
    "        font-size:25px;\n",
    "        font-weight:750;\n",
    "        background-color:tan; \n",
    "        text-align: center;\n",
    "        border: 2px dashed blue;\n",
    "        display: inline;\n",
    "    }\n",
    "</style>\n",
    "<h2>Forecasting Diabetes Dashboard</h2>\n",
    "<p>Makes predictions for diabetes</p>\n",
    "<h2>Another header</h2>"
   ]
  },
  {
   "cell_type": "code",
   "execution_count": 12,
   "id": "c25fa63e-25f0-4dcf-b76a-f431314d7a12",
   "metadata": {},
   "outputs": [
    {
     "data": {
      "text/html": [
       "<style>\n",
       "    h2 {\n",
       "        border: 2px dashed blue;\n",
       "        display: inline;\n",
       "    }\n",
       "    p{\n",
       "        color: darkgreen;\n",
       "        font-size:25px;\n",
       "        font-weight:750;\n",
       "        background-color:tan; \n",
       "        text-align: center;\n",
       "        border: 2px dashed blue;\n",
       "        display: inline;\n",
       "    }\n",
       "</style>\n",
       "<h2>Forecasting Diabetes Dashboard</h2>\n",
       "<p>Makes predictions for diabetes</p>\n",
       "<h2>Another header</h2>\n"
      ],
      "text/plain": [
       "<IPython.core.display.HTML object>"
      ]
     },
     "metadata": {
      "text/html": {
       "isolated": true
      }
     },
     "output_type": "display_data"
    }
   ],
   "source": [
    "%%html --isolated\n",
    "<style>\n",
    "    h2 {\n",
    "        border: 2px dashed blue;\n",
    "        display: inline;\n",
    "    }\n",
    "    p{\n",
    "        color: darkgreen;\n",
    "        font-size:25px;\n",
    "        font-weight:750;\n",
    "        background-color:tan; \n",
    "        text-align: center;\n",
    "        border: 2px dashed blue;\n",
    "        display: inline;\n",
    "    }\n",
    "</style>\n",
    "<h2>Forecasting Diabetes Dashboard</h2>\n",
    "<p>Makes predictions for diabetes</p>\n",
    "<h2>Another header</h2>"
   ]
  },
  {
   "cell_type": "code",
   "execution_count": 14,
   "id": "06f3cd82-2ea7-43e0-a4cd-5529f4500e0f",
   "metadata": {},
   "outputs": [],
   "source": [
    "import dash\n",
    "from jupyter_dash import JupyterDash\n",
    "from dash import dcc, html, Input, Output\n",
    "import dash_html_components as html\n",
    "import dash_bootstrap_components as dbc\n",
    "from PIL import Image"
   ]
  },
  {
   "cell_type": "code",
   "execution_count": 38,
   "id": "42283a5e-1a6e-45d5-a190-799ea2442b1f",
   "metadata": {},
   "outputs": [
    {
     "data": {
      "text/html": [
       "\n",
       "        <iframe\n",
       "            width=\"100%\"\n",
       "            height=\"650\"\n",
       "            src=\"http://127.0.0.1:8054/\"\n",
       "            frameborder=\"0\"\n",
       "            allowfullscreen\n",
       "            \n",
       "        ></iframe>\n",
       "        "
      ],
      "text/plain": [
       "<IPython.lib.display.IFrame at 0x1cea5f73a00>"
      ]
     },
     "metadata": {},
     "output_type": "display_data"
    }
   ],
   "source": [
    "\n",
    "banner_img = Image.open(\"assets/banner2.PNG\")\n",
    "\n",
    "link = html.A('View Github Repository', href=\"https://github.com/yourexodus/capstone_CDC\")\n",
    " \n",
    "\n",
    "banner_item = html.Div(\n",
    "    [\n",
    "        html.Div(\n",
    "            html.Div(\n",
    "                [\n",
    "                    html.Div([\n",
    "                       # html.Img(src=banner_img, style={'width': '100%', 'height': '50%'})\n",
    "                        html.Img(src=banner_img, style={'width': '100%', 'height': '200px'})\n",
    "                       # html.Img(src=banner_img, 'width': '50%', 'height': '200px'),               # using the pillow image variable\n",
    "                        \n",
    "                    ]),\n",
    "                    html.Div(className=\"sidebar-wrapper\"),\n",
    "                ]\n",
    "            ),\n",
    "            className=\"sidebar\",\n",
    "        ),\n",
    "        html.Div(\n",
    "            html.Div(\n",
    "                html.Div(className=\"container-fluid\"),\n",
    "                className=\"navbar navbar-expand-lg navbar-transparent navbar-absolute fixed-top \",\n",
    "            ),\n",
    "            className=\"main-panel\",\n",
    "        ),\n",
    "    ]\n",
    ")\n",
    "banner_item.style = {'gridArea': \"banner_item\"}\n",
    "\n",
    "\n",
    "layout = html.Div([link, banner_item])\n",
    "\n",
    "\n",
    "\n",
    "app = dash.Dash(__name__)  # Initialize Dash app\n",
    "app.layout = layout        #set layout\n",
    "#app.run_server(mode='inline', height=100)  # Run the server\n",
    "app.run_server(mode='inline', height=100, port=8054)  # Change the port number (e.g., 8051)"
   ]
  },
  {
   "cell_type": "code",
   "execution_count": 39,
   "id": "17d37996-387d-40ef-b5cf-c0a47c57f3d4",
   "metadata": {},
   "outputs": [
    {
     "ename": "NameError",
     "evalue": "name 'title' is not defined",
     "output_type": "error",
     "traceback": [
      "\u001b[1;31m---------------------------------------------------------------------------\u001b[0m",
      "\u001b[1;31mNameError\u001b[0m                                 Traceback (most recent call last)",
      "Cell \u001b[1;32mIn[39], line 44\u001b[0m\n\u001b[0;32m     11\u001b[0m menu_income:[\n\u001b[0;32m     12\u001b[0m     {\u001b[38;5;124m'\u001b[39m\u001b[38;5;124mlabel\u001b[39m\u001b[38;5;124m'\u001b[39m:\u001b[38;5;124m'\u001b[39m\u001b[38;5;124m1 - Less than $10,000\u001b[39m\u001b[38;5;124m'\u001b[39m, \u001b[38;5;124m'\u001b[39m\u001b[38;5;124mvalue\u001b[39m\u001b[38;5;124m'\u001b[39m:\u001b[38;5;241m1\u001b[39m}, \n\u001b[0;32m     13\u001b[0m     {\u001b[38;5;124m'\u001b[39m\u001b[38;5;124mlabel\u001b[39m\u001b[38;5;124m'\u001b[39m:\u001b[38;5;124m'\u001b[39m\u001b[38;5;124m2 - Less than $15,000 ($10,000 to less than $15,000)\u001b[39m\u001b[38;5;124m'\u001b[39m, \u001b[38;5;124m'\u001b[39m\u001b[38;5;124mvalue\u001b[39m\u001b[38;5;124m'\u001b[39m:\u001b[38;5;241m2\u001b[39m},\n\u001b[1;32m   (...)\u001b[0m\n\u001b[0;32m     19\u001b[0m     {\u001b[38;5;124m'\u001b[39m\u001b[38;5;124mlabel\u001b[39m\u001b[38;5;124m'\u001b[39m:\u001b[38;5;124m'\u001b[39m\u001b[38;5;124m8 - $75,000 or more\u001b[39m\u001b[38;5;124m'\u001b[39m, \u001b[38;5;124m'\u001b[39m\u001b[38;5;124mvalue\u001b[39m\u001b[38;5;124m'\u001b[39m:\u001b[38;5;241m8\u001b[39m}\n\u001b[0;32m     20\u001b[0m     ]\n\u001b[0;32m     22\u001b[0m user_input \u001b[38;5;241m=\u001b[39m    html\u001b[38;5;241m.\u001b[39mDiv([\n\u001b[0;32m     23\u001b[0m         dcc\u001b[38;5;241m.\u001b[39mDropdown(\n\u001b[0;32m     24\u001b[0m             \u001b[38;5;28mid\u001b[39m\u001b[38;5;241m=\u001b[39m\u001b[38;5;124m'\u001b[39m\u001b[38;5;124mmenu_income\u001b[39m\u001b[38;5;124m'\u001b[39m,\n\u001b[1;32m   (...)\u001b[0m\n\u001b[0;32m     41\u001b[0m         \n\u001b[0;32m     42\u001b[0m     ])\n\u001b[1;32m---> 44\u001b[0m layout \u001b[38;5;241m=\u001b[39m html\u001b[38;5;241m.\u001b[39mDiv([\u001b[43mtitle\u001b[49m, user_input,  summary_table])\n\u001b[0;32m     46\u001b[0m app \u001b[38;5;241m=\u001b[39m dash\u001b[38;5;241m.\u001b[39mDash(\u001b[38;5;18m__name__\u001b[39m)  \u001b[38;5;66;03m# Initialize Dash app\u001b[39;00m\n\u001b[0;32m     47\u001b[0m app\u001b[38;5;241m.\u001b[39mlayout \u001b[38;5;241m=\u001b[39m layout        \u001b[38;5;66;03m#set layout\u001b[39;00m\n",
      "\u001b[1;31mNameError\u001b[0m: name 'title' is not defined"
     ]
    }
   ],
   "source": [
    "import dash\n",
    "from dash import dcc, html\n",
    "\n",
    "app = dash.Dash(__name__)\n",
    "\n",
    "options = [\n",
    "    {'label': 'New York City', 'value': 'NYC'},\n",
    "    {'label': 'Montreal', 'value': 'MTL'},\n",
    "    {'label': 'San Francisco', 'value': 'SF'}\n",
    "]\n",
    "menu_income:[\n",
    "    {'label':'1 - Less than $10,000', 'value':1}, \n",
    "    {'label':'2 - Less than $15,000 ($10,000 to less than $15,000)', 'value':2},\n",
    "    {'label':'3 - Less than $20,000 ($15,000 to less than $20,000)', 'value':3},\n",
    "    {'label':'4 - Less than $25,000 ($20,000 to less than $25,000)', 'value':4},\n",
    "    {'label':'5 - Less than $35,000 ($25,000 to less than $35,000)', 'value':5},\n",
    "    {'label':'6 - Less than $50,000 ($35,000 to less than $50,000)', 'value':6},\n",
    "    {'label':'7 - Less than $75,000 ($50,000 to less than $75,000)', 'value':7},\n",
    "    {'label':'8 - $75,000 or more', 'value':8}\n",
    "    ]\n",
    "     \n",
    "user_input =    html.Div([\n",
    "        dcc.Dropdown(\n",
    "            id='menu_income',\n",
    "            options=options,\n",
    "            placeholder=\"Please choose your income range.\"\n",
    "            #value='NYC1'  # Initial value\n",
    "        ),\n",
    "        dcc.Dropdown(\n",
    "            id='my-dropdown2',\n",
    "            options=options,\n",
    "            placeholder=\"Select a city\"\n",
    "            #value='NYC2'  # Initial value\n",
    "        ),\n",
    "        dcc.Dropdown(\n",
    "            id='my-dropdown3',\n",
    "            options=options,\n",
    "            placeholder=\"Select a city\"\n",
    "            #value='NYC3'  # Initial value\n",
    "        )        \n",
    "        \n",
    "    ])\n",
    "\n",
    "layout = html.Div([title, user_input,  summary_table])\n",
    "\n",
    "app = dash.Dash(__name__)  # Initialize Dash app\n",
    "app.layout = layout        #set layout\n",
    "app.run_server(mode='inline', height=25)  # Run the serv"
   ]
  },
  {
   "cell_type": "code",
   "execution_count": null,
   "id": "4c9e767f-17f0-4afd-8c5f-8e1d0b2d8d49",
   "metadata": {},
   "outputs": [],
   "source": []
  }
 ],
 "metadata": {
  "kernelspec": {
   "display_name": "Python 3 (ipykernel)",
   "language": "python",
   "name": "python3"
  },
  "language_info": {
   "codemirror_mode": {
    "name": "ipython",
    "version": 3
   },
   "file_extension": ".py",
   "mimetype": "text/x-python",
   "name": "python",
   "nbconvert_exporter": "python",
   "pygments_lexer": "ipython3",
   "version": "3.9.12"
  }
 },
 "nbformat": 4,
 "nbformat_minor": 5
}
