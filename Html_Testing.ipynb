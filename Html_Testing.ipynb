{
 "cells": [
  {
   "cell_type": "code",
   "execution_count": 2,
   "id": "06f3cd82-2ea7-43e0-a4cd-5529f4500e0f",
   "metadata": {},
   "outputs": [],
   "source": [
    "import dash\n",
    "from jupyter_dash import JupyterDash\n",
    "from dash import dcc, html, Input, Output\n",
    "import dash_html_components as html\n",
    "import dash_bootstrap_components as dbc\n",
    "from PIL import Image"
   ]
  },
  {
   "cell_type": "code",
   "execution_count": 3,
   "id": "28f8d545-3efc-437e-8d28-bf99eba28011",
   "metadata": {},
   "outputs": [],
   "source": [
    "flowchart_img = Image.open(\"assets/flowchart.png\")"
   ]
  },
  {
   "cell_type": "code",
   "execution_count": 4,
   "id": "ece0df4b-64d9-4e96-bcf2-38648537d5bb",
   "metadata": {},
   "outputs": [],
   "source": [
    "\n",
    "\n",
    " \n",
    "\n",
    "flowchart_item = html.Div(\n",
    "    [\n",
    "        html.Div(\n",
    "            html.Div(\n",
    "                [\n",
    "                    html.Div([\n",
    "                       # html.Img(src=banner_img, style={'width': '100%', 'height': '50%'})\n",
    "                        html.Img(src=flowchart_img, style={'width': '500px', 'height': '300px'})\n",
    "                       # html.Img(src=banner_img, 'width': '50%', 'height': '200px'),               # using the pillow image variable\n",
    "                        \n",
    "                    ]),\n",
    "                    html.Div(className=\"sidebar-wrapper\"),\n",
    "                ]\n",
    "            ),\n",
    "            className=\"sidebar\",\n",
    "        ),\n",
    "        html.Div(\n",
    "            html.Div(\n",
    "                html.Div(className=\"container-fluid\"),\n",
    "                className=\"navbar navbar-expand-lg navbar-transparent navbar-absolute fixed-top \",\n",
    "            ),\n",
    "            className=\"main-panel\",\n",
    "        ),\n",
    "    ]\n",
    ")\n",
    "flowchart_item.style = {'gridArea': \"flowchart_item\"}"
   ]
  },
  {
   "cell_type": "code",
   "execution_count": 104,
   "id": "b0ad9c3e-db5c-4630-ab03-e12bc296fb81",
   "metadata": {},
   "outputs": [],
   "source": [
    "testing_img = Image.open(\"gif/PredictionProgram.gif\")"
   ]
  },
  {
   "cell_type": "code",
   "execution_count": 105,
   "id": "1065f66e-9b31-4b7d-996b-4dbbb2b97f88",
   "metadata": {},
   "outputs": [],
   "source": [
    "testing_item = html.Div(\n",
    "    [\n",
    "        html.Div(\n",
    "            html.Div(\n",
    "                [\n",
    "                    html.Div([\n",
    "                       # html.Img(src=banner_img, style={'width': '100%', 'height': '50%'})\n",
    "                        html.Img(src=testing_img, style={'width': '800px', 'height': '300px'})\n",
    "                       # html.Img(src=banner_img, 'width': '50%', 'height': '200px'),               # using the pillow image variable\n",
    "                        \n",
    "                    ]),\n",
    "                    html.Div(className=\"sidebar-wrapper\"),\n",
    "                ]\n",
    "            ),\n",
    "            className=\"sidebar\",\n",
    "        ),\n",
    "        html.Div(\n",
    "            html.Div(\n",
    "                html.Div(className=\"container-fluid\"),\n",
    "                className=\"navbar navbar-expand-lg navbar-transparent navbar-absolute fixed-top \",\n",
    "            ),\n",
    "            className=\"main-panel\",\n",
    "        ),\n",
    "    ]\n",
    ")\n",
    "flowchart_item.style = {'gridArea': \"testing_item\"}"
   ]
  },
  {
   "cell_type": "code",
   "execution_count": 6,
   "id": "42283a5e-1a6e-45d5-a190-799ea2442b1f",
   "metadata": {},
   "outputs": [],
   "source": [
    "\n",
    "banner_img = Image.open(\"assets/banner2.PNG\")\n",
    "\n",
    "link = html.A('View Github Repository', href=\"https://github.com/yourexodus/capstone_CDC\")\n",
    "border_item = html.Div(\n",
    "    children=[\n",
    "        html.P(\"Makes predictions for diabetes\", style={\n",
    "            \"color\": \"red\",\n",
    "            \"font-size\": \"25px\",\n",
    "            \"font-weight\": 750,\n",
    "            \"background-color\": \"tan\"\n",
    "        })\n",
    "    ]\n",
    ")\n",
    "\n",
    "banner_item = html.Div(\n",
    "    [\n",
    "        html.Div(\n",
    "            html.Div(\n",
    "                [\n",
    "                    html.Div([\n",
    "                       # html.Img(src=banner_img, style={'width': '100%', 'height': '50%'})\n",
    "                        html.Img(src=banner_img, style={'width': '100%', 'height': '200px'})\n",
    "                       # html.Img(src=banner_img, 'width': '50%', 'height': '200px'),               # using the pillow image variable\n",
    "                        \n",
    "                    ]),\n",
    "                    html.Div(className=\"sidebar-wrapper\"),\n",
    "                ]\n",
    "            ),\n",
    "            className=\"sidebar\",\n",
    "        ),\n",
    "        html.Div(\n",
    "            html.Div(\n",
    "                html.Div(className=\"container-fluid\"),\n",
    "                className=\"navbar navbar-expand-lg navbar-transparent navbar-absolute fixed-top \",\n",
    "            ),\n",
    "            className=\"main-panel\",\n",
    "        ),\n",
    "    ]\n",
    ")\n",
    "banner_item.style = {'gridArea': \"banner_item\"}\n",
    "\n",
    "\n"
   ]
  },
  {
   "cell_type": "code",
   "execution_count": 3,
   "id": "afc8282c-34ae-4692-a8e1-eef5c461d82e",
   "metadata": {},
   "outputs": [],
   "source": [
    "#pip install dash-bootstrap-components"
   ]
  },
  {
   "cell_type": "code",
   "execution_count": 7,
   "id": "7e1ae8de-a01e-4668-b5e0-1d74d8ed63c0",
   "metadata": {},
   "outputs": [],
   "source": [
    "import dash_bootstrap_components as dbc\n",
    "\n",
    "banner_img = Image.open(\"assets/banner2.PNG\").convert('RGB')\n",
    "border_img = Image.open(\"assets/border1.PNG\").convert('RGB')\n",
    "\n",
    "link = dbc.NavLink(\"View Github Repository\", href=\"https://github.com/yourexodus/capstone_CDC\")\n",
    "\n",
    "banner_item = dbc.Row(\n",
    "    [\n",
    "        dbc.Col(\n",
    "            [\n",
    "                dbc.CardImg(src=banner_img, style={'height': '200px','width': '100%'}),\n",
    "                # Add other components for sidebar and navbar here...\n",
    "            ]\n",
    "        )\n",
    "    ]\n",
    ")\n",
    "\n",
    "border1_item = dbc.Row(\n",
    "    [\n",
    "        dbc.Col(\n",
    "            [\n",
    "                dbc.CardImg(src=border_img, style={'width': '100%'}),\n",
    "                # Add other components for sidebar and navbar here...\n",
    "            ]\n",
    "        )\n",
    "    ]\n",
    ")\n",
    " "
   ]
  },
  {
   "cell_type": "code",
   "execution_count": 8,
   "id": "a9401bd5-3160-46b2-bd2a-0f145cbcab27",
   "metadata": {},
   "outputs": [],
   "source": [
    "boxplot_img = Image.open(\"assets/boxplot.PNG\")"
   ]
  },
  {
   "cell_type": "code",
   "execution_count": 9,
   "id": "47fe01b8-7978-41d0-adc3-bc4b0927243f",
   "metadata": {},
   "outputs": [],
   "source": [
    "boxplot_item = html.Div(\n",
    "    [\n",
    "        html.Div(\n",
    "            html.Div(\n",
    "                [\n",
    "                    html.Div([\n",
    "                       # html.Img(src=banner_img, style={'width': '100%', 'height': '50%'})\n",
    "                        html.Img(src=boxplot_img, style={'width': '800px', 'height': '600px', 'justify-content': 'center', 'align-items': 'center'})\n",
    "                       # html.Img(src=banner_img, 'width': '50%', 'height': '200px'),               # using the pillow image variable\n",
    "                        \n",
    "                    ]),\n",
    "                    html.Div(className=\"sidebar-wrapper\"),\n",
    "                ]\n",
    "            ),\n",
    "            className=\"sidebar\",\n",
    "        ),\n",
    "        html.Div(\n",
    "            html.Div(\n",
    "                html.Div(className=\"container-fluid\"),\n",
    "                className=\"navbar navbar-expand-lg navbar-transparent navbar-absolute fixed-top \",\n",
    "            ),\n",
    "            className=\"main-panel\",\n",
    "        ),\n",
    "    ]\n",
    ")\n",
    "\n",
    "boxplot_item.style = {'gridArea': \"boxplot_item\"}"
   ]
  },
  {
   "cell_type": "code",
   "execution_count": 10,
   "id": "092966f4-0619-4668-b80b-3eec41f6860e",
   "metadata": {},
   "outputs": [],
   "source": [
    "Model_img = Image.open(\"assets/Model.PNG\")"
   ]
  },
  {
   "cell_type": "code",
   "execution_count": 11,
   "id": "9ae91cc1-7258-4936-a2e9-7b752b5a25d5",
   "metadata": {},
   "outputs": [],
   "source": [
    "Model_img = Image.open(\"assets/Model.PNG\")"
   ]
  },
  {
   "cell_type": "code",
   "execution_count": 12,
   "id": "9db3841f-6a11-47e9-a08e-20caec49449d",
   "metadata": {},
   "outputs": [],
   "source": [
    "Model_item = html.Div(\n",
    "    [\n",
    "        html.Div(\n",
    "            html.Div(\n",
    "                [\n",
    "                    html.Div([\n",
    "                       # html.Img(src=banner_img, style={'width': '100%', 'height': '50%'})\n",
    "                        html.Img(src=Model_img, style={'width': '800px', 'height': '600px', 'justify-content': 'center', 'align-items': 'center'})\n",
    "                       # html.Img(src=banner_img, 'width': '50%', 'height': '200px'),               # using the pillow image variable\n",
    "                        \n",
    "                    ]),\n",
    "                    html.Div(className=\"sidebar-wrapper\"),\n",
    "                ]\n",
    "            ),\n",
    "            className=\"sidebar\",\n",
    "        ),\n",
    "        html.Div(\n",
    "            html.Div(\n",
    "                html.Div(className=\"container-fluid\"),\n",
    "                className=\"navbar navbar-expand-lg navbar-transparent navbar-absolute fixed-top \",\n",
    "            ),\n",
    "            className=\"main-panel\",\n",
    "        ),\n",
    "    ]\n",
    ")\n",
    "\n",
    "Model_item.style = {'gridArea': \"Model_item\"}"
   ]
  },
  {
   "cell_type": "code",
   "execution_count": 13,
   "id": "1fd44656-92c3-4ca5-aeb7-94478dd300dc",
   "metadata": {},
   "outputs": [],
   "source": [
    "fewercolumns_img = Image.open(\"assets/fewercolumns.PNG\")"
   ]
  },
  {
   "cell_type": "code",
   "execution_count": 14,
   "id": "db07a929-38e1-4f90-8daf-fd25c8302732",
   "metadata": {},
   "outputs": [],
   "source": [
    "fewercolumns_item = html.Div(\n",
    "    [\n",
    "        html.Div(\n",
    "            html.Div(\n",
    "                [\n",
    "                    html.Div([\n",
    "                       # html.Img(src=banner_img, style={'width': '100%', 'height': '50%'})\n",
    "                        html.Img(src=fewercolumns_img, style={'width': '800px', 'height': '600px', 'justify-content': 'center', 'align-items': 'center'})\n",
    "                       # html.Img(src=banner_img, 'width': '50%', 'height': '200px'),               # using the pillow image variable\n",
    "                        \n",
    "                    ]),\n",
    "                    html.Div(className=\"sidebar-wrapper\"),\n",
    "                ]\n",
    "            ),\n",
    "            className=\"sidebar\",\n",
    "        ),\n",
    "        html.Div(\n",
    "            html.Div(\n",
    "                html.Div(className=\"container-fluid\"),\n",
    "                className=\"navbar navbar-expand-lg navbar-transparent navbar-absolute fixed-top \",\n",
    "            ),\n",
    "            className=\"main-panel\",\n",
    "        ),\n",
    "    ]\n",
    ")\n",
    "\n",
    "fewercolumns_item.style = {'gridArea': \"fewercolumns_item\"}"
   ]
  },
  {
   "cell_type": "code",
   "execution_count": 15,
   "id": "436d51d1-a854-4fb7-9989-ac2fc449b8d8",
   "metadata": {},
   "outputs": [],
   "source": [
    "outliers_img = Image.open(\"assets/outliers.PNG\")"
   ]
  },
  {
   "cell_type": "code",
   "execution_count": 16,
   "id": "71d0c19f-f5c2-4e60-9c21-a7d0fb6647c7",
   "metadata": {},
   "outputs": [],
   "source": [
    "outliers_item = html.Div(\n",
    "    [\n",
    "        html.Div(\n",
    "            html.Div(\n",
    "                [\n",
    "                    html.Div([\n",
    "                       # html.Img(src=banner_img, style={'width': '100%', 'height': '50%'})\n",
    "                        html.Img(src=outliers_img, style={'width': '800px', 'height': '600px', 'justify-content': 'center', 'align-items': 'center'})\n",
    "                       # html.Img(src=banner_img, 'width': '50%', 'height': '200px'),               # using the pillow image variable\n",
    "                        \n",
    "                    ]),\n",
    "                    html.Div(className=\"sidebar-wrapper\"),\n",
    "                ]\n",
    "            ),\n",
    "            className=\"sidebar\",\n",
    "        ),\n",
    "        html.Div(\n",
    "            html.Div(\n",
    "                html.Div(className=\"container-fluid\"),\n",
    "                className=\"navbar navbar-expand-lg navbar-transparent navbar-absolute fixed-top \",\n",
    "            ),\n",
    "            className=\"main-panel\",\n",
    "        ),\n",
    "    ]\n",
    ")\n",
    "\n",
    "outliers_item.style = {'gridArea': \"outliers_item\"}"
   ]
  },
  {
   "cell_type": "code",
   "execution_count": 17,
   "id": "fb883d50-9065-4427-8507-ca746e431000",
   "metadata": {},
   "outputs": [],
   "source": [
    "\n",
    "updatecolumns_img = Image.open(\"assets/updateColumns.PNG\")"
   ]
  },
  {
   "cell_type": "code",
   "execution_count": 18,
   "id": "4c5d0fc4-c8fd-467d-b2f3-28eaaae63b2b",
   "metadata": {},
   "outputs": [],
   "source": [
    "updatecolumns_item = html.Div(\n",
    "    [\n",
    "        html.Div(\n",
    "            html.Div(\n",
    "                [\n",
    "                    html.Div([\n",
    "                       # html.Img(src=banner_img, style={'width': '100%', 'height': '50%'})\n",
    "                        html.Img(src=updatecolumns_img, style={'width': '800px', 'height': '600px', 'justify-content': 'center', 'align-items': 'center'})\n",
    "                       # html.Img(src=banner_img, 'width': '50%', 'height': '200px'),               # using the pillow image variable\n",
    "                        \n",
    "                    ]),\n",
    "                    html.Div(className=\"sidebar-wrapper\"),\n",
    "                ]\n",
    "            ),\n",
    "            className=\"sidebar\",\n",
    "        ),\n",
    "        html.Div(\n",
    "            html.Div(\n",
    "                html.Div(className=\"container-fluid\"),\n",
    "                className=\"navbar navbar-expand-lg navbar-transparent navbar-absolute fixed-top \",\n",
    "            ),\n",
    "            className=\"main-panel\",\n",
    "        ),\n",
    "    ]\n",
    ")\n",
    "\n",
    "updatecolumns_item.style = {'gridArea': \"updatecolumns_item\"}"
   ]
  },
  {
   "cell_type": "code",
   "execution_count": 19,
   "id": "2e427ec3-204d-4398-bcd7-c591984895c4",
   "metadata": {
    "scrolled": true
   },
   "outputs": [],
   "source": [
    "heatmap_img = Image.open(\"assets/heatmap.PNG\")"
   ]
  },
  {
   "cell_type": "code",
   "execution_count": 20,
   "id": "d41f0607-ea7e-43b7-bdde-9534ef0a3b24",
   "metadata": {},
   "outputs": [],
   "source": [
    "\n",
    "heatmap_item = html.Div(\n",
    "    [\n",
    "        html.Div(\n",
    "            html.Div(\n",
    "                [\n",
    "                    html.Div([\n",
    "                       # html.Img(src=banner_img, style={'width': '100%', 'height': '50%'})\n",
    "                        html.Img(src=heatmap_img, style={'width': '800px', 'height': '600px', 'justify-content': 'center', 'align-items': 'center'})\n",
    "                       # html.Img(src=banner_img, 'width': '50%', 'height': '200px'),               # using the pillow image variable\n",
    "                        \n",
    "                    ]),\n",
    "                    html.Div(className=\"sidebar-wrapper\"),\n",
    "                ]\n",
    "            ),\n",
    "            className=\"sidebar\",\n",
    "        ),\n",
    "        html.Div(\n",
    "            html.Div(\n",
    "                html.Div(className=\"container-fluid\"),\n",
    "                className=\"navbar navbar-expand-lg navbar-transparent navbar-absolute fixed-top \",\n",
    "            ),\n",
    "            className=\"main-panel\",\n",
    "        ),\n",
    "    ]\n",
    ")\n",
    "\n",
    "heatmap_item.style = {'gridArea': \"heatmap_item\"}"
   ]
  },
  {
   "cell_type": "code",
   "execution_count": 21,
   "id": "b17df511-3e4f-4dad-80b4-64bf6c9bfdd4",
   "metadata": {},
   "outputs": [],
   "source": [
    "exploredata_img = Image.open(\"assets/exploredata.PNG\")"
   ]
  },
  {
   "cell_type": "code",
   "execution_count": 22,
   "id": "2ee573f5-523e-454a-ae04-3f581293e239",
   "metadata": {},
   "outputs": [],
   "source": [
    "\n",
    "exploredata_item = html.Div(\n",
    "    [\n",
    "        html.Div(\n",
    "            html.Div(\n",
    "                [\n",
    "                    html.Div([\n",
    "                       # html.Img(src=banner_img, style={'width': '100%', 'height': '50%'})\n",
    "                        html.Img(src=exploredata_img, style={'width': '800px', 'height': '600px', 'justify-content': 'center', 'align-items': 'center'})\n",
    "                       # html.Img(src=banner_img, 'width': '50%', 'height': '200px'),               # using the pillow image variable\n",
    "                        \n",
    "                    ]),\n",
    "                    html.Div(className=\"sidebar-wrapper\"),\n",
    "                ]\n",
    "            ),\n",
    "            className=\"sidebar\",\n",
    "        ),\n",
    "        html.Div(\n",
    "            html.Div(\n",
    "                html.Div(className=\"container-fluid\"),\n",
    "                className=\"navbar navbar-expand-lg navbar-transparent navbar-absolute fixed-top \",\n",
    "            ),\n",
    "            className=\"main-panel\",\n",
    "        ),\n",
    "    ]\n",
    ")\n",
    "\n",
    "exploredata_item.style = {'gridArea': \"exploredata_item\"}"
   ]
  },
  {
   "cell_type": "code",
   "execution_count": 24,
   "id": "a6129333-348a-4639-a840-f1f02af5f33f",
   "metadata": {},
   "outputs": [],
   "source": [
    "\n",
    "\n",
    "\n",
    "doctorcat_img = Image.open(\"assets/doctorcat.PNG\")\n",
    "\n",
    "link = html.A('View Github Repository', href=\"https://github.com/yourexodus/capstone_CDC\")\n",
    " \n",
    "\n",
    "doctorcat_item = html.Div(\n",
    "    [\n",
    "        html.Div(\n",
    "            html.Div(\n",
    "                [\n",
    "                    html.Div([\n",
    "                       # html.Img(src=banner_img, style={'width': '100%', 'height': '50%'})\n",
    "                        html.Img(src=doctorcat_img, style={'width': '600px', 'height': '400px', 'justify-content': 'center', 'align-items': 'center'})\n",
    "                       # html.Img(src=banner_img, 'width': '50%', 'height': '200px'),               # using the pillow image variable\n",
    "                        \n",
    "                    ]),\n",
    "                    html.Div(className=\"sidebar-wrapper\"),\n",
    "                ]\n",
    "            ),\n",
    "            className=\"sidebar\",\n",
    "        ),\n",
    "        html.Div(\n",
    "            html.Div(\n",
    "                html.Div(className=\"container-fluid\"),\n",
    "                className=\"navbar navbar-expand-lg navbar-transparent navbar-absolute fixed-top \",\n",
    "            ),\n",
    "            className=\"main-panel\",\n",
    "        ),\n",
    "    ]\n",
    ")\n",
    "doctorcat_item.style = {'gridArea': \"doctorcat_item\"}\n",
    "\n",
    "\n",
    " "
   ]
  },
  {
   "cell_type": "code",
   "execution_count": 61,
   "id": "789b4c79-5702-47b5-8996-704f4f7b386a",
   "metadata": {
    "scrolled": true
   },
   "outputs": [],
   "source": [
    "import dash\n",
    "from dash import dcc, html\n",
    "\n",
    "app = dash.Dash(__name__)\n",
    "\n",
    "\n",
    "menu_income:[\n",
    "    {'label':'1 - Less than $10,000', 'value':1}, \n",
    "    {'label':'2 - Less than $15,000 ($10,000 to less than $15,000)', 'value':2},\n",
    "    {'label':'3 - Less than $20,000 ($15,000 to less than $20,000)', 'value':3},\n",
    "    {'label':'4 - Less than $25,000 ($20,000 to less than $25,000)', 'value':4},\n",
    "    {'label':'5 - Less than $35,000 ($25,000 to less than $35,000)', 'value':5},\n",
    "    {'label':'6 - Less than $50,000 ($35,000 to less than $50,000)', 'value':6},\n",
    "    {'label':'7 - Less than $75,000 ($50,000 to less than $75,000)', 'value':7},\n",
    "    {'label':'8 - $75,000 or more', 'value':8}\n",
    "    ]\n",
    "\n",
    "\n",
    "\n",
    "user_input =    html.Div([\n",
    "        dcc.Dropdown(\n",
    "            id='menu_income',\n",
    "            options=options,\n",
    "            placeholder=\"Please choose your income range.\"\n",
    "            #value='NYC1'  # Initial value\n",
    "        ),\n",
    "        dcc.Dropdown(\n",
    "            id='my-dropdown2',\n",
    "            options=options,\n",
    "            placeholder=\"Select a city\"\n",
    "            #value='NYC2'  # Initial value\n",
    "        ),\n",
    "        dcc.Dropdown(\n",
    "            id='my-dropdown3',\n",
    "            options=options,\n",
    "            placeholder=\"Select a city\"\n",
    "            #value='NYC3'  # Initial value\n",
    "        )        \n",
    "        \n",
    "    ])\n",
    "\n"
   ]
  },
  {
   "cell_type": "code",
   "execution_count": 25,
   "id": "2b1e75c6-5130-49db-b9cf-a9f59fea7360",
   "metadata": {},
   "outputs": [],
   "source": [
    "\n",
    "gen_health = [\n",
    "     {'label': '1 Excellent', 'value':1},\n",
    "    {'label': '2 Very good', 'value':2},\n",
    "    {'label': '3 Good', 'value':3},\n",
    "    {'label': '4 Fair', 'value':4},\n",
    "    {'label': '5 Poor', 'value':5},\n",
    "    {'label': '7 Don’t know/Not Sure', 'value':7},\n",
    "    {'label': '9 Refused', 'value':7}\n",
    "\n",
    "\n",
    "]\n",
    "#number of days mental health not good\n",
    "men_health = [\n",
    "    {'label': '1: 1 - 30 Number of days ', 'value':1},\n",
    "    {'label': '2: 88 None ', 'value':2},\n",
    "    {'label': '3: 77 Don’t know/Not sure ', 'value':3},\n",
    "    {'label': '4: 99 Refused', 'value':4},\n",
    "    {'label': '5: BLANK Not asked or Missing', 'value':5},\n",
    "    \n",
    "]\n",
    "#numger of days phyical health not good\n",
    "phy_health = [\n",
    "    {'label': '1: 1 - 30 Number of days ', 'value':1},\n",
    "    {'label': '2: 88 None ', 'value':2},\n",
    "    {'label': '3: 77 Don’t know/Not sure ', 'value':3},\n",
    "    {'label': '4: 99 Refused', 'value':4},\n",
    "    {'label': '5: BLANK Not asked or Missing', 'value':5},\n",
    "    \n",
    "]\n",
    "\n",
    "#numger of days you have difficulty walking or climbing stairs\n",
    "diff = [\n",
    "    {'label': '1: 1 - 30 Number of days ', 'value':1},\n",
    "    {'label': '2: 88 None ', 'value':2},\n",
    "    {'label': '3: 77 Don’t know/Not sure ', 'value':3},\n",
    "    {'label': '4: 99 Refused', 'value':4},\n",
    "    {'label': '5: BLANK Not asked or Missing', 'value':5},\n",
    "    \n",
    "]"
   ]
  },
  {
   "cell_type": "code",
   "execution_count": 26,
   "id": "1b735145-d57c-4ab9-b7b0-f1e909b9f717",
   "metadata": {},
   "outputs": [],
   "source": [
    "options = [\n",
    "    {'label': 'New York City', 'value': 'NYC'},\n",
    "    {'label': 'Montreal', 'value': 'MTL'},\n",
    "    {'label': 'San Francisco', 'value': 'SF'}\n",
    "]\n",
    "menu_income = [\n",
    "    {'label':'1 - Less than $10,000', 'value':1}, \n",
    "    {'label':'2 - Less than $15,000 ($10,000 to less than $15,000)', 'value':2},\n",
    "    {'label':'3 - Less than $20,000 ($15,000 to less than $20,000)', 'value':3},\n",
    "    {'label':'4 - Less than $25,000 ($20,000 to less than $25,000)', 'value':4},\n",
    "    {'label':'5 - Less than $35,000 ($25,000 to less than $35,000)', 'value':5},\n",
    "    {'label':'6 - Less than $50,000 ($35,000 to less than $50,000)', 'value':6},\n",
    "    {'label':'7 - Less than $75,000 ($50,000 to less than $75,000)', 'value':7},\n",
    "    {'label':'8 - $75,000 or more', 'value':8}\n",
    "    ]\n",
    "\n",
    "######################################################################\n",
    "##################  OUTPUT VALUE for income #######################\n",
    "    \n",
    "html.Div(id='income-output'),\n",
    "    \n",
    "################################################################\n",
    "\n",
    "user_input1 = html.Div(  # Assuming user_input1 is a Div\n",
    "    children=[\n",
    "       dcc.Dropdown(\n",
    "            id='menu_income_id',\n",
    "            options=menu_income,\n",
    "            placeholder=\"Please choose your income range.\"\n",
    "            #value='NYC1'  # Initial value\n",
    "        )\n",
    "    ],\n",
    "    style={\n",
    "        \"display\": \"block\",  # Set display to block\n",
    "    }\n",
    ")\n",
    "\n",
    "user_input2 = html.Div(  # Assuming user_input1 is a Div\n",
    "    children=[\n",
    "       dcc.Dropdown(\n",
    "            id='gen_health_id',\n",
    "            options=gen_health,\n",
    "            placeholder=\"Please enter your general health code.\"\n",
    "            #value='NYC1'  # Initial value\n",
    "        )\n",
    "    ],\n",
    "    style={\n",
    "        \"display\": \"block\",  # Set display to block\n",
    "    }\n",
    ")\n",
    "\n",
    " \n",
    "user_input3 = html.Div(  # Assuming user_input1 is a Div\n",
    "    children=[\n",
    "       dcc.Dropdown(\n",
    "            id='men_health_id',\n",
    "            options=men_health,\n",
    "            placeholder=\"Enter number of days mental health was not good.\"\n",
    "            #value='NYC1'  # Initial value\n",
    "        )\n",
    "    ],\n",
    "    style={\n",
    "        \"display\": \"block\",  # Set display to block\n",
    "    }\n",
    ")\n",
    "\n",
    "user_input4 = html.Div(  # Assuming user_input1 is a Div\n",
    "    children=[\n",
    "       dcc.Dropdown(\n",
    "            id='phy_health_id',\n",
    "            options=phy_health,\n",
    "            placeholder=\"Enter number of days phyiscal health was not good.\"\n",
    "            #value='NYC1'  # Initial value\n",
    "        )\n",
    "    ],\n",
    "    style={\n",
    "        \"display\": \"block\",  # Set display to block\n",
    "    }\n",
    ")\n",
    "\n",
    "user_input5 = html.Div(  # Assuming user_input1 is a Div\n",
    "    children=[\n",
    "       dcc.Dropdown(\n",
    "            id='diff_id',\n",
    "            options=diff,\n",
    "            placeholder=\"Enter number of days phyiscal health was not good.\"\n",
    "            #value='NYC1'  # Initial value\n",
    "        )\n",
    "    ],\n",
    "    style={\n",
    "        \"display\": \"block\",  # Set display to block\n",
    "    }\n",
    ")"
   ]
  },
  {
   "cell_type": "code",
   "execution_count": 62,
   "id": "33a18e01-f19d-44a2-bd39-80cab7f803ee",
   "metadata": {
    "scrolled": true
   },
   "outputs": [],
   "source": [
    "import dash\n",
    "from dash import dcc, html\n",
    "\n",
    "app = dash.Dash(__name__)\n",
    "\n",
    "\n",
    "\n",
    "table_cell_container = html.Div(\n",
    "    children=[\n",
    "        doctorcat_item  # Existing doctorcat_item structure\n",
    "    ],\n",
    "    style={\n",
    "        \"display\": \"grid\",  # Enable grid layout\n",
    "        \"grid-template-columns\": \"1fr\",  # Single column layout\n",
    "        \"grid-template-rows\": \"auto\",  # Flexible row sizing\n",
    "        \"width\": \"100%\",  # Optional: Set cell width\n",
    "        \"height\": \"200px\",  # Optional: Set cell height\n",
    "    },\n",
    ")\n",
    "\n",
    "\n"
   ]
  },
  {
   "cell_type": "code",
   "execution_count": 28,
   "id": "0b3e012c-1db8-4219-ab7a-ae4d1324f323",
   "metadata": {},
   "outputs": [],
   "source": [
    "import dash\n",
    "from dash import html, dcc\n",
    "from dash.dependencies import Input, Output\n",
    "\n",
    "app = dash.Dash(__name__)\n",
    "\n",
    "# Initialize user_input_value\n",
    "user_input_value = None\n",
    "\n",
    "#layout is saved to a variable so I dont have to keep running it\n",
    "app.layout = html.Div([\n",
    "    link, \n",
    "    banner_item,  \n",
    "    doctorcat_item, \n",
    "    ########################################################################################################\n",
    "    ################## Define input and out for income drop down ###########################################\n",
    "    #######################################################################################################\n",
    "    html.Div(\n",
    "        children=[\n",
    "            dcc.Dropdown(\n",
    "                id='menu_income_id',\n",
    "                options=menu_income,\n",
    "                placeholder=\"Please choose your income range.\",\n",
    "                value=user_input_value\n",
    "            )\n",
    "        ],\n",
    "        style={\n",
    "            \"display\": \"block\"\n",
    "        }\n",
    "    ),\n",
    "    ######################################################################\n",
    "    ##################  OUTPUT VALUE for income #######################\n",
    "    \n",
    "    html.Div(id='income-output'),\n",
    "    \n",
    "    #################################################################################################\n",
    "    ###########  gen_health  ########################################################################\n",
    "    ################################################################################################\n",
    "    html.Div(  # Assuming user_input1 is a Div\n",
    "    children=[\n",
    "       dcc.Dropdown(\n",
    "            id='gen_health_id',\n",
    "            options=gen_health,\n",
    "            placeholder=\"Please enter your general health code.\",\n",
    "            value=user_input_value\n",
    "        )\n",
    "    ],\n",
    "    style={\n",
    "        \"display\": \"block\",  # Set display to block\n",
    "      }\n",
    "    ),\n",
    "     ######################################################################\n",
    "    ##################  OUTPUT VALUE for general health #######################\n",
    "    \n",
    "    html.Div(id='gen-health-output'),\n",
    "    \n",
    "    ################################################################################################\n",
    "    html.Div(\n",
    "        children=[\n",
    "            dcc.Dropdown(\n",
    "                id='phy_health_id',\n",
    "                options=phy_health,\n",
    "                placeholder=\"Please choose your physical health code.\",\n",
    "                value=user_input_value\n",
    "            )\n",
    "        ],\n",
    "        style={\n",
    "            \"display\": \"block\"\n",
    "        }\n",
    "    ),\n",
    "    ######################################################################\n",
    "    ##################  OUTPUT VALUE for physical health days #######################\n",
    "    \n",
    "    html.Div(id='phy-health-output'),\n",
    "    \n",
    "    ################################################################################################\n",
    "     html.Div(\n",
    "        children=[\n",
    "            dcc.Dropdown(\n",
    "                id='men_health_id',\n",
    "                options=men_health,\n",
    "                placeholder=\"Please choose your physical health range.\",\n",
    "                value=user_input_value\n",
    "            )\n",
    "        ],\n",
    "        style={\n",
    "            \"display\": \"block\"\n",
    "        }\n",
    "    ),\n",
    "    ######################################################################\n",
    "    ##################  OUTPUT VALUE for mental health #######################\n",
    "    \n",
    "    html.Div(id='men-health-output'),\n",
    "    \n",
    "    #################################\n",
    "     html.Div(\n",
    "        children=[\n",
    "            dcc.Dropdown(\n",
    "                id='diff_id',\n",
    "                options=phy_health,\n",
    "                placeholder=\"Please choose number of days you had diffculty walking.\",\n",
    "                value=user_input_value\n",
    "            )\n",
    "        ],\n",
    "        style={\n",
    "            \"display\": \"block\"\n",
    "        }\n",
    "    ),\n",
    "    ######################################################################\n",
    "    ##################  OUTPUT VALUE for income #######################\n",
    "    \n",
    "    html.Div(id='diff-output'),\n",
    "    \n",
    "    #################################\n",
    "    border1_item,\n",
    "    html.Div(\n",
    "    children=[\n",
    "        html.P(\"This is the result of a Logcial Regression Capstone Project used to determine the probability of diabetes based select features\")\n",
    "    ])\n",
    " ])   \n",
    "#########################################\n",
    "############ call back for income drop down\n",
    "###############################\n",
    "@app.callback(\n",
    "    Output('income-output', 'children'),\n",
    "    [ Input('menu_income_id', 'value')] \n",
    ")\n",
    "\n",
    "def callback_a(income_value):\n",
    "    return 'Youve selected \"{}\"'.format(income_value)\n",
    "\n",
    "#################################################3\n",
    "########### call back for gen health ###########\n",
    "#########################\n",
    "@app.callback(\n",
    "    Output('gen-health-output', 'children'),\n",
    "    [ Input('gen_health_id', 'value')]\n",
    ")\n",
    "\n",
    "def callback_b(gen_health_value):\n",
    "    return 'Youve selected \"{}\"'.format(gen_health_value)\n",
    "#################################################\n",
    "###### call back for phy health\n",
    "############################################\n",
    "@app.callback(\n",
    "    Output('phy-health-output', 'children'),\n",
    "    [ Input('phy_health_id', 'value')]\n",
    ")\n",
    "\n",
    "def callback_c(phy_health_value):\n",
    "    return 'Youve selected \"{}\"'.format(phy_health_value)\n",
    "\n",
    "#################################################\n",
    "###### call back for phy health\n",
    "############################################\n",
    "@app.callback(\n",
    "    Output('men-health-output', 'children'),\n",
    "    [ Input('men_health_id', 'value')]\n",
    ")\n",
    "\n",
    "def callback_c(men_health_value):\n",
    "    return 'Youve selected \"{}\"'.format(men_health_value)\n",
    "#################################################\n",
    "###### call back for phy health\n",
    "############################################\n",
    "@app.callback(\n",
    "    Output('diff-output', 'children'),\n",
    "    [ Input('diff_id', 'value')]\n",
    ")\n",
    "\n",
    "def callback_c(diff_value):\n",
    "    return 'Youve selected \"{}\"'.format(diff_value)\n",
    "#############################################\n",
    "#if __name__ == '__main__':\n",
    "#    app.run_server(debug=True,port=8054)\n"
   ]
  },
  {
   "cell_type": "markdown",
   "id": "215547ac-7d6a-4d2e-ae48-c20b84e27394",
   "metadata": {},
   "source": [
    "## Columnin info - raw table"
   ]
  },
  {
   "cell_type": "code",
   "execution_count": 29,
   "id": "be968fa5-c8a5-4823-a3ba-488691d7afa3",
   "metadata": {},
   "outputs": [
    {
     "name": "stderr",
     "output_type": "stream",
     "text": [
      "C:\\Users\\Everydayuse\\AppData\\Local\\Temp\\ipykernel_2268\\2677516652.py:1: UserWarning:\n",
      "\n",
      "\n",
      "The dash_table package is deprecated. Please replace\n",
      "`import dash_table` with `from dash import dash_table`\n",
      "\n",
      "Also, if you're using any of the table format helpers (e.g. Group), replace \n",
      "`from dash_table.Format import Group` with \n",
      "`from dash.dash_table.Format import Group`\n",
      "\n"
     ]
    }
   ],
   "source": [
    "\n",
    "from dash_table import DataTable"
   ]
  },
  {
   "cell_type": "code",
   "execution_count": 30,
   "id": "bf38cee5-34c2-429a-8f7e-59467deaaf6b",
   "metadata": {
    "scrolled": true
   },
   "outputs": [
    {
     "data": {
      "text/html": [
       "<div>\n",
       "<style scoped>\n",
       "    .dataframe tbody tr th:only-of-type {\n",
       "        vertical-align: middle;\n",
       "    }\n",
       "\n",
       "    .dataframe tbody tr th {\n",
       "        vertical-align: top;\n",
       "    }\n",
       "\n",
       "    .dataframe thead th {\n",
       "        text-align: right;\n",
       "    }\n",
       "</style>\n",
       "<table border=\"1\" class=\"dataframe\">\n",
       "  <thead>\n",
       "    <tr style=\"text-align: right;\">\n",
       "      <th></th>\n",
       "      <th>ID</th>\n",
       "      <th>Diabetes_binary</th>\n",
       "      <th>HighBP</th>\n",
       "      <th>HighChol</th>\n",
       "      <th>CholCheck</th>\n",
       "      <th>BMI</th>\n",
       "      <th>Smoker</th>\n",
       "      <th>Stroke</th>\n",
       "      <th>HeartDiseaseorAttack</th>\n",
       "      <th>PhysActivity</th>\n",
       "      <th>...</th>\n",
       "      <th>AnyHealthcare</th>\n",
       "      <th>NoDocbcCost</th>\n",
       "      <th>GenHlth</th>\n",
       "      <th>MentHlth</th>\n",
       "      <th>PhysHlth</th>\n",
       "      <th>DiffWalk</th>\n",
       "      <th>Sex</th>\n",
       "      <th>Age</th>\n",
       "      <th>Education</th>\n",
       "      <th>Income</th>\n",
       "    </tr>\n",
       "  </thead>\n",
       "  <tbody>\n",
       "    <tr>\n",
       "      <th>0</th>\n",
       "      <td>0</td>\n",
       "      <td>0</td>\n",
       "      <td>1</td>\n",
       "      <td>1</td>\n",
       "      <td>1</td>\n",
       "      <td>40</td>\n",
       "      <td>1</td>\n",
       "      <td>0</td>\n",
       "      <td>0</td>\n",
       "      <td>0</td>\n",
       "      <td>...</td>\n",
       "      <td>1</td>\n",
       "      <td>0</td>\n",
       "      <td>5</td>\n",
       "      <td>18</td>\n",
       "      <td>15</td>\n",
       "      <td>1</td>\n",
       "      <td>0</td>\n",
       "      <td>9</td>\n",
       "      <td>4</td>\n",
       "      <td>3</td>\n",
       "    </tr>\n",
       "    <tr>\n",
       "      <th>1</th>\n",
       "      <td>1</td>\n",
       "      <td>0</td>\n",
       "      <td>0</td>\n",
       "      <td>0</td>\n",
       "      <td>0</td>\n",
       "      <td>25</td>\n",
       "      <td>1</td>\n",
       "      <td>0</td>\n",
       "      <td>0</td>\n",
       "      <td>1</td>\n",
       "      <td>...</td>\n",
       "      <td>0</td>\n",
       "      <td>1</td>\n",
       "      <td>3</td>\n",
       "      <td>0</td>\n",
       "      <td>0</td>\n",
       "      <td>0</td>\n",
       "      <td>0</td>\n",
       "      <td>7</td>\n",
       "      <td>6</td>\n",
       "      <td>1</td>\n",
       "    </tr>\n",
       "    <tr>\n",
       "      <th>2</th>\n",
       "      <td>2</td>\n",
       "      <td>0</td>\n",
       "      <td>1</td>\n",
       "      <td>1</td>\n",
       "      <td>1</td>\n",
       "      <td>28</td>\n",
       "      <td>0</td>\n",
       "      <td>0</td>\n",
       "      <td>0</td>\n",
       "      <td>0</td>\n",
       "      <td>...</td>\n",
       "      <td>1</td>\n",
       "      <td>1</td>\n",
       "      <td>5</td>\n",
       "      <td>30</td>\n",
       "      <td>30</td>\n",
       "      <td>1</td>\n",
       "      <td>0</td>\n",
       "      <td>9</td>\n",
       "      <td>4</td>\n",
       "      <td>8</td>\n",
       "    </tr>\n",
       "    <tr>\n",
       "      <th>3</th>\n",
       "      <td>3</td>\n",
       "      <td>0</td>\n",
       "      <td>1</td>\n",
       "      <td>0</td>\n",
       "      <td>1</td>\n",
       "      <td>27</td>\n",
       "      <td>0</td>\n",
       "      <td>0</td>\n",
       "      <td>0</td>\n",
       "      <td>1</td>\n",
       "      <td>...</td>\n",
       "      <td>1</td>\n",
       "      <td>0</td>\n",
       "      <td>2</td>\n",
       "      <td>0</td>\n",
       "      <td>0</td>\n",
       "      <td>0</td>\n",
       "      <td>0</td>\n",
       "      <td>11</td>\n",
       "      <td>3</td>\n",
       "      <td>6</td>\n",
       "    </tr>\n",
       "    <tr>\n",
       "      <th>4</th>\n",
       "      <td>4</td>\n",
       "      <td>0</td>\n",
       "      <td>1</td>\n",
       "      <td>1</td>\n",
       "      <td>1</td>\n",
       "      <td>24</td>\n",
       "      <td>0</td>\n",
       "      <td>0</td>\n",
       "      <td>0</td>\n",
       "      <td>1</td>\n",
       "      <td>...</td>\n",
       "      <td>1</td>\n",
       "      <td>0</td>\n",
       "      <td>2</td>\n",
       "      <td>3</td>\n",
       "      <td>0</td>\n",
       "      <td>0</td>\n",
       "      <td>0</td>\n",
       "      <td>11</td>\n",
       "      <td>5</td>\n",
       "      <td>4</td>\n",
       "    </tr>\n",
       "  </tbody>\n",
       "</table>\n",
       "<p>5 rows × 23 columns</p>\n",
       "</div>"
      ],
      "text/plain": [
       "   ID  Diabetes_binary  HighBP  HighChol  CholCheck  BMI  Smoker  Stroke  \\\n",
       "0   0                0       1         1          1   40       1       0   \n",
       "1   1                0       0         0          0   25       1       0   \n",
       "2   2                0       1         1          1   28       0       0   \n",
       "3   3                0       1         0          1   27       0       0   \n",
       "4   4                0       1         1          1   24       0       0   \n",
       "\n",
       "   HeartDiseaseorAttack  PhysActivity  ...  AnyHealthcare  NoDocbcCost  \\\n",
       "0                     0             0  ...              1            0   \n",
       "1                     0             1  ...              0            1   \n",
       "2                     0             0  ...              1            1   \n",
       "3                     0             1  ...              1            0   \n",
       "4                     0             1  ...              1            0   \n",
       "\n",
       "   GenHlth  MentHlth  PhysHlth  DiffWalk  Sex  Age  Education  Income  \n",
       "0        5        18        15         1    0    9          4       3  \n",
       "1        3         0         0         0    0    7          6       1  \n",
       "2        5        30        30         1    0    9          4       8  \n",
       "3        2         0         0         0    0   11          3       6  \n",
       "4        2         3         0         0    0   11          5       4  \n",
       "\n",
       "[5 rows x 23 columns]"
      ]
     },
     "execution_count": 30,
     "metadata": {},
     "output_type": "execute_result"
    }
   ],
   "source": [
    "import pandas as pd\n",
    "raw = pd.read_csv(\"https://archive.ics.uci.edu/static/public/891/data.csv\")\n",
    "raw.head()"
   ]
  },
  {
   "cell_type": "code",
   "execution_count": 31,
   "id": "4e5b64bc-570e-4f32-8bce-e0bce84c585c",
   "metadata": {},
   "outputs": [],
   "source": [
    " \n",
    "raw_columns=[]\n",
    " \n",
    "for name in raw.columns:\n",
    "    col_info = {\n",
    "        \"name\": name,\n",
    "         \"id\": name,\n",
    "        \"type\": \"text\",\n",
    "        \"format\": {'specifier': ','}\n",
    "    }\n",
    "    raw_columns.append(col_info)\n",
    " \n",
    "#raw_columns"
   ]
  },
  {
   "cell_type": "code",
   "execution_count": 32,
   "id": "fc7b87fe-f56f-4612-be2b-d32633aafe0b",
   "metadata": {},
   "outputs": [],
   "source": [
    "#construct Raw data table\n",
    "def create_raw_table(group):\n",
    "    \n",
    "        \n",
    "    df =raw.head()\n",
    "    \n",
    "    columns = []\n",
    "    #columns = [{\"name\": \"generalhealth_type\", \n",
    "    #            \"id\": \"gentype\", \"type\": \"text\"}]    \n",
    "    for name in raw.columns:\n",
    "        col_info = {\n",
    "            \"name\": name,\n",
    "             \"id\": name,\n",
    "            \"type\": \"text\",\n",
    "            \"format\": {'specifier': ','}\n",
    "        }\n",
    "        columns.append(col_info)\n",
    "\n",
    "    data = df.to_dict(\"records\")\n",
    "    return DataTable(\n",
    "        id=f\"{group}-table\",           #raw-table\n",
    "        columns=columns,\n",
    "        data=data,\n",
    "        active_cell={\"row\": 0, \"column\": 0},\n",
    "        fixed_rows={\"headers\": True},\n",
    "        sort_action=\"native\",\n",
    "        derived_virtual_data=data,\n",
    "        style_table={\n",
    "            \"minHeight\": \"80vh\",\n",
    "            \"height\": \"40vh\",\n",
    "            \"overflowX\": \"scroll\",\n",
    "            \"borderRadius\": \"0px 0px 10px 10px\",\n",
    "        },\n",
    "        style_cell={\n",
    "            \"whiteSpace\": \"normal\",\n",
    "            \"height\": \"auto\",\n",
    "            \"fontFamily\": \"verdana\",\n",
    "             \"width\": \"50px\",\n",
    "              \n",
    "        },\n",
    "        style_header={\n",
    "            \"textAlign\": \"center\",\n",
    "            \"fontSize\": 14,\n",
    "        },\n",
    "        style_data={\n",
    "            \"fontSize\": 12,\n",
    "        },\n",
    "        style_data_conditional=[\n",
    "            {\n",
    "                \"if\": {\"column_id\": \"gentype\"},\n",
    "                \"width\": \"420px\",\n",
    "                \"textAlign\": \"left\",\n",
    "                \"textDecoration\": \"underline\",\n",
    "                \"cursor\": \"pointer\",\n",
    "            },\n",
    "            \n",
    "            {\n",
    "                \"if\": {\"column_id\": \"index\"},\n",
    "                \"width\": \"50px\",\n",
    "                \"textAlign\": \"left\",\n",
    "                \"textDecoration\": \"underline\",\n",
    "                \"cursor\": \"pointer\",\n",
    "                \n",
    "            },\n",
    "            {\n",
    "                \"if\": {\"row_index\": \"odd\"}, \n",
    "                \"backgroundColor\": \"#fafbfb\"\n",
    "            }\n",
    "        ],\n",
    "    )\n",
    " "
   ]
  },
  {
   "cell_type": "code",
   "execution_count": 33,
   "id": "2606ef1f-e0fc-4b51-83d8-53aca73c1474",
   "metadata": {},
   "outputs": [],
   "source": [
    "#build the table\n",
    "raw_table = create_raw_table(raw)"
   ]
  },
  {
   "cell_type": "markdown",
   "id": "59dfd148-82fe-4fd6-b5ef-e54c8cc3d52f",
   "metadata": {},
   "source": [
    "## Columnin info - Summary table"
   ]
  },
  {
   "cell_type": "code",
   "execution_count": 73,
   "id": "4c9e767f-17f0-4afd-8c5f-8e1d0b2d8d49",
   "metadata": {},
   "outputs": [
    {
     "data": {
      "text/html": [
       "<div>\n",
       "<style scoped>\n",
       "    .dataframe tbody tr th:only-of-type {\n",
       "        vertical-align: middle;\n",
       "    }\n",
       "\n",
       "    .dataframe tbody tr th {\n",
       "        vertical-align: top;\n",
       "    }\n",
       "\n",
       "    .dataframe thead th {\n",
       "        text-align: right;\n",
       "    }\n",
       "</style>\n",
       "<table border=\"1\" class=\"dataframe\">\n",
       "  <thead>\n",
       "    <tr style=\"text-align: right;\">\n",
       "      <th></th>\n",
       "      <th>index</th>\n",
       "      <th>generalhealth_type</th>\n",
       "      <th>total</th>\n",
       "      <th>percentage</th>\n",
       "    </tr>\n",
       "  </thead>\n",
       "  <tbody>\n",
       "    <tr>\n",
       "      <th>0</th>\n",
       "      <td>0</td>\n",
       "      <td>Very good vs nondiabetic</td>\n",
       "      <td>60470</td>\n",
       "      <td>34.420537</td>\n",
       "    </tr>\n",
       "    <tr>\n",
       "      <th>1</th>\n",
       "      <td>1</td>\n",
       "      <td>Good vs nondiabetic</td>\n",
       "      <td>41879</td>\n",
       "      <td>23.838229</td>\n",
       "    </tr>\n",
       "    <tr>\n",
       "      <th>2</th>\n",
       "      <td>2</td>\n",
       "      <td>Excellent vs nondiabetic</td>\n",
       "      <td>35771</td>\n",
       "      <td>20.361453</td>\n",
       "    </tr>\n",
       "  </tbody>\n",
       "</table>\n",
       "</div>"
      ],
      "text/plain": [
       "   index        generalhealth_type  total  percentage\n",
       "0      0  Very good vs nondiabetic  60470   34.420537\n",
       "1      1       Good vs nondiabetic  41879   23.838229\n",
       "2      2  Excellent vs nondiabetic  35771   20.361453"
      ]
     },
     "execution_count": 73,
     "metadata": {},
     "output_type": "execute_result"
    }
   ],
   "source": [
    "import pandas as pd\n",
    "summary = pd.read_csv(\"data/prepared/summary_data.csv\")\n",
    "summary = summary.reset_index()\n",
    "used_columns = [\"combined\",\"count\",\"percentage\"]\n",
    "df =summary[used_columns]\n",
    "df = df.rename(columns={\"combined\":\"generalhealth_type\" ,\"count\":\"total\" }) \n",
    "df = df.reset_index()\n",
    "#df[\"percentage\"] =  df['percentage'].map('{:00.%}'.format)\n",
    "df.head(3)"
   ]
  },
  {
   "cell_type": "code",
   "execution_count": 74,
   "id": "b9da37c6-7bf7-468d-869a-ff6234457487",
   "metadata": {},
   "outputs": [
    {
     "data": {
      "text/plain": [
       "[{'name': 'generalhealth_type', 'id': 'gentype', 'type': 'text'},\n",
       " {'name': 'generalhealth_type',\n",
       "  'id': 'generalhealth_type',\n",
       "  'type': 'numeric',\n",
       "  'format': {'specifier': ','}},\n",
       " {'name': 'total',\n",
       "  'id': 'total',\n",
       "  'type': 'numeric',\n",
       "  'format': {'specifier': ','}},\n",
       " {'name': 'percentage',\n",
       "  'id': 'percentage',\n",
       "  'type': 'numeric',\n",
       "  'format': {'specifier': ','}}]"
      ]
     },
     "execution_count": 74,
     "metadata": {},
     "output_type": "execute_result"
    }
   ],
   "source": [
    "columns=[]\n",
    "columns = [{\"name\": \"generalhealth_type\", \n",
    "            \"id\": \"gentype\", \"type\": \"text\"}]\n",
    " \n",
    "for name in df.columns[1:]:\n",
    "    col_info = {\n",
    "        \"name\": name,\n",
    "         \"id\": name,\n",
    "        \"type\": \"numeric\",\n",
    "        \"format\": {'specifier': ','}\n",
    "    }\n",
    "    columns.append(col_info)\n",
    " \n",
    "columns"
   ]
  },
  {
   "cell_type": "markdown",
   "id": "2a1f953d-f556-4697-823f-00f33628fcf5",
   "metadata": {},
   "source": [
    "## Construct Summary Table"
   ]
  },
  {
   "cell_type": "code",
   "execution_count": 84,
   "id": "de3af145-923c-4036-91d5-6adb6d7f52c4",
   "metadata": {},
   "outputs": [],
   "source": [
    "def create_sum_table(group):\n",
    "    \n",
    "    used_columns = [\"index\",\"combined\",\"count\",\"percentage\"]\n",
    "    df =summary[used_columns]\n",
    "    df = df.rename(columns={\"combined\":\"generalhealth_type\" ,\"count\":\"total\" }) \n",
    "    columns = []\n",
    "    #columns = [{\"name\": \"generalhealth_type\", \n",
    "    #            \"id\": \"gentype\", \"type\": \"text\"}]    \n",
    "    for name in df.columns:\n",
    "        col_info = {\n",
    "            \"name\": name,\n",
    "             \"id\": name,\n",
    "            \"type\": \"text\",\n",
    "            \"format\": {'specifier': ','}\n",
    "        }\n",
    "        columns.append(col_info)\n",
    "\n",
    "    print(columns) \n",
    "\n",
    "    data = df.sort_values(\"total\",ascending=False).to_dict(\"records\")\n",
    "    return DataTable(\n",
    "        id=\"sum-table\",           #sum-table\n",
    "        columns=columns,\n",
    "        data=data,\n",
    "        active_cell={\"row\": 0, \"column\": 0},\n",
    "        fixed_rows={\"headers\": True},\n",
    "        sort_action=\"native\",\n",
    "        derived_virtual_data=data,\n",
    "        style_table={\n",
    "            \"minHeight\": \"80vh\",\n",
    "            \"height\": \"40vh\",\n",
    "            \"overflowY\": \"scroll\",\n",
    "            \"borderRadius\": \"0px 0px 10px 10px\",\n",
    "        },\n",
    "        style_cell={\n",
    "            \"whiteSpace\": \"normal\",\n",
    "            \"height\": \"auto\",\n",
    "            \"fontFamily\": \"verdana\",\n",
    "        },\n",
    "        style_header={\n",
    "            \"textAlign\": \"center\",\n",
    "            \"fontSize\": 14,\n",
    "        },\n",
    "        style_data={\n",
    "            \"fontSize\": 12,\n",
    "        },\n",
    "        style_data_conditional=[\n",
    "            {\n",
    "                \"if\": {\"column_id\": \"gentype\"},\n",
    "                \"width\": \"420px\",\n",
    "                \"textAlign\": \"left\",\n",
    "                \"textDecoration\": \"underline\",\n",
    "                \"cursor\": \"pointer\",\n",
    "            },\n",
    "            \n",
    "            {\n",
    "                \"if\": {\"column_id\": \"index\"},\n",
    "                \"width\": \"70px\",\n",
    "                \"textAlign\": \"left\",\n",
    "                \"textDecoration\": \"underline\",\n",
    "                \"cursor\": \"pointer\",\n",
    "            },\n",
    "            {\n",
    "                \"if\": {\"row_index\": \"odd\"}, \n",
    "                \"backgroundColor\": \"#fafbfb\"\n",
    "            }\n",
    "        ],\n",
    "    )\n",
    " \n"
   ]
  },
  {
   "cell_type": "code",
   "execution_count": 76,
   "id": "da1002f4-277e-45f6-b184-afe8b5978774",
   "metadata": {},
   "outputs": [
    {
     "data": {
      "text/html": [
       "<div>\n",
       "<style scoped>\n",
       "    .dataframe tbody tr th:only-of-type {\n",
       "        vertical-align: middle;\n",
       "    }\n",
       "\n",
       "    .dataframe tbody tr th {\n",
       "        vertical-align: top;\n",
       "    }\n",
       "\n",
       "    .dataframe thead th {\n",
       "        text-align: right;\n",
       "    }\n",
       "</style>\n",
       "<table border=\"1\" class=\"dataframe\">\n",
       "  <thead>\n",
       "    <tr style=\"text-align: right;\">\n",
       "      <th></th>\n",
       "      <th>index</th>\n",
       "      <th>generalhealth_type</th>\n",
       "      <th>total</th>\n",
       "      <th>percentage</th>\n",
       "    </tr>\n",
       "  </thead>\n",
       "  <tbody>\n",
       "    <tr>\n",
       "      <th>0</th>\n",
       "      <td>0</td>\n",
       "      <td>Very good vs nondiabetic</td>\n",
       "      <td>60470</td>\n",
       "      <td>34.420537</td>\n",
       "    </tr>\n",
       "    <tr>\n",
       "      <th>1</th>\n",
       "      <td>1</td>\n",
       "      <td>Good vs nondiabetic</td>\n",
       "      <td>41879</td>\n",
       "      <td>23.838229</td>\n",
       "    </tr>\n",
       "    <tr>\n",
       "      <th>2</th>\n",
       "      <td>2</td>\n",
       "      <td>Excellent vs nondiabetic</td>\n",
       "      <td>35771</td>\n",
       "      <td>20.361453</td>\n",
       "    </tr>\n",
       "    <tr>\n",
       "      <th>3</th>\n",
       "      <td>3</td>\n",
       "      <td>Fair vs nondiabetic</td>\n",
       "      <td>11319</td>\n",
       "      <td>6.442964</td>\n",
       "    </tr>\n",
       "    <tr>\n",
       "      <th>4</th>\n",
       "      <td>4</td>\n",
       "      <td>Good vs diabetic</td>\n",
       "      <td>9897</td>\n",
       "      <td>5.633538</td>\n",
       "    </tr>\n",
       "    <tr>\n",
       "      <th>5</th>\n",
       "      <td>5</td>\n",
       "      <td>Fair vs diabetic</td>\n",
       "      <td>5578</td>\n",
       "      <td>3.175091</td>\n",
       "    </tr>\n",
       "    <tr>\n",
       "      <th>6</th>\n",
       "      <td>6</td>\n",
       "      <td>Very good vs diabetic</td>\n",
       "      <td>5140</td>\n",
       "      <td>2.925774</td>\n",
       "    </tr>\n",
       "    <tr>\n",
       "      <th>7</th>\n",
       "      <td>7</td>\n",
       "      <td>Poor vs nondiabetic</td>\n",
       "      <td>2838</td>\n",
       "      <td>1.615437</td>\n",
       "    </tr>\n",
       "    <tr>\n",
       "      <th>8</th>\n",
       "      <td>8</td>\n",
       "      <td>Poor vs diabetic</td>\n",
       "      <td>1821</td>\n",
       "      <td>1.036544</td>\n",
       "    </tr>\n",
       "    <tr>\n",
       "      <th>9</th>\n",
       "      <td>9</td>\n",
       "      <td>Excellent vs diabetic</td>\n",
       "      <td>967</td>\n",
       "      <td>0.550433</td>\n",
       "    </tr>\n",
       "  </tbody>\n",
       "</table>\n",
       "</div>"
      ],
      "text/plain": [
       "   index        generalhealth_type  total  percentage\n",
       "0      0  Very good vs nondiabetic  60470   34.420537\n",
       "1      1       Good vs nondiabetic  41879   23.838229\n",
       "2      2  Excellent vs nondiabetic  35771   20.361453\n",
       "3      3       Fair vs nondiabetic  11319    6.442964\n",
       "4      4          Good vs diabetic   9897    5.633538\n",
       "5      5          Fair vs diabetic   5578    3.175091\n",
       "6      6     Very good vs diabetic   5140    2.925774\n",
       "7      7       Poor vs nondiabetic   2838    1.615437\n",
       "8      8          Poor vs diabetic   1821    1.036544\n",
       "9      9     Excellent vs diabetic    967    0.550433"
      ]
     },
     "execution_count": 76,
     "metadata": {},
     "output_type": "execute_result"
    }
   ],
   "source": [
    "df = df.rename(columns={\"combined\":\"generalhealth_type\" ,\"count\":\"total\" })\n",
    "df"
   ]
  },
  {
   "cell_type": "code",
   "execution_count": 85,
   "id": "6f9ab66d-e208-4cd9-b00b-13c8294a3af5",
   "metadata": {},
   "outputs": [
    {
     "name": "stdout",
     "output_type": "stream",
     "text": [
      "[{'name': 'index', 'id': 'index', 'type': 'text', 'format': {'specifier': ','}}, {'name': 'generalhealth_type', 'id': 'generalhealth_type', 'type': 'text', 'format': {'specifier': ','}}, {'name': 'total', 'id': 'total', 'type': 'text', 'format': {'specifier': ','}}, {'name': 'percentage', 'id': 'percentage', 'type': 'text', 'format': {'specifier': ','}}]\n"
     ]
    }
   ],
   "source": [
    "summary_table = create_sum_table(sum)"
   ]
  },
  {
   "cell_type": "code",
   "execution_count": 78,
   "id": "cf858699-98cf-4fcc-a591-cbf8e93f4019",
   "metadata": {},
   "outputs": [],
   "source": [
    "\n",
    "#Bullet Point data\n",
    "\n",
    "steps = [\n",
    "    \"Import pandas\",\n",
    "    \"Reading in Data\",\n",
    "    \"Selected Columns\",\n",
    "    \"Reset Index\",\n",
    "    \"Identified no missing data\",\n",
    "    \"Relationships between variables uisng heatmap\" \n",
    "]\n",
    "\n",
    "\n",
    "tools_used = [\n",
    "    \"Git - source code management\",\n",
    "    \"GitBash - terminal application used to push changes up to Github Repository\",\n",
    "    \"Jupyter Notebook - web application used to create my documents\",\n",
    "    \"Anaconda Prompt - used command line interface to manage my virutal environment and access Jupyter notebook\",\n",
    "    \"TCPView - Used to identify and terminate apps running ports on local machine\",\n",
    "    \"Pycharm -  Integrated Development Environment (IDE) used to launch my app to render\",   \n",
    "    \"Render - free web hosting service used to deploy my app to the web\"\n",
    "\n",
    "\n",
    "]\n",
    "\n",
    "\n",
    "issues = [\n",
    "\n",
    "\n",
    "    \"box plot shows large variances and outliers in Mental Health and Physical Health Data.   outliers can be removed from the dataset prior to modeling. It is good practice to note specifically what outlier values were removed and why\",\n",
    "    \"Outliers can be removed from the dataset prior to modeling. It is good practice to note specifically what outlier values were removed and why\",\n",
    "    \" Data was note  data should form a bell shaped curve but skewed. How will you transform the skewed data so it is suitable for modeling\"\n",
    "\n",
    "]\n",
    "\n",
    "\n",
    "\n",
    "treatment = [\n",
    "    \n",
    "    \"1- Address Outliers using IQR method\", \n",
    "    \"2- Replace codes with label for better interprepation of data\",  \n",
    "    \"3- Aggregrate data for graph\"\n",
    "]"
   ]
  },
  {
   "cell_type": "code",
   "execution_count": null,
   "id": "241aa6d4-8937-4cd9-a36d-0a5d61f7677b",
   "metadata": {},
   "outputs": [],
   "source": []
  },
  {
   "cell_type": "code",
   "execution_count": 46,
   "id": "8ddf8555-9fb1-433a-b219-b4b951faf3b4",
   "metadata": {
    "scrolled": true
   },
   "outputs": [],
   "source": [
    "from prepare import PrepareData\n",
    "#Testing - Read local data\n",
    "prepared_data = PrepareData(download_new=False)\n",
    "data = prepared_data.run()"
   ]
  },
  {
   "cell_type": "code",
   "execution_count": 47,
   "id": "93b78282-fcbf-4e81-afd9-2f849edd1e8f",
   "metadata": {},
   "outputs": [],
   "source": [
    "df_updated = prepared_data.read_local_data('all',\"data/prepared\")"
   ]
  },
  {
   "cell_type": "code",
   "execution_count": 48,
   "id": "2887da2d-e049-43bc-bc07-61adf1051308",
   "metadata": {
    "scrolled": true
   },
   "outputs": [
    {
     "data": {
      "text/html": [
       "<div>\n",
       "<style scoped>\n",
       "    .dataframe tbody tr th:only-of-type {\n",
       "        vertical-align: middle;\n",
       "    }\n",
       "\n",
       "    .dataframe tbody tr th {\n",
       "        vertical-align: top;\n",
       "    }\n",
       "\n",
       "    .dataframe thead th {\n",
       "        text-align: right;\n",
       "    }\n",
       "</style>\n",
       "<table border=\"1\" class=\"dataframe\">\n",
       "  <thead>\n",
       "    <tr style=\"text-align: right;\">\n",
       "      <th></th>\n",
       "      <th>Unnamed: 0</th>\n",
       "      <th>Diabetes_binary</th>\n",
       "      <th>Gender</th>\n",
       "      <th>GeneralHealth</th>\n",
       "      <th>GenHlth</th>\n",
       "      <th>Type</th>\n",
       "      <th>income</th>\n",
       "      <th>Income</th>\n",
       "      <th>education</th>\n",
       "      <th>Education</th>\n",
       "    </tr>\n",
       "  </thead>\n",
       "  <tbody>\n",
       "    <tr>\n",
       "      <th>0</th>\n",
       "      <td>1</td>\n",
       "      <td>0</td>\n",
       "      <td>men</td>\n",
       "      <td>Good</td>\n",
       "      <td>3</td>\n",
       "      <td>nondiabetic</td>\n",
       "      <td>&lt;10K</td>\n",
       "      <td>1</td>\n",
       "      <td>College4+</td>\n",
       "      <td>6</td>\n",
       "    </tr>\n",
       "    <tr>\n",
       "      <th>1</th>\n",
       "      <td>3</td>\n",
       "      <td>0</td>\n",
       "      <td>men</td>\n",
       "      <td>Very good</td>\n",
       "      <td>2</td>\n",
       "      <td>nondiabetic</td>\n",
       "      <td>35-50K</td>\n",
       "      <td>6</td>\n",
       "      <td>Grade9-11</td>\n",
       "      <td>3</td>\n",
       "    </tr>\n",
       "    <tr>\n",
       "      <th>2</th>\n",
       "      <td>5</td>\n",
       "      <td>0</td>\n",
       "      <td>women</td>\n",
       "      <td>Very good</td>\n",
       "      <td>2</td>\n",
       "      <td>nondiabetic</td>\n",
       "      <td>75&gt;</td>\n",
       "      <td>8</td>\n",
       "      <td>College4+</td>\n",
       "      <td>6</td>\n",
       "    </tr>\n",
       "    <tr>\n",
       "      <th>3</th>\n",
       "      <td>6</td>\n",
       "      <td>0</td>\n",
       "      <td>men</td>\n",
       "      <td>Good</td>\n",
       "      <td>3</td>\n",
       "      <td>nondiabetic</td>\n",
       "      <td>50-75K</td>\n",
       "      <td>7</td>\n",
       "      <td>College4+</td>\n",
       "      <td>6</td>\n",
       "    </tr>\n",
       "    <tr>\n",
       "      <th>4</th>\n",
       "      <td>7</td>\n",
       "      <td>0</td>\n",
       "      <td>men</td>\n",
       "      <td>Good</td>\n",
       "      <td>3</td>\n",
       "      <td>nondiabetic</td>\n",
       "      <td>20-25K</td>\n",
       "      <td>4</td>\n",
       "      <td>12orGED</td>\n",
       "      <td>4</td>\n",
       "    </tr>\n",
       "  </tbody>\n",
       "</table>\n",
       "</div>"
      ],
      "text/plain": [
       "   Unnamed: 0  Diabetes_binary Gender GeneralHealth  GenHlth         Type  \\\n",
       "0           1                0    men          Good        3  nondiabetic   \n",
       "1           3                0    men     Very good        2  nondiabetic   \n",
       "2           5                0  women     Very good        2  nondiabetic   \n",
       "3           6                0    men          Good        3  nondiabetic   \n",
       "4           7                0    men          Good        3  nondiabetic   \n",
       "\n",
       "   income  Income  education  Education  \n",
       "0    <10K       1  College4+          6  \n",
       "1  35-50K       6  Grade9-11          3  \n",
       "2     75>       8  College4+          6  \n",
       "3  50-75K       7  College4+          6  \n",
       "4  20-25K       4    12orGED          4  "
      ]
     },
     "execution_count": 48,
     "metadata": {},
     "output_type": "execute_result"
    }
   ],
   "source": [
    "df_updated.head()"
   ]
  },
  {
   "cell_type": "code",
   "execution_count": 49,
   "id": "173e4bda-72d0-4bce-823e-89610a0a7ffc",
   "metadata": {},
   "outputs": [],
   "source": [
    "def create_updated_table(group):\n",
    "    \n",
    "         \n",
    "    df = df_updated.head()\n",
    "    \n",
    "    columns = []\n",
    "     \n",
    "    for name in df.columns:\n",
    "        col_info = {\n",
    "            \"name\": name,\n",
    "             \"id\": name,\n",
    "            \"type\": \"text\",\n",
    "            \"format\": {'specifier': ','}\n",
    "        }\n",
    "        columns.append(col_info)\n",
    "\n",
    "    data = df.to_dict(\"records\")\n",
    "    return DataTable(\n",
    "        id=f\"{group}-table\",           #updated-table\n",
    "        columns=columns,\n",
    "        data=data,\n",
    "        active_cell={\"row\": 0, \"column\": 0},\n",
    "        fixed_rows={\"headers\": True},\n",
    "        sort_action=\"native\",\n",
    "        derived_virtual_data=data,\n",
    "        style_table={\n",
    "            \"minHeight\": \"80vh\",\n",
    "            \"height\": \"40vh\",\n",
    "            \"overflowX\": \"scroll\",\n",
    "            \"borderRadius\": \"0px 0px 10px 10px\",\n",
    "        },\n",
    "        style_cell={\n",
    "            \"whiteSpace\": \"normal\",\n",
    "            \"height\": \"auto\",\n",
    "            \"fontFamily\": \"verdana\",\n",
    "             \"width\": \"50px\",\n",
    "              \n",
    "        },\n",
    "        style_header={\n",
    "            \"textAlign\": \"center\",\n",
    "            \"fontSize\": 14,\n",
    "        },\n",
    "        style_data={\n",
    "            \"fontSize\": 12,\n",
    "        },\n",
    "        style_data_conditional=[\n",
    "            {\n",
    "                \"if\": {\"column_id\": \"gentype\"},\n",
    "                \"width\": \"420px\",\n",
    "                \"textAlign\": \"left\",\n",
    "                \"textDecoration\": \"underline\",\n",
    "                \"cursor\": \"pointer\",\n",
    "            },\n",
    "            \n",
    "            {\n",
    "                \"if\": {\"column_id\": \"index\"},\n",
    "                \"width\": \"50px\",\n",
    "                \"textAlign\": \"left\",\n",
    "                \"textDecoration\": \"underline\",\n",
    "                \"cursor\": \"pointer\",\n",
    "                \n",
    "            },\n",
    "            {\n",
    "                \"if\": {\"row_index\": \"odd\"}, \n",
    "                \"backgroundColor\": \"#fafbfb\"\n",
    "            }\n",
    "        ],\n",
    "    )\n",
    " "
   ]
  },
  {
   "cell_type": "code",
   "execution_count": 50,
   "id": "85ede384-caf6-4c9a-ac90-6a4ea50e9d8e",
   "metadata": {},
   "outputs": [],
   "source": [
    "#build the table\n",
    "updated_table = create_updated_table('updated')"
   ]
  },
  {
   "cell_type": "code",
   "execution_count": 55,
   "id": "8bb22719-eaa8-4854-af11-111a7495c90a",
   "metadata": {},
   "outputs": [],
   "source": [
    "#save functions and data source\n",
    "#%run my_functions.ipynb\n",
    "from prepare import PrepareData\n",
    "#Testing - Read local data\n",
    "prepared_data = PrepareData(download_new=False)"
   ]
  },
  {
   "cell_type": "code",
   "execution_count": 57,
   "id": "88cdaf46-2254-4ac5-9bfc-8760b2a03b0e",
   "metadata": {
    "scrolled": true
   },
   "outputs": [
    {
     "data": {
      "text/html": [
       "<div>\n",
       "<style scoped>\n",
       "    .dataframe tbody tr th:only-of-type {\n",
       "        vertical-align: middle;\n",
       "    }\n",
       "\n",
       "    .dataframe tbody tr th {\n",
       "        vertical-align: top;\n",
       "    }\n",
       "\n",
       "    .dataframe thead th {\n",
       "        text-align: right;\n",
       "    }\n",
       "</style>\n",
       "<table border=\"1\" class=\"dataframe\">\n",
       "  <thead>\n",
       "    <tr style=\"text-align: right;\">\n",
       "      <th></th>\n",
       "      <th>Unnamed: 0</th>\n",
       "      <th>GeneralHealth</th>\n",
       "      <th>Type</th>\n",
       "      <th>count</th>\n",
       "      <th>percentage</th>\n",
       "      <th>combined</th>\n",
       "    </tr>\n",
       "  </thead>\n",
       "  <tbody>\n",
       "    <tr>\n",
       "      <th>0</th>\n",
       "      <td>0</td>\n",
       "      <td>Very good</td>\n",
       "      <td>nondiabetic</td>\n",
       "      <td>60470</td>\n",
       "      <td>34.420537</td>\n",
       "      <td>Very good vs nondiabetic</td>\n",
       "    </tr>\n",
       "    <tr>\n",
       "      <th>1</th>\n",
       "      <td>1</td>\n",
       "      <td>Good</td>\n",
       "      <td>nondiabetic</td>\n",
       "      <td>41879</td>\n",
       "      <td>23.838229</td>\n",
       "      <td>Good vs nondiabetic</td>\n",
       "    </tr>\n",
       "    <tr>\n",
       "      <th>2</th>\n",
       "      <td>2</td>\n",
       "      <td>Excellent</td>\n",
       "      <td>nondiabetic</td>\n",
       "      <td>35771</td>\n",
       "      <td>20.361453</td>\n",
       "      <td>Excellent vs nondiabetic</td>\n",
       "    </tr>\n",
       "    <tr>\n",
       "      <th>3</th>\n",
       "      <td>3</td>\n",
       "      <td>Fair</td>\n",
       "      <td>nondiabetic</td>\n",
       "      <td>11319</td>\n",
       "      <td>6.442964</td>\n",
       "      <td>Fair vs nondiabetic</td>\n",
       "    </tr>\n",
       "    <tr>\n",
       "      <th>4</th>\n",
       "      <td>4</td>\n",
       "      <td>Good</td>\n",
       "      <td>diabetic</td>\n",
       "      <td>9897</td>\n",
       "      <td>5.633538</td>\n",
       "      <td>Good vs diabetic</td>\n",
       "    </tr>\n",
       "    <tr>\n",
       "      <th>5</th>\n",
       "      <td>5</td>\n",
       "      <td>Fair</td>\n",
       "      <td>diabetic</td>\n",
       "      <td>5578</td>\n",
       "      <td>3.175091</td>\n",
       "      <td>Fair vs diabetic</td>\n",
       "    </tr>\n",
       "    <tr>\n",
       "      <th>6</th>\n",
       "      <td>6</td>\n",
       "      <td>Very good</td>\n",
       "      <td>diabetic</td>\n",
       "      <td>5140</td>\n",
       "      <td>2.925774</td>\n",
       "      <td>Very good vs diabetic</td>\n",
       "    </tr>\n",
       "    <tr>\n",
       "      <th>7</th>\n",
       "      <td>7</td>\n",
       "      <td>Poor</td>\n",
       "      <td>nondiabetic</td>\n",
       "      <td>2838</td>\n",
       "      <td>1.615437</td>\n",
       "      <td>Poor vs nondiabetic</td>\n",
       "    </tr>\n",
       "    <tr>\n",
       "      <th>8</th>\n",
       "      <td>8</td>\n",
       "      <td>Poor</td>\n",
       "      <td>diabetic</td>\n",
       "      <td>1821</td>\n",
       "      <td>1.036544</td>\n",
       "      <td>Poor vs diabetic</td>\n",
       "    </tr>\n",
       "    <tr>\n",
       "      <th>9</th>\n",
       "      <td>9</td>\n",
       "      <td>Excellent</td>\n",
       "      <td>diabetic</td>\n",
       "      <td>967</td>\n",
       "      <td>0.550433</td>\n",
       "      <td>Excellent vs diabetic</td>\n",
       "    </tr>\n",
       "  </tbody>\n",
       "</table>\n",
       "</div>"
      ],
      "text/plain": [
       "   Unnamed: 0 GeneralHealth         Type  count  percentage  \\\n",
       "0           0     Very good  nondiabetic  60470   34.420537   \n",
       "1           1          Good  nondiabetic  41879   23.838229   \n",
       "2           2     Excellent  nondiabetic  35771   20.361453   \n",
       "3           3          Fair  nondiabetic  11319    6.442964   \n",
       "4           4          Good     diabetic   9897    5.633538   \n",
       "5           5          Fair     diabetic   5578    3.175091   \n",
       "6           6     Very good     diabetic   5140    2.925774   \n",
       "7           7          Poor  nondiabetic   2838    1.615437   \n",
       "8           8          Poor     diabetic   1821    1.036544   \n",
       "9           9     Excellent     diabetic    967    0.550433   \n",
       "\n",
       "                   combined  \n",
       "0  Very good vs nondiabetic  \n",
       "1       Good vs nondiabetic  \n",
       "2  Excellent vs nondiabetic  \n",
       "3       Fair vs nondiabetic  \n",
       "4          Good vs diabetic  \n",
       "5          Fair vs diabetic  \n",
       "6     Very good vs diabetic  \n",
       "7       Poor vs nondiabetic  \n",
       "8          Poor vs diabetic  \n",
       "9     Excellent vs diabetic  "
      ]
     },
     "execution_count": 57,
     "metadata": {},
     "output_type": "execute_result"
    }
   ],
   "source": [
    "summary =  prepared_data.read_local_data('summary', 'data/prepared')\n",
    "summary"
   ]
  },
  {
   "cell_type": "code",
   "execution_count": 99,
   "id": "8b68f94b-eea0-4561-9851-4e9536c96e45",
   "metadata": {},
   "outputs": [
    {
     "data": {
      "application/vnd.plotly.v1+json": {
       "config": {
        "plotlyServerURL": "https://plot.ly"
       },
       "data": [
        {
         "domain": {
          "x": [
           0,
           1
          ],
          "y": [
           0,
           1
          ]
         },
         "hovertemplate": "percentage=%{label}<br>count=%{value}<extra></extra>",
         "labels": [
          34.420537340619305,
          23.83822859744991,
          20.361452641165755,
          6.442964480874316,
          5.63353825136612,
          3.175091074681238,
          2.925774134790528,
          1.6154371584699452,
          1.0365437158469946,
          0.5504326047358834
         ],
         "legendgroup": "",
         "name": "",
         "showlegend": true,
         "type": "pie",
         "values": [
          60470,
          41879,
          35771,
          11319,
          9897,
          5578,
          5140,
          2838,
          1821,
          967
         ]
        }
       ],
       "layout": {
        "autosize": true,
        "legend": {
         "tracegroupgap": 0
        },
        "template": {
         "data": {
          "bar": [
           {
            "error_x": {
             "color": "#2a3f5f"
            },
            "error_y": {
             "color": "#2a3f5f"
            },
            "marker": {
             "line": {
              "color": "#E5ECF6",
              "width": 0.5
             },
             "pattern": {
              "fillmode": "overlay",
              "size": 10,
              "solidity": 0.2
             }
            },
            "type": "bar"
           }
          ],
          "barpolar": [
           {
            "marker": {
             "line": {
              "color": "#E5ECF6",
              "width": 0.5
             },
             "pattern": {
              "fillmode": "overlay",
              "size": 10,
              "solidity": 0.2
             }
            },
            "type": "barpolar"
           }
          ],
          "carpet": [
           {
            "aaxis": {
             "endlinecolor": "#2a3f5f",
             "gridcolor": "white",
             "linecolor": "white",
             "minorgridcolor": "white",
             "startlinecolor": "#2a3f5f"
            },
            "baxis": {
             "endlinecolor": "#2a3f5f",
             "gridcolor": "white",
             "linecolor": "white",
             "minorgridcolor": "white",
             "startlinecolor": "#2a3f5f"
            },
            "type": "carpet"
           }
          ],
          "choropleth": [
           {
            "colorbar": {
             "outlinewidth": 0,
             "ticks": ""
            },
            "type": "choropleth"
           }
          ],
          "contour": [
           {
            "colorbar": {
             "outlinewidth": 0,
             "ticks": ""
            },
            "colorscale": [
             [
              0,
              "#0d0887"
             ],
             [
              0.1111111111111111,
              "#46039f"
             ],
             [
              0.2222222222222222,
              "#7201a8"
             ],
             [
              0.3333333333333333,
              "#9c179e"
             ],
             [
              0.4444444444444444,
              "#bd3786"
             ],
             [
              0.5555555555555556,
              "#d8576b"
             ],
             [
              0.6666666666666666,
              "#ed7953"
             ],
             [
              0.7777777777777778,
              "#fb9f3a"
             ],
             [
              0.8888888888888888,
              "#fdca26"
             ],
             [
              1,
              "#f0f921"
             ]
            ],
            "type": "contour"
           }
          ],
          "contourcarpet": [
           {
            "colorbar": {
             "outlinewidth": 0,
             "ticks": ""
            },
            "type": "contourcarpet"
           }
          ],
          "heatmap": [
           {
            "colorbar": {
             "outlinewidth": 0,
             "ticks": ""
            },
            "colorscale": [
             [
              0,
              "#0d0887"
             ],
             [
              0.1111111111111111,
              "#46039f"
             ],
             [
              0.2222222222222222,
              "#7201a8"
             ],
             [
              0.3333333333333333,
              "#9c179e"
             ],
             [
              0.4444444444444444,
              "#bd3786"
             ],
             [
              0.5555555555555556,
              "#d8576b"
             ],
             [
              0.6666666666666666,
              "#ed7953"
             ],
             [
              0.7777777777777778,
              "#fb9f3a"
             ],
             [
              0.8888888888888888,
              "#fdca26"
             ],
             [
              1,
              "#f0f921"
             ]
            ],
            "type": "heatmap"
           }
          ],
          "heatmapgl": [
           {
            "colorbar": {
             "outlinewidth": 0,
             "ticks": ""
            },
            "colorscale": [
             [
              0,
              "#0d0887"
             ],
             [
              0.1111111111111111,
              "#46039f"
             ],
             [
              0.2222222222222222,
              "#7201a8"
             ],
             [
              0.3333333333333333,
              "#9c179e"
             ],
             [
              0.4444444444444444,
              "#bd3786"
             ],
             [
              0.5555555555555556,
              "#d8576b"
             ],
             [
              0.6666666666666666,
              "#ed7953"
             ],
             [
              0.7777777777777778,
              "#fb9f3a"
             ],
             [
              0.8888888888888888,
              "#fdca26"
             ],
             [
              1,
              "#f0f921"
             ]
            ],
            "type": "heatmapgl"
           }
          ],
          "histogram": [
           {
            "marker": {
             "pattern": {
              "fillmode": "overlay",
              "size": 10,
              "solidity": 0.2
             }
            },
            "type": "histogram"
           }
          ],
          "histogram2d": [
           {
            "colorbar": {
             "outlinewidth": 0,
             "ticks": ""
            },
            "colorscale": [
             [
              0,
              "#0d0887"
             ],
             [
              0.1111111111111111,
              "#46039f"
             ],
             [
              0.2222222222222222,
              "#7201a8"
             ],
             [
              0.3333333333333333,
              "#9c179e"
             ],
             [
              0.4444444444444444,
              "#bd3786"
             ],
             [
              0.5555555555555556,
              "#d8576b"
             ],
             [
              0.6666666666666666,
              "#ed7953"
             ],
             [
              0.7777777777777778,
              "#fb9f3a"
             ],
             [
              0.8888888888888888,
              "#fdca26"
             ],
             [
              1,
              "#f0f921"
             ]
            ],
            "type": "histogram2d"
           }
          ],
          "histogram2dcontour": [
           {
            "colorbar": {
             "outlinewidth": 0,
             "ticks": ""
            },
            "colorscale": [
             [
              0,
              "#0d0887"
             ],
             [
              0.1111111111111111,
              "#46039f"
             ],
             [
              0.2222222222222222,
              "#7201a8"
             ],
             [
              0.3333333333333333,
              "#9c179e"
             ],
             [
              0.4444444444444444,
              "#bd3786"
             ],
             [
              0.5555555555555556,
              "#d8576b"
             ],
             [
              0.6666666666666666,
              "#ed7953"
             ],
             [
              0.7777777777777778,
              "#fb9f3a"
             ],
             [
              0.8888888888888888,
              "#fdca26"
             ],
             [
              1,
              "#f0f921"
             ]
            ],
            "type": "histogram2dcontour"
           }
          ],
          "mesh3d": [
           {
            "colorbar": {
             "outlinewidth": 0,
             "ticks": ""
            },
            "type": "mesh3d"
           }
          ],
          "parcoords": [
           {
            "line": {
             "colorbar": {
              "outlinewidth": 0,
              "ticks": ""
             }
            },
            "type": "parcoords"
           }
          ],
          "pie": [
           {
            "automargin": true,
            "type": "pie"
           }
          ],
          "scatter": [
           {
            "fillpattern": {
             "fillmode": "overlay",
             "size": 10,
             "solidity": 0.2
            },
            "type": "scatter"
           }
          ],
          "scatter3d": [
           {
            "line": {
             "colorbar": {
              "outlinewidth": 0,
              "ticks": ""
             }
            },
            "marker": {
             "colorbar": {
              "outlinewidth": 0,
              "ticks": ""
             }
            },
            "type": "scatter3d"
           }
          ],
          "scattercarpet": [
           {
            "marker": {
             "colorbar": {
              "outlinewidth": 0,
              "ticks": ""
             }
            },
            "type": "scattercarpet"
           }
          ],
          "scattergeo": [
           {
            "marker": {
             "colorbar": {
              "outlinewidth": 0,
              "ticks": ""
             }
            },
            "type": "scattergeo"
           }
          ],
          "scattergl": [
           {
            "marker": {
             "colorbar": {
              "outlinewidth": 0,
              "ticks": ""
             }
            },
            "type": "scattergl"
           }
          ],
          "scattermapbox": [
           {
            "marker": {
             "colorbar": {
              "outlinewidth": 0,
              "ticks": ""
             }
            },
            "type": "scattermapbox"
           }
          ],
          "scatterpolar": [
           {
            "marker": {
             "colorbar": {
              "outlinewidth": 0,
              "ticks": ""
             }
            },
            "type": "scatterpolar"
           }
          ],
          "scatterpolargl": [
           {
            "marker": {
             "colorbar": {
              "outlinewidth": 0,
              "ticks": ""
             }
            },
            "type": "scatterpolargl"
           }
          ],
          "scatterternary": [
           {
            "marker": {
             "colorbar": {
              "outlinewidth": 0,
              "ticks": ""
             }
            },
            "type": "scatterternary"
           }
          ],
          "surface": [
           {
            "colorbar": {
             "outlinewidth": 0,
             "ticks": ""
            },
            "colorscale": [
             [
              0,
              "#0d0887"
             ],
             [
              0.1111111111111111,
              "#46039f"
             ],
             [
              0.2222222222222222,
              "#7201a8"
             ],
             [
              0.3333333333333333,
              "#9c179e"
             ],
             [
              0.4444444444444444,
              "#bd3786"
             ],
             [
              0.5555555555555556,
              "#d8576b"
             ],
             [
              0.6666666666666666,
              "#ed7953"
             ],
             [
              0.7777777777777778,
              "#fb9f3a"
             ],
             [
              0.8888888888888888,
              "#fdca26"
             ],
             [
              1,
              "#f0f921"
             ]
            ],
            "type": "surface"
           }
          ],
          "table": [
           {
            "cells": {
             "fill": {
              "color": "#EBF0F8"
             },
             "line": {
              "color": "white"
             }
            },
            "header": {
             "fill": {
              "color": "#C8D4E3"
             },
             "line": {
              "color": "white"
             }
            },
            "type": "table"
           }
          ]
         },
         "layout": {
          "annotationdefaults": {
           "arrowcolor": "#2a3f5f",
           "arrowhead": 0,
           "arrowwidth": 1
          },
          "autotypenumbers": "strict",
          "coloraxis": {
           "colorbar": {
            "outlinewidth": 0,
            "ticks": ""
           }
          },
          "colorscale": {
           "diverging": [
            [
             0,
             "#8e0152"
            ],
            [
             0.1,
             "#c51b7d"
            ],
            [
             0.2,
             "#de77ae"
            ],
            [
             0.3,
             "#f1b6da"
            ],
            [
             0.4,
             "#fde0ef"
            ],
            [
             0.5,
             "#f7f7f7"
            ],
            [
             0.6,
             "#e6f5d0"
            ],
            [
             0.7,
             "#b8e186"
            ],
            [
             0.8,
             "#7fbc41"
            ],
            [
             0.9,
             "#4d9221"
            ],
            [
             1,
             "#276419"
            ]
           ],
           "sequential": [
            [
             0,
             "#0d0887"
            ],
            [
             0.1111111111111111,
             "#46039f"
            ],
            [
             0.2222222222222222,
             "#7201a8"
            ],
            [
             0.3333333333333333,
             "#9c179e"
            ],
            [
             0.4444444444444444,
             "#bd3786"
            ],
            [
             0.5555555555555556,
             "#d8576b"
            ],
            [
             0.6666666666666666,
             "#ed7953"
            ],
            [
             0.7777777777777778,
             "#fb9f3a"
            ],
            [
             0.8888888888888888,
             "#fdca26"
            ],
            [
             1,
             "#f0f921"
            ]
           ],
           "sequentialminus": [
            [
             0,
             "#0d0887"
            ],
            [
             0.1111111111111111,
             "#46039f"
            ],
            [
             0.2222222222222222,
             "#7201a8"
            ],
            [
             0.3333333333333333,
             "#9c179e"
            ],
            [
             0.4444444444444444,
             "#bd3786"
            ],
            [
             0.5555555555555556,
             "#d8576b"
            ],
            [
             0.6666666666666666,
             "#ed7953"
            ],
            [
             0.7777777777777778,
             "#fb9f3a"
            ],
            [
             0.8888888888888888,
             "#fdca26"
            ],
            [
             1,
             "#f0f921"
            ]
           ]
          },
          "colorway": [
           "#636efa",
           "#EF553B",
           "#00cc96",
           "#ab63fa",
           "#FFA15A",
           "#19d3f3",
           "#FF6692",
           "#B6E880",
           "#FF97FF",
           "#FECB52"
          ],
          "font": {
           "color": "#2a3f5f"
          },
          "geo": {
           "bgcolor": "white",
           "lakecolor": "white",
           "landcolor": "#E5ECF6",
           "showlakes": true,
           "showland": true,
           "subunitcolor": "white"
          },
          "hoverlabel": {
           "align": "left"
          },
          "hovermode": "closest",
          "mapbox": {
           "style": "light"
          },
          "paper_bgcolor": "white",
          "plot_bgcolor": "#E5ECF6",
          "polar": {
           "angularaxis": {
            "gridcolor": "white",
            "linecolor": "white",
            "ticks": ""
           },
           "bgcolor": "#E5ECF6",
           "radialaxis": {
            "gridcolor": "white",
            "linecolor": "white",
            "ticks": ""
           }
          },
          "scene": {
           "xaxis": {
            "backgroundcolor": "#E5ECF6",
            "gridcolor": "white",
            "gridwidth": 2,
            "linecolor": "white",
            "showbackground": true,
            "ticks": "",
            "zerolinecolor": "white"
           },
           "yaxis": {
            "backgroundcolor": "#E5ECF6",
            "gridcolor": "white",
            "gridwidth": 2,
            "linecolor": "white",
            "showbackground": true,
            "ticks": "",
            "zerolinecolor": "white"
           },
           "zaxis": {
            "backgroundcolor": "#E5ECF6",
            "gridcolor": "white",
            "gridwidth": 2,
            "linecolor": "white",
            "showbackground": true,
            "ticks": "",
            "zerolinecolor": "white"
           }
          },
          "shapedefaults": {
           "line": {
            "color": "#2a3f5f"
           }
          },
          "ternary": {
           "aaxis": {
            "gridcolor": "white",
            "linecolor": "white",
            "ticks": ""
           },
           "baxis": {
            "gridcolor": "white",
            "linecolor": "white",
            "ticks": ""
           },
           "bgcolor": "#E5ECF6",
           "caxis": {
            "gridcolor": "white",
            "linecolor": "white",
            "ticks": ""
           }
          },
          "title": {
           "x": 0.05
          },
          "xaxis": {
           "automargin": true,
           "gridcolor": "white",
           "linecolor": "white",
           "ticks": "",
           "title": {
            "standoff": 15
           },
           "zerolinecolor": "white",
           "zerolinewidth": 2
          },
          "yaxis": {
           "automargin": true,
           "gridcolor": "white",
           "linecolor": "white",
           "ticks": "",
           "title": {
            "standoff": 15
           },
           "zerolinecolor": "white",
           "zerolinewidth": 2
          }
         }
        },
        "title": {
         "text": "Distribution of Health by Type"
        }
       }
      },
      "image/png": "[encoded data removed]",
      "text/html": [
       "<div>                            <div id=\"49c99731-16e5-4f88-916d-11b7b16618b5\" class=\"plotly-graph-div\" style=\"height:525px; width:100%;\"></div>            <script type=\"text/javascript\">                require([\"plotly\"], function(Plotly) {                    window.PLOTLYENV=window.PLOTLYENV || {};                                    if (document.getElementById(\"49c99731-16e5-4f88-916d-11b7b16618b5\")) {                    Plotly.newPlot(                        \"49c99731-16e5-4f88-916d-11b7b16618b5\",                        [{\"domain\":{\"x\":[0.0,1.0],\"y\":[0.0,1.0]},\"hovertemplate\":\"percentage=%{label}<br>count=%{value}<extra></extra>\",\"labels\":[34.420537340619305,23.83822859744991,20.361452641165755,6.442964480874316,5.63353825136612,3.175091074681238,2.925774134790528,1.6154371584699452,1.0365437158469946,0.5504326047358834],\"legendgroup\":\"\",\"name\":\"\",\"showlegend\":true,\"values\":[60470,41879,35771,11319,9897,5578,5140,2838,1821,967],\"type\":\"pie\"}],                        {\"template\":{\"data\":{\"histogram2dcontour\":[{\"type\":\"histogram2dcontour\",\"colorbar\":{\"outlinewidth\":0,\"ticks\":\"\"},\"colorscale\":[[0.0,\"#0d0887\"],[0.1111111111111111,\"#46039f\"],[0.2222222222222222,\"#7201a8\"],[0.3333333333333333,\"#9c179e\"],[0.4444444444444444,\"#bd3786\"],[0.5555555555555556,\"#d8576b\"],[0.6666666666666666,\"#ed7953\"],[0.7777777777777778,\"#fb9f3a\"],[0.8888888888888888,\"#fdca26\"],[1.0,\"#f0f921\"]]}],\"choropleth\":[{\"type\":\"choropleth\",\"colorbar\":{\"outlinewidth\":0,\"ticks\":\"\"}}],\"histogram2d\":[{\"type\":\"histogram2d\",\"colorbar\":{\"outlinewidth\":0,\"ticks\":\"\"},\"colorscale\":[[0.0,\"#0d0887\"],[0.1111111111111111,\"#46039f\"],[0.2222222222222222,\"#7201a8\"],[0.3333333333333333,\"#9c179e\"],[0.4444444444444444,\"#bd3786\"],[0.5555555555555556,\"#d8576b\"],[0.6666666666666666,\"#ed7953\"],[0.7777777777777778,\"#fb9f3a\"],[0.8888888888888888,\"#fdca26\"],[1.0,\"#f0f921\"]]}],\"heatmap\":[{\"type\":\"heatmap\",\"colorbar\":{\"outlinewidth\":0,\"ticks\":\"\"},\"colorscale\":[[0.0,\"#0d0887\"],[0.1111111111111111,\"#46039f\"],[0.2222222222222222,\"#7201a8\"],[0.3333333333333333,\"#9c179e\"],[0.4444444444444444,\"#bd3786\"],[0.5555555555555556,\"#d8576b\"],[0.6666666666666666,\"#ed7953\"],[0.7777777777777778,\"#fb9f3a\"],[0.8888888888888888,\"#fdca26\"],[1.0,\"#f0f921\"]]}],\"heatmapgl\":[{\"type\":\"heatmapgl\",\"colorbar\":{\"outlinewidth\":0,\"ticks\":\"\"},\"colorscale\":[[0.0,\"#0d0887\"],[0.1111111111111111,\"#46039f\"],[0.2222222222222222,\"#7201a8\"],[0.3333333333333333,\"#9c179e\"],[0.4444444444444444,\"#bd3786\"],[0.5555555555555556,\"#d8576b\"],[0.6666666666666666,\"#ed7953\"],[0.7777777777777778,\"#fb9f3a\"],[0.8888888888888888,\"#fdca26\"],[1.0,\"#f0f921\"]]}],\"contourcarpet\":[{\"type\":\"contourcarpet\",\"colorbar\":{\"outlinewidth\":0,\"ticks\":\"\"}}],\"contour\":[{\"type\":\"contour\",\"colorbar\":{\"outlinewidth\":0,\"ticks\":\"\"},\"colorscale\":[[0.0,\"#0d0887\"],[0.1111111111111111,\"#46039f\"],[0.2222222222222222,\"#7201a8\"],[0.3333333333333333,\"#9c179e\"],[0.4444444444444444,\"#bd3786\"],[0.5555555555555556,\"#d8576b\"],[0.6666666666666666,\"#ed7953\"],[0.7777777777777778,\"#fb9f3a\"],[0.8888888888888888,\"#fdca26\"],[1.0,\"#f0f921\"]]}],\"surface\":[{\"type\":\"surface\",\"colorbar\":{\"outlinewidth\":0,\"ticks\":\"\"},\"colorscale\":[[0.0,\"#0d0887\"],[0.1111111111111111,\"#46039f\"],[0.2222222222222222,\"#7201a8\"],[0.3333333333333333,\"#9c179e\"],[0.4444444444444444,\"#bd3786\"],[0.5555555555555556,\"#d8576b\"],[0.6666666666666666,\"#ed7953\"],[0.7777777777777778,\"#fb9f3a\"],[0.8888888888888888,\"#fdca26\"],[1.0,\"#f0f921\"]]}],\"mesh3d\":[{\"type\":\"mesh3d\",\"colorbar\":{\"outlinewidth\":0,\"ticks\":\"\"}}],\"scatter\":[{\"fillpattern\":{\"fillmode\":\"overlay\",\"size\":10,\"solidity\":0.2},\"type\":\"scatter\"}],\"parcoords\":[{\"type\":\"parcoords\",\"line\":{\"colorbar\":{\"outlinewidth\":0,\"ticks\":\"\"}}}],\"scatterpolargl\":[{\"type\":\"scatterpolargl\",\"marker\":{\"colorbar\":{\"outlinewidth\":0,\"ticks\":\"\"}}}],\"bar\":[{\"error_x\":{\"color\":\"#2a3f5f\"},\"error_y\":{\"color\":\"#2a3f5f\"},\"marker\":{\"line\":{\"color\":\"#E5ECF6\",\"width\":0.5},\"pattern\":{\"fillmode\":\"overlay\",\"size\":10,\"solidity\":0.2}},\"type\":\"bar\"}],\"scattergeo\":[{\"type\":\"scattergeo\",\"marker\":{\"colorbar\":{\"outlinewidth\":0,\"ticks\":\"\"}}}],\"scatterpolar\":[{\"type\":\"scatterpolar\",\"marker\":{\"colorbar\":{\"outlinewidth\":0,\"ticks\":\"\"}}}],\"histogram\":[{\"marker\":{\"pattern\":{\"fillmode\":\"overlay\",\"size\":10,\"solidity\":0.2}},\"type\":\"histogram\"}],\"scattergl\":[{\"type\":\"scattergl\",\"marker\":{\"colorbar\":{\"outlinewidth\":0,\"ticks\":\"\"}}}],\"scatter3d\":[{\"type\":\"scatter3d\",\"line\":{\"colorbar\":{\"outlinewidth\":0,\"ticks\":\"\"}},\"marker\":{\"colorbar\":{\"outlinewidth\":0,\"ticks\":\"\"}}}],\"scattermapbox\":[{\"type\":\"scattermapbox\",\"marker\":{\"colorbar\":{\"outlinewidth\":0,\"ticks\":\"\"}}}],\"scatterternary\":[{\"type\":\"scatterternary\",\"marker\":{\"colorbar\":{\"outlinewidth\":0,\"ticks\":\"\"}}}],\"scattercarpet\":[{\"type\":\"scattercarpet\",\"marker\":{\"colorbar\":{\"outlinewidth\":0,\"ticks\":\"\"}}}],\"carpet\":[{\"aaxis\":{\"endlinecolor\":\"#2a3f5f\",\"gridcolor\":\"white\",\"linecolor\":\"white\",\"minorgridcolor\":\"white\",\"startlinecolor\":\"#2a3f5f\"},\"baxis\":{\"endlinecolor\":\"#2a3f5f\",\"gridcolor\":\"white\",\"linecolor\":\"white\",\"minorgridcolor\":\"white\",\"startlinecolor\":\"#2a3f5f\"},\"type\":\"carpet\"}],\"table\":[{\"cells\":{\"fill\":{\"color\":\"#EBF0F8\"},\"line\":{\"color\":\"white\"}},\"header\":{\"fill\":{\"color\":\"#C8D4E3\"},\"line\":{\"color\":\"white\"}},\"type\":\"table\"}],\"barpolar\":[{\"marker\":{\"line\":{\"color\":\"#E5ECF6\",\"width\":0.5},\"pattern\":{\"fillmode\":\"overlay\",\"size\":10,\"solidity\":0.2}},\"type\":\"barpolar\"}],\"pie\":[{\"automargin\":true,\"type\":\"pie\"}]},\"layout\":{\"autotypenumbers\":\"strict\",\"colorway\":[\"#636efa\",\"#EF553B\",\"#00cc96\",\"#ab63fa\",\"#FFA15A\",\"#19d3f3\",\"#FF6692\",\"#B6E880\",\"#FF97FF\",\"#FECB52\"],\"font\":{\"color\":\"#2a3f5f\"},\"hovermode\":\"closest\",\"hoverlabel\":{\"align\":\"left\"},\"paper_bgcolor\":\"white\",\"plot_bgcolor\":\"#E5ECF6\",\"polar\":{\"bgcolor\":\"#E5ECF6\",\"angularaxis\":{\"gridcolor\":\"white\",\"linecolor\":\"white\",\"ticks\":\"\"},\"radialaxis\":{\"gridcolor\":\"white\",\"linecolor\":\"white\",\"ticks\":\"\"}},\"ternary\":{\"bgcolor\":\"#E5ECF6\",\"aaxis\":{\"gridcolor\":\"white\",\"linecolor\":\"white\",\"ticks\":\"\"},\"baxis\":{\"gridcolor\":\"white\",\"linecolor\":\"white\",\"ticks\":\"\"},\"caxis\":{\"gridcolor\":\"white\",\"linecolor\":\"white\",\"ticks\":\"\"}},\"coloraxis\":{\"colorbar\":{\"outlinewidth\":0,\"ticks\":\"\"}},\"colorscale\":{\"sequential\":[[0.0,\"#0d0887\"],[0.1111111111111111,\"#46039f\"],[0.2222222222222222,\"#7201a8\"],[0.3333333333333333,\"#9c179e\"],[0.4444444444444444,\"#bd3786\"],[0.5555555555555556,\"#d8576b\"],[0.6666666666666666,\"#ed7953\"],[0.7777777777777778,\"#fb9f3a\"],[0.8888888888888888,\"#fdca26\"],[1.0,\"#f0f921\"]],\"sequentialminus\":[[0.0,\"#0d0887\"],[0.1111111111111111,\"#46039f\"],[0.2222222222222222,\"#7201a8\"],[0.3333333333333333,\"#9c179e\"],[0.4444444444444444,\"#bd3786\"],[0.5555555555555556,\"#d8576b\"],[0.6666666666666666,\"#ed7953\"],[0.7777777777777778,\"#fb9f3a\"],[0.8888888888888888,\"#fdca26\"],[1.0,\"#f0f921\"]],\"diverging\":[[0,\"#8e0152\"],[0.1,\"#c51b7d\"],[0.2,\"#de77ae\"],[0.3,\"#f1b6da\"],[0.4,\"#fde0ef\"],[0.5,\"#f7f7f7\"],[0.6,\"#e6f5d0\"],[0.7,\"#b8e186\"],[0.8,\"#7fbc41\"],[0.9,\"#4d9221\"],[1,\"#276419\"]]},\"xaxis\":{\"gridcolor\":\"white\",\"linecolor\":\"white\",\"ticks\":\"\",\"title\":{\"standoff\":15},\"zerolinecolor\":\"white\",\"automargin\":true,\"zerolinewidth\":2},\"yaxis\":{\"gridcolor\":\"white\",\"linecolor\":\"white\",\"ticks\":\"\",\"title\":{\"standoff\":15},\"zerolinecolor\":\"white\",\"automargin\":true,\"zerolinewidth\":2},\"scene\":{\"xaxis\":{\"backgroundcolor\":\"#E5ECF6\",\"gridcolor\":\"white\",\"linecolor\":\"white\",\"showbackground\":true,\"ticks\":\"\",\"zerolinecolor\":\"white\",\"gridwidth\":2},\"yaxis\":{\"backgroundcolor\":\"#E5ECF6\",\"gridcolor\":\"white\",\"linecolor\":\"white\",\"showbackground\":true,\"ticks\":\"\",\"zerolinecolor\":\"white\",\"gridwidth\":2},\"zaxis\":{\"backgroundcolor\":\"#E5ECF6\",\"gridcolor\":\"white\",\"linecolor\":\"white\",\"showbackground\":true,\"ticks\":\"\",\"zerolinecolor\":\"white\",\"gridwidth\":2}},\"shapedefaults\":{\"line\":{\"color\":\"#2a3f5f\"}},\"annotationdefaults\":{\"arrowcolor\":\"#2a3f5f\",\"arrowhead\":0,\"arrowwidth\":1},\"geo\":{\"bgcolor\":\"white\",\"landcolor\":\"#E5ECF6\",\"subunitcolor\":\"white\",\"showland\":true,\"showlakes\":true,\"lakecolor\":\"white\"},\"title\":{\"x\":0.05},\"mapbox\":{\"style\":\"light\"}}},\"legend\":{\"tracegroupgap\":0},\"title\":{\"text\":\"Distribution of Health by Type\"}},                        {\"responsive\": true}                    ).then(function(){\n",
       "                            \n",
       "var gd = document.getElementById('49c99731-16e5-4f88-916d-11b7b16618b5');\n",
       "var x = new MutationObserver(function (mutations, observer) {{\n",
       "        var display = window.getComputedStyle(gd).display;\n",
       "        if (!display || display === 'none') {{\n",
       "            console.log([gd, 'removed!']);\n",
       "            Plotly.purge(gd);\n",
       "            observer.disconnect();\n",
       "        }}\n",
       "}});\n",
       "\n",
       "// Listen for the removal of the full notebook cells\n",
       "var notebookContainer = gd.closest('#notebook-container');\n",
       "if (notebookContainer) {{\n",
       "    x.observe(notebookContainer, {childList: true});\n",
       "}}\n",
       "\n",
       "// Listen for the clearing of the current output cell\n",
       "var outputEl = gd.closest('.output');\n",
       "if (outputEl) {{\n",
       "    x.observe(outputEl, {childList: true});\n",
       "}}\n",
       "\n",
       "                        })                };                });            </script>        </div>"
      ]
     },
     "metadata": {},
     "output_type": "display_data"
    }
   ],
   "source": [
    "import plotly.express as px\n",
    "circle_fig = px.pie(summary, values='count', names='percentage', title='Distribution of Health by Type' )  # No filtering\n",
    "circle_fig.show()\n"
   ]
  },
  {
   "cell_type": "code",
   "execution_count": 100,
   "id": "840b1689-bc31-4360-8ec5-83e0d81a43b9",
   "metadata": {},
   "outputs": [],
   "source": [
    "graph_01 = dcc.Graph(figure=circle_fig,\n",
    "style={'gridArea': \"graph_01\"})"
   ]
  },
  {
   "cell_type": "code",
   "execution_count": 106,
   "id": "868cb133-8717-436b-80b4-265ee91d700c",
   "metadata": {
    "scrolled": true
   },
   "outputs": [
    {
     "data": {
      "text/html": [
       "\n",
       "        <iframe\n",
       "            width=\"100%\"\n",
       "            height=\"650\"\n",
       "            src=\"http://127.0.0.1:8054/\"\n",
       "            frameborder=\"0\"\n",
       "            allowfullscreen\n",
       "            \n",
       "        ></iframe>\n",
       "        "
      ],
      "text/plain": [
       "<IPython.lib.display.IFrame at 0x26c170188e0>"
      ]
     },
     "metadata": {},
     "output_type": "display_data"
    }
   ],
   "source": [
    "import dash\n",
    "from dash import html, dcc\n",
    "from dash.dependencies import Output, Input, State\n",
    "from prepare import PrepareData\n",
    "#Testing - Read local data\n",
    "prepared_data = PrepareData(download_new=False)\n",
    "\n",
    "app = dash.Dash(__name__)\n",
    "\n",
    "# Initialize user_input_value\n",
    "user_input_value = None\n",
    "\n",
    "#layout is saved to a variable so I dont have to keep running it\n",
    "app.layout = html.Div([\n",
    "    link, \n",
    "    banner_item,  \n",
    "    doctorcat_item, \n",
    "    ########################################################################################################\n",
    "    ################## Define input and out for income drop down ###########################################\n",
    "    #######################################################################################################\n",
    "    html.Div(\n",
    "        children=[\n",
    "            dcc.Dropdown(\n",
    "                id='menu_income_id',\n",
    "                options=menu_income,\n",
    "                placeholder=\"Please choose your income range.\",\n",
    "                value=user_input_value\n",
    "            )\n",
    "        ],\n",
    "        style={\n",
    "            \"display\": \"block\"\n",
    "        }\n",
    "    ),\n",
    "    ######################################################################\n",
    "    ##################  OUTPUT VALUE for income #######################\n",
    "    \n",
    "    html.Div(id='income-output'),\n",
    "    \n",
    "    #################################################################################################\n",
    "    ###########  gen_health  ########################################################################\n",
    "    ################################################################################################\n",
    "    html.Div(  # Assuming user_input1 is a Div\n",
    "    children=[\n",
    "       dcc.Dropdown(\n",
    "            id='gen_health_id',\n",
    "            options=gen_health,\n",
    "            placeholder=\"Please enter your general health code.\",\n",
    "            value=user_input_value\n",
    "        )\n",
    "    ],\n",
    "    style={\n",
    "        \"display\": \"block\",  # Set display to block\n",
    "      }\n",
    "    ),\n",
    "     ######################################################################\n",
    "    ##################  OUTPUT VALUE for general health #######################\n",
    "    \n",
    "    html.Div(id='gen-health-output'),\n",
    "    \n",
    "    ################################################################################################\n",
    "    html.Div(\n",
    "        children=[\n",
    "            dcc.Dropdown(\n",
    "                id='phy_health_id',\n",
    "                options=phy_health,\n",
    "                placeholder=\"Please choose your physical health code.\",\n",
    "                value=user_input_value\n",
    "            )\n",
    "        ],\n",
    "        style={\n",
    "            \"display\": \"block\"\n",
    "        }\n",
    "    ),\n",
    "    ######################################################################\n",
    "    ##################  OUTPUT VALUE for physical health days #######################\n",
    "    \n",
    "    html.Div(id='phy-health-output'),\n",
    "    \n",
    "    ################################################################################################\n",
    "     html.Div(\n",
    "        children=[\n",
    "            dcc.Dropdown(\n",
    "                id='men_health_id',\n",
    "                options=men_health,\n",
    "                placeholder=\"Please choose your physical health range.\",\n",
    "                value=user_input_value\n",
    "            )\n",
    "        ],\n",
    "        style={\n",
    "            \"display\": \"block\"\n",
    "        }\n",
    "    ),\n",
    "    ######################################################################\n",
    "    ##################  OUTPUT VALUE for mental health #######################\n",
    "    \n",
    "    html.Div(id='men-health-output'),\n",
    "    \n",
    "    #################################\n",
    "     html.Div(\n",
    "        children=[\n",
    "            dcc.Dropdown(\n",
    "                id='diff_id',\n",
    "                options=phy_health,\n",
    "                placeholder=\"Please choose number of days you had diffculty walking.\",\n",
    "                value=user_input_value\n",
    "            )\n",
    "        ],\n",
    "        style={\n",
    "            \"display\": \"block\"\n",
    "        }\n",
    "    ),\n",
    "    ######################################################################\n",
    "    ##################  OUTPUT VALUE for income #######################\n",
    "    \n",
    "    html.Div(id='diff-output'),\n",
    "    \n",
    "    #################################\n",
    "    border1_item,\n",
    "    ###############################################\n",
    "    #########  About the Data ######################\n",
    "    ##############################################\n",
    "    \n",
    "     html.Div(\n",
    "    children=[\n",
    "        html.H1(\"Capstone: CDC Diabetes Project\")\n",
    "    ])\n",
    "    ,\n",
    "    html.Div(\n",
    "    children=[\n",
    "        html.P(\"This is the result of a Logcial Regression Capstone Project used to determine the probability of diabetes based select features.  My desire is to use this capstone to demonstrate skills in the areas of data science, machine learning, and python to predict and outcome using data analysis.\")\n",
    "    ])\n",
    "    ,\n",
    "    html.Div(\n",
    "    children=[\n",
    "        html.H2(\"About the Data\"),\n",
    "        html.P('\"The Diabetes Health Indicators Dataset contains healthcare statistics and lifestyle survey information about people in general along with their diagnosis of diabetes. -- source: Machine learning repository\"'),\n",
    "        html.A('Available Data',\"https://archive.ics.uci.edu/dataset/891/cdc+diabetes+health+indicators\"),\n",
    "        html.A('CDC data Codes', \"https://www.cdc.gov/brfss/annual_data/2014/pdf/CODEBOOK14_LLCP.pdf\"),\n",
    "\n",
    " \n",
    "    ])\n",
    "    ,\n",
    "     html.Div(\n",
    "    children=[\n",
    "        html.H3(\"Raw data\")\n",
    "    ])\n",
    "    ,\n",
    "    html.Div([ raw_table])\n",
    "    ,\n",
    "    border1_item\n",
    "    ,\n",
    "     html.Div(\n",
    "    children=[\n",
    "        html.H2(\"Step 1: Explored the Data\")\n",
    "    ])\n",
    "    ,\n",
    "\n",
    "     html.Div([\n",
    "    html.Ul([\n",
    "        html.Li(step) for step in steps\n",
    "      ])\n",
    "    ])\n",
    "         \n",
    "    ,\n",
    "     html.Div(\n",
    "    children=[\n",
    "        html.H3(\"Identified issues with the data\")\n",
    "    ])\n",
    "     \n",
    "    ,\n",
    "     \n",
    "\n",
    "   \n",
    "    html.Div([exploredata_item, heatmap_item])\n",
    "    ,\n",
    "       html.Div([\n",
    "    html.Ul([\n",
    "        html.Li(step) for step in issues\n",
    "      ])\n",
    "    ])\n",
    "    ,\n",
    "         \n",
    "    html.Div([boxplot_item])\n",
    "    \n",
    "    ,\n",
    "     html.Div(\n",
    "    children=[\n",
    "        html.A(\"box plot shows large variances and outliers in Mental Health and Physical Health Data. This can affect my model performance.  Also, since the data is categorical data, I will use a categorical response to determine the probability of diabetes based the most prominent features identified in my heatmap. According to the stats, there is a 30point difference from min and max for Mental and Physical Health data\")\n",
    "        ])\n",
    "     \n",
    "    ,\n",
    "     border1_item\n",
    "    ,\n",
    "     html.Div(\n",
    "    children=[\n",
    "        html.H2(\"Step 2: Feature Engineered & Aggregated data\")\n",
    "    ])\n",
    "    ,\n",
    "    \n",
    "     html.Div(\n",
    "    children=[\n",
    "        html.H3(\"Purpose of this Section:\")\n",
    "    ])\n",
    "    ,\n",
    "     html.Div([\n",
    "    html.Ul([\n",
    "        html.Li(step) for step in treatment\n",
    "      ])\n",
    "    ])\n",
    "    \n",
    "     ,\n",
    "\n",
    "    html.Div(\n",
    "    children=[\n",
    "        html.H3(\"Address Outliers using IQR method\")\n",
    "    ])\n",
    "   \n",
    "\n",
    "    ,\n",
    "        \n",
    "    html.Div([outliers_item])\n",
    "    \n",
    "    ,\n",
    "     \n",
    "     html.Div(\n",
    "    children=[\n",
    "        html.A(\"I identied 14% percent of the records are outliers using IQP the lower & upper bounds in the MentHlth data.  I identied 19% percent of the records are outliers using IQP the lower & upper bounds in the PhysHlth data\")\n",
    "        ])\n",
    "     \n",
    "    ,\n",
    "    html.Div(\n",
    "    children=[\n",
    "        html.H3(\"Replace codes with label for better interprepation of data\")\n",
    "    ])\n",
    "   \n",
    "\n",
    "    ,\n",
    "     html.Div([updatecolumns_item])\n",
    "\n",
    "    ,\n",
    "    html.Div(\n",
    "    children=[\n",
    "        html.H3(\"Top 4 header rows of updated data table\")\n",
    "    ])\n",
    "    ,\n",
    "    html.Div([  updated_table  ])\n",
    "    ,\n",
    "    html.Div(\n",
    "    children=[\n",
    "        html.H3(\"Aggregate and view Bar chart percentage\")\n",
    "    ])\n",
    "    ,\n",
    "\n",
    "     html.Div([ summary_table]   )\n",
    "\n",
    " \n",
    "    ,\n",
    "     \n",
    "   html.Div([  graph_01])\n",
    "    ,\n",
    "    border1_item\n",
    "     \n",
    "    ,\n",
    "   \n",
    "     html.Div(\n",
    "    children=[\n",
    "        html.H2(\"Step 3: Create Predictive models\")\n",
    "    ])\n",
    "    ,\n",
    "     html.Div([Model_item])\n",
    "    ,\n",
    "    border1_item\n",
    "    ,\n",
    "    \n",
    "    \n",
    "    html.Div(\n",
    "    children=[\n",
    "        html.H2(\"Step : Create Test program to accept user input and display prediction\")\n",
    "    ])\n",
    "    ,\n",
    "      \n",
    "    html.Div([testing_item])\n",
    "    \n",
    "    ,\n",
    "    border1_item \n",
    "    ,\n",
    "    html.Div(\n",
    "    children=[\n",
    "        html.H2(\"Step 6: Build the app\")\n",
    "    ])\n",
    "    ,\n",
    "     html.Div([flowchart_item])\n",
    "    ,\n",
    "    \n",
    "    border1_item \n",
    "    ,\n",
    "    html.Div(\n",
    "    children=[\n",
    "        html.H2(\"Summary Tools Used\")\n",
    "    ])\n",
    "    ,\n",
    "    \n",
    "    html.Div([\n",
    "    html.Ul([\n",
    "        html.Li(step) for step in tools_used\n",
    "      ])\n",
    "    ])\n",
    "    \n",
    "    \n",
    "    ,\n",
    " ], style={'padding':10})  \n",
    "########################################\n",
    "####   Call back for graph\n",
    "########################################\n",
    "#@app.callback(\n",
    "#    Output('feature-graphic', 'figure'),\n",
    "#    [Input('sum-table', 'active_cell')],\n",
    "#    [State('sum-table', 'derived_virtual_data')]\n",
    "     \n",
    "     \n",
    "#)\n",
    "\n",
    "def change_area_graphs(avg_cell, avg_data):\n",
    "    \"\"\"\n",
    "    Change the graph \n",
    "    \n",
    "    Parameters\n",
    "    ----------\n",
    "    avg_cell : dict with keys `row` and `cell` mapped to integers of cell location\n",
    "    \n",
    "    avg_data : list of dicts of one country per row.\n",
    "    Returns\n",
    "    -------\n",
    "    List of three plotly figures, one for each of the `Output`\n",
    "    \"\"\"\n",
    "    \n",
    "    row_number = avg_cell[\"row\"]\n",
    "    row_data = avg_data[row_number]\n",
    "    types = row_data['index']\n",
    "    print(\"active_cell\", avg_cell, \n",
    "          \"\\nrow_number\", row_number) \n",
    "         # \"\\nrow_data\", row_data, \n",
    "        #  \"\\ntypes\", types)\n",
    "    \n",
    "    #convert type to a number\n",
    "    df  = prepared_data.read_local_data('summary', 'data/prepared')\n",
    "    fig = px.pie(df, values='count', names='percentage', title='Distribution of Health by Type' )  \n",
    " \n",
    "     \n",
    "    return fig \n",
    "     \n",
    "#########################################\n",
    "############ call back for income drop down\n",
    "###############################\n",
    "\n",
    "@app.callback(\n",
    "    Output('income-output', 'children'),\n",
    "    [ Input('menu_income_id', 'value')] \n",
    ")\n",
    "\n",
    "def callback_a(income_value):\n",
    "    return 'Youve selected \"{}\"'.format(income_value)\n",
    "\n",
    "#################################################3\n",
    "########### call back for gen health ###########\n",
    "#########################\n",
    "@app.callback(\n",
    "    Output('gen-health-output', 'children'),\n",
    "    [ Input('gen_health_id', 'value')]\n",
    ")\n",
    "\n",
    "def callback_b(gen_health_value):\n",
    "    return 'Youve selected \"{}\"'.format(gen_health_value)\n",
    "#################################################\n",
    "###### call back for phy health\n",
    "############################################\n",
    "@app.callback(\n",
    "    Output('phy-health-output', 'children'),\n",
    "    [ Input('phy_health_id', 'value')]\n",
    ")\n",
    "\n",
    "def callback_c(phy_health_value):\n",
    "    return 'Youve selected \"{}\"'.format(phy_health_value)\n",
    "\n",
    "#################################################\n",
    "###### call back for phy health\n",
    "############################################\n",
    "@app.callback(\n",
    "    Output('men-health-output', 'children'),\n",
    "    [ Input('men_health_id', 'value')]\n",
    ")\n",
    "\n",
    "def callback_c(men_health_value):\n",
    "    return 'Youve selected \"{}\"'.format(men_health_value)\n",
    "#################################################\n",
    "###### call back for phy health\n",
    "############################################\n",
    "@app.callback(\n",
    "    Output('diff-output', 'children'),\n",
    "    [ Input('diff_id', 'value')]\n",
    ")\n",
    "\n",
    "def callback_c(diff_value):\n",
    "    return 'Youve selected \"{}\"'.format(diff_value)\n",
    "#############################################\n",
    "if __name__ == '__main__':\n",
    "    app.run_server(debug=True,port=8054)\n"
   ]
  },
  {
   "cell_type": "code",
   "execution_count": null,
   "id": "ad42fef0-dc25-46ee-b6b0-0a1cc552b0c1",
   "metadata": {},
   "outputs": [],
   "source": []
  },
  {
   "cell_type": "code",
   "execution_count": null,
   "id": "c2642278-6dc8-4a2b-b452-95f2c9ee69ad",
   "metadata": {},
   "outputs": [],
   "source": []
  },
  {
   "cell_type": "code",
   "execution_count": null,
   "id": "9f9630c3-3455-46bb-a5ae-727d6afeb7d1",
   "metadata": {},
   "outputs": [],
   "source": []
  },
  {
   "cell_type": "code",
   "execution_count": null,
   "id": "b875d257-0e84-49ed-90b5-fe3e75e2aef1",
   "metadata": {},
   "outputs": [],
   "source": []
  },
  {
   "cell_type": "code",
   "execution_count": null,
   "id": "6d228deb-e5ea-44b9-a674-2f4fa2df6a81",
   "metadata": {},
   "outputs": [],
   "source": []
  }
 ],
 "metadata": {
  "kernelspec": {
   "display_name": "Python 3 (ipykernel)",
   "language": "python",
   "name": "python3"
  },
  "language_info": {
   "codemirror_mode": {
    "name": "ipython",
    "version": 3
   },
   "file_extension": ".py",
   "mimetype": "text/x-python",
   "name": "python",
   "nbconvert_exporter": "python",
   "pygments_lexer": "ipython3",
   "version": "3.9.12"
  }
 },
 "nbformat": 4,
 "nbformat_minor": 5
}
