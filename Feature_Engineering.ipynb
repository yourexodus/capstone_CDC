{
 "cells": [
  {
   "cell_type": "markdown",
   "id": "eeabfd5c-f987-44d9-aadc-89409e63af4a",
   "metadata": {},
   "source": [
    "# CDC_Capstone:  Part II - Feature Engineering"
   ]
  },
  {
   "cell_type": "markdown",
   "id": "5af3f927-43d0-4226-a069-649d8664df2e",
   "metadata": {},
   "source": [
    "### This is a classification , categorical response problem used to determine the probability of YES or NO probability of diabetes based select features"
   ]
  },
  {
   "cell_type": "markdown",
   "id": "7b42a18c-83f8-4161-b892-d91156555909",
   "metadata": {},
   "source": [
    "\n",
    "Purpose of Part II:\n",
    "1- Address Outliers \n",
    "2- Replace codes with label for better interprepation of data\n",
    "3- Create datasets needed for the dashboard notebook"
   ]
  },
  {
   "cell_type": "code",
   "execution_count": 1,
   "id": "87ebe3fe",
   "metadata": {
    "scrolled": true
   },
   "outputs": [],
   "source": [
    "\n",
    "#### Run imports:\n",
    "# standard data science imports\n",
    "import numpy as np\n",
    "import pandas as pd\n",
    "import seaborn as sns\n",
    "import matplotlib.pyplot as plt\n",
    "\n",
    " \n",
    "# Statistics imports\n",
    "from scipy import stats\n",
    "#import statsmodels.api as sm\n",
    "\n",
    "import csv\n",
    "#import import_ipynb\n",
    "import pandas as pd\n",
    "\n",
    " "
   ]
  },
  {
   "cell_type": "code",
   "execution_count": 2,
   "id": "d6b8f0e3-313c-49ce-bc4a-9215df6f5fc2",
   "metadata": {},
   "outputs": [],
   "source": [
    "#save functions and data source\n",
    "#%run my_functions.ipynb\n",
    "from prepare import PrepareData\n",
    "#Testing - Read local data\n",
    "prepared_data = PrepareData(download_new=False)"
   ]
  },
  {
   "cell_type": "markdown",
   "id": "d24d816e-3c8c-4ba1-9b54-bd49d59c0685",
   "metadata": {},
   "source": [
    " \n",
    "# Reading from my local directory  is much faster\n",
    "Class : Create a class and method to do the following\n",
    "\n",
    "1. take a list of names. For example: ['menhealth','menhealth','physical','dietary,heart','sex,edu','all']\n",
    "2. each name will call another function to read the local directory and retrieve the CSV adn return it as a df\n",
    "note the directory name is defined in the run function found in my_functions file\n",
    "3.  The data frame key will be the name.  Key, data will be the dataframe\n",
    "4. The dictiionary of dataframes will be returned.  "
   ]
  },
  {
   "cell_type": "code",
   "execution_count": 3,
   "id": "c249f9df-f26a-467d-914b-3a205e024a9b",
   "metadata": {},
   "outputs": [],
   "source": [
    "#read in all the data from your local directory.\n",
    "data = prepared_data.run()\n",
    " "
   ]
  },
  {
   "cell_type": "code",
   "execution_count": 4,
   "id": "92c34df9-c514-478e-a499-b0bc507ed3d0",
   "metadata": {},
   "outputs": [],
   "source": [
    "df = data['all']"
   ]
  },
  {
   "cell_type": "markdown",
   "id": "1ce0d092-8466-49f3-82c1-ad3a212ea8bf",
   "metadata": {},
   "source": [
    "# 1. Addressing the Issue:  Outliers"
   ]
  },
  {
   "cell_type": "markdown",
   "id": "11c9b878-1b0b-4980-abd0-03624251d7eb",
   "metadata": {},
   "source": [
    "I will use quartiles to address outliers identified in Getting To Know the Data - Part I.  \n",
    "Pros: Data maybe anonmies and not true outliers.  I maybe deleting important data for my analysis\n",
    "Cons:  I will increase my logistic model performance"
   ]
  },
  {
   "cell_type": "markdown",
   "id": "c2984997-55e1-420b-924b-220f8281a921",
   "metadata": {},
   "source": [
    "## review boxplot and statistics\n"
   ]
  },
  {
   "cell_type": "code",
   "execution_count": 5,
   "id": "d565d69e-7e2a-4d45-8183-8249eb4e9ecf",
   "metadata": {
    "scrolled": true
   },
   "outputs": [
    {
     "data": {
      "image/png": "[encoded data removed]",
      "text/plain": [
       "<Figure size 640x480 with 1 Axes>"
      ]
     },
     "metadata": {},
     "output_type": "display_data"
    }
   ],
   "source": [
    "#box plot columns in the data to show large variances in data\n",
    "plt.boxplot(df[['Income','GenHlth','MentHlth','PhysHlth','DiffWalk']]);"
   ]
  },
  {
   "cell_type": "markdown",
   "id": "f7710314-5a06-48bb-a459-acfb718d05e4",
   "metadata": {},
   "source": [
    "## IQR Method to remove outliers"
   ]
  },
  {
   "cell_type": "markdown",
   "id": "1f34a9a0-aae9-401a-b1aa-68ae35adb0b0",
   "metadata": {},
   "source": [
    "## MentHlth - remove outliers"
   ]
  },
  {
   "cell_type": "code",
   "execution_count": 6,
   "id": "9fdce699-ff14-4293-ade0-25c1b2502fee",
   "metadata": {
    "scrolled": true
   },
   "outputs": [
    {
     "data": {
      "text/html": [
       "<div>\n",
       "<style scoped>\n",
       "    .dataframe tbody tr th:only-of-type {\n",
       "        vertical-align: middle;\n",
       "    }\n",
       "\n",
       "    .dataframe tbody tr th {\n",
       "        vertical-align: top;\n",
       "    }\n",
       "\n",
       "    .dataframe thead th {\n",
       "        text-align: right;\n",
       "    }\n",
       "</style>\n",
       "<table border=\"1\" class=\"dataframe\">\n",
       "  <thead>\n",
       "    <tr style=\"text-align: right;\">\n",
       "      <th></th>\n",
       "      <th>Income</th>\n",
       "      <th>GenHlth</th>\n",
       "      <th>MentHlth</th>\n",
       "      <th>PhysHlth</th>\n",
       "      <th>DiffWalk</th>\n",
       "    </tr>\n",
       "  </thead>\n",
       "  <tbody>\n",
       "    <tr>\n",
       "      <th>count</th>\n",
       "      <td>253680.000000</td>\n",
       "      <td>253680.000000</td>\n",
       "      <td>253680.000000</td>\n",
       "      <td>253680.000000</td>\n",
       "      <td>253680.000000</td>\n",
       "    </tr>\n",
       "    <tr>\n",
       "      <th>mean</th>\n",
       "      <td>6.053875</td>\n",
       "      <td>2.511392</td>\n",
       "      <td>3.184772</td>\n",
       "      <td>4.242081</td>\n",
       "      <td>0.168224</td>\n",
       "    </tr>\n",
       "    <tr>\n",
       "      <th>std</th>\n",
       "      <td>2.071148</td>\n",
       "      <td>1.068477</td>\n",
       "      <td>7.412847</td>\n",
       "      <td>8.717951</td>\n",
       "      <td>0.374066</td>\n",
       "    </tr>\n",
       "    <tr>\n",
       "      <th>min</th>\n",
       "      <td>1.000000</td>\n",
       "      <td>1.000000</td>\n",
       "      <td>0.000000</td>\n",
       "      <td>0.000000</td>\n",
       "      <td>0.000000</td>\n",
       "    </tr>\n",
       "    <tr>\n",
       "      <th>25%</th>\n",
       "      <td>5.000000</td>\n",
       "      <td>2.000000</td>\n",
       "      <td>0.000000</td>\n",
       "      <td>0.000000</td>\n",
       "      <td>0.000000</td>\n",
       "    </tr>\n",
       "    <tr>\n",
       "      <th>50%</th>\n",
       "      <td>7.000000</td>\n",
       "      <td>2.000000</td>\n",
       "      <td>0.000000</td>\n",
       "      <td>0.000000</td>\n",
       "      <td>0.000000</td>\n",
       "    </tr>\n",
       "    <tr>\n",
       "      <th>75%</th>\n",
       "      <td>8.000000</td>\n",
       "      <td>3.000000</td>\n",
       "      <td>2.000000</td>\n",
       "      <td>3.000000</td>\n",
       "      <td>0.000000</td>\n",
       "    </tr>\n",
       "    <tr>\n",
       "      <th>max</th>\n",
       "      <td>8.000000</td>\n",
       "      <td>5.000000</td>\n",
       "      <td>30.000000</td>\n",
       "      <td>30.000000</td>\n",
       "      <td>1.000000</td>\n",
       "    </tr>\n",
       "  </tbody>\n",
       "</table>\n",
       "</div>"
      ],
      "text/plain": [
       "              Income        GenHlth       MentHlth       PhysHlth  \\\n",
       "count  253680.000000  253680.000000  253680.000000  253680.000000   \n",
       "mean        6.053875       2.511392       3.184772       4.242081   \n",
       "std         2.071148       1.068477       7.412847       8.717951   \n",
       "min         1.000000       1.000000       0.000000       0.000000   \n",
       "25%         5.000000       2.000000       0.000000       0.000000   \n",
       "50%         7.000000       2.000000       0.000000       0.000000   \n",
       "75%         8.000000       3.000000       2.000000       3.000000   \n",
       "max         8.000000       5.000000      30.000000      30.000000   \n",
       "\n",
       "            DiffWalk  \n",
       "count  253680.000000  \n",
       "mean        0.168224  \n",
       "std         0.374066  \n",
       "min         0.000000  \n",
       "25%         0.000000  \n",
       "50%         0.000000  \n",
       "75%         0.000000  \n",
       "max         1.000000  "
      ]
     },
     "execution_count": 6,
     "metadata": {},
     "output_type": "execute_result"
    }
   ],
   "source": [
    "df[['Income','GenHlth','MentHlth','PhysHlth','DiffWalk']].describe()"
   ]
  },
  {
   "cell_type": "markdown",
   "id": "9a272372-7211-4849-be52-fb7724f7be09",
   "metadata": {},
   "source": [
    "MentHlth, 75% of the populatation is less than or equal to 2.0.  PhysHlth, 75% of the population is less than or equal to 3.0"
   ]
  },
  {
   "cell_type": "code",
   "execution_count": 7,
   "id": "dd8393cd-4339-4f0f-aabd-21a7e72af15e",
   "metadata": {},
   "outputs": [
    {
     "data": {
      "text/plain": [
       "(0.0, 2.0)"
      ]
     },
     "execution_count": 7,
     "metadata": {},
     "output_type": "execute_result"
    }
   ],
   "source": [
    "# IQR_MentHlth\n",
    "\n",
    "min_IQR = df['MentHlth'].min()\n",
    "Q1 = df.MentHlth.quantile(0.25)\n",
    "Q3 = df.MentHlth.quantile(0.75)\n",
    "Q1, Q3"
   ]
  },
  {
   "cell_type": "code",
   "execution_count": 8,
   "id": "15c84fc0-a003-476b-8942-1ded288e5b39",
   "metadata": {},
   "outputs": [
    {
     "data": {
      "text/plain": [
       "2.0"
      ]
     },
     "execution_count": 8,
     "metadata": {},
     "output_type": "execute_result"
    }
   ],
   "source": [
    "IQR = Q3 - Q1\n",
    "IQR"
   ]
  },
  {
   "cell_type": "markdown",
   "id": "b06b74c1-d33d-4532-8b75-79ce486a047e",
   "metadata": {},
   "source": [
    "#### Find upper and lower limit"
   ]
  },
  {
   "cell_type": "code",
   "execution_count": 9,
   "id": "8b0df62d-2ca1-40e1-ac11-b7c914761ba8",
   "metadata": {},
   "outputs": [
    {
     "data": {
      "text/plain": [
       "(-3.0, 5.0)"
      ]
     },
     "execution_count": 9,
     "metadata": {},
     "output_type": "execute_result"
    }
   ],
   "source": [
    "lower_limit = Q1 - 1.5*IQR\n",
    "upper_limit = Q3 + 1.5*IQR\n",
    "lower_limit, upper_limit"
   ]
  },
  {
   "cell_type": "code",
   "execution_count": 10,
   "id": "0973597a-0639-4127-a1a6-98792c98e4a5",
   "metadata": {},
   "outputs": [
    {
     "data": {
      "text/plain": [
       "(253680, 23)"
      ]
     },
     "execution_count": 10,
     "metadata": {},
     "output_type": "execute_result"
    }
   ],
   "source": [
    "df.shape"
   ]
  },
  {
   "cell_type": "code",
   "execution_count": 11,
   "id": "970eeecb-2bf0-4cbb-becd-18bbb25c5ab6",
   "metadata": {
    "scrolled": true
   },
   "outputs": [
    {
     "data": {
      "text/html": [
       "<div>\n",
       "<style scoped>\n",
       "    .dataframe tbody tr th:only-of-type {\n",
       "        vertical-align: middle;\n",
       "    }\n",
       "\n",
       "    .dataframe tbody tr th {\n",
       "        vertical-align: top;\n",
       "    }\n",
       "\n",
       "    .dataframe thead th {\n",
       "        text-align: right;\n",
       "    }\n",
       "</style>\n",
       "<table border=\"1\" class=\"dataframe\">\n",
       "  <thead>\n",
       "    <tr style=\"text-align: right;\">\n",
       "      <th></th>\n",
       "      <th>ID</th>\n",
       "      <th>Diabetes_binary</th>\n",
       "      <th>HighBP</th>\n",
       "      <th>HighChol</th>\n",
       "      <th>CholCheck</th>\n",
       "      <th>BMI</th>\n",
       "      <th>Smoker</th>\n",
       "      <th>Stroke</th>\n",
       "      <th>HeartDiseaseorAttack</th>\n",
       "      <th>PhysActivity</th>\n",
       "      <th>...</th>\n",
       "      <th>AnyHealthcare</th>\n",
       "      <th>NoDocbcCost</th>\n",
       "      <th>GenHlth</th>\n",
       "      <th>MentHlth</th>\n",
       "      <th>PhysHlth</th>\n",
       "      <th>DiffWalk</th>\n",
       "      <th>Sex</th>\n",
       "      <th>Age</th>\n",
       "      <th>Education</th>\n",
       "      <th>Income</th>\n",
       "    </tr>\n",
       "  </thead>\n",
       "  <tbody>\n",
       "    <tr>\n",
       "      <th>0</th>\n",
       "      <td>0</td>\n",
       "      <td>0</td>\n",
       "      <td>1</td>\n",
       "      <td>1</td>\n",
       "      <td>1</td>\n",
       "      <td>40</td>\n",
       "      <td>1</td>\n",
       "      <td>0</td>\n",
       "      <td>0</td>\n",
       "      <td>0</td>\n",
       "      <td>...</td>\n",
       "      <td>1</td>\n",
       "      <td>0</td>\n",
       "      <td>5</td>\n",
       "      <td>18</td>\n",
       "      <td>15</td>\n",
       "      <td>1</td>\n",
       "      <td>0</td>\n",
       "      <td>9</td>\n",
       "      <td>4</td>\n",
       "      <td>3</td>\n",
       "    </tr>\n",
       "    <tr>\n",
       "      <th>2</th>\n",
       "      <td>2</td>\n",
       "      <td>0</td>\n",
       "      <td>1</td>\n",
       "      <td>1</td>\n",
       "      <td>1</td>\n",
       "      <td>28</td>\n",
       "      <td>0</td>\n",
       "      <td>0</td>\n",
       "      <td>0</td>\n",
       "      <td>0</td>\n",
       "      <td>...</td>\n",
       "      <td>1</td>\n",
       "      <td>1</td>\n",
       "      <td>5</td>\n",
       "      <td>30</td>\n",
       "      <td>30</td>\n",
       "      <td>1</td>\n",
       "      <td>0</td>\n",
       "      <td>9</td>\n",
       "      <td>4</td>\n",
       "      <td>8</td>\n",
       "    </tr>\n",
       "    <tr>\n",
       "      <th>8</th>\n",
       "      <td>8</td>\n",
       "      <td>1</td>\n",
       "      <td>1</td>\n",
       "      <td>1</td>\n",
       "      <td>1</td>\n",
       "      <td>30</td>\n",
       "      <td>1</td>\n",
       "      <td>0</td>\n",
       "      <td>1</td>\n",
       "      <td>0</td>\n",
       "      <td>...</td>\n",
       "      <td>1</td>\n",
       "      <td>0</td>\n",
       "      <td>5</td>\n",
       "      <td>30</td>\n",
       "      <td>30</td>\n",
       "      <td>1</td>\n",
       "      <td>0</td>\n",
       "      <td>9</td>\n",
       "      <td>5</td>\n",
       "      <td>1</td>\n",
       "    </tr>\n",
       "    <tr>\n",
       "      <th>14</th>\n",
       "      <td>14</td>\n",
       "      <td>0</td>\n",
       "      <td>0</td>\n",
       "      <td>1</td>\n",
       "      <td>1</td>\n",
       "      <td>33</td>\n",
       "      <td>1</td>\n",
       "      <td>1</td>\n",
       "      <td>0</td>\n",
       "      <td>1</td>\n",
       "      <td>...</td>\n",
       "      <td>1</td>\n",
       "      <td>1</td>\n",
       "      <td>4</td>\n",
       "      <td>30</td>\n",
       "      <td>28</td>\n",
       "      <td>0</td>\n",
       "      <td>0</td>\n",
       "      <td>4</td>\n",
       "      <td>6</td>\n",
       "      <td>2</td>\n",
       "    </tr>\n",
       "    <tr>\n",
       "      <th>18</th>\n",
       "      <td>18</td>\n",
       "      <td>0</td>\n",
       "      <td>0</td>\n",
       "      <td>0</td>\n",
       "      <td>0</td>\n",
       "      <td>23</td>\n",
       "      <td>0</td>\n",
       "      <td>0</td>\n",
       "      <td>0</td>\n",
       "      <td>0</td>\n",
       "      <td>...</td>\n",
       "      <td>1</td>\n",
       "      <td>0</td>\n",
       "      <td>2</td>\n",
       "      <td>15</td>\n",
       "      <td>0</td>\n",
       "      <td>0</td>\n",
       "      <td>0</td>\n",
       "      <td>2</td>\n",
       "      <td>6</td>\n",
       "      <td>7</td>\n",
       "    </tr>\n",
       "    <tr>\n",
       "      <th>...</th>\n",
       "      <td>...</td>\n",
       "      <td>...</td>\n",
       "      <td>...</td>\n",
       "      <td>...</td>\n",
       "      <td>...</td>\n",
       "      <td>...</td>\n",
       "      <td>...</td>\n",
       "      <td>...</td>\n",
       "      <td>...</td>\n",
       "      <td>...</td>\n",
       "      <td>...</td>\n",
       "      <td>...</td>\n",
       "      <td>...</td>\n",
       "      <td>...</td>\n",
       "      <td>...</td>\n",
       "      <td>...</td>\n",
       "      <td>...</td>\n",
       "      <td>...</td>\n",
       "      <td>...</td>\n",
       "      <td>...</td>\n",
       "      <td>...</td>\n",
       "    </tr>\n",
       "    <tr>\n",
       "      <th>253648</th>\n",
       "      <td>253648</td>\n",
       "      <td>0</td>\n",
       "      <td>0</td>\n",
       "      <td>0</td>\n",
       "      <td>1</td>\n",
       "      <td>28</td>\n",
       "      <td>0</td>\n",
       "      <td>0</td>\n",
       "      <td>0</td>\n",
       "      <td>0</td>\n",
       "      <td>...</td>\n",
       "      <td>1</td>\n",
       "      <td>1</td>\n",
       "      <td>3</td>\n",
       "      <td>6</td>\n",
       "      <td>14</td>\n",
       "      <td>0</td>\n",
       "      <td>1</td>\n",
       "      <td>5</td>\n",
       "      <td>5</td>\n",
       "      <td>1</td>\n",
       "    </tr>\n",
       "    <tr>\n",
       "      <th>253649</th>\n",
       "      <td>253649</td>\n",
       "      <td>0</td>\n",
       "      <td>0</td>\n",
       "      <td>1</td>\n",
       "      <td>1</td>\n",
       "      <td>27</td>\n",
       "      <td>0</td>\n",
       "      <td>0</td>\n",
       "      <td>0</td>\n",
       "      <td>0</td>\n",
       "      <td>...</td>\n",
       "      <td>1</td>\n",
       "      <td>0</td>\n",
       "      <td>2</td>\n",
       "      <td>30</td>\n",
       "      <td>5</td>\n",
       "      <td>0</td>\n",
       "      <td>0</td>\n",
       "      <td>4</td>\n",
       "      <td>6</td>\n",
       "      <td>5</td>\n",
       "    </tr>\n",
       "    <tr>\n",
       "      <th>253665</th>\n",
       "      <td>253665</td>\n",
       "      <td>0</td>\n",
       "      <td>0</td>\n",
       "      <td>1</td>\n",
       "      <td>1</td>\n",
       "      <td>17</td>\n",
       "      <td>0</td>\n",
       "      <td>0</td>\n",
       "      <td>0</td>\n",
       "      <td>0</td>\n",
       "      <td>...</td>\n",
       "      <td>1</td>\n",
       "      <td>1</td>\n",
       "      <td>4</td>\n",
       "      <td>30</td>\n",
       "      <td>30</td>\n",
       "      <td>0</td>\n",
       "      <td>0</td>\n",
       "      <td>5</td>\n",
       "      <td>4</td>\n",
       "      <td>1</td>\n",
       "    </tr>\n",
       "    <tr>\n",
       "      <th>253670</th>\n",
       "      <td>253670</td>\n",
       "      <td>1</td>\n",
       "      <td>1</td>\n",
       "      <td>1</td>\n",
       "      <td>1</td>\n",
       "      <td>25</td>\n",
       "      <td>0</td>\n",
       "      <td>0</td>\n",
       "      <td>1</td>\n",
       "      <td>0</td>\n",
       "      <td>...</td>\n",
       "      <td>1</td>\n",
       "      <td>0</td>\n",
       "      <td>5</td>\n",
       "      <td>15</td>\n",
       "      <td>0</td>\n",
       "      <td>1</td>\n",
       "      <td>0</td>\n",
       "      <td>13</td>\n",
       "      <td>6</td>\n",
       "      <td>4</td>\n",
       "    </tr>\n",
       "    <tr>\n",
       "      <th>253673</th>\n",
       "      <td>253673</td>\n",
       "      <td>0</td>\n",
       "      <td>1</td>\n",
       "      <td>0</td>\n",
       "      <td>1</td>\n",
       "      <td>42</td>\n",
       "      <td>0</td>\n",
       "      <td>0</td>\n",
       "      <td>0</td>\n",
       "      <td>1</td>\n",
       "      <td>...</td>\n",
       "      <td>1</td>\n",
       "      <td>0</td>\n",
       "      <td>3</td>\n",
       "      <td>14</td>\n",
       "      <td>4</td>\n",
       "      <td>0</td>\n",
       "      <td>1</td>\n",
       "      <td>3</td>\n",
       "      <td>6</td>\n",
       "      <td>8</td>\n",
       "    </tr>\n",
       "  </tbody>\n",
       "</table>\n",
       "<p>36208 rows × 23 columns</p>\n",
       "</div>"
      ],
      "text/plain": [
       "            ID  Diabetes_binary  HighBP  HighChol  CholCheck  BMI  Smoker  \\\n",
       "0            0                0       1         1          1   40       1   \n",
       "2            2                0       1         1          1   28       0   \n",
       "8            8                1       1         1          1   30       1   \n",
       "14          14                0       0         1          1   33       1   \n",
       "18          18                0       0         0          0   23       0   \n",
       "...        ...              ...     ...       ...        ...  ...     ...   \n",
       "253648  253648                0       0         0          1   28       0   \n",
       "253649  253649                0       0         1          1   27       0   \n",
       "253665  253665                0       0         1          1   17       0   \n",
       "253670  253670                1       1         1          1   25       0   \n",
       "253673  253673                0       1         0          1   42       0   \n",
       "\n",
       "        Stroke  HeartDiseaseorAttack  PhysActivity  ...  AnyHealthcare  \\\n",
       "0            0                     0             0  ...              1   \n",
       "2            0                     0             0  ...              1   \n",
       "8            0                     1             0  ...              1   \n",
       "14           1                     0             1  ...              1   \n",
       "18           0                     0             0  ...              1   \n",
       "...        ...                   ...           ...  ...            ...   \n",
       "253648       0                     0             0  ...              1   \n",
       "253649       0                     0             0  ...              1   \n",
       "253665       0                     0             0  ...              1   \n",
       "253670       0                     1             0  ...              1   \n",
       "253673       0                     0             1  ...              1   \n",
       "\n",
       "        NoDocbcCost  GenHlth  MentHlth  PhysHlth  DiffWalk  Sex  Age  \\\n",
       "0                 0        5        18        15         1    0    9   \n",
       "2                 1        5        30        30         1    0    9   \n",
       "8                 0        5        30        30         1    0    9   \n",
       "14                1        4        30        28         0    0    4   \n",
       "18                0        2        15         0         0    0    2   \n",
       "...             ...      ...       ...       ...       ...  ...  ...   \n",
       "253648            1        3         6        14         0    1    5   \n",
       "253649            0        2        30         5         0    0    4   \n",
       "253665            1        4        30        30         0    0    5   \n",
       "253670            0        5        15         0         1    0   13   \n",
       "253673            0        3        14         4         0    1    3   \n",
       "\n",
       "        Education  Income  \n",
       "0               4       3  \n",
       "2               4       8  \n",
       "8               5       1  \n",
       "14              6       2  \n",
       "18              6       7  \n",
       "...           ...     ...  \n",
       "253648          5       1  \n",
       "253649          6       5  \n",
       "253665          4       1  \n",
       "253670          6       4  \n",
       "253673          6       8  \n",
       "\n",
       "[36208 rows x 23 columns]"
      ]
     },
     "execution_count": 11,
     "metadata": {},
     "output_type": "execute_result"
    }
   ],
   "source": [
    "# Identified outliers for Menlth Health Data\n",
    "df[(df['MentHlth'] < lower_limit) | (df['MentHlth'] > upper_limit)]"
   ]
  },
  {
   "cell_type": "code",
   "execution_count": 12,
   "id": "6b0ed20b-f4f4-4c3e-a83d-ed4b514024b7",
   "metadata": {},
   "outputs": [
    {
     "data": {
      "text/plain": [
       "14.273099968464207"
      ]
     },
     "execution_count": 12,
     "metadata": {},
     "output_type": "execute_result"
    }
   ],
   "source": [
    "result = (36208/253680)* 100\n",
    "result"
   ]
  },
  {
   "cell_type": "code",
   "execution_count": 13,
   "id": "077e0a98-426e-4455-9e76-7aa8f53c2a0e",
   "metadata": {},
   "outputs": [
    {
     "name": "stdout",
     "output_type": "stream",
     "text": [
      "I identied 14% percente of the records are outliers using IQP the lower & upper bounds in the MentHlth data\n"
     ]
    }
   ],
   "source": [
    "print(f'I identied {result:.0f}% percente of the records are outliers using IQP the lower & upper bounds in the MentHlth data')"
   ]
  },
  {
   "cell_type": "code",
   "execution_count": 14,
   "id": "e710c4d7-f50e-4637-b0c1-b26bad78c01a",
   "metadata": {
    "scrolled": true
   },
   "outputs": [],
   "source": [
    "### Remove the outliers from the original dataframe\n",
    "df_result = df[(df['MentHlth'] >= lower_limit) & (df['MentHlth'] <= upper_limit)]\n",
    "  "
   ]
  },
  {
   "cell_type": "code",
   "execution_count": 15,
   "id": "4a5f3190-2fde-475c-a17e-4151782e3cc4",
   "metadata": {
    "scrolled": true
   },
   "outputs": [
    {
     "data": {
      "text/plain": [
       "(217472, 23)"
      ]
     },
     "execution_count": 15,
     "metadata": {},
     "output_type": "execute_result"
    }
   ],
   "source": [
    "df_result.shape"
   ]
  },
  {
   "cell_type": "code",
   "execution_count": 16,
   "id": "3fb0ffa8-b2eb-4417-bb68-0eca7981ac2b",
   "metadata": {},
   "outputs": [],
   "source": [
    "df = df_result"
   ]
  },
  {
   "cell_type": "code",
   "execution_count": 17,
   "id": "4a888f2c-d978-4631-bda1-b1a440b75928",
   "metadata": {},
   "outputs": [
    {
     "data": {
      "image/png": "[encoded data removed]",
      "text/plain": [
       "<Figure size 640x480 with 1 Axes>"
      ]
     },
     "metadata": {},
     "output_type": "display_data"
    }
   ],
   "source": [
    "#box plot columns in the data to show large variances in data\n",
    "plt.boxplot(df[['Income','GenHlth','MentHlth','PhysHlth','DiffWalk']]);"
   ]
  },
  {
   "cell_type": "markdown",
   "id": "cb1167de-181b-4711-ba55-d1a200b32821",
   "metadata": {},
   "source": [
    "## PhysHlth - remove outliers"
   ]
  },
  {
   "cell_type": "code",
   "execution_count": 18,
   "id": "d09f970b-add9-4380-9555-fdabd0c2e781",
   "metadata": {
    "scrolled": true
   },
   "outputs": [
    {
     "data": {
      "text/html": [
       "<div>\n",
       "<style scoped>\n",
       "    .dataframe tbody tr th:only-of-type {\n",
       "        vertical-align: middle;\n",
       "    }\n",
       "\n",
       "    .dataframe tbody tr th {\n",
       "        vertical-align: top;\n",
       "    }\n",
       "\n",
       "    .dataframe thead th {\n",
       "        text-align: right;\n",
       "    }\n",
       "</style>\n",
       "<table border=\"1\" class=\"dataframe\">\n",
       "  <thead>\n",
       "    <tr style=\"text-align: right;\">\n",
       "      <th></th>\n",
       "      <th>Income</th>\n",
       "      <th>GenHlth</th>\n",
       "      <th>MentHlth</th>\n",
       "      <th>PhysHlth</th>\n",
       "      <th>DiffWalk</th>\n",
       "    </tr>\n",
       "  </thead>\n",
       "  <tbody>\n",
       "    <tr>\n",
       "      <th>count</th>\n",
       "      <td>217472.000000</td>\n",
       "      <td>217472.000000</td>\n",
       "      <td>217472.000000</td>\n",
       "      <td>217472.000000</td>\n",
       "      <td>217472.000000</td>\n",
       "    </tr>\n",
       "    <tr>\n",
       "      <th>mean</th>\n",
       "      <td>6.219458</td>\n",
       "      <td>2.389581</td>\n",
       "      <td>0.538437</td>\n",
       "      <td>3.115040</td>\n",
       "      <td>0.135622</td>\n",
       "    </tr>\n",
       "    <tr>\n",
       "      <th>std</th>\n",
       "      <td>1.973255</td>\n",
       "      <td>1.002121</td>\n",
       "      <td>1.269547</td>\n",
       "      <td>7.424339</td>\n",
       "      <td>0.342388</td>\n",
       "    </tr>\n",
       "    <tr>\n",
       "      <th>min</th>\n",
       "      <td>1.000000</td>\n",
       "      <td>1.000000</td>\n",
       "      <td>0.000000</td>\n",
       "      <td>0.000000</td>\n",
       "      <td>0.000000</td>\n",
       "    </tr>\n",
       "    <tr>\n",
       "      <th>25%</th>\n",
       "      <td>5.000000</td>\n",
       "      <td>2.000000</td>\n",
       "      <td>0.000000</td>\n",
       "      <td>0.000000</td>\n",
       "      <td>0.000000</td>\n",
       "    </tr>\n",
       "    <tr>\n",
       "      <th>50%</th>\n",
       "      <td>7.000000</td>\n",
       "      <td>2.000000</td>\n",
       "      <td>0.000000</td>\n",
       "      <td>0.000000</td>\n",
       "      <td>0.000000</td>\n",
       "    </tr>\n",
       "    <tr>\n",
       "      <th>75%</th>\n",
       "      <td>8.000000</td>\n",
       "      <td>3.000000</td>\n",
       "      <td>0.000000</td>\n",
       "      <td>2.000000</td>\n",
       "      <td>0.000000</td>\n",
       "    </tr>\n",
       "    <tr>\n",
       "      <th>max</th>\n",
       "      <td>8.000000</td>\n",
       "      <td>5.000000</td>\n",
       "      <td>5.000000</td>\n",
       "      <td>30.000000</td>\n",
       "      <td>1.000000</td>\n",
       "    </tr>\n",
       "  </tbody>\n",
       "</table>\n",
       "</div>"
      ],
      "text/plain": [
       "              Income        GenHlth       MentHlth       PhysHlth  \\\n",
       "count  217472.000000  217472.000000  217472.000000  217472.000000   \n",
       "mean        6.219458       2.389581       0.538437       3.115040   \n",
       "std         1.973255       1.002121       1.269547       7.424339   \n",
       "min         1.000000       1.000000       0.000000       0.000000   \n",
       "25%         5.000000       2.000000       0.000000       0.000000   \n",
       "50%         7.000000       2.000000       0.000000       0.000000   \n",
       "75%         8.000000       3.000000       0.000000       2.000000   \n",
       "max         8.000000       5.000000       5.000000      30.000000   \n",
       "\n",
       "            DiffWalk  \n",
       "count  217472.000000  \n",
       "mean        0.135622  \n",
       "std         0.342388  \n",
       "min         0.000000  \n",
       "25%         0.000000  \n",
       "50%         0.000000  \n",
       "75%         0.000000  \n",
       "max         1.000000  "
      ]
     },
     "execution_count": 18,
     "metadata": {},
     "output_type": "execute_result"
    }
   ],
   "source": [
    "df[['Income','GenHlth','MentHlth','PhysHlth','DiffWalk']].describe()"
   ]
  },
  {
   "cell_type": "markdown",
   "id": "096263ef-e901-4a0f-ae11-4fdeda16bc16",
   "metadata": {},
   "source": [
    "MentHlth, 75% of the populatation is less than or equal to 2.0.  PhysHlth, 75% of the population is less than or equal to 3.0"
   ]
  },
  {
   "cell_type": "code",
   "execution_count": 19,
   "id": "07047163-a2d1-4b15-8014-dcffdb777675",
   "metadata": {},
   "outputs": [
    {
     "data": {
      "text/plain": [
       "(0.0, 0.0)"
      ]
     },
     "execution_count": 19,
     "metadata": {},
     "output_type": "execute_result"
    }
   ],
   "source": [
    "# IQR_PhysHlth\n",
    "\n",
    "min_IQR = df['PhysHlth'].min()\n",
    "Q1 = df.MentHlth.quantile(0.25)\n",
    "Q3 = df.MentHlth.quantile(0.75)\n",
    "Q1, Q3"
   ]
  },
  {
   "cell_type": "code",
   "execution_count": 20,
   "id": "a0432952-d57b-47f0-8288-22e99264c9c5",
   "metadata": {},
   "outputs": [
    {
     "data": {
      "text/plain": [
       "0.0"
      ]
     },
     "execution_count": 20,
     "metadata": {},
     "output_type": "execute_result"
    }
   ],
   "source": [
    "IQR = Q3 - Q1\n",
    "IQR"
   ]
  },
  {
   "cell_type": "markdown",
   "id": "6c439718-4d78-4b6c-80e5-f6072b5a677c",
   "metadata": {},
   "source": [
    "#### Find upper and lower limit"
   ]
  },
  {
   "cell_type": "code",
   "execution_count": 21,
   "id": "866c9f2e-4cda-45b0-992c-1636ea230261",
   "metadata": {},
   "outputs": [
    {
     "data": {
      "text/plain": [
       "(0.0, 0.0)"
      ]
     },
     "execution_count": 21,
     "metadata": {},
     "output_type": "execute_result"
    }
   ],
   "source": [
    "lower_limit = Q1 - 1.5*IQR\n",
    "upper_limit = Q3 + 1.5*IQR\n",
    "lower_limit, upper_limit"
   ]
  },
  {
   "cell_type": "code",
   "execution_count": 22,
   "id": "bafb3197-58fc-4b3b-8306-37c9a7301d2e",
   "metadata": {},
   "outputs": [
    {
     "data": {
      "text/plain": [
       "(217472, 23)"
      ]
     },
     "execution_count": 22,
     "metadata": {},
     "output_type": "execute_result"
    }
   ],
   "source": [
    "df.shape"
   ]
  },
  {
   "cell_type": "code",
   "execution_count": 23,
   "id": "89130b89-69de-4b95-9c9b-65ad2d7f043d",
   "metadata": {
    "scrolled": true
   },
   "outputs": [
    {
     "data": {
      "text/html": [
       "<div>\n",
       "<style scoped>\n",
       "    .dataframe tbody tr th:only-of-type {\n",
       "        vertical-align: middle;\n",
       "    }\n",
       "\n",
       "    .dataframe tbody tr th {\n",
       "        vertical-align: top;\n",
       "    }\n",
       "\n",
       "    .dataframe thead th {\n",
       "        text-align: right;\n",
       "    }\n",
       "</style>\n",
       "<table border=\"1\" class=\"dataframe\">\n",
       "  <thead>\n",
       "    <tr style=\"text-align: right;\">\n",
       "      <th></th>\n",
       "      <th>ID</th>\n",
       "      <th>Diabetes_binary</th>\n",
       "      <th>HighBP</th>\n",
       "      <th>HighChol</th>\n",
       "      <th>CholCheck</th>\n",
       "      <th>BMI</th>\n",
       "      <th>Smoker</th>\n",
       "      <th>Stroke</th>\n",
       "      <th>HeartDiseaseorAttack</th>\n",
       "      <th>PhysActivity</th>\n",
       "      <th>...</th>\n",
       "      <th>AnyHealthcare</th>\n",
       "      <th>NoDocbcCost</th>\n",
       "      <th>GenHlth</th>\n",
       "      <th>MentHlth</th>\n",
       "      <th>PhysHlth</th>\n",
       "      <th>DiffWalk</th>\n",
       "      <th>Sex</th>\n",
       "      <th>Age</th>\n",
       "      <th>Education</th>\n",
       "      <th>Income</th>\n",
       "    </tr>\n",
       "  </thead>\n",
       "  <tbody>\n",
       "    <tr>\n",
       "      <th>5</th>\n",
       "      <td>5</td>\n",
       "      <td>0</td>\n",
       "      <td>1</td>\n",
       "      <td>1</td>\n",
       "      <td>1</td>\n",
       "      <td>25</td>\n",
       "      <td>1</td>\n",
       "      <td>0</td>\n",
       "      <td>0</td>\n",
       "      <td>1</td>\n",
       "      <td>...</td>\n",
       "      <td>1</td>\n",
       "      <td>0</td>\n",
       "      <td>2</td>\n",
       "      <td>0</td>\n",
       "      <td>2</td>\n",
       "      <td>0</td>\n",
       "      <td>1</td>\n",
       "      <td>10</td>\n",
       "      <td>6</td>\n",
       "      <td>8</td>\n",
       "    </tr>\n",
       "    <tr>\n",
       "      <th>6</th>\n",
       "      <td>6</td>\n",
       "      <td>0</td>\n",
       "      <td>1</td>\n",
       "      <td>0</td>\n",
       "      <td>1</td>\n",
       "      <td>30</td>\n",
       "      <td>1</td>\n",
       "      <td>0</td>\n",
       "      <td>0</td>\n",
       "      <td>0</td>\n",
       "      <td>...</td>\n",
       "      <td>1</td>\n",
       "      <td>0</td>\n",
       "      <td>3</td>\n",
       "      <td>0</td>\n",
       "      <td>14</td>\n",
       "      <td>0</td>\n",
       "      <td>0</td>\n",
       "      <td>9</td>\n",
       "      <td>6</td>\n",
       "      <td>7</td>\n",
       "    </tr>\n",
       "    <tr>\n",
       "      <th>11</th>\n",
       "      <td>11</td>\n",
       "      <td>0</td>\n",
       "      <td>1</td>\n",
       "      <td>1</td>\n",
       "      <td>1</td>\n",
       "      <td>34</td>\n",
       "      <td>1</td>\n",
       "      <td>0</td>\n",
       "      <td>0</td>\n",
       "      <td>0</td>\n",
       "      <td>...</td>\n",
       "      <td>1</td>\n",
       "      <td>0</td>\n",
       "      <td>3</td>\n",
       "      <td>0</td>\n",
       "      <td>30</td>\n",
       "      <td>1</td>\n",
       "      <td>0</td>\n",
       "      <td>10</td>\n",
       "      <td>5</td>\n",
       "      <td>1</td>\n",
       "    </tr>\n",
       "    <tr>\n",
       "      <th>12</th>\n",
       "      <td>12</td>\n",
       "      <td>0</td>\n",
       "      <td>0</td>\n",
       "      <td>0</td>\n",
       "      <td>1</td>\n",
       "      <td>26</td>\n",
       "      <td>1</td>\n",
       "      <td>0</td>\n",
       "      <td>0</td>\n",
       "      <td>0</td>\n",
       "      <td>...</td>\n",
       "      <td>1</td>\n",
       "      <td>0</td>\n",
       "      <td>3</td>\n",
       "      <td>0</td>\n",
       "      <td>15</td>\n",
       "      <td>0</td>\n",
       "      <td>0</td>\n",
       "      <td>7</td>\n",
       "      <td>5</td>\n",
       "      <td>7</td>\n",
       "    </tr>\n",
       "    <tr>\n",
       "      <th>22</th>\n",
       "      <td>22</td>\n",
       "      <td>0</td>\n",
       "      <td>0</td>\n",
       "      <td>0</td>\n",
       "      <td>1</td>\n",
       "      <td>28</td>\n",
       "      <td>1</td>\n",
       "      <td>0</td>\n",
       "      <td>0</td>\n",
       "      <td>0</td>\n",
       "      <td>...</td>\n",
       "      <td>1</td>\n",
       "      <td>0</td>\n",
       "      <td>3</td>\n",
       "      <td>0</td>\n",
       "      <td>7</td>\n",
       "      <td>0</td>\n",
       "      <td>1</td>\n",
       "      <td>5</td>\n",
       "      <td>5</td>\n",
       "      <td>5</td>\n",
       "    </tr>\n",
       "    <tr>\n",
       "      <th>...</th>\n",
       "      <td>...</td>\n",
       "      <td>...</td>\n",
       "      <td>...</td>\n",
       "      <td>...</td>\n",
       "      <td>...</td>\n",
       "      <td>...</td>\n",
       "      <td>...</td>\n",
       "      <td>...</td>\n",
       "      <td>...</td>\n",
       "      <td>...</td>\n",
       "      <td>...</td>\n",
       "      <td>...</td>\n",
       "      <td>...</td>\n",
       "      <td>...</td>\n",
       "      <td>...</td>\n",
       "      <td>...</td>\n",
       "      <td>...</td>\n",
       "      <td>...</td>\n",
       "      <td>...</td>\n",
       "      <td>...</td>\n",
       "      <td>...</td>\n",
       "    </tr>\n",
       "    <tr>\n",
       "      <th>253663</th>\n",
       "      <td>253663</td>\n",
       "      <td>0</td>\n",
       "      <td>0</td>\n",
       "      <td>0</td>\n",
       "      <td>1</td>\n",
       "      <td>23</td>\n",
       "      <td>0</td>\n",
       "      <td>0</td>\n",
       "      <td>0</td>\n",
       "      <td>0</td>\n",
       "      <td>...</td>\n",
       "      <td>1</td>\n",
       "      <td>1</td>\n",
       "      <td>2</td>\n",
       "      <td>0</td>\n",
       "      <td>30</td>\n",
       "      <td>0</td>\n",
       "      <td>0</td>\n",
       "      <td>5</td>\n",
       "      <td>6</td>\n",
       "      <td>2</td>\n",
       "    </tr>\n",
       "    <tr>\n",
       "      <th>253666</th>\n",
       "      <td>253666</td>\n",
       "      <td>0</td>\n",
       "      <td>1</td>\n",
       "      <td>0</td>\n",
       "      <td>1</td>\n",
       "      <td>23</td>\n",
       "      <td>0</td>\n",
       "      <td>0</td>\n",
       "      <td>0</td>\n",
       "      <td>0</td>\n",
       "      <td>...</td>\n",
       "      <td>1</td>\n",
       "      <td>0</td>\n",
       "      <td>3</td>\n",
       "      <td>0</td>\n",
       "      <td>15</td>\n",
       "      <td>0</td>\n",
       "      <td>0</td>\n",
       "      <td>6</td>\n",
       "      <td>5</td>\n",
       "      <td>2</td>\n",
       "    </tr>\n",
       "    <tr>\n",
       "      <th>253669</th>\n",
       "      <td>253669</td>\n",
       "      <td>0</td>\n",
       "      <td>0</td>\n",
       "      <td>1</td>\n",
       "      <td>1</td>\n",
       "      <td>27</td>\n",
       "      <td>0</td>\n",
       "      <td>0</td>\n",
       "      <td>0</td>\n",
       "      <td>0</td>\n",
       "      <td>...</td>\n",
       "      <td>1</td>\n",
       "      <td>1</td>\n",
       "      <td>1</td>\n",
       "      <td>0</td>\n",
       "      <td>3</td>\n",
       "      <td>0</td>\n",
       "      <td>1</td>\n",
       "      <td>6</td>\n",
       "      <td>2</td>\n",
       "      <td>4</td>\n",
       "    </tr>\n",
       "    <tr>\n",
       "      <th>253671</th>\n",
       "      <td>253671</td>\n",
       "      <td>0</td>\n",
       "      <td>1</td>\n",
       "      <td>1</td>\n",
       "      <td>1</td>\n",
       "      <td>23</td>\n",
       "      <td>0</td>\n",
       "      <td>1</td>\n",
       "      <td>1</td>\n",
       "      <td>0</td>\n",
       "      <td>...</td>\n",
       "      <td>1</td>\n",
       "      <td>1</td>\n",
       "      <td>4</td>\n",
       "      <td>0</td>\n",
       "      <td>5</td>\n",
       "      <td>0</td>\n",
       "      <td>1</td>\n",
       "      <td>8</td>\n",
       "      <td>3</td>\n",
       "      <td>2</td>\n",
       "    </tr>\n",
       "    <tr>\n",
       "      <th>253675</th>\n",
       "      <td>253675</td>\n",
       "      <td>0</td>\n",
       "      <td>1</td>\n",
       "      <td>1</td>\n",
       "      <td>1</td>\n",
       "      <td>45</td>\n",
       "      <td>0</td>\n",
       "      <td>0</td>\n",
       "      <td>0</td>\n",
       "      <td>0</td>\n",
       "      <td>...</td>\n",
       "      <td>1</td>\n",
       "      <td>0</td>\n",
       "      <td>3</td>\n",
       "      <td>0</td>\n",
       "      <td>5</td>\n",
       "      <td>0</td>\n",
       "      <td>1</td>\n",
       "      <td>5</td>\n",
       "      <td>6</td>\n",
       "      <td>7</td>\n",
       "    </tr>\n",
       "  </tbody>\n",
       "</table>\n",
       "<p>69613 rows × 23 columns</p>\n",
       "</div>"
      ],
      "text/plain": [
       "            ID  Diabetes_binary  HighBP  HighChol  CholCheck  BMI  Smoker  \\\n",
       "5            5                0       1         1          1   25       1   \n",
       "6            6                0       1         0          1   30       1   \n",
       "11          11                0       1         1          1   34       1   \n",
       "12          12                0       0         0          1   26       1   \n",
       "22          22                0       0         0          1   28       1   \n",
       "...        ...              ...     ...       ...        ...  ...     ...   \n",
       "253663  253663                0       0         0          1   23       0   \n",
       "253666  253666                0       1         0          1   23       0   \n",
       "253669  253669                0       0         1          1   27       0   \n",
       "253671  253671                0       1         1          1   23       0   \n",
       "253675  253675                0       1         1          1   45       0   \n",
       "\n",
       "        Stroke  HeartDiseaseorAttack  PhysActivity  ...  AnyHealthcare  \\\n",
       "5            0                     0             1  ...              1   \n",
       "6            0                     0             0  ...              1   \n",
       "11           0                     0             0  ...              1   \n",
       "12           0                     0             0  ...              1   \n",
       "22           0                     0             0  ...              1   \n",
       "...        ...                   ...           ...  ...            ...   \n",
       "253663       0                     0             0  ...              1   \n",
       "253666       0                     0             0  ...              1   \n",
       "253669       0                     0             0  ...              1   \n",
       "253671       1                     1             0  ...              1   \n",
       "253675       0                     0             0  ...              1   \n",
       "\n",
       "        NoDocbcCost  GenHlth  MentHlth  PhysHlth  DiffWalk  Sex  Age  \\\n",
       "5                 0        2         0         2         0    1   10   \n",
       "6                 0        3         0        14         0    0    9   \n",
       "11                0        3         0        30         1    0   10   \n",
       "12                0        3         0        15         0    0    7   \n",
       "22                0        3         0         7         0    1    5   \n",
       "...             ...      ...       ...       ...       ...  ...  ...   \n",
       "253663            1        2         0        30         0    0    5   \n",
       "253666            0        3         0        15         0    0    6   \n",
       "253669            1        1         0         3         0    1    6   \n",
       "253671            1        4         0         5         0    1    8   \n",
       "253675            0        3         0         5         0    1    5   \n",
       "\n",
       "        Education  Income  \n",
       "5               6       8  \n",
       "6               6       7  \n",
       "11              5       1  \n",
       "12              5       7  \n",
       "22              5       5  \n",
       "...           ...     ...  \n",
       "253663          6       2  \n",
       "253666          5       2  \n",
       "253669          2       4  \n",
       "253671          3       2  \n",
       "253675          6       7  \n",
       "\n",
       "[69613 rows x 23 columns]"
      ]
     },
     "execution_count": 23,
     "metadata": {},
     "output_type": "execute_result"
    }
   ],
   "source": [
    "# Identified outliers for Menlth Health Data\n",
    "df[(df['PhysHlth'] < lower_limit) | (df['PhysHlth'] > upper_limit)]"
   ]
  },
  {
   "cell_type": "code",
   "execution_count": 24,
   "id": "b8b98100-e550-4e9c-9f17-b19abd1fb35c",
   "metadata": {},
   "outputs": [
    {
     "data": {
      "text/plain": [
       "19.217186580341377"
      ]
     },
     "execution_count": 24,
     "metadata": {},
     "output_type": "execute_result"
    }
   ],
   "source": [
    "result = (41792/217472)* 100\n",
    "result"
   ]
  },
  {
   "cell_type": "code",
   "execution_count": 25,
   "id": "8b5e7cd2-d9d8-46f4-bfef-626ae0a8ea42",
   "metadata": {},
   "outputs": [
    {
     "name": "stdout",
     "output_type": "stream",
     "text": [
      "I identied 19% percente of the records are outliers using IQP the lower & upper bounds in the PhysHlth data\n"
     ]
    }
   ],
   "source": [
    "print(f'I identied {result:.0f}% percente of the records are outliers using IQP the lower & upper bounds in the PhysHlth data')"
   ]
  },
  {
   "cell_type": "code",
   "execution_count": 26,
   "id": "4c7745af-e9ce-4e49-88c3-d26abdbd9d6c",
   "metadata": {
    "scrolled": true
   },
   "outputs": [],
   "source": [
    "### Remove the outliers from the original dataframe\n",
    "df_result = df[(df['MentHlth'] >= lower_limit) & (df['MentHlth'] <= upper_limit)]\n",
    "  "
   ]
  },
  {
   "cell_type": "code",
   "execution_count": 27,
   "id": "b263ed00-9d36-4eaa-a2c3-7d83a7d97340",
   "metadata": {
    "scrolled": true
   },
   "outputs": [
    {
     "data": {
      "text/plain": [
       "(175680, 23)"
      ]
     },
     "execution_count": 27,
     "metadata": {},
     "output_type": "execute_result"
    }
   ],
   "source": [
    "df_result.shape"
   ]
  },
  {
   "cell_type": "code",
   "execution_count": 28,
   "id": "673c5747-ff00-499b-86f0-2fe3236b6872",
   "metadata": {},
   "outputs": [],
   "source": [
    "df = df_result"
   ]
  },
  {
   "cell_type": "markdown",
   "id": "83408920-d22a-4a08-a95d-a96df8b1e5d8",
   "metadata": {},
   "source": [
    "# Reviewed boxplot"
   ]
  },
  {
   "cell_type": "code",
   "execution_count": 29,
   "id": "e4f14369-55f8-4281-a9cd-6cdcecc1cf4a",
   "metadata": {
    "scrolled": true
   },
   "outputs": [
    {
     "data": {
      "image/png": "[encoded data removed]",
      "text/plain": [
       "<Figure size 640x480 with 1 Axes>"
      ]
     },
     "metadata": {},
     "output_type": "display_data"
    }
   ],
   "source": [
    "#box plot columns in the data to show large variances in data\n",
    "plt.boxplot(df[['Income','GenHlth','MentHlth','PhysHlth','DiffWalk']]);"
   ]
  },
  {
   "cell_type": "markdown",
   "id": "df6b7da8-7465-44de-aaa7-dcf4ba828102",
   "metadata": {},
   "source": [
    "## Added columns with codes values for easier interpretation of the data  "
   ]
  },
  {
   "cell_type": "markdown",
   "id": "a461bf71-38f1-4c51-a884-e8d299a66c24",
   "metadata": {},
   "source": [
    "### Before column update"
   ]
  },
  {
   "cell_type": "code",
   "execution_count": 30,
   "id": "c8a74f7b-0663-408c-80b0-760771e00fd0",
   "metadata": {
    "scrolled": true
   },
   "outputs": [
    {
     "data": {
      "text/plain": [
       "Index(['ID', 'Diabetes_binary', 'HighBP', 'HighChol', 'CholCheck', 'BMI',\n",
       "       'Smoker', 'Stroke', 'HeartDiseaseorAttack', 'PhysActivity', 'Fruits',\n",
       "       'Veggies', 'HvyAlcoholConsump', 'AnyHealthcare', 'NoDocbcCost',\n",
       "       'GenHlth', 'MentHlth', 'PhysHlth', 'DiffWalk', 'Sex', 'Age',\n",
       "       'Education', 'Income'],\n",
       "      dtype='object')"
      ]
     },
     "execution_count": 30,
     "metadata": {},
     "output_type": "execute_result"
    }
   ],
   "source": [
    "df.columns"
   ]
  },
  {
   "cell_type": "code",
   "execution_count": 31,
   "id": "7f68536d-09c6-4261-a427-62818d236869",
   "metadata": {},
   "outputs": [],
   "source": [
    "#created method to update all my column name\n",
    "df = prepared_data.update_labels(df)"
   ]
  },
  {
   "cell_type": "markdown",
   "id": "ae4d8b86-082f-4dfc-bb8e-d580135573c2",
   "metadata": {},
   "source": [
    "### After column update"
   ]
  },
  {
   "cell_type": "code",
   "execution_count": 32,
   "id": "2a0d3df2-b2a5-47db-a0e7-b57054d33a5d",
   "metadata": {},
   "outputs": [
    {
     "data": {
      "text/plain": [
       "Index(['ID', 'Diabetes_binary', 'HighBP', 'HighChol', 'CholCheck', 'BMI',\n",
       "       'Smoker', 'Stroke', 'HeartDiseaseorAttack', 'PhysActivity', 'Fruits',\n",
       "       'Veggies', 'HvyAlcoholConsump', 'AnyHealthcare', 'NoDocbcCost',\n",
       "       'GenHlth', 'MentHlth', 'PhysHlth', 'DiffWalk', 'Sex', 'Age',\n",
       "       'Education', 'Income', 'Gender', 'Type', 'GeneralHealth', 'income',\n",
       "       'education'],\n",
       "      dtype='object')"
      ]
     },
     "execution_count": 32,
     "metadata": {},
     "output_type": "execute_result"
    }
   ],
   "source": [
    "df.columns"
   ]
  },
  {
   "cell_type": "markdown",
   "id": "ca48ad92",
   "metadata": {},
   "source": [
    "### Export Data for dashboard¶"
   ]
  },
  {
   "cell_type": "code",
   "execution_count": 33,
   "id": "3468002d-d521-4dec-ac31-ffa25d750cd4",
   "metadata": {},
   "outputs": [
    {
     "data": {
      "text/plain": [
       "Index(['ID', 'Diabetes_binary', 'HighBP', 'HighChol', 'CholCheck', 'BMI',\n",
       "       'Smoker', 'Stroke', 'HeartDiseaseorAttack', 'PhysActivity', 'Fruits',\n",
       "       'Veggies', 'HvyAlcoholConsump', 'AnyHealthcare', 'NoDocbcCost',\n",
       "       'GenHlth', 'MentHlth', 'PhysHlth', 'DiffWalk', 'Sex', 'Age',\n",
       "       'Education', 'Income', 'Gender', 'Type', 'GeneralHealth', 'income',\n",
       "       'education'],\n",
       "      dtype='object')"
      ]
     },
     "execution_count": 33,
     "metadata": {},
     "output_type": "execute_result"
    }
   ],
   "source": [
    "df.columns"
   ]
  },
  {
   "cell_type": "markdown",
   "id": "971c9a46-2249-4405-afa6-1ffaaea56433",
   "metadata": {},
   "source": [
    "## Filter for fewer rows and  columns: "
   ]
  },
  {
   "cell_type": "code",
   "execution_count": 48,
   "id": "2bd8daf1-43ff-4c48-b07d-129e2074766a",
   "metadata": {},
   "outputs": [],
   "source": [
    "fewer_columns = ['Diabetes_binary','Gender', 'Types','MentHlth', 'GeneralHealth', 'Type',\n",
    "       'income', 'education','Sex','PhysHlth','HeartDiseaseorAttack']"
   ]
  },
  {
   "cell_type": "code",
   "execution_count": 70,
   "id": "134d08c9-5ccc-4b36-8a2d-8643012f3224",
   "metadata": {},
   "outputs": [],
   "source": [
    "#write update file to drive\n",
    "data_dic = {}"
   ]
  },
  {
   "cell_type": "code",
   "execution_count": 71,
   "id": "3ed3b3cd-593b-46f1-8f20-0630a20a7edb",
   "metadata": {},
   "outputs": [],
   "source": [
    "#create a subset of data\n",
    "data_dic['genhealth'] = df[['Diabetes_binary','Type','GeneralHealth', 'Gender' ]]"
   ]
  },
  {
   "cell_type": "code",
   "execution_count": 72,
   "id": "efa98c93-2658-418f-a9ca-40704c6bf77c",
   "metadata": {},
   "outputs": [],
   "source": [
    "data_dic['dietary'] = df[['Diabetes_binary', 'Fruits','Veggies','Gender','Type']]  "
   ]
  },
  {
   "cell_type": "code",
   "execution_count": 73,
   "id": "ea06387f-feed-42b1-bb22-327d7af42dda",
   "metadata": {},
   "outputs": [],
   "source": [
    "data_dic['heart'] = df[['Diabetes_binary','HeartDiseaseorAttack' , 'Gender','Type' ]]"
   ]
  },
  {
   "cell_type": "code",
   "execution_count": 74,
   "id": "d3490365-7e35-490b-9a96-fab243c0dfcf",
   "metadata": {},
   "outputs": [],
   "source": [
    "data_dic['sex'] = df[['Diabetes_binary', 'Gender']]"
   ]
  },
  {
   "cell_type": "code",
   "execution_count": 75,
   "id": "39eec1b7-71c2-478d-b17a-b853fb77d19f",
   "metadata": {},
   "outputs": [],
   "source": [
    "data_dic['edu'] = df[['Diabetes_binary', 'education','Type']]"
   ]
  },
  {
   "cell_type": "code",
   "execution_count": 76,
   "id": "11472c8e-bf2e-4bc2-b997-6df87d81f5d1",
   "metadata": {},
   "outputs": [],
   "source": [
    "data_dic['all'] =df[['Diabetes_binary','Gender',\t'GeneralHealth','GenHlth',\t'Type',\t'income','Income',\t'education','Education']]"
   ]
  },
  {
   "cell_type": "code",
   "execution_count": 77,
   "id": "ea19fba3-6a80-48ae-a245-0952bc733d68",
   "metadata": {
    "scrolled": true
   },
   "outputs": [],
   "source": [
    "#Write file to local directory\n",
    "prepared_data.write_data(data_dic, 'data/prepared',index=True )"
   ]
  },
  {
   "cell_type": "markdown",
   "id": "2d0bcdec-852e-4ce4-b9b0-c981f37923c4",
   "metadata": {},
   "source": [
    "### Testing my class\n",
    "Lastly, create prepare.py file and add all my functions\n",
    "Better to view py file in pycharm so you done mess up the formatting incase you have to make changes\n"
   ]
  },
  {
   "cell_type": "code",
   "execution_count": 68,
   "id": "edc704fe-e341-46d0-9c20-34d68ae4dc60",
   "metadata": {
    "scrolled": true
   },
   "outputs": [],
   "source": [
    "from prepare import PrepareData"
   ]
  },
  {
   "cell_type": "markdown",
   "id": "483529ed-192a-4e21-a25f-e1c414200590",
   "metadata": {},
   "source": [
    "### Testing reading local data"
   ]
  },
  {
   "cell_type": "code",
   "execution_count": 69,
   "id": "d06f6ae9-8ff9-48db-90d6-789514b39afc",
   "metadata": {},
   "outputs": [],
   "source": [
    "#Testing - Read local data\n",
    "prepare_data = PrepareData(download_new=False)"
   ]
  },
  {
   "cell_type": "code",
   "execution_count": 70,
   "id": "27e2b5ec-ce87-4cf3-90c6-a6dc045db5f5",
   "metadata": {},
   "outputs": [],
   "source": [
    "#will return these dataframe already cleaned and transformed\n",
    "# 'menhealth','menhealth','physical','dietary','heart','sex','edu','all' \n",
    "data = prepare_data.run()\n"
   ]
  },
  {
   "cell_type": "code",
   "execution_count": 71,
   "id": "59450e64-8743-4786-aa7a-1e6ce62923b4",
   "metadata": {},
   "outputs": [
    {
     "data": {
      "text/html": [
       "<div>\n",
       "<style scoped>\n",
       "    .dataframe tbody tr th:only-of-type {\n",
       "        vertical-align: middle;\n",
       "    }\n",
       "\n",
       "    .dataframe tbody tr th {\n",
       "        vertical-align: top;\n",
       "    }\n",
       "\n",
       "    .dataframe thead th {\n",
       "        text-align: right;\n",
       "    }\n",
       "</style>\n",
       "<table border=\"1\" class=\"dataframe\">\n",
       "  <thead>\n",
       "    <tr style=\"text-align: right;\">\n",
       "      <th></th>\n",
       "      <th>Diabetes_binary</th>\n",
       "      <th>Type</th>\n",
       "      <th>MentHlth</th>\n",
       "      <th>Gender</th>\n",
       "    </tr>\n",
       "  </thead>\n",
       "  <tbody>\n",
       "    <tr>\n",
       "      <th>0</th>\n",
       "      <td>0</td>\n",
       "      <td>nondiabetic</td>\n",
       "      <td>14</td>\n",
       "      <td>men</td>\n",
       "    </tr>\n",
       "    <tr>\n",
       "      <th>1</th>\n",
       "      <td>0</td>\n",
       "      <td>nondiabetic</td>\n",
       "      <td>0</td>\n",
       "      <td>men</td>\n",
       "    </tr>\n",
       "    <tr>\n",
       "      <th>2</th>\n",
       "      <td>0</td>\n",
       "      <td>nondiabetic</td>\n",
       "      <td>0</td>\n",
       "      <td>men</td>\n",
       "    </tr>\n",
       "    <tr>\n",
       "      <th>3</th>\n",
       "      <td>0</td>\n",
       "      <td>nondiabetic</td>\n",
       "      <td>0</td>\n",
       "      <td>women</td>\n",
       "    </tr>\n",
       "    <tr>\n",
       "      <th>4</th>\n",
       "      <td>1</td>\n",
       "      <td>diabetic</td>\n",
       "      <td>0</td>\n",
       "      <td>women</td>\n",
       "    </tr>\n",
       "  </tbody>\n",
       "</table>\n",
       "</div>"
      ],
      "text/plain": [
       "   Diabetes_binary         Type  MentHlth Gender\n",
       "0                0  nondiabetic        14    men\n",
       "1                0  nondiabetic         0    men\n",
       "2                0  nondiabetic         0    men\n",
       "3                0  nondiabetic         0  women\n",
       "4                1     diabetic         0  women"
      ]
     },
     "execution_count": 71,
     "metadata": {},
     "output_type": "execute_result"
    }
   ],
   "source": [
    "data['menhealth'].head()"
   ]
  },
  {
   "cell_type": "code",
   "execution_count": 72,
   "id": "e052edd8-f9c3-4c81-94c4-85719a7b5343",
   "metadata": {},
   "outputs": [
    {
     "data": {
      "text/html": [
       "<div>\n",
       "<style scoped>\n",
       "    .dataframe tbody tr th:only-of-type {\n",
       "        vertical-align: middle;\n",
       "    }\n",
       "\n",
       "    .dataframe tbody tr th {\n",
       "        vertical-align: top;\n",
       "    }\n",
       "\n",
       "    .dataframe thead th {\n",
       "        text-align: right;\n",
       "    }\n",
       "</style>\n",
       "<table border=\"1\" class=\"dataframe\">\n",
       "  <thead>\n",
       "    <tr style=\"text-align: right;\">\n",
       "      <th></th>\n",
       "      <th>ID</th>\n",
       "      <th>Diabetes_binary</th>\n",
       "      <th>HighBP</th>\n",
       "      <th>HighChol</th>\n",
       "      <th>CholCheck</th>\n",
       "      <th>BMI</th>\n",
       "      <th>Smoker</th>\n",
       "      <th>Stroke</th>\n",
       "      <th>HeartDiseaseorAttack</th>\n",
       "      <th>PhysActivity</th>\n",
       "      <th>...</th>\n",
       "      <th>Sex</th>\n",
       "      <th>Age</th>\n",
       "      <th>Education</th>\n",
       "      <th>Income</th>\n",
       "      <th>Gender</th>\n",
       "      <th>Types</th>\n",
       "      <th>GeneralHealth</th>\n",
       "      <th>Type</th>\n",
       "      <th>income</th>\n",
       "      <th>education</th>\n",
       "    </tr>\n",
       "  </thead>\n",
       "  <tbody>\n",
       "    <tr>\n",
       "      <th>0</th>\n",
       "      <td>215265</td>\n",
       "      <td>0</td>\n",
       "      <td>0</td>\n",
       "      <td>1</td>\n",
       "      <td>0</td>\n",
       "      <td>30</td>\n",
       "      <td>1</td>\n",
       "      <td>0</td>\n",
       "      <td>0</td>\n",
       "      <td>1</td>\n",
       "      <td>...</td>\n",
       "      <td>0</td>\n",
       "      <td>3</td>\n",
       "      <td>4</td>\n",
       "      <td>1</td>\n",
       "      <td>men</td>\n",
       "      <td>nondiabetic</td>\n",
       "      <td>Good</td>\n",
       "      <td>nondiabetic</td>\n",
       "      <td>&lt;10K</td>\n",
       "      <td>12orGED</td>\n",
       "    </tr>\n",
       "    <tr>\n",
       "      <th>1</th>\n",
       "      <td>141614</td>\n",
       "      <td>0</td>\n",
       "      <td>0</td>\n",
       "      <td>0</td>\n",
       "      <td>1</td>\n",
       "      <td>35</td>\n",
       "      <td>1</td>\n",
       "      <td>0</td>\n",
       "      <td>0</td>\n",
       "      <td>1</td>\n",
       "      <td>...</td>\n",
       "      <td>1</td>\n",
       "      <td>7</td>\n",
       "      <td>4</td>\n",
       "      <td>1</td>\n",
       "      <td>women</td>\n",
       "      <td>nondiabetic</td>\n",
       "      <td>Excellent</td>\n",
       "      <td>nondiabetic</td>\n",
       "      <td>&lt;10K</td>\n",
       "      <td>12orGED</td>\n",
       "    </tr>\n",
       "    <tr>\n",
       "      <th>2</th>\n",
       "      <td>28979</td>\n",
       "      <td>0</td>\n",
       "      <td>0</td>\n",
       "      <td>0</td>\n",
       "      <td>1</td>\n",
       "      <td>25</td>\n",
       "      <td>0</td>\n",
       "      <td>0</td>\n",
       "      <td>0</td>\n",
       "      <td>1</td>\n",
       "      <td>...</td>\n",
       "      <td>0</td>\n",
       "      <td>10</td>\n",
       "      <td>2</td>\n",
       "      <td>1</td>\n",
       "      <td>men</td>\n",
       "      <td>nondiabetic</td>\n",
       "      <td>Very good</td>\n",
       "      <td>nondiabetic</td>\n",
       "      <td>&lt;10K</td>\n",
       "      <td>1-8</td>\n",
       "    </tr>\n",
       "    <tr>\n",
       "      <th>3</th>\n",
       "      <td>123066</td>\n",
       "      <td>1</td>\n",
       "      <td>0</td>\n",
       "      <td>1</td>\n",
       "      <td>1</td>\n",
       "      <td>45</td>\n",
       "      <td>0</td>\n",
       "      <td>0</td>\n",
       "      <td>0</td>\n",
       "      <td>0</td>\n",
       "      <td>...</td>\n",
       "      <td>0</td>\n",
       "      <td>4</td>\n",
       "      <td>3</td>\n",
       "      <td>1</td>\n",
       "      <td>men</td>\n",
       "      <td>diabetics</td>\n",
       "      <td>Fair</td>\n",
       "      <td>diabetic</td>\n",
       "      <td>&lt;10K</td>\n",
       "      <td>9-11</td>\n",
       "    </tr>\n",
       "    <tr>\n",
       "      <th>4</th>\n",
       "      <td>36247</td>\n",
       "      <td>0</td>\n",
       "      <td>0</td>\n",
       "      <td>0</td>\n",
       "      <td>1</td>\n",
       "      <td>28</td>\n",
       "      <td>0</td>\n",
       "      <td>0</td>\n",
       "      <td>0</td>\n",
       "      <td>1</td>\n",
       "      <td>...</td>\n",
       "      <td>1</td>\n",
       "      <td>13</td>\n",
       "      <td>6</td>\n",
       "      <td>1</td>\n",
       "      <td>women</td>\n",
       "      <td>nondiabetic</td>\n",
       "      <td>Good</td>\n",
       "      <td>nondiabetic</td>\n",
       "      <td>&lt;10K</td>\n",
       "      <td>C4+</td>\n",
       "    </tr>\n",
       "  </tbody>\n",
       "</table>\n",
       "<p>5 rows × 29 columns</p>\n",
       "</div>"
      ],
      "text/plain": [
       "       ID  Diabetes_binary  HighBP  HighChol  CholCheck  BMI  Smoker  Stroke  \\\n",
       "0  215265                0       0         1          0   30       1       0   \n",
       "1  141614                0       0         0          1   35       1       0   \n",
       "2   28979                0       0         0          1   25       0       0   \n",
       "3  123066                1       0         1          1   45       0       0   \n",
       "4   36247                0       0         0          1   28       0       0   \n",
       "\n",
       "   HeartDiseaseorAttack  PhysActivity  ...  Sex  Age  Education  Income  \\\n",
       "0                     0             1  ...    0    3          4       1   \n",
       "1                     0             1  ...    1    7          4       1   \n",
       "2                     0             1  ...    0   10          2       1   \n",
       "3                     0             0  ...    0    4          3       1   \n",
       "4                     0             1  ...    1   13          6       1   \n",
       "\n",
       "   Gender        Types  GeneralHealth         Type  income  education  \n",
       "0     men  nondiabetic           Good  nondiabetic    <10K    12orGED  \n",
       "1   women  nondiabetic      Excellent  nondiabetic    <10K    12orGED  \n",
       "2     men  nondiabetic      Very good  nondiabetic    <10K        1-8  \n",
       "3     men    diabetics           Fair     diabetic    <10K       9-11  \n",
       "4   women  nondiabetic           Good  nondiabetic    <10K        C4+  \n",
       "\n",
       "[5 rows x 29 columns]"
      ]
     },
     "execution_count": 72,
     "metadata": {},
     "output_type": "execute_result"
    }
   ],
   "source": [
    "data['all'].head()"
   ]
  },
  {
   "cell_type": "code",
   "execution_count": 73,
   "id": "cf3739b0-a75f-4ae6-8735-2414ea140ccf",
   "metadata": {
    "scrolled": true
   },
   "outputs": [
    {
     "data": {
      "text/plain": [
       "(253680, 29)"
      ]
     },
     "execution_count": 73,
     "metadata": {},
     "output_type": "execute_result"
    }
   ],
   "source": [
    " data['all'].shape"
   ]
  },
  {
   "cell_type": "code",
   "execution_count": null,
   "id": "9f0438c4",
   "metadata": {},
   "outputs": [],
   "source": []
  }
 ],
 "metadata": {
  "kernelspec": {
   "display_name": "Python 3 (ipykernel)",
   "language": "python",
   "name": "python3"
  },
  "language_info": {
   "codemirror_mode": {
    "name": "ipython",
    "version": 3
   },
   "file_extension": ".py",
   "mimetype": "text/x-python",
   "name": "python",
   "nbconvert_exporter": "python",
   "pygments_lexer": "ipython3",
   "version": "3.9.12"
  }
 },
 "nbformat": 4,
 "nbformat_minor": 5
}
