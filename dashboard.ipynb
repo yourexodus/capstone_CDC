{
 "cells": [
  {
   "cell_type": "code",
   "execution_count": 7,
   "id": "51a5fdda-9d20-4eb0-8ec7-d2a3cdc8a51e",
   "metadata": {},
   "outputs": [],
   "source": [
    "#pip install jupyter-dash==0.4"
   ]
  },
  {
   "cell_type": "code",
   "execution_count": 1,
   "id": "a1d9fc3b-eb80-4199-adc7-1bee9e3e67db",
   "metadata": {},
   "outputs": [
    {
     "name": "stderr",
     "output_type": "stream",
     "text": [
      "C:\\Users\\Everydayuse\\AppData\\Local\\Temp\\ipykernel_18080\\3887300031.py:4: UserWarning: \n",
      "The dash_html_components package is deprecated. Please replace\n",
      "`import dash_html_components as html` with `from dash import html`\n",
      "  import dash_html_components as html\n"
     ]
    }
   ],
   "source": [
    "import dash\n",
    "from jupyter_dash import JupyterDash\n",
    "from dash import dcc, html, Input, Output\n",
    "import dash_html_components as html"
   ]
  },
  {
   "cell_type": "code",
   "execution_count": 2,
   "id": "0c4cbc1d-54b2-4d34-8932-cfb54d6224fa",
   "metadata": {},
   "outputs": [
    {
     "data": {
      "text/html": [
       "\n",
       "        <iframe\n",
       "            width=\"100%\"\n",
       "            height=\"650\"\n",
       "            src=\"http://127.0.0.1:8050/\"\n",
       "            frameborder=\"0\"\n",
       "            allowfullscreen\n",
       "            \n",
       "        ></iframe>\n",
       "        "
      ],
      "text/plain": [
       "<IPython.lib.display.IFrame at 0x1d1f2e3fc40>"
      ]
     },
     "metadata": {},
     "output_type": "display_data"
    }
   ],
   "source": [
    "\n",
    "link = html.A('View live dashboard', href=\"https://github.com/yourexodus/capstone_CDC\")\n",
    "title = html.H2('Diabetes Forecasting Dashboard')\n",
    "layout = html.Div([title, link])\n",
    "\n",
    "\n",
    "app = dash.Dash(__name__)  # Initialize Dash app\n",
    "app.layout = layout        #set layout\n",
    "app.run_server(mode='inline', height=25)  # Run the server"
   ]
  },
  {
   "cell_type": "code",
   "execution_count": 3,
   "id": "bb1bbd65-f114-4098-b7ee-ae0755d3b492",
   "metadata": {},
   "outputs": [
    {
     "data": {
      "text/html": [
       "\n",
       "        <iframe\n",
       "            width=\"100%\"\n",
       "            height=\"650\"\n",
       "            src=\"http://127.0.0.1:8050/\"\n",
       "            frameborder=\"0\"\n",
       "            allowfullscreen\n",
       "            \n",
       "        ></iframe>\n",
       "        "
      ],
      "text/plain": [
       "<IPython.lib.display.IFrame at 0x1d1f1474760>"
      ]
     },
     "metadata": {},
     "output_type": "display_data"
    }
   ],
   "source": [
    "\n",
    "link = html.A('View live dashboard', href=\"https://github.com/yourexodus/capstone_CDC\")\n",
    "title = html.H2('Diabetes Forecasting Dashboard',\n",
    "             style={\n",
    "                    'backgroundColor': 'tan',\n",
    "                     'fontfamily': 'verdana',\n",
    "                     'textAlign': 'center'                 \n",
    "             },\n",
    "               \n",
    "             id=\"dashTitle\",\n",
    "             className = \"titles\"\n",
    "               \n",
    "               \n",
    "               )\n",
    "layout = html.Div([title, link])\n",
    "\n",
    "\n",
    "app = dash.Dash(__name__)  # Initialize Dash app\n",
    "app.layout = layout        #set layout\n",
    "app.run_server(mode='inline', height=25)  # Run the server"
   ]
  },
  {
   "cell_type": "code",
   "execution_count": 4,
   "id": "97c2103e-7c30-4523-b9c1-9ace85cde47b",
   "metadata": {},
   "outputs": [
    {
     "data": {
      "text/html": [
       "\n",
       "        <iframe\n",
       "            width=\"100%\"\n",
       "            height=\"650\"\n",
       "            src=\"http://127.0.0.1:8050/\"\n",
       "            frameborder=\"0\"\n",
       "            allowfullscreen\n",
       "            \n",
       "        ></iframe>\n",
       "        "
      ],
      "text/plain": [
       "<IPython.lib.display.IFrame at 0x1d1f2ea6ee0>"
      ]
     },
     "metadata": {},
     "output_type": "display_data"
    }
   ],
   "source": [
    "\n",
    "link = html.A('View live dashboard', href=\"https://github.com/yourexodus/capstone_CDC\")\n",
    "title = html.H2('Diabetes Forecasting Dashboard',\n",
    "             style={\n",
    "                    'backgroundColor': 'tan',\n",
    "                     'fontfamily': 'verdana',\n",
    "                     'textAlign': 'center'                 \n",
    "             },\n",
    "               \n",
    "             id=\"dashTitle\",\n",
    "             className = \"titles\"\n",
    "               \n",
    "               \n",
    "               )\n",
    "layout = html.Div([title, link])\n",
    "\n",
    "\n",
    "app = dash.Dash(__name__)  # Initialize Dash app\n",
    "app.layout = layout        #set layout\n",
    "app.run_server(mode='inline', height=25)  # Run the server"
   ]
  },
  {
   "cell_type": "code",
   "execution_count": 5,
   "id": "2d1d356e-75a5-4933-9606-282ed3bbe968",
   "metadata": {},
   "outputs": [],
   "source": [
    "import dash\n",
    "from jupyter_dash import JupyterDash\n",
    "from dash import dcc, html, Input, Output\n",
    "import dash_html_components as html"
   ]
  },
  {
   "cell_type": "code",
   "execution_count": 72,
   "id": "97454aad-8f33-46e2-8729-723d18674ca9",
   "metadata": {},
   "outputs": [],
   "source": [
    "import pandas as pd\n",
    "summary = pd.read_csv(\"data/prepared/summary_data.csv\")\n",
    "summary = summary.reset_index()"
   ]
  },
  {
   "cell_type": "code",
   "execution_count": 73,
   "id": "7d389caf-ce7f-44ee-975d-ce1ba18e74c3",
   "metadata": {
    "scrolled": true
   },
   "outputs": [
    {
     "data": {
      "text/html": [
       "<div>\n",
       "<style scoped>\n",
       "    .dataframe tbody tr th:only-of-type {\n",
       "        vertical-align: middle;\n",
       "    }\n",
       "\n",
       "    .dataframe tbody tr th {\n",
       "        vertical-align: top;\n",
       "    }\n",
       "\n",
       "    .dataframe thead th {\n",
       "        text-align: right;\n",
       "    }\n",
       "</style>\n",
       "<table border=\"1\" class=\"dataframe\">\n",
       "  <thead>\n",
       "    <tr style=\"text-align: right;\">\n",
       "      <th></th>\n",
       "      <th>index</th>\n",
       "      <th>generalhealth_type</th>\n",
       "      <th>total</th>\n",
       "      <th>percentage</th>\n",
       "    </tr>\n",
       "  </thead>\n",
       "  <tbody>\n",
       "    <tr>\n",
       "      <th>0</th>\n",
       "      <td>0</td>\n",
       "      <td>Very good vs nondiabetic</td>\n",
       "      <td>82703</td>\n",
       "      <td>32.601309</td>\n",
       "    </tr>\n",
       "    <tr>\n",
       "      <th>1</th>\n",
       "      <td>1</td>\n",
       "      <td>Good vs nondiabetic</td>\n",
       "      <td>62189</td>\n",
       "      <td>24.514743</td>\n",
       "    </tr>\n",
       "    <tr>\n",
       "      <th>2</th>\n",
       "      <td>2</td>\n",
       "      <td>Excellent vs nondiabetic</td>\n",
       "      <td>44159</td>\n",
       "      <td>17.407364</td>\n",
       "    </tr>\n",
       "  </tbody>\n",
       "</table>\n",
       "</div>"
      ],
      "text/plain": [
       "   index        generalhealth_type  total  percentage\n",
       "0      0  Very good vs nondiabetic  82703   32.601309\n",
       "1      1       Good vs nondiabetic  62189   24.514743\n",
       "2      2  Excellent vs nondiabetic  44159   17.407364"
      ]
     },
     "execution_count": 73,
     "metadata": {},
     "output_type": "execute_result"
    }
   ],
   "source": [
    "used_columns = [\"combined\",\"count\",\"percentage\"]\n",
    "df =summary[used_columns]\n",
    "df = df.rename(columns={\"combined\":\"generalhealth_type\" ,\"count\":\"total\" }) \n",
    "df = df.reset_index()\n",
    "#df[\"percentage\"] =  df['percentage'].map('{:00.%}'.format)\n",
    "df.head(3)"
   ]
  },
  {
   "cell_type": "markdown",
   "id": "0bdda8f0-21ae-4462-b6d9-61801bc2de5b",
   "metadata": {},
   "source": [
    "#### Column info\n",
    " List of dictionaries:\n",
    "    name - visible name;\n",
    "    id - internal identification;\n",
    "    type - \"any\", \"numeric\", \"text\";\n",
    "    format - dictionary"
   ]
  },
  {
   "cell_type": "code",
   "execution_count": 74,
   "id": "0631dd6d-0b9a-4944-9103-9166f52a1287",
   "metadata": {
    "scrolled": true
   },
   "outputs": [
    {
     "data": {
      "text/plain": [
       "Index(['percentage'], dtype='object')"
      ]
     },
     "execution_count": 74,
     "metadata": {},
     "output_type": "execute_result"
    }
   ],
   "source": [
    "df.columns[3:]"
   ]
  },
  {
   "cell_type": "code",
   "execution_count": 75,
   "id": "a3ad2e30-d60e-46f8-9dcf-6805e39eda77",
   "metadata": {},
   "outputs": [
    {
     "data": {
      "text/plain": [
       "Index(['index', 'generalhealth_type', 'total'], dtype='object')"
      ]
     },
     "execution_count": 75,
     "metadata": {},
     "output_type": "execute_result"
    }
   ],
   "source": [
    "df.columns[:3]"
   ]
  },
  {
   "cell_type": "code",
   "execution_count": 76,
   "id": "fde96c11-49e0-4098-bfa1-335d1c1c37d0",
   "metadata": {},
   "outputs": [
    {
     "data": {
      "text/plain": [
       "[{'name': 'generalhealth_type', 'id': 'gentype', 'type': 'text'},\n",
       " {'name': 'generalhealth_type',\n",
       "  'id': 'generalhealth_type',\n",
       "  'type': 'numeric',\n",
       "  'format': {'specifier': ','}},\n",
       " {'name': 'total',\n",
       "  'id': 'total',\n",
       "  'type': 'numeric',\n",
       "  'format': {'specifier': ','}},\n",
       " {'name': 'percentage',\n",
       "  'id': 'percentage',\n",
       "  'type': 'numeric',\n",
       "  'format': {'specifier': ','}}]"
      ]
     },
     "execution_count": 76,
     "metadata": {},
     "output_type": "execute_result"
    }
   ],
   "source": [
    "columns=[]\n",
    "columns = [{\"name\": \"generalhealth_type\", \n",
    "            \"id\": \"gentype\", \"type\": \"text\"}]\n",
    " \n",
    "for name in df.columns[1:]:\n",
    "    col_info = {\n",
    "        \"name\": name,\n",
    "         \"id\": name,\n",
    "        \"type\": \"numeric\",\n",
    "        \"format\": {'specifier': ','}\n",
    "    }\n",
    "    columns.append(col_info)\n",
    " \n",
    "columns"
   ]
  },
  {
   "cell_type": "markdown",
   "id": "0f5abc88-8e8e-40b6-87bf-eaff00b3e156",
   "metadata": {},
   "source": [
    "#### Convert columns to a list of dictionaries"
   ]
  },
  {
   "cell_type": "code",
   "execution_count": 77,
   "id": "95087046-15bc-4b47-89b0-6999471d5af1",
   "metadata": {},
   "outputs": [
    {
     "data": {
      "text/plain": [
       "[{'index': 0,\n",
       "  'generalhealth_type': 'Very good vs nondiabetic',\n",
       "  'total': 82703,\n",
       "  'percentage': 32.6013087354147},\n",
       " {'index': 1,\n",
       "  'generalhealth_type': 'Good vs nondiabetic',\n",
       "  'total': 62189,\n",
       "  'percentage': 24.51474298328603},\n",
       " {'index': 2,\n",
       "  'generalhealth_type': 'Excellent vs nondiabetic',\n",
       "  'total': 44159,\n",
       "  'percentage': 17.407363607694734}]"
      ]
     },
     "execution_count": 77,
     "metadata": {},
     "output_type": "execute_result"
    }
   ],
   "source": [
    "#sort highest total to the top\n",
    "data = df.sort_values(\"total\",ascending=False).to_dict(\"records\")\n",
    "#view first 3 items in the list\n",
    "data[:3]"
   ]
  },
  {
   "cell_type": "markdown",
   "id": "f49f34dd-eeca-4d75-85be-1b5aef47ccf4",
   "metadata": {},
   "source": [
    "#### Construct summary table"
   ]
  },
  {
   "cell_type": "code",
   "execution_count": 78,
   "id": "e5d4d929-cc7a-4950-aba9-84d3dc4f3442",
   "metadata": {
    "scrolled": true
   },
   "outputs": [],
   "source": [
    "\n",
    "from dash_table import DataTable"
   ]
  },
  {
   "cell_type": "code",
   "execution_count": 87,
   "id": "afe368c2-65a9-450e-a30b-44650b134923",
   "metadata": {},
   "outputs": [],
   "source": [
    "def create_sum_table(group):\n",
    "    \n",
    "    used_columns = [\"index\",\"combined\",\"count\",\"percentage\"]\n",
    "    df =summary[used_columns]\n",
    "    df = df.rename(columns={\"combined\":\"generalhealth_type\" ,\"count\":\"total\" }) \n",
    "    columns = []\n",
    "    #columns = [{\"name\": \"generalhealth_type\", \n",
    "    #            \"id\": \"gentype\", \"type\": \"text\"}]    \n",
    "    for name in df.columns:\n",
    "        col_info = {\n",
    "            \"name\": name,\n",
    "             \"id\": name,\n",
    "            \"type\": \"text\",\n",
    "            \"format\": {'specifier': ','}\n",
    "        }\n",
    "        columns.append(col_info)\n",
    "\n",
    "    print(columns) \n",
    "\n",
    "    data = df.sort_values(\"total\",ascending=False).to_dict(\"records\")\n",
    "    return DataTable(\n",
    "        id=f\"{group}-table\",           #sum-table\n",
    "        columns=columns,\n",
    "        data=data,\n",
    "        active_cell={\"row\": 0, \"column\": 0},\n",
    "        fixed_rows={\"headers\": True},\n",
    "        sort_action=\"native\",\n",
    "        derived_virtual_data=data,\n",
    "        style_table={\n",
    "            \"minHeight\": \"80vh\",\n",
    "            \"height\": \"80vh\",\n",
    "            \"overflowY\": \"scroll\",\n",
    "            \"borderRadius\": \"0px 0px 10px 10px\",\n",
    "        },\n",
    "        style_cell={\n",
    "            \"whiteSpace\": \"normal\",\n",
    "            \"height\": \"auto\",\n",
    "            \"fontFamily\": \"verdana\",\n",
    "        },\n",
    "        style_header={\n",
    "            \"textAlign\": \"center\",\n",
    "            \"fontSize\": 14,\n",
    "        },\n",
    "        style_data={\n",
    "            \"fontSize\": 12,\n",
    "        },\n",
    "        style_data_conditional=[\n",
    "            {\n",
    "                \"if\": {\"column_id\": \"gentype\"},\n",
    "                \"width\": \"420px\",\n",
    "                \"textAlign\": \"left\",\n",
    "                \"textDecoration\": \"underline\",\n",
    "                \"cursor\": \"pointer\",\n",
    "            },\n",
    "            \n",
    "            {\n",
    "                \"if\": {\"column_id\": \"index\"},\n",
    "                \"width\": \"70px\",\n",
    "                \"textAlign\": \"left\",\n",
    "                \"textDecoration\": \"underline\",\n",
    "                \"cursor\": \"pointer\",\n",
    "            },\n",
    "            {\n",
    "                \"if\": {\"row_index\": \"odd\"}, \n",
    "                \"backgroundColor\": \"#fafbfb\"\n",
    "            }\n",
    "        ],\n",
    "    )\n",
    " \n"
   ]
  },
  {
   "cell_type": "code",
   "execution_count": 88,
   "id": "fda826b5-0452-4526-b8db-86a3443efd45",
   "metadata": {
    "scrolled": true
   },
   "outputs": [
    {
     "data": {
      "text/html": [
       "<div>\n",
       "<style scoped>\n",
       "    .dataframe tbody tr th:only-of-type {\n",
       "        vertical-align: middle;\n",
       "    }\n",
       "\n",
       "    .dataframe tbody tr th {\n",
       "        vertical-align: top;\n",
       "    }\n",
       "\n",
       "    .dataframe thead th {\n",
       "        text-align: right;\n",
       "    }\n",
       "</style>\n",
       "<table border=\"1\" class=\"dataframe\">\n",
       "  <thead>\n",
       "    <tr style=\"text-align: right;\">\n",
       "      <th></th>\n",
       "      <th>combined</th>\n",
       "      <th>count</th>\n",
       "      <th>percentage</th>\n",
       "    </tr>\n",
       "  </thead>\n",
       "  <tbody>\n",
       "    <tr>\n",
       "      <th>0</th>\n",
       "      <td>Very good vs nondiabetic</td>\n",
       "      <td>82703</td>\n",
       "      <td>32.601309</td>\n",
       "    </tr>\n",
       "    <tr>\n",
       "      <th>1</th>\n",
       "      <td>Good vs nondiabetic</td>\n",
       "      <td>62189</td>\n",
       "      <td>24.514743</td>\n",
       "    </tr>\n",
       "    <tr>\n",
       "      <th>2</th>\n",
       "      <td>Excellent vs nondiabetic</td>\n",
       "      <td>44159</td>\n",
       "      <td>17.407364</td>\n",
       "    </tr>\n",
       "    <tr>\n",
       "      <th>3</th>\n",
       "      <td>Fair vs nondiabetic</td>\n",
       "      <td>21780</td>\n",
       "      <td>8.585620</td>\n",
       "    </tr>\n",
       "    <tr>\n",
       "      <th>4</th>\n",
       "      <td>Good vs diabetic</td>\n",
       "      <td>13457</td>\n",
       "      <td>5.304715</td>\n",
       "    </tr>\n",
       "    <tr>\n",
       "      <th>5</th>\n",
       "      <td>Fair vs diabetic</td>\n",
       "      <td>9790</td>\n",
       "      <td>3.859193</td>\n",
       "    </tr>\n",
       "    <tr>\n",
       "      <th>6</th>\n",
       "      <td>Poor vs nondiabetic</td>\n",
       "      <td>7503</td>\n",
       "      <td>2.957663</td>\n",
       "    </tr>\n",
       "    <tr>\n",
       "      <th>7</th>\n",
       "      <td>Very good vs diabetic</td>\n",
       "      <td>6381</td>\n",
       "      <td>2.515374</td>\n",
       "    </tr>\n",
       "    <tr>\n",
       "      <th>8</th>\n",
       "      <td>Poor vs diabetic</td>\n",
       "      <td>4578</td>\n",
       "      <td>1.804636</td>\n",
       "    </tr>\n",
       "    <tr>\n",
       "      <th>9</th>\n",
       "      <td>Excellent vs diabetic</td>\n",
       "      <td>1140</td>\n",
       "      <td>0.449385</td>\n",
       "    </tr>\n",
       "  </tbody>\n",
       "</table>\n",
       "</div>"
      ],
      "text/plain": [
       "                   combined  count  percentage\n",
       "0  Very good vs nondiabetic  82703   32.601309\n",
       "1       Good vs nondiabetic  62189   24.514743\n",
       "2  Excellent vs nondiabetic  44159   17.407364\n",
       "3       Fair vs nondiabetic  21780    8.585620\n",
       "4          Good vs diabetic  13457    5.304715\n",
       "5          Fair vs diabetic   9790    3.859193\n",
       "6       Poor vs nondiabetic   7503    2.957663\n",
       "7     Very good vs diabetic   6381    2.515374\n",
       "8          Poor vs diabetic   4578    1.804636\n",
       "9     Excellent vs diabetic   1140    0.449385"
      ]
     },
     "execution_count": 88,
     "metadata": {},
     "output_type": "execute_result"
    }
   ],
   "source": [
    "summary[used_columns]"
   ]
  },
  {
   "cell_type": "code",
   "execution_count": 89,
   "id": "9884d434-46c6-44e5-b52e-89d04da36487",
   "metadata": {},
   "outputs": [
    {
     "data": {
      "text/html": [
       "<div>\n",
       "<style scoped>\n",
       "    .dataframe tbody tr th:only-of-type {\n",
       "        vertical-align: middle;\n",
       "    }\n",
       "\n",
       "    .dataframe tbody tr th {\n",
       "        vertical-align: top;\n",
       "    }\n",
       "\n",
       "    .dataframe thead th {\n",
       "        text-align: right;\n",
       "    }\n",
       "</style>\n",
       "<table border=\"1\" class=\"dataframe\">\n",
       "  <thead>\n",
       "    <tr style=\"text-align: right;\">\n",
       "      <th></th>\n",
       "      <th>index</th>\n",
       "      <th>generalhealth_type</th>\n",
       "      <th>total</th>\n",
       "      <th>percentage</th>\n",
       "    </tr>\n",
       "  </thead>\n",
       "  <tbody>\n",
       "    <tr>\n",
       "      <th>0</th>\n",
       "      <td>0</td>\n",
       "      <td>Very good vs nondiabetic</td>\n",
       "      <td>82703</td>\n",
       "      <td>32.601309</td>\n",
       "    </tr>\n",
       "    <tr>\n",
       "      <th>1</th>\n",
       "      <td>1</td>\n",
       "      <td>Good vs nondiabetic</td>\n",
       "      <td>62189</td>\n",
       "      <td>24.514743</td>\n",
       "    </tr>\n",
       "    <tr>\n",
       "      <th>2</th>\n",
       "      <td>2</td>\n",
       "      <td>Excellent vs nondiabetic</td>\n",
       "      <td>44159</td>\n",
       "      <td>17.407364</td>\n",
       "    </tr>\n",
       "    <tr>\n",
       "      <th>3</th>\n",
       "      <td>3</td>\n",
       "      <td>Fair vs nondiabetic</td>\n",
       "      <td>21780</td>\n",
       "      <td>8.585620</td>\n",
       "    </tr>\n",
       "    <tr>\n",
       "      <th>4</th>\n",
       "      <td>4</td>\n",
       "      <td>Good vs diabetic</td>\n",
       "      <td>13457</td>\n",
       "      <td>5.304715</td>\n",
       "    </tr>\n",
       "    <tr>\n",
       "      <th>5</th>\n",
       "      <td>5</td>\n",
       "      <td>Fair vs diabetic</td>\n",
       "      <td>9790</td>\n",
       "      <td>3.859193</td>\n",
       "    </tr>\n",
       "    <tr>\n",
       "      <th>6</th>\n",
       "      <td>6</td>\n",
       "      <td>Poor vs nondiabetic</td>\n",
       "      <td>7503</td>\n",
       "      <td>2.957663</td>\n",
       "    </tr>\n",
       "    <tr>\n",
       "      <th>7</th>\n",
       "      <td>7</td>\n",
       "      <td>Very good vs diabetic</td>\n",
       "      <td>6381</td>\n",
       "      <td>2.515374</td>\n",
       "    </tr>\n",
       "    <tr>\n",
       "      <th>8</th>\n",
       "      <td>8</td>\n",
       "      <td>Poor vs diabetic</td>\n",
       "      <td>4578</td>\n",
       "      <td>1.804636</td>\n",
       "    </tr>\n",
       "    <tr>\n",
       "      <th>9</th>\n",
       "      <td>9</td>\n",
       "      <td>Excellent vs diabetic</td>\n",
       "      <td>1140</td>\n",
       "      <td>0.449385</td>\n",
       "    </tr>\n",
       "  </tbody>\n",
       "</table>\n",
       "</div>"
      ],
      "text/plain": [
       "   index        generalhealth_type  total  percentage\n",
       "0      0  Very good vs nondiabetic  82703   32.601309\n",
       "1      1       Good vs nondiabetic  62189   24.514743\n",
       "2      2  Excellent vs nondiabetic  44159   17.407364\n",
       "3      3       Fair vs nondiabetic  21780    8.585620\n",
       "4      4          Good vs diabetic  13457    5.304715\n",
       "5      5          Fair vs diabetic   9790    3.859193\n",
       "6      6       Poor vs nondiabetic   7503    2.957663\n",
       "7      7     Very good vs diabetic   6381    2.515374\n",
       "8      8          Poor vs diabetic   4578    1.804636\n",
       "9      9     Excellent vs diabetic   1140    0.449385"
      ]
     },
     "execution_count": 89,
     "metadata": {},
     "output_type": "execute_result"
    }
   ],
   "source": [
    "df = df.rename(columns={\"combined\":\"generalhealth_type\" ,\"count\":\"total\" })\n",
    "df"
   ]
  },
  {
   "cell_type": "code",
   "execution_count": null,
   "id": "813edaea-3422-4e92-9eb2-e3ee408123ad",
   "metadata": {},
   "outputs": [],
   "source": []
  },
  {
   "cell_type": "code",
   "execution_count": 90,
   "id": "fb24a316-fbff-4b19-9389-b6969d0a6699",
   "metadata": {},
   "outputs": [
    {
     "name": "stdout",
     "output_type": "stream",
     "text": [
      "[{'name': 'index', 'id': 'index', 'type': 'text', 'format': {'specifier': ','}}, {'name': 'generalhealth_type', 'id': 'generalhealth_type', 'type': 'text', 'format': {'specifier': ','}}, {'name': 'total', 'id': 'total', 'type': 'text', 'format': {'specifier': ','}}, {'name': 'percentage', 'id': 'percentage', 'type': 'text', 'format': {'specifier': ','}}]\n"
     ]
    }
   ],
   "source": [
    "summary_table = create_sum_table(sum)"
   ]
  },
  {
   "cell_type": "code",
   "execution_count": 113,
   "id": "d014f821-9753-4ce2-8f6b-ff71ca34077d",
   "metadata": {
    "scrolled": true
   },
   "outputs": [
    {
     "data": {
      "text/html": [
       "\n",
       "        <iframe\n",
       "            width=\"100%\"\n",
       "            height=\"650\"\n",
       "            src=\"http://127.0.0.1:8050/\"\n",
       "            frameborder=\"0\"\n",
       "            allowfullscreen\n",
       "            \n",
       "        ></iframe>\n",
       "        "
      ],
      "text/plain": [
       "<IPython.lib.display.IFrame at 0x1d1fccb76d0>"
      ]
     },
     "metadata": {},
     "output_type": "display_data"
    }
   ],
   "source": [
    "layout = html.Div([title,   summary_table])\n",
    "\n",
    "\n",
    "app = dash.Dash(__name__)  # Initialize Dash app\n",
    "app.layout = layout        #set layout\n",
    "app.run_server(mode='inline', height=25)  # Run the server"
   ]
  },
  {
   "cell_type": "code",
   "execution_count": 114,
   "id": "8c28f1ad-9883-4807-8ff5-205e873240af",
   "metadata": {},
   "outputs": [
    {
     "name": "stderr",
     "output_type": "stream",
     "text": [
      "[2024-08-02 02:00:30,230] ERROR in app: Exception on /_alive_62b25add-cd44-4017-b85f-eb8b1bfcf716 [GET]\n",
      "Traceback (most recent call last):\n",
      "  File \"C:\\Users\\Everydayuse\\.conda\\envs\\capstoneCDC_venv\\lib\\site-packages\\flask\\app.py\", line 2447, in wsgi_app\n",
      "    response = self.full_dispatch_request()\n",
      "  File \"C:\\Users\\Everydayuse\\.conda\\envs\\capstoneCDC_venv\\lib\\site-packages\\flask\\app.py\", line 1952, in full_dispatch_request\n",
      "    rv = self.handle_user_exception(e)\n",
      "  File \"C:\\Users\\Everydayuse\\.conda\\envs\\capstoneCDC_venv\\lib\\site-packages\\flask\\app.py\", line 1821, in handle_user_exception\n",
      "    reraise(exc_type, exc_value, tb)\n",
      "  File \"C:\\Users\\Everydayuse\\.conda\\envs\\capstoneCDC_venv\\lib\\site-packages\\flask\\_compat.py\", line 39, in reraise\n",
      "    raise value\n",
      "  File \"C:\\Users\\Everydayuse\\.conda\\envs\\capstoneCDC_venv\\lib\\site-packages\\flask\\app.py\", line 1948, in full_dispatch_request\n",
      "    rv = self.preprocess_request()\n",
      "  File \"C:\\Users\\Everydayuse\\.conda\\envs\\capstoneCDC_venv\\lib\\site-packages\\flask\\app.py\", line 2242, in preprocess_request\n",
      "    rv = func()\n",
      "  File \"C:\\Users\\Everydayuse\\.conda\\envs\\capstoneCDC_venv\\lib\\site-packages\\dash\\dash.py\", line 1412, in _setup_server\n",
      "    _validate.validate_layout(self.layout, self._layout_value())\n",
      "  File \"C:\\Users\\Everydayuse\\.conda\\envs\\capstoneCDC_venv\\lib\\site-packages\\dash\\_validate.py\", line 414, in validate_layout\n",
      "    raise exceptions.NoLayoutException(\n",
      "dash.exceptions.NoLayoutException: The layout was `None` at the time that `run_server` was called.\n",
      "Make sure to set the `layout` attribute of your application\n",
      "before running the server.\n"
     ]
    },
    {
     "data": {
      "text/html": [
       "\n",
       "        <iframe\n",
       "            width=\"100%\"\n",
       "            height=\"650\"\n",
       "            src=\"http://127.0.0.1:8050/\"\n",
       "            frameborder=\"0\"\n",
       "            allowfullscreen\n",
       "            \n",
       "        ></iframe>\n",
       "        "
      ],
      "text/plain": [
       "<IPython.lib.display.IFrame at 0x1d1fcf725b0>"
      ]
     },
     "metadata": {},
     "output_type": "display_data"
    }
   ],
   "source": [
    "import dash\n",
    "from dash import dcc, html\n",
    "\n",
    "app = dash.Dash(__name__)\n",
    "\n",
    "options = [\n",
    "    {'label': 'New York City', 'value': 'NYC'},\n",
    "    {'label': 'Montreal', 'value': 'MTL'},\n",
    "    {'label': 'San Francisco', 'value': 'SF'}\n",
    "]\n",
    "\n",
    "layout = html.Div([\n",
    "    html.Div([\n",
    "        dcc.Dropdown(\n",
    "            id='my-dropdown1',\n",
    "            options=options,\n",
    "            placeholder=\"Select a city\"\n",
    "        ),\n",
    "        dcc.Dropdown(\n",
    "            id='my-dropdown2',\n",
    "            options=options,\n",
    "            placeholder=\"Select a city\"\n",
    "        ),\n",
    "        dcc.Dropdown(\n",
    "            id='my-dropdown3',\n",
    "            options=options,\n",
    "            placeholder=\"Select a city\"\n",
    "        )\n",
    "    ], style={'display': 'flex'})\n",
    "])\n",
    "\n",
    "app = dash.Dash(__name__)  # Initialize Dash app\n",
    "layout = html.Div([title,   summary_table])\n",
    "app.run_server(mode='inline', height=25)  # Run the server\n"
   ]
  },
  {
   "cell_type": "code",
   "execution_count": 121,
   "id": "5b33ea6e-f81f-4fa5-86d1-0e3f400a1879",
   "metadata": {
    "scrolled": true
   },
   "outputs": [
    {
     "data": {
      "text/html": [
       "\n",
       "        <iframe\n",
       "            width=\"100%\"\n",
       "            height=\"650\"\n",
       "            src=\"http://127.0.0.1:8050/\"\n",
       "            frameborder=\"0\"\n",
       "            allowfullscreen\n",
       "            \n",
       "        ></iframe>\n",
       "        "
      ],
      "text/plain": [
       "<IPython.lib.display.IFrame at 0x1d1fd360d30>"
      ]
     },
     "metadata": {},
     "output_type": "display_data"
    }
   ],
   "source": [
    "import dash\n",
    "from dash import dcc, html\n",
    "\n",
    "app = dash.Dash(__name__)\n",
    "\n",
    "options = [\n",
    "    {'label': 'New York City', 'value': 'NYC'},\n",
    "    {'label': 'Montreal', 'value': 'MTL'},\n",
    "    {'label': 'San Francisco', 'value': 'SF'}\n",
    "]\n",
    "menu_income:[\n",
    "    {'label':'1 - Less than $10,000', 'value':1}, \n",
    "    {'label':'2 - Less than $15,000 ($10,000 to less than $15,000)', 'value':2},\n",
    "    {'label':'3 - Less than $20,000 ($15,000 to less than $20,000)', 'value':3},\n",
    "    {'label':'4 - Less than $25,000 ($20,000 to less than $25,000)', 'value':4},\n",
    "    {'label':'5 - Less than $35,000 ($25,000 to less than $35,000)', 'value':5},\n",
    "    {'label':'6 - Less than $50,000 ($35,000 to less than $50,000)', 'value':6},\n",
    "    {'label':'7 - Less than $75,000 ($50,000 to less than $75,000)', 'value':7},\n",
    "    {'label':'8 - $75,000 or more', 'value':8}\n",
    "    ]\n",
    "     \n",
    "user_input =    html.Div([\n",
    "        dcc.Dropdown(\n",
    "            id='menu_income',\n",
    "            options=options,\n",
    "            placeholder=\"Please choose your income range.\"\n",
    "            #value='NYC1'  # Initial value\n",
    "        ),\n",
    "        dcc.Dropdown(\n",
    "            id='my-dropdown2',\n",
    "            options=options,\n",
    "            placeholder=\"Select a city\"\n",
    "            #value='NYC2'  # Initial value\n",
    "        ),\n",
    "        dcc.Dropdown(\n",
    "            id='my-dropdown3',\n",
    "            options=options,\n",
    "            placeholder=\"Select a city\"\n",
    "            #value='NYC3'  # Initial value\n",
    "        )        \n",
    "        \n",
    "    ])\n",
    "\n",
    "layout = html.Div([title, user_input,  summary_table])\n",
    "\n",
    "app = dash.Dash(__name__)  # Initialize Dash app\n",
    "app.layout = layout        #set layout\n",
    "app.run_server(mode='inline', height=25)  # Run the server"
   ]
  },
  {
   "cell_type": "code",
   "execution_count": 116,
   "id": "4b473d36-0666-47e3-953b-b937155d7fc4",
   "metadata": {},
   "outputs": [
    {
     "data": {
      "text/html": [
       "\n",
       "        <iframe\n",
       "            width=\"100%\"\n",
       "            height=\"650\"\n",
       "            src=\"http://127.0.0.1:8050/\"\n",
       "            frameborder=\"0\"\n",
       "            allowfullscreen\n",
       "            \n",
       "        ></iframe>\n",
       "        "
      ],
      "text/plain": [
       "<IPython.lib.display.IFrame at 0x1d1fcf72df0>"
      ]
     },
     "metadata": {},
     "output_type": "display_data"
    }
   ],
   "source": [
    "layout = html.Div([title,   summary_table])\n",
    "\n",
    "\n",
    "app = dash.Dash(__name__)  # Initialize Dash app\n",
    "app.layout = layout        #set layout\n",
    "app.run_server(mode='inline', height=25)  # Run the server"
   ]
  },
  {
   "cell_type": "code",
   "execution_count": null,
   "id": "b188ceb6-0259-4a5f-a0ee-6d181fa28201",
   "metadata": {},
   "outputs": [],
   "source": []
  },
  {
   "cell_type": "code",
   "execution_count": null,
   "id": "7ccebe36-6933-4830-84be-acb5effc97bc",
   "metadata": {},
   "outputs": [],
   "source": []
  }
 ],
 "metadata": {
  "kernelspec": {
   "display_name": "Python 3 (ipykernel)",
   "language": "python",
   "name": "python3"
  },
  "language_info": {
   "codemirror_mode": {
    "name": "ipython",
    "version": 3
   },
   "file_extension": ".py",
   "mimetype": "text/x-python",
   "name": "python",
   "nbconvert_exporter": "python",
   "pygments_lexer": "ipython3",
   "version": "3.9.12"
  }
 },
 "nbformat": 4,
 "nbformat_minor": 5
}
