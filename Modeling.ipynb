{
 "cells": [
  {
   "cell_type": "markdown",
   "id": "633f8f02-ac5f-4f56-b9eb-3292c7eec3f8",
   "metadata": {},
   "source": [
    "# CDC_Capstone: Part III - Modeling"
   ]
  },
  {
   "cell_type": "code",
   "execution_count": 1,
   "id": "33d7ea17-629f-499d-b27c-30db362206d7",
   "metadata": {},
   "outputs": [],
   "source": [
    "\n",
    "\n",
    "import numpy as np\n",
    "import pandas as pd\n",
    "import seaborn as sns\n",
    "import matplotlib.pyplot as plt\n",
    "\n",
    "# model & metric imports\n",
    "# Specific imports\n",
    "# These are new! Notice we're using the 'from' approach to import only what we need.\n",
    "from sklearn.linear_model import LinearRegression\n",
    "from sklearn.linear_model import LogisticRegression\n",
    " \n",
    "from sklearn import metrics\n",
    "from sklearn.metrics import mean_squared_error\n",
    "from sklearn.model_selection import train_test_split, KFold, cross_val_score\n",
    "from sklearn.metrics import mean_absolute_error, mean_squared_error\n",
    "from sklearn.dummy import DummyRegressor\n",
    "from sklearn.model_selection import train_test_split\n",
    "from sklearn.metrics import confusion_matrix\n",
    "\n",
    "\n",
    "from sklearn.ensemble import BaggingRegressor, BaggingClassifier\n",
    "from sklearn.ensemble import RandomForestRegressor, RandomForestClassifier\n",
    "from sklearn.ensemble import AdaBoostClassifier\n",
    "from sklearn.model_selection import train_test_split, cross_val_score\n",
    "from sklearn.feature_selection import SelectFromModel\n",
    "from sklearn import metrics\n",
    "\n",
    "# sklearn imports\n",
    "from sklearn.tree import DecisionTreeRegressor, DecisionTreeClassifier, plot_tree\n",
    "from sklearn.metrics import roc_curve, auc, accuracy_score, confusion_matrix, ConfusionMatrixDisplay\n",
    "\n",
    "# Model Imports\n",
    "from sklearn.neighbors import KNeighborsClassifier\n",
    "from sklearn.model_selection import train_test_split, cross_val_score, GridSearchCV\n",
    "from sklearn.metrics import accuracy_score, roc_auc_score\n",
    "from sklearn.preprocessing import StandardScaler\n",
    "from sklearn.model_selection import RepeatedStratifiedKFold \n",
    "\n",
    "# Create a custom color map.\n",
    "from matplotlib.colors import ListedColormap\n",
    "\n",
    "from sklearn import preprocessing\n",
    "\n",
    "from sklearn.decomposition import PCA\n",
    "\n",
    "\n",
    "# Statistics imports\n",
    "#from scipy import stats\n",
    "#import statsmodels.api as sm\n",
    "\n",
    "import csv\n",
    "import import_ipynb\n",
    " "
   ]
  },
  {
   "cell_type": "markdown",
   "id": "e323afca-c4c3-415e-bd5c-8bff77da9ed3",
   "metadata": {},
   "source": [
    "### Fitting and Visualizing a logistic Regression  \n",
    "Goal is to predicts the probability of a binary outcome (0 or 1) for Diabetes diagnosis.\n"
   ]
  },
  {
   "cell_type": "markdown",
   "id": "dd45058c-b817-49e2-b8ef-5cfddd6ff25b",
   "metadata": {},
   "source": [
    "#### Get Data using my Prepare Data Class\n",
    "will return these dataframe already cleaned and transformed\n",
    "'menhealth','menhealth','physical','dietary','heart','sex','edu','all' "
   ]
  },
  {
   "cell_type": "code",
   "execution_count": 2,
   "id": "5790eebe-4169-4d0e-beac-48ca8c24a70a",
   "metadata": {},
   "outputs": [],
   "source": [
    "#import my class with data.  setup in feature_engineering notebook\n",
    "\n",
    "from prepare import PrepareData"
   ]
  },
  {
   "cell_type": "code",
   "execution_count": 3,
   "id": "99f35e13",
   "metadata": {},
   "outputs": [],
   "source": [
    "#Testing - Read local data\n",
    "prepared_data = PrepareData(download_new=False)"
   ]
  },
  {
   "cell_type": "code",
   "execution_count": 4,
   "id": "2519d2b8-7f78-438e-9bda-d64c35cb7085",
   "metadata": {},
   "outputs": [],
   "source": [
    "data = prepared_data.run()"
   ]
  },
  {
   "cell_type": "markdown",
   "id": "569f4662-c361-46da-8b02-95229d112ba6",
   "metadata": {},
   "source": [
    "### Review dataframe for mental health"
   ]
  },
  {
   "cell_type": "code",
   "execution_count": 5,
   "id": "19c0c912-3dcd-43c0-826f-7d5fc029d63a",
   "metadata": {
    "scrolled": true
   },
   "outputs": [
    {
     "data": {
      "text/html": [
       "<div>\n",
       "<style scoped>\n",
       "    .dataframe tbody tr th:only-of-type {\n",
       "        vertical-align: middle;\n",
       "    }\n",
       "\n",
       "    .dataframe tbody tr th {\n",
       "        vertical-align: top;\n",
       "    }\n",
       "\n",
       "    .dataframe thead th {\n",
       "        text-align: right;\n",
       "    }\n",
       "</style>\n",
       "<table border=\"1\" class=\"dataframe\">\n",
       "  <thead>\n",
       "    <tr style=\"text-align: right;\">\n",
       "      <th></th>\n",
       "      <th>Diabetes_binary</th>\n",
       "      <th>Type</th>\n",
       "      <th>MentHlth</th>\n",
       "      <th>Gender</th>\n",
       "    </tr>\n",
       "  </thead>\n",
       "  <tbody>\n",
       "    <tr>\n",
       "      <th>0</th>\n",
       "      <td>0</td>\n",
       "      <td>nondiabetic</td>\n",
       "      <td>14</td>\n",
       "      <td>men</td>\n",
       "    </tr>\n",
       "    <tr>\n",
       "      <th>1</th>\n",
       "      <td>0</td>\n",
       "      <td>nondiabetic</td>\n",
       "      <td>0</td>\n",
       "      <td>men</td>\n",
       "    </tr>\n",
       "    <tr>\n",
       "      <th>2</th>\n",
       "      <td>0</td>\n",
       "      <td>nondiabetic</td>\n",
       "      <td>0</td>\n",
       "      <td>men</td>\n",
       "    </tr>\n",
       "    <tr>\n",
       "      <th>3</th>\n",
       "      <td>0</td>\n",
       "      <td>nondiabetic</td>\n",
       "      <td>0</td>\n",
       "      <td>women</td>\n",
       "    </tr>\n",
       "    <tr>\n",
       "      <th>4</th>\n",
       "      <td>1</td>\n",
       "      <td>diabetic</td>\n",
       "      <td>0</td>\n",
       "      <td>women</td>\n",
       "    </tr>\n",
       "  </tbody>\n",
       "</table>\n",
       "</div>"
      ],
      "text/plain": [
       "   Diabetes_binary         Type  MentHlth Gender\n",
       "0                0  nondiabetic        14    men\n",
       "1                0  nondiabetic         0    men\n",
       "2                0  nondiabetic         0    men\n",
       "3                0  nondiabetic         0  women\n",
       "4                1     diabetic         0  women"
      ]
     },
     "execution_count": 5,
     "metadata": {},
     "output_type": "execute_result"
    }
   ],
   "source": [
    "data['menhealth'].head()"
   ]
  },
  {
   "cell_type": "code",
   "execution_count": 6,
   "id": "a0b13bc1-716b-4506-8cd3-2b43a42fe7c8",
   "metadata": {},
   "outputs": [
    {
     "data": {
      "text/plain": [
       "<AxesSubplot:>"
      ]
     },
     "execution_count": 6,
     "metadata": {},
     "output_type": "execute_result"
    },
    {
     "data": {
      "image/png": "[encoded data removed]",
      "text/plain": [
       "<Figure size 432x288 with 1 Axes>"
      ]
     },
     "metadata": {
      "needs_background": "light"
     },
     "output_type": "display_data"
    }
   ],
   "source": [
    "data['menhealth'].plot()"
   ]
  },
  {
   "cell_type": "markdown",
   "id": "01972e63-da2e-4bb5-a185-8702abe09c8e",
   "metadata": {},
   "source": [
    "### Get 'All' dataframe and target and feature columns"
   ]
  },
  {
   "cell_type": "code",
   "execution_count": 7,
   "id": "6274a3ba-6503-439e-bbcc-e9ffcccf5e34",
   "metadata": {},
   "outputs": [],
   "source": [
    "df = data['all']"
   ]
  },
  {
   "cell_type": "code",
   "execution_count": 8,
   "id": "5051fec1",
   "metadata": {},
   "outputs": [],
   "source": [
    "#Multiple feature with feature transformation\n",
    "\n",
    "X = df[['Income','GenHlth','MentHlth','PhysHlth','DiffWalk']]\n",
    "y  = df[\"Diabetes_binary\"]  #Linear Regression Problem"
   ]
  },
  {
   "cell_type": "code",
   "execution_count": 9,
   "id": "478b774c",
   "metadata": {},
   "outputs": [],
   "source": [
    "def train_test_acc(df, feature_cols, response, f_num,track_df):\n",
    "    \"\"\"accepts a list of features and stores acc values in dataframe\"\"\"\n",
    "    # Create feature matrix (X).\n",
    "    X = df[feature_cols]\n",
    "   \n",
    "    # Create response vector (y).\n",
    "    y = df[response]       #independenct variable\n",
    "        \n",
    "    \n",
    "    \n",
    "    #initialize the StandardScaler object -- \n",
    "    s = StandardScaler()\n",
    "     \n",
    "    #use fit transform function to standardize   X \n",
    "    X_scaled  = s.fit_transform(X)\n",
    "    \n",
    "    #Step 1: Split X and y into training and testing sets (using random_state for reproducibility).\n",
    "    X_train, X_test, y_train, y_test = train_test_split(X_scaled,y,random_state=46)\n",
    "\n",
    "   # Instantiate a KNN Classifier KNeighborsClassifier with n_neighbors=1\n",
    "    #knn = KNeighborsClassifier(n_neighbors=1)\n",
    "    logreg = LogisticRegression(solver='lbfgs', max_iter=5000)\n",
    "    \n",
    "    #Set model on the training data\n",
    "    # Fit the model\n",
    "    logreg.fit(X_train, y_train)\n",
    "    \n",
    "    #Test Accuracy\n",
    "    y_pred_test  = logreg.predict(X_test)\n",
    "    \n",
    "    # compute the accuracy\n",
    "    acc_test =accuracy_score(y_test, y_pred_test)\n",
    "    \n",
    "    #Train accuracy\n",
    "    y_pred_train  = logreg.predict(X_train)\n",
    "    \n",
    "    # compute the accuracy\n",
    "    acc_train = accuracy_score(y_train, y_pred_train)\n",
    "    \n",
    "       \n",
    "    \n",
    "    \n",
    "    \n",
    "    #Diff Test and Train accuracy\n",
    "    result =  acc_train - acc_test \n",
    "     \n",
    "    return result   #track_df"
   ]
  },
  {
   "cell_type": "markdown",
   "id": "ebd23290",
   "metadata": {},
   "source": [
    "#### Test out several feature combination.  Select the best accuracy score but not too perfect!"
   ]
  },
  {
   "cell_type": "code",
   "execution_count": 10,
   "id": "6064d978",
   "metadata": {},
   "outputs": [],
   "source": [
    "col1 =['Income','GenHlth','MentHlth','PhysHlth','DiffWalk']"
   ]
  },
  {
   "cell_type": "code",
   "execution_count": 11,
   "id": "2d9d85f7",
   "metadata": {},
   "outputs": [],
   "source": [
    "col2 =['Income', 'PhysHlth','DiffWalk']"
   ]
  },
  {
   "cell_type": "code",
   "execution_count": 12,
   "id": "dbc140d1",
   "metadata": {},
   "outputs": [],
   "source": [
    "col3 = ['HighBP', 'HighChol', 'CholCheck', 'BMI',\n",
    "       'Smoker', 'Stroke', 'HeartDiseaseorAttack', 'PhysActivity', 'Fruits',\n",
    "       'Veggies', 'HvyAlcoholConsump', 'AnyHealthcare', 'NoDocbcCost',\n",
    "       'GenHlth', 'MentHlth', 'PhysHlth', 'DiffWalk', 'Sex', 'Age',\n",
    "       'Education', 'Income']"
   ]
  },
  {
   "cell_type": "code",
   "execution_count": 13,
   "id": "add4f6c0",
   "metadata": {},
   "outputs": [],
   "source": [
    "cols4 =['Income']"
   ]
  },
  {
   "cell_type": "code",
   "execution_count": 14,
   "id": "a07f4c71",
   "metadata": {},
   "outputs": [
    {
     "data": {
      "text/plain": [
       "Index(['ID', 'Diabetes_binary', 'HighBP', 'HighChol', 'CholCheck', 'BMI',\n",
       "       'Smoker', 'Stroke', 'HeartDiseaseorAttack', 'PhysActivity', 'Fruits',\n",
       "       'Veggies', 'HvyAlcoholConsump', 'AnyHealthcare', 'NoDocbcCost',\n",
       "       'GenHlth', 'MentHlth', 'PhysHlth', 'DiffWalk', 'Sex', 'Age',\n",
       "       'Education', 'Income', 'Gender', 'Types', 'GeneralHealth', 'Type',\n",
       "       'income', 'education'],\n",
       "      dtype='object')"
      ]
     },
     "execution_count": 14,
     "metadata": {},
     "output_type": "execute_result"
    }
   ],
   "source": [
    "df.columns"
   ]
  },
  {
   "cell_type": "code",
   "execution_count": 15,
   "id": "03fa9a17",
   "metadata": {},
   "outputs": [],
   "source": [
    "\n",
    "features_data = [col1,col2,col3]"
   ]
  },
  {
   "cell_type": "markdown",
   "id": "11b0ae60",
   "metadata": {},
   "source": [
    "#### Step 3: run functions using csv file and write accuracy results to dataframe"
   ]
  },
  {
   "cell_type": "code",
   "execution_count": 16,
   "id": "b30f510f",
   "metadata": {},
   "outputs": [],
   "source": [
    "#create dataframe to track results\n",
    "track_logresults = pd.DataFrame(columns = [ 'feature_set','acc_train','acc_test','acc_diff','score', 'cols_'])"
   ]
  },
  {
   "cell_type": "code",
   "execution_count": 17,
   "id": "84a3d827",
   "metadata": {
    "scrolled": true
   },
   "outputs": [
    {
     "name": "stdout",
     "output_type": "stream",
     "text": [
      "0.001103752759381904\n",
      "0.001103752759381904\n",
      "0.001103752759381904\n"
     ]
    }
   ],
   "source": [
    "for row in features_data :\n",
    "    #print (row)  \n",
    "    for i, col in enumerate(row):      #loop every item in that row. Row = row, i = index, col is the actual text\n",
    "        if i == 0:\n",
    "            index_ = col\n",
    "        if i == 1:\n",
    "            feature_set = (col.strip().split(\",\"))\n",
    "            print(train_test_acc(df, feature_set, 'Diabetes_binary',index_,track_logresults))\n",
    "            track_logresults = train_test_acc(df, feature_set, 'Diabetes_binary',index_,track_logresults)"
   ]
  },
  {
   "cell_type": "code",
   "execution_count": 18,
   "id": "dd7ba1d9-0b1d-4f12-b78f-bc0f823ca233",
   "metadata": {},
   "outputs": [
    {
     "data": {
      "text/plain": [
       "0.001103752759381904"
      ]
     },
     "execution_count": 18,
     "metadata": {},
     "output_type": "execute_result"
    }
   ],
   "source": [
    "#All columns have the same accuracy score\n",
    "track_logresults"
   ]
  },
  {
   "cell_type": "markdown",
   "id": "4772ec9a",
   "metadata": {},
   "source": [
    "### Prepare X, y Matrices"
   ]
  },
  {
   "cell_type": "markdown",
   "id": "eb8d4395",
   "metadata": {},
   "source": [
    "\n",
    "Nominal Classification Problem: Predict diabetis for a customer"
   ]
  },
  {
   "cell_type": "code",
   "execution_count": 19,
   "id": "f6cf0b36",
   "metadata": {},
   "outputs": [],
   "source": [
    " \n",
    "y = df['Diabetes_binary']\n",
    "X = df[col1]"
   ]
  },
  {
   "cell_type": "code",
   "execution_count": 20,
   "id": "eeee3a44",
   "metadata": {},
   "outputs": [
    {
     "data": {
      "text/html": [
       "<div>\n",
       "<style scoped>\n",
       "    .dataframe tbody tr th:only-of-type {\n",
       "        vertical-align: middle;\n",
       "    }\n",
       "\n",
       "    .dataframe tbody tr th {\n",
       "        vertical-align: top;\n",
       "    }\n",
       "\n",
       "    .dataframe thead th {\n",
       "        text-align: right;\n",
       "    }\n",
       "</style>\n",
       "<table border=\"1\" class=\"dataframe\">\n",
       "  <thead>\n",
       "    <tr style=\"text-align: right;\">\n",
       "      <th></th>\n",
       "      <th>Income</th>\n",
       "      <th>GenHlth</th>\n",
       "      <th>MentHlth</th>\n",
       "      <th>PhysHlth</th>\n",
       "      <th>DiffWalk</th>\n",
       "    </tr>\n",
       "  </thead>\n",
       "  <tbody>\n",
       "    <tr>\n",
       "      <th>0</th>\n",
       "      <td>1</td>\n",
       "      <td>3</td>\n",
       "      <td>10</td>\n",
       "      <td>0</td>\n",
       "      <td>0</td>\n",
       "    </tr>\n",
       "    <tr>\n",
       "      <th>1</th>\n",
       "      <td>1</td>\n",
       "      <td>1</td>\n",
       "      <td>0</td>\n",
       "      <td>0</td>\n",
       "      <td>0</td>\n",
       "    </tr>\n",
       "    <tr>\n",
       "      <th>2</th>\n",
       "      <td>1</td>\n",
       "      <td>2</td>\n",
       "      <td>0</td>\n",
       "      <td>0</td>\n",
       "      <td>0</td>\n",
       "    </tr>\n",
       "  </tbody>\n",
       "</table>\n",
       "</div>"
      ],
      "text/plain": [
       "   Income  GenHlth  MentHlth  PhysHlth  DiffWalk\n",
       "0       1        3        10         0         0\n",
       "1       1        1         0         0         0\n",
       "2       1        2         0         0         0"
      ]
     },
     "execution_count": 20,
     "metadata": {},
     "output_type": "execute_result"
    }
   ],
   "source": [
    "X.head(3)"
   ]
  },
  {
   "cell_type": "code",
   "execution_count": 21,
   "id": "dc0b0483",
   "metadata": {},
   "outputs": [
    {
     "data": {
      "text/plain": [
       "(253680, 5)"
      ]
     },
     "execution_count": 21,
     "metadata": {},
     "output_type": "execute_result"
    }
   ],
   "source": [
    "X.shape"
   ]
  },
  {
   "cell_type": "markdown",
   "id": "708ee7e3",
   "metadata": {},
   "source": [
    "### Scale the data"
   ]
  },
  {
   "cell_type": "code",
   "execution_count": 22,
   "id": "3d3a01a9",
   "metadata": {},
   "outputs": [],
   "source": [
    "scaler = StandardScaler()\n",
    "scaler.fit(X) \n",
    "X_scaled = scaler.transform(X)"
   ]
  },
  {
   "cell_type": "code",
   "execution_count": 23,
   "id": "689fe66d",
   "metadata": {},
   "outputs": [
    {
     "data": {
      "text/plain": [
       "array([[-2.44013754,  0.45729435,  0.91938247, -0.48659241, -0.44971813],\n",
       "       [-2.44013754, -1.41453187, -0.42962961, -0.48659241, -0.44971813]])"
      ]
     },
     "execution_count": 23,
     "metadata": {},
     "output_type": "execute_result"
    }
   ],
   "source": [
    "X_scaled [:2]"
   ]
  },
  {
   "cell_type": "markdown",
   "id": "e64e08d7",
   "metadata": {},
   "source": [
    "### Building Models"
   ]
  },
  {
   "cell_type": "markdown",
   "id": "0dd8093c",
   "metadata": {},
   "source": [
    "Logistic Regression using Test Train Split\n",
    "KNN using a cross-validation, GridSearch\n",
    "Random Forest"
   ]
  },
  {
   "cell_type": "markdown",
   "id": "68095ba8",
   "metadata": {},
   "source": [
    "#### reTest Train Split after Scaler to improve accuracy score"
   ]
  },
  {
   "cell_type": "code",
   "execution_count": 24,
   "id": "9844e1f2",
   "metadata": {},
   "outputs": [
    {
     "data": {
      "text/plain": [
       "LogisticRegression()"
      ]
     },
     "execution_count": 24,
     "metadata": {},
     "output_type": "execute_result"
    }
   ],
   "source": [
    "#split the data into training and testing data\n",
    "X_train, X_test, y_train, y_test = train_test_split(X_scaled, y, random_state=123)\n",
    "\n",
    "logreg  = LogisticRegression()\n",
    "logreg.fit(X_train, y_train)"
   ]
  },
  {
   "cell_type": "code",
   "execution_count": 25,
   "id": "3352ae25",
   "metadata": {},
   "outputs": [],
   "source": [
    "\n",
    "#predict values usign X test\n",
    "y_pred = logreg.predict(X_test)"
   ]
  },
  {
   "cell_type": "code",
   "execution_count": 26,
   "id": "6c2da571-42d7-4eee-b439-43184c755c53",
   "metadata": {
    "scrolled": true
   },
   "outputs": [
    {
     "data": {
      "text/plain": [
       "array([0, 0, 0, 0, 0], dtype=int64)"
      ]
     },
     "execution_count": 26,
     "metadata": {},
     "output_type": "execute_result"
    }
   ],
   "source": [
    "y_pred[:5]"
   ]
  },
  {
   "cell_type": "code",
   "execution_count": 27,
   "id": "7cf92efa",
   "metadata": {},
   "outputs": [
    {
     "name": "stdout",
     "output_type": "stream",
     "text": [
      "Test Accuracy: 0.8572216966256702\n",
      "Test Accuracy: 0.8572216966256702\n"
     ]
    }
   ],
   "source": [
    " \n",
    "# What is our accuracy on the test set?\n",
    "\n",
    "# Evaluate the performance using .score() method.\n",
    "\n",
    "acc_test =logreg.score(X_test, y_test)\n",
    "print(f'Test Accuracy: {acc_test}')\n",
    "#verify accuracy result\n",
    "print(f'Test Accuracy: {np.mean(y_test == logreg.predict(X_test))}')"
   ]
  },
  {
   "cell_type": "code",
   "execution_count": 28,
   "id": "2fc449ef",
   "metadata": {},
   "outputs": [
    {
     "name": "stdout",
     "output_type": "stream",
     "text": [
      "Train Accuracy: 0.8582255860401555\n",
      "Train Accuracy: 0.8582255860401555\n"
     ]
    }
   ],
   "source": [
    "# What is our accuracy on the test set?\n",
    "\n",
    "# Evaluate the performance using .score() method.\n",
    "\n",
    "acc_train =logreg.score(X_train, y_train)\n",
    "print(f'Train Accuracy: {acc_train}')\n",
    "#verify accuracy result\n",
    "print(f'Train Accuracy: {np.mean(y_train == logreg.predict(X_train))}')"
   ]
  },
  {
   "cell_type": "code",
   "execution_count": 29,
   "id": "14341437",
   "metadata": {},
   "outputs": [
    {
     "name": "stdout",
     "output_type": "stream",
     "text": [
      "Difference between test and train: 0.0010038894144853705\n"
     ]
    }
   ],
   "source": [
    "print(f'Difference between test and train: {abs(acc_train - acc_test) }')"
   ]
  },
  {
   "cell_type": "markdown",
   "id": "67a9b1ca",
   "metadata": {},
   "source": [
    "Difference between test and train is 0.0009565"
   ]
  },
  {
   "cell_type": "code",
   "execution_count": null,
   "id": "33a349bf",
   "metadata": {},
   "outputs": [],
   "source": []
  },
  {
   "cell_type": "markdown",
   "id": "7bd837c4-192a-4a28-9e21-350bdce17468",
   "metadata": {},
   "source": [
    "### Accuracy and baseline"
   ]
  },
  {
   "cell_type": "code",
   "execution_count": null,
   "id": "fd7b0ba7",
   "metadata": {},
   "outputs": [],
   "source": []
  },
  {
   "cell_type": "markdown",
   "id": "183d2da6-a401-4444-8ee0-20b91d83e09b",
   "metadata": {},
   "source": [
    "Store the predicted probabilities of class=1 in its own column in the data set."
   ]
  },
  {
   "cell_type": "code",
   "execution_count": 30,
   "id": "18d88bb2-f20f-47c1-a98c-16dca1ea3517",
   "metadata": {
    "scrolled": true
   },
   "outputs": [
    {
     "name": "stderr",
     "output_type": "stream",
     "text": [
      "C:\\ProgramData\\Anaconda3\\lib\\site-packages\\sklearn\\base.py:443: UserWarning: X has feature names, but LogisticRegression was fitted without feature names\n",
      "  warnings.warn(\n"
     ]
    }
   ],
   "source": [
    "\n",
    "# Store the predicted probabilities of class 1.\n",
    "\n",
    "df['diagnosis_pred_prob'] = logreg.predict_proba(X)[:, 1]"
   ]
  },
  {
   "cell_type": "code",
   "execution_count": 31,
   "id": "015046e1-3515-4482-92a8-99186e87147d",
   "metadata": {},
   "outputs": [
    {
     "data": {
      "text/html": [
       "<div>\n",
       "<style scoped>\n",
       "    .dataframe tbody tr th:only-of-type {\n",
       "        vertical-align: middle;\n",
       "    }\n",
       "\n",
       "    .dataframe tbody tr th {\n",
       "        vertical-align: top;\n",
       "    }\n",
       "\n",
       "    .dataframe thead th {\n",
       "        text-align: right;\n",
       "    }\n",
       "</style>\n",
       "<table border=\"1\" class=\"dataframe\">\n",
       "  <thead>\n",
       "    <tr style=\"text-align: right;\">\n",
       "      <th></th>\n",
       "      <th>ID</th>\n",
       "      <th>Diabetes_binary</th>\n",
       "      <th>HighBP</th>\n",
       "      <th>HighChol</th>\n",
       "      <th>CholCheck</th>\n",
       "      <th>BMI</th>\n",
       "      <th>Smoker</th>\n",
       "      <th>Stroke</th>\n",
       "      <th>HeartDiseaseorAttack</th>\n",
       "      <th>PhysActivity</th>\n",
       "      <th>...</th>\n",
       "      <th>Age</th>\n",
       "      <th>Education</th>\n",
       "      <th>Income</th>\n",
       "      <th>Gender</th>\n",
       "      <th>Types</th>\n",
       "      <th>GeneralHealth</th>\n",
       "      <th>Type</th>\n",
       "      <th>income</th>\n",
       "      <th>education</th>\n",
       "      <th>diagnosis_pred_prob</th>\n",
       "    </tr>\n",
       "  </thead>\n",
       "  <tbody>\n",
       "    <tr>\n",
       "      <th>0</th>\n",
       "      <td>215265</td>\n",
       "      <td>0</td>\n",
       "      <td>0</td>\n",
       "      <td>1</td>\n",
       "      <td>0</td>\n",
       "      <td>30</td>\n",
       "      <td>1</td>\n",
       "      <td>0</td>\n",
       "      <td>0</td>\n",
       "      <td>1</td>\n",
       "      <td>...</td>\n",
       "      <td>3</td>\n",
       "      <td>4</td>\n",
       "      <td>1</td>\n",
       "      <td>men</td>\n",
       "      <td>nondiabetic</td>\n",
       "      <td>Good</td>\n",
       "      <td>nondiabetic</td>\n",
       "      <td>&lt;10K</td>\n",
       "      <td>12orGED</td>\n",
       "      <td>0.277916</td>\n",
       "    </tr>\n",
       "    <tr>\n",
       "      <th>1</th>\n",
       "      <td>141614</td>\n",
       "      <td>0</td>\n",
       "      <td>0</td>\n",
       "      <td>0</td>\n",
       "      <td>1</td>\n",
       "      <td>35</td>\n",
       "      <td>1</td>\n",
       "      <td>0</td>\n",
       "      <td>0</td>\n",
       "      <td>1</td>\n",
       "      <td>...</td>\n",
       "      <td>7</td>\n",
       "      <td>4</td>\n",
       "      <td>1</td>\n",
       "      <td>women</td>\n",
       "      <td>nondiabetic</td>\n",
       "      <td>Excellent</td>\n",
       "      <td>nondiabetic</td>\n",
       "      <td>&lt;10K</td>\n",
       "      <td>12orGED</td>\n",
       "      <td>0.189390</td>\n",
       "    </tr>\n",
       "    <tr>\n",
       "      <th>2</th>\n",
       "      <td>28979</td>\n",
       "      <td>0</td>\n",
       "      <td>0</td>\n",
       "      <td>0</td>\n",
       "      <td>1</td>\n",
       "      <td>25</td>\n",
       "      <td>0</td>\n",
       "      <td>0</td>\n",
       "      <td>0</td>\n",
       "      <td>1</td>\n",
       "      <td>...</td>\n",
       "      <td>10</td>\n",
       "      <td>2</td>\n",
       "      <td>1</td>\n",
       "      <td>men</td>\n",
       "      <td>nondiabetic</td>\n",
       "      <td>Very good</td>\n",
       "      <td>nondiabetic</td>\n",
       "      <td>&lt;10K</td>\n",
       "      <td>1-8</td>\n",
       "      <td>0.335810</td>\n",
       "    </tr>\n",
       "    <tr>\n",
       "      <th>3</th>\n",
       "      <td>123066</td>\n",
       "      <td>1</td>\n",
       "      <td>0</td>\n",
       "      <td>1</td>\n",
       "      <td>1</td>\n",
       "      <td>45</td>\n",
       "      <td>0</td>\n",
       "      <td>0</td>\n",
       "      <td>0</td>\n",
       "      <td>0</td>\n",
       "      <td>...</td>\n",
       "      <td>4</td>\n",
       "      <td>3</td>\n",
       "      <td>1</td>\n",
       "      <td>men</td>\n",
       "      <td>diabetics</td>\n",
       "      <td>Fair</td>\n",
       "      <td>diabetic</td>\n",
       "      <td>&lt;10K</td>\n",
       "      <td>9-11</td>\n",
       "      <td>0.025910</td>\n",
       "    </tr>\n",
       "    <tr>\n",
       "      <th>4</th>\n",
       "      <td>36247</td>\n",
       "      <td>0</td>\n",
       "      <td>0</td>\n",
       "      <td>0</td>\n",
       "      <td>1</td>\n",
       "      <td>28</td>\n",
       "      <td>0</td>\n",
       "      <td>0</td>\n",
       "      <td>0</td>\n",
       "      <td>1</td>\n",
       "      <td>...</td>\n",
       "      <td>13</td>\n",
       "      <td>6</td>\n",
       "      <td>1</td>\n",
       "      <td>women</td>\n",
       "      <td>nondiabetic</td>\n",
       "      <td>Good</td>\n",
       "      <td>nondiabetic</td>\n",
       "      <td>&lt;10K</td>\n",
       "      <td>C4+</td>\n",
       "      <td>0.572662</td>\n",
       "    </tr>\n",
       "  </tbody>\n",
       "</table>\n",
       "<p>5 rows × 30 columns</p>\n",
       "</div>"
      ],
      "text/plain": [
       "       ID  Diabetes_binary  HighBP  HighChol  CholCheck  BMI  Smoker  Stroke  \\\n",
       "0  215265                0       0         1          0   30       1       0   \n",
       "1  141614                0       0         0          1   35       1       0   \n",
       "2   28979                0       0         0          1   25       0       0   \n",
       "3  123066                1       0         1          1   45       0       0   \n",
       "4   36247                0       0         0          1   28       0       0   \n",
       "\n",
       "   HeartDiseaseorAttack  PhysActivity  ...  Age  Education  Income  Gender  \\\n",
       "0                     0             1  ...    3          4       1     men   \n",
       "1                     0             1  ...    7          4       1   women   \n",
       "2                     0             1  ...   10          2       1     men   \n",
       "3                     0             0  ...    4          3       1     men   \n",
       "4                     0             1  ...   13          6       1   women   \n",
       "\n",
       "         Types  GeneralHealth         Type  income  education  \\\n",
       "0  nondiabetic           Good  nondiabetic    <10K    12orGED   \n",
       "1  nondiabetic      Excellent  nondiabetic    <10K    12orGED   \n",
       "2  nondiabetic      Very good  nondiabetic    <10K        1-8   \n",
       "3    diabetics           Fair     diabetic    <10K       9-11   \n",
       "4  nondiabetic           Good  nondiabetic    <10K        C4+   \n",
       "\n",
       "   diagnosis_pred_prob  \n",
       "0             0.277916  \n",
       "1             0.189390  \n",
       "2             0.335810  \n",
       "3             0.025910  \n",
       "4             0.572662  \n",
       "\n",
       "[5 rows x 30 columns]"
      ]
     },
     "execution_count": 31,
     "metadata": {},
     "output_type": "execute_result"
    }
   ],
   "source": [
    "df.head()"
   ]
  },
  {
   "cell_type": "code",
   "execution_count": 32,
   "id": "c702740a-1a20-4d60-94fd-b0bd0d7b56a0",
   "metadata": {},
   "outputs": [
    {
     "name": "stdout",
     "output_type": "stream",
     "text": [
      "Accuracy: 0.8443550930305898\n"
     ]
    },
    {
     "name": "stderr",
     "output_type": "stream",
     "text": [
      "C:\\ProgramData\\Anaconda3\\lib\\site-packages\\sklearn\\base.py:443: UserWarning: X has feature names, but LogisticRegression was fitted without feature names\n",
      "  warnings.warn(\n"
     ]
    }
   ],
   "source": [
    "# get the accuracy - note .score() generates the default score appropriate for the model.\n",
    "# In this case since logistic regression is a classification method it uses accuracy as the default metric.\n",
    "acc = logreg.score(X,y)\n",
    "\n",
    "# Compute the accuracy using the .score() method.\n",
    "print(f'Accuracy: {acc}')"
   ]
  },
  {
   "cell_type": "markdown",
   "id": "88cdd3d6-7456-460d-829e-1d66517866e5",
   "metadata": {},
   "source": [
    "### Recall that our \"baseline\" accuracy is the proportion of the majority class label."
   ]
  },
  {
   "cell_type": "code",
   "execution_count": 33,
   "id": "e45973c9-4431-409d-9946-88d99eaf21cf",
   "metadata": {},
   "outputs": [
    {
     "data": {
      "text/plain": [
       "0.8600599180069379"
      ]
     },
     "execution_count": 33,
     "metadata": {},
     "output_type": "execute_result"
    }
   ],
   "source": [
    "\n",
    "1. - y_test.mean()"
   ]
  },
  {
   "cell_type": "markdown",
   "id": "7178663d-fa10-4188-a3d4-7709e720eead",
   "metadata": {},
   "source": [
    "#### What is our accuracy on the test set?"
   ]
  },
  {
   "cell_type": "code",
   "execution_count": 34,
   "id": "3db820b6-7999-4551-9413-213f903468fd",
   "metadata": {},
   "outputs": [
    {
     "name": "stdout",
     "output_type": "stream",
     "text": [
      "Accuracy: 0.8572216966256702\n"
     ]
    }
   ],
   "source": [
    "\n",
    "\n",
    "print(f'Accuracy: {np.mean(y_test == logreg.predict(X_test))}')"
   ]
  },
  {
   "cell_type": "markdown",
   "id": "20bc7ab1",
   "metadata": {},
   "source": [
    "#### View confusion matrix detail"
   ]
  },
  {
   "cell_type": "code",
   "execution_count": 35,
   "id": "84a3c3a1-518d-425b-9899-909102ad0744",
   "metadata": {
    "scrolled": true
   },
   "outputs": [
    {
     "data": {
      "text/plain": [
       "0    0.860667\n",
       "1    0.139333\n",
       "Name: Diabetes_binary, dtype: float64"
      ]
     },
     "execution_count": 35,
     "metadata": {},
     "output_type": "execute_result"
    }
   ],
   "source": [
    "df['Diabetes_binary'].value_counts(normalize=True)"
   ]
  },
  {
   "cell_type": "markdown",
   "id": "9d3bdfe7-b5d2-4bef-945a-0b06f64043cd",
   "metadata": {
    "jupyter": {
     "source_hidden": true
    }
   },
   "source": [
    "have more data for non diabetics"
   ]
  },
  {
   "cell_type": "code",
   "execution_count": 36,
   "id": "23771476-8a5f-47a8-8176-da9e383f7988",
   "metadata": {},
   "outputs": [],
   "source": [
    "logreg.predict_proba = logreg.predict(X_test)"
   ]
  },
  {
   "cell_type": "code",
   "execution_count": 37,
   "id": "247ca514-0ec1-49fa-8c8c-26ed03882b27",
   "metadata": {},
   "outputs": [
    {
     "data": {
      "text/plain": [
       "(53924, 621, 8434, 441)"
      ]
     },
     "execution_count": 37,
     "metadata": {},
     "output_type": "execute_result"
    }
   ],
   "source": [
    "\n",
    "# .ravel() flattens out a matrix into 1-d array.\n",
    "tn, fp, fn, tp = confusion_matrix(y_true=y_test, y_pred=logreg.predict_proba > .5).ravel() \n",
    "(tn, fp, fn, tp)"
   ]
  },
  {
   "cell_type": "code",
   "execution_count": 38,
   "id": "7230418c-2cd9-4603-9889-cf10095e22f1",
   "metadata": {},
   "outputs": [],
   "source": [
    "y_pred_binary = (logreg.predict_proba > .5).ravel()  # Reshape to 2D and apply threshold"
   ]
  },
  {
   "cell_type": "code",
   "execution_count": 39,
   "id": "f197d54e-deea-40ca-9891-24dacac7fdbe",
   "metadata": {},
   "outputs": [
    {
     "data": {
      "text/plain": [
       "(53924, 621, 8434, 441)"
      ]
     },
     "execution_count": 39,
     "metadata": {},
     "output_type": "execute_result"
    }
   ],
   "source": [
    "#y_pred_proba = logreg.predict_proba()  # Get the probabilities\n",
    "\n",
    "tn, fp, fn, tp = confusion_matrix(y_true=y_test, y_pred=y_pred_binary).ravel()\n",
    "(tn, fp, fn, tp)"
   ]
  },
  {
   "cell_type": "code",
   "execution_count": 40,
   "id": "53c31f8b",
   "metadata": {
    "scrolled": true
   },
   "outputs": [
    {
     "name": "stdout",
     "output_type": "stream",
     "text": [
      "Confusion Matrix:\n",
      " [[53924   621]\n",
      " [ 8434   441]]\n"
     ]
    }
   ],
   "source": [
    "# Lower the threshold - how does the confusion matrix change?\n",
    "print(f'Confusion Matrix:\\n {confusion_matrix(y_true=y_test, y_pred=logreg.predict_proba > .3)}')"
   ]
  },
  {
   "cell_type": "code",
   "execution_count": 41,
   "id": "d08d9aca-1036-4e2a-a2a8-f87e60b7b53f",
   "metadata": {},
   "outputs": [],
   "source": [
    "definitions = pd.Series([\"NO\", \"Yes\"], dtype=\"category\")"
   ]
  },
  {
   "cell_type": "code",
   "execution_count": 42,
   "id": "b949b2f8-c309-4638-aeee-469d073db7ed",
   "metadata": {},
   "outputs": [
    {
     "data": {
      "text/plain": [
       "{0: 'NO', 1: 'Yes'}"
      ]
     },
     "execution_count": 42,
     "metadata": {},
     "output_type": "execute_result"
    }
   ],
   "source": [
    "reversefactor = dict(zip(range(2),definitions))\n",
    "reversefactor"
   ]
  },
  {
   "cell_type": "code",
   "execution_count": 43,
   "id": "8356e441",
   "metadata": {},
   "outputs": [
    {
     "name": "stdout",
     "output_type": "stream",
     "text": [
      "Predicted Type      0    1\n",
      "Actual Type               \n",
      "0               53924  621\n",
      "1                8434  441\n"
     ]
    }
   ],
   "source": [
    "#Reverse factorize (converting y_pred from 0s,1s  to \n",
    "#Dissatfied, loyalist, High_Maintenance,Potential_Loyalist, and Satisified\n",
    "\n",
    "y_test_v = np.vectorize(reversefactor.get)(y_test)\n",
    "y_pred_v = np.vectorize(reversefactor.get)(y_pred)\n",
    "\n",
    "# Making the Confusion Matrix\n",
    "print(pd.crosstab(y_test, y_pred, rownames=['Actual Type'], colnames=['Predicted Type']))"
   ]
  },
  {
   "cell_type": "code",
   "execution_count": 44,
   "id": "9a95ae26-d558-4fdc-8850-6de1733264d8",
   "metadata": {
    "scrolled": true
   },
   "outputs": [
    {
     "data": {
      "image/png": "[encoded data removed]",
      "text/plain": [
       "<Figure size 432x288 with 2 Axes>"
      ]
     },
     "metadata": {
      "needs_background": "light"
     },
     "output_type": "display_data"
    }
   ],
   "source": [
    " \n",
    "from sklearn.metrics import confusion_matrix, ConfusionMatrixDisplay\n",
    "cm = confusion_matrix(y_true=y_test, y_pred=logreg.predict_proba > .3)\n",
    "disp = ConfusionMatrixDisplay(confusion_matrix=cm,\n",
    "                              display_labels=['Denied','Admitted'])\n",
    "disp.plot()\n",
    "plt.title('Confusion Matrix')\n",
    "plt.show()"
   ]
  },
  {
   "cell_type": "code",
   "execution_count": 45,
   "id": "a909bef1-c47d-4884-a980-402d7e3cb500",
   "metadata": {},
   "outputs": [
    {
     "name": "stdout",
     "output_type": "stream",
     "text": [
      "Accuracy (TN+TP)/Total = 85.72216966256701%\n"
     ]
    }
   ],
   "source": [
    "# Answer - compute accuracy\n",
    "acc = (tn+tp)/(tp+tn+fp+fn)\n",
    "print(f'Accuracy (TN+TP)/Total = {acc*100}%')"
   ]
  },
  {
   "cell_type": "code",
   "execution_count": 46,
   "id": "dd808918-214a-4bfb-9bc1-ca738b09f585",
   "metadata": {},
   "outputs": [
    {
     "data": {
      "image/png": "[encoded data removed]",
      "text/plain": [
       "<Figure size 432x288 with 2 Axes>"
      ]
     },
     "metadata": {
      "needs_background": "light"
     },
     "output_type": "display_data"
    }
   ],
   "source": [
    "\n",
    "from sklearn.metrics import confusion_matrix, ConfusionMatrixDisplay\n",
    "cm = confusion_matrix(y_true=y_test, y_pred=logreg.predict_proba > .3)\n",
    "disp = ConfusionMatrixDisplay(confusion_matrix=cm,\n",
    "                              display_labels=['Denied','Admitted'])\n",
    "disp.plot()\n",
    "plt.title('Confusion Matrix')\n",
    "plt.show()"
   ]
  },
  {
   "cell_type": "code",
   "execution_count": 47,
   "id": "45b01bf9",
   "metadata": {
    "scrolled": true
   },
   "outputs": [
    {
     "name": "stdout",
     "output_type": "stream",
     "text": [
      "Micro Precision: 0.86\n",
      "Micro Recall: 0.86\n",
      "Micro F1-score: 0.86\n",
      "\n"
     ]
    }
   ],
   "source": [
    "# confusion matrix statisitics\n",
    "#for multi-class classificaiton we only need to calcuate the Micro average\n",
    "#In a multi-class classification setup with highly imbalanced classes, micro-averaging is preferable over macro-averaging.\n",
    "#reference: https://scikit-learn.org/stable/auto_examples/model_selection/plot_roc.html#one-vs-rest-multiclass-roc\n",
    "from sklearn.metrics import accuracy_score, precision_score, recall_score, f1_score\n",
    "\n",
    "print('Micro Precision: {:.2f}'.format(precision_score(y_test, y_pred, average='micro')))\n",
    "print('Micro Recall: {:.2f}'.format(recall_score(y_test, y_pred, average='micro')))\n",
    "print('Micro F1-score: {:.2f}\\n'.format(f1_score(y_test, y_pred, average='micro')))"
   ]
  },
  {
   "cell_type": "markdown",
   "id": "a210e79a",
   "metadata": {},
   "source": [
    "It is calculated by considering the total TP, total FP and total FN of the model. It does not consider each class individually, It calculates the metrics globally.\n",
    "\n",
    "As you can see When we are calculating the metrics globally all the measures become equal. Also if you calculate accuracy you will see that,\n",
    "\n",
    "Precision = Recall = Micro F1 = Accuracy\n",
    "\n",
    "Interpretation: Precision is higher than the recall and both precisio and recall are lower than total accuracy."
   ]
  },
  {
   "cell_type": "code",
   "execution_count": 48,
   "id": "2a84b68f",
   "metadata": {},
   "outputs": [
    {
     "name": "stdout",
     "output_type": "stream",
     "text": [
      "Weighted Precision: 0.80\n",
      "Weighted Recall: 0.86\n",
      "Weighted F1-score: 0.81\n"
     ]
    }
   ],
   "source": [
    "#Looks at all of the individual types and the total weight avearge\n",
    "\n",
    "\n",
    "print('Weighted Precision: {:.2f}'.format(precision_score(y_test, y_pred, average='weighted')))\n",
    "print('Weighted Recall: {:.2f}'.format(recall_score(y_test, y_pred, average='weighted')))\n",
    "print('Weighted F1-score: {:.2f}'.format(f1_score(y_test, y_pred, average='weighted')))"
   ]
  },
  {
   "cell_type": "markdown",
   "id": "16df2558",
   "metadata": {},
   "source": [
    "Interpretation: The average performance of each on of the individual customer types have a 80% precision on average."
   ]
  },
  {
   "cell_type": "markdown",
   "id": "1c2eb351",
   "metadata": {},
   "source": [
    "Will test with 1-more model.  Searching for a model that will have a better accuracy "
   ]
  },
  {
   "cell_type": "code",
   "execution_count": 49,
   "id": "8fa2f554-c2b6-432c-b271-9031cdecac4b",
   "metadata": {
    "scrolled": true
   },
   "outputs": [
    {
     "name": "stderr",
     "output_type": "stream",
     "text": [
      "C:\\ProgramData\\Anaconda3\\lib\\site-packages\\sklearn\\base.py:443: UserWarning: X has feature names, but LogisticRegression was fitted without feature names\n",
      "  warnings.warn(\n"
     ]
    }
   ],
   "source": [
    "# Make predictions for all values of X and add back to the original DataFrame.\n",
    "y_pred = logreg.predict(X)"
   ]
  },
  {
   "cell_type": "code",
   "execution_count": null,
   "id": "f6fb1ed7-fd56-4d06-ba59-2561a17feada",
   "metadata": {},
   "outputs": [],
   "source": []
  },
  {
   "cell_type": "markdown",
   "id": "fbf7888c",
   "metadata": {},
   "source": [
    "### Random Forest  "
   ]
  },
  {
   "cell_type": "code",
   "execution_count": 50,
   "id": "1d03a2c3",
   "metadata": {},
   "outputs": [],
   "source": [
    "#initialize the StandardScaler object -- \n",
    "s = StandardScaler()\n",
    "     \n",
    "#use fit transform function to standardize   X \n",
    "X_scaled = s.fit_transform(X)"
   ]
  },
  {
   "cell_type": "code",
   "execution_count": 51,
   "id": "84e58e9e",
   "metadata": {},
   "outputs": [],
   "source": [
    "\n",
    "#y = df['types']\n",
    "#X = cleaned_data[feature_set]\n",
    "#Step 1: Split X and y into training and testing sets (using random_state for reproducibility\n",
    "X_train, X_test, y_train, y_test = train_test_split(X, y, random_state=99)\n",
    "\n",
    "#Step 2: Instantiate\n",
    "rfc = RandomForestClassifier(random_state=1234)\n",
    "# fit the model\n",
    "rfc.fit(X_train, y_train)\n",
    "\n",
    "y_pred_class = rfc.predict(X_test)"
   ]
  },
  {
   "cell_type": "code",
   "execution_count": 52,
   "id": "3c770f21",
   "metadata": {},
   "outputs": [
    {
     "data": {
      "text/plain": [
       "0.8536581520025228"
      ]
     },
     "execution_count": 52,
     "metadata": {},
     "output_type": "execute_result"
    }
   ],
   "source": [
    "# evaluate model using the .score method\n",
    "acc_rfc_test = rfc.score(X_test, y_test)\n",
    "acc_rfc_test"
   ]
  },
  {
   "cell_type": "code",
   "execution_count": 53,
   "id": "bc0952e1",
   "metadata": {},
   "outputs": [
    {
     "data": {
      "text/plain": [
       "0.8703143067381478"
      ]
     },
     "execution_count": 53,
     "metadata": {},
     "output_type": "execute_result"
    }
   ],
   "source": [
    "# evaluate model using the .score method\n",
    "acc_rfc_train = rfc.score(X_train, y_train)\n",
    "acc_rfc_train"
   ]
  },
  {
   "cell_type": "markdown",
   "id": "4aeaa579-5805-406e-8680-f7c78c5ad946",
   "metadata": {
    "scrolled": true
   },
   "source": [
    "print(f'Accuracy is better using the Random Forest Model by {acc_rfc_train - acc_train  } percent')"
   ]
  },
  {
   "cell_type": "code",
   "execution_count": null,
   "id": "e24363f3-7ec1-459b-9191-e100db06c5ee",
   "metadata": {},
   "outputs": [],
   "source": []
  },
  {
   "cell_type": "markdown",
   "id": "c70ec2c5",
   "metadata": {},
   "source": [
    "### I will use the Random Forest model to make my predictions!"
   ]
  },
  {
   "cell_type": "code",
   "execution_count": 54,
   "id": "ad35f277",
   "metadata": {
    "scrolled": true
   },
   "outputs": [],
   "source": [
    "#Make predictions on all records and save the results\n",
    "data['all']['y_pred'] = rfc.predict(X)\n",
    "\n"
   ]
  },
  {
   "cell_type": "code",
   "execution_count": 55,
   "id": "73d7c64e",
   "metadata": {},
   "outputs": [
    {
     "data": {
      "text/plain": [
       "Index(['ID', 'Diabetes_binary', 'HighBP', 'HighChol', 'CholCheck', 'BMI',\n",
       "       'Smoker', 'Stroke', 'HeartDiseaseorAttack', 'PhysActivity', 'Fruits',\n",
       "       'Veggies', 'HvyAlcoholConsump', 'AnyHealthcare', 'NoDocbcCost',\n",
       "       'GenHlth', 'MentHlth', 'PhysHlth', 'DiffWalk', 'Sex', 'Age',\n",
       "       'Education', 'Income', 'Gender', 'Types', 'GeneralHealth', 'Type',\n",
       "       'income', 'education', 'diagnosis_pred_prob', 'y_pred'],\n",
       "      dtype='object')"
      ]
     },
     "execution_count": 55,
     "metadata": {},
     "output_type": "execute_result"
    }
   ],
   "source": [
    "data['all'].columns"
   ]
  },
  {
   "cell_type": "code",
   "execution_count": 56,
   "id": "55d5c31c",
   "metadata": {},
   "outputs": [],
   "source": [
    "prepared_data.write_data(data, 'data/prepared',index=True )"
   ]
  },
  {
   "cell_type": "code",
   "execution_count": 57,
   "id": "07328b36-d750-428b-8196-dac6b00cd743",
   "metadata": {
    "scrolled": true
   },
   "outputs": [
    {
     "data": {
      "text/plain": [
       "(253680, 5)"
      ]
     },
     "execution_count": 57,
     "metadata": {},
     "output_type": "execute_result"
    }
   ],
   "source": [
    "X.shape"
   ]
  },
  {
   "cell_type": "code",
   "execution_count": 58,
   "id": "d9c48cad-24a3-4445-9b21-4c84aeff4e5d",
   "metadata": {},
   "outputs": [],
   "source": [
    "#import my class with data.  setup in feature_engineering notebook\n",
    "\n",
    "from prepare import PrepareData"
   ]
  },
  {
   "cell_type": "markdown",
   "id": "62fc9d8c",
   "metadata": {},
   "source": [
    "## Graph prediction: At what point does the diagnosis turn from 0 to 1 for my features\n",
    "Income\tGenHlth\tMentHlth\tPhysHlth\tDiffWalk"
   ]
  },
  {
   "cell_type": "code",
   "execution_count": 59,
   "id": "66f98dc2-1157-4109-94de-b724deefbc70",
   "metadata": {},
   "outputs": [],
   "source": [
    "#Testing - Read local data\n",
    "prepared_data = PrepareData(download_new=False)"
   ]
  },
  {
   "cell_type": "code",
   "execution_count": 60,
   "id": "9307650f-f19b-4d3b-be47-b2e41f87a0b7",
   "metadata": {},
   "outputs": [],
   "source": [
    "#Write file to local directory\n",
    "#prepared_data.write_data(data, 'data/prepared',index=True )"
   ]
  },
  {
   "cell_type": "code",
   "execution_count": 61,
   "id": "433dd1b8",
   "metadata": {},
   "outputs": [],
   "source": [
    "y_pred_data = prepared_data.read_local_data('all', 'data/prepared')"
   ]
  },
  {
   "cell_type": "code",
   "execution_count": 62,
   "id": "16ded94f",
   "metadata": {
    "scrolled": false
   },
   "outputs": [
    {
     "data": {
      "text/html": [
       "<div>\n",
       "<style scoped>\n",
       "    .dataframe tbody tr th:only-of-type {\n",
       "        vertical-align: middle;\n",
       "    }\n",
       "\n",
       "    .dataframe tbody tr th {\n",
       "        vertical-align: top;\n",
       "    }\n",
       "\n",
       "    .dataframe thead th {\n",
       "        text-align: right;\n",
       "    }\n",
       "</style>\n",
       "<table border=\"1\" class=\"dataframe\">\n",
       "  <thead>\n",
       "    <tr style=\"text-align: right;\">\n",
       "      <th></th>\n",
       "      <th>Diabetes_binary</th>\n",
       "      <th>y_pred</th>\n",
       "    </tr>\n",
       "  </thead>\n",
       "  <tbody>\n",
       "    <tr>\n",
       "      <th>0</th>\n",
       "      <td>0</td>\n",
       "      <td>0</td>\n",
       "    </tr>\n",
       "    <tr>\n",
       "      <th>1</th>\n",
       "      <td>0</td>\n",
       "      <td>0</td>\n",
       "    </tr>\n",
       "    <tr>\n",
       "      <th>2</th>\n",
       "      <td>0</td>\n",
       "      <td>0</td>\n",
       "    </tr>\n",
       "    <tr>\n",
       "      <th>3</th>\n",
       "      <td>1</td>\n",
       "      <td>0</td>\n",
       "    </tr>\n",
       "    <tr>\n",
       "      <th>4</th>\n",
       "      <td>0</td>\n",
       "      <td>0</td>\n",
       "    </tr>\n",
       "  </tbody>\n",
       "</table>\n",
       "</div>"
      ],
      "text/plain": [
       "   Diabetes_binary  y_pred\n",
       "0                0       0\n",
       "1                0       0\n",
       "2                0       0\n",
       "3                1       0\n",
       "4                0       0"
      ]
     },
     "execution_count": 62,
     "metadata": {},
     "output_type": "execute_result"
    }
   ],
   "source": [
    "y_pred_data[['Diabetes_binary','y_pred']].head()"
   ]
  },
  {
   "cell_type": "code",
   "execution_count": 63,
   "id": "36833002",
   "metadata": {},
   "outputs": [],
   "source": [
    "#create a dictionary. Save all my dataframes to my dictionary\n",
    "# Choose a random sample of 2 rows\n",
    "sample_df = pd.DataFrame(y_pred_data.sample(n=150),columns = y_pred_data.columns)"
   ]
  },
  {
   "cell_type": "code",
   "execution_count": 64,
   "id": "48978f18",
   "metadata": {
    "scrolled": true
   },
   "outputs": [
    {
     "data": {
      "image/png": "[encoded data removed]",
      "text/plain": [
       "<Figure size 360x360 with 1 Axes>"
      ]
     },
     "metadata": {
      "needs_background": "light"
     },
     "output_type": "display_data"
    }
   ],
   "source": [
    " \n",
    "#scatter with regression line\n",
    "\n",
    "#if numbers are overlapping, google python plt .tile( -- use pad\n",
    "\n",
    "\n",
    "\n",
    "sns.lmplot(x='Diabetes_binary', y='y_pred', data=sample_df);\n",
    "plt.title('Acutal vs Pred, w/ Trendline',pad = 10);"
   ]
  },
  {
   "cell_type": "code",
   "execution_count": 65,
   "id": "2db71bc8",
   "metadata": {},
   "outputs": [
    {
     "data": {
      "image/png": "[encoded data removed]",
      "text/plain": [
       "<Figure size 432x288 with 1 Axes>"
      ]
     },
     "metadata": {
      "needs_background": "light"
     },
     "output_type": "display_data"
    }
   ],
   "source": [
    "\n",
    "# Scatter plot that includes the regression line\n",
    "plt.scatter(sample_df['income'], sample_df['y_pred'])\n",
    "plt.plot(sample_df['income'], sample_df['Diabetes_binary'], color='red')\n",
    "plt.xlabel('income')\n",
    "plt.ylabel('Diabetes');"
   ]
  },
  {
   "cell_type": "code",
   "execution_count": 66,
   "id": "73d3169c",
   "metadata": {},
   "outputs": [
    {
     "data": {
      "text/plain": [
       "Text(0.5, 1.0, 'Actual vs Prediction')"
      ]
     },
     "execution_count": 66,
     "metadata": {},
     "output_type": "execute_result"
    },
    {
     "data": {
      "image/png": "[encoded data removed]",
      "text/plain": [
       "<Figure size 432x288 with 1 Axes>"
      ]
     },
     "metadata": {
      "needs_background": "light"
     },
     "output_type": "display_data"
    }
   ],
   "source": [
    "# Assuming 'sample_df' and 'y_pred_data' are DataFrames\n",
    "y_pred = sample_df['y_pred']\n",
    "y = sample_df['Diabetes_binary']\n",
    "\n",
    "# Ensure indices are aligned\n",
    "y_pred = y_pred.align(y, join='inner', axis=0)[0]\n",
    "\n",
    "# Plotting\n",
    "ax = y.plot(label='Actual')\n",
    "y_pred.plot(label='Prediction')\n",
    "ax.legend()\n",
    "ax.set_title('Actual vs Prediction')"
   ]
  },
  {
   "cell_type": "markdown",
   "id": "5548861c-6023-4a9e-a291-633317a22125",
   "metadata": {},
   "source": [
    "## TESTING: saving Model to method which I will use to score new data"
   ]
  },
  {
   "cell_type": "code",
   "execution_count": 67,
   "id": "86760944-6386-4270-b913-aa082661f1e6",
   "metadata": {},
   "outputs": [],
   "source": [
    "df = data['all']"
   ]
  },
  {
   "cell_type": "code",
   "execution_count": 68,
   "id": "39ad84fc-35b3-4478-b716-96e80d3db668",
   "metadata": {},
   "outputs": [],
   "source": [
    "data = prepared_data.run()"
   ]
  },
  {
   "cell_type": "code",
   "execution_count": 69,
   "id": "1fc5ff29-5f03-4fe3-ad59-6b1c22205df8",
   "metadata": {},
   "outputs": [
    {
     "data": {
      "text/plain": [
       "Index(['ID', 'Diabetes_binary', 'HighBP', 'HighChol', 'CholCheck', 'BMI',\n",
       "       'Smoker', 'Stroke', 'HeartDiseaseorAttack', 'PhysActivity', 'Fruits',\n",
       "       'Veggies', 'HvyAlcoholConsump', 'AnyHealthcare', 'NoDocbcCost',\n",
       "       'GenHlth', 'MentHlth', 'PhysHlth', 'DiffWalk', 'Sex', 'Age',\n",
       "       'Education', 'Income', 'Gender', 'Types', 'GeneralHealth', 'Type',\n",
       "       'income', 'education', 'diagnosis_pred_prob', 'y_pred'],\n",
       "      dtype='object')"
      ]
     },
     "execution_count": 69,
     "metadata": {},
     "output_type": "execute_result"
    }
   ],
   "source": [
    "df.columns"
   ]
  },
  {
   "cell_type": "code",
   "execution_count": 70,
   "id": "962552ef",
   "metadata": {},
   "outputs": [],
   "source": [
    "#create method to build predition model and return a prediction\n",
    "%run my_functions.ipynb\n"
   ]
  },
  {
   "cell_type": "code",
   "execution_count": 71,
   "id": "d4d77038-d580-4fda-a362-c961f29999ea",
   "metadata": {},
   "outputs": [
    {
     "data": {
      "text/html": [
       "<div>\n",
       "<style scoped>\n",
       "    .dataframe tbody tr th:only-of-type {\n",
       "        vertical-align: middle;\n",
       "    }\n",
       "\n",
       "    .dataframe tbody tr th {\n",
       "        vertical-align: top;\n",
       "    }\n",
       "\n",
       "    .dataframe thead th {\n",
       "        text-align: right;\n",
       "    }\n",
       "</style>\n",
       "<table border=\"1\" class=\"dataframe\">\n",
       "  <thead>\n",
       "    <tr style=\"text-align: right;\">\n",
       "      <th></th>\n",
       "      <th>Income</th>\n",
       "      <th>GenHlth</th>\n",
       "      <th>MentHlth</th>\n",
       "      <th>PhysHlth</th>\n",
       "      <th>DiffWalk</th>\n",
       "    </tr>\n",
       "  </thead>\n",
       "  <tbody>\n",
       "    <tr>\n",
       "      <th>0</th>\n",
       "      <td>1</td>\n",
       "      <td>3</td>\n",
       "      <td>10</td>\n",
       "      <td>0</td>\n",
       "      <td>0</td>\n",
       "    </tr>\n",
       "  </tbody>\n",
       "</table>\n",
       "</div>"
      ],
      "text/plain": [
       "   Income  GenHlth  MentHlth  PhysHlth  DiffWalk\n",
       "0       1        3        10         0         0"
      ]
     },
     "execution_count": 71,
     "metadata": {},
     "output_type": "execute_result"
    }
   ],
   "source": [
    "df[['Income','GenHlth','MentHlth','PhysHlth','DiffWalk']].head(1)"
   ]
  },
  {
   "cell_type": "code",
   "execution_count": null,
   "id": "ba314d64-1e70-4aca-8e49-bc34634b10b5",
   "metadata": {},
   "outputs": [],
   "source": []
  },
  {
   "cell_type": "code",
   "execution_count": 72,
   "id": "d2c6b82e-f94e-45fc-8079-700377287d59",
   "metadata": {},
   "outputs": [],
   "source": [
    "cols =['Income','GenHlth','MentHlth','PhysHlth','DiffWalk']\n",
    "df = read_local_data('all', 'data/raw')\n",
    "y = df['Diabetes_binary']\n",
    "X = df[cols]"
   ]
  },
  {
   "cell_type": "code",
   "execution_count": 73,
   "id": "c93793e2-36e0-4086-b3b2-e8d6aeb390ca",
   "metadata": {},
   "outputs": [],
   "source": [
    "scaler = StandardScaler()\n",
    "scaler.fit(X)\n",
    "X_scaled = scaler.transform(X)"
   ]
  },
  {
   "cell_type": "code",
   "execution_count": null,
   "id": "ba072040-053c-4936-b73d-919b04bc6d3c",
   "metadata": {},
   "outputs": [],
   "source": []
  },
  {
   "cell_type": "code",
   "execution_count": 74,
   "id": "962a5901-1be1-40a1-b28b-4cd86921af72",
   "metadata": {},
   "outputs": [
    {
     "data": {
      "text/plain": [
       "RandomForestClassifier(random_state=1234)"
      ]
     },
     "execution_count": 74,
     "metadata": {},
     "output_type": "execute_result"
    }
   ],
   "source": [
    "rfc = RandomForestClassifier(random_state=1234)\n",
    "rfc.fit(X_scaled,y)"
   ]
  },
  {
   "cell_type": "code",
   "execution_count": 75,
   "id": "1329259a-e691-4c50-aa8f-a2f8fab092fe",
   "metadata": {},
   "outputs": [],
   "source": [
    "data = [3, 10, 0, 0, 0]\n",
    "reshaped_data = np.array(data).reshape(1, 5)"
   ]
  },
  {
   "cell_type": "code",
   "execution_count": 76,
   "id": "7006acf3-0265-4a43-9dad-caaef932f301",
   "metadata": {
    "scrolled": true
   },
   "outputs": [],
   "source": [
    "prediction = rfc.predict(reshaped_data)"
   ]
  },
  {
   "cell_type": "code",
   "execution_count": 77,
   "id": "f54de05e-e266-4d1e-9c2a-d7ee5a7e8669",
   "metadata": {
    "scrolled": true
   },
   "outputs": [
    {
     "data": {
      "text/plain": [
       "numpy.int64"
      ]
     },
     "execution_count": 77,
     "metadata": {},
     "output_type": "execute_result"
    }
   ],
   "source": [
    "type(prediction[0])"
   ]
  },
  {
   "cell_type": "code",
   "execution_count": 78,
   "id": "c4a80bd4-00ae-4d0d-820c-c6f0022a4bb1",
   "metadata": {},
   "outputs": [],
   "source": [
    "pred_probability = rfc.predict_proba(reshaped_data)[:, 1]"
   ]
  },
  {
   "cell_type": "code",
   "execution_count": 79,
   "id": "e304d5c9-9e6d-47af-a10a-7d1a70eee7ac",
   "metadata": {},
   "outputs": [
    {
     "data": {
      "text/plain": [
       "array([0.49402381])"
      ]
     },
     "execution_count": 79,
     "metadata": {},
     "output_type": "execute_result"
    }
   ],
   "source": [
    "pred_probability"
   ]
  },
  {
   "cell_type": "markdown",
   "id": "87bc96a9-469c-421d-b4b3-032197995cd5",
   "metadata": {},
   "source": [
    "### You have a 50% probablity you will   be diagnosed with no diabetes "
   ]
  },
  {
   "cell_type": "markdown",
   "id": "5e0c4df3",
   "metadata": {},
   "source": [
    "## Plot Actual vs Prediction"
   ]
  },
  {
   "cell_type": "code",
   "execution_count": 80,
   "id": "645a47cf",
   "metadata": {},
   "outputs": [
    {
     "data": {
      "text/plain": [
       "Index(['ID', 'Diabetes_binary', 'HighBP', 'HighChol', 'CholCheck', 'BMI',\n",
       "       'Smoker', 'Stroke', 'HeartDiseaseorAttack', 'PhysActivity', 'Fruits',\n",
       "       'Veggies', 'HvyAlcoholConsump', 'AnyHealthcare', 'NoDocbcCost',\n",
       "       'GenHlth', 'MentHlth', 'PhysHlth', 'DiffWalk', 'Sex', 'Age',\n",
       "       'Education', 'Income', 'Gender', 'Types', 'GeneralHealth', 'Type',\n",
       "       'income', 'education'],\n",
       "      dtype='object')"
      ]
     },
     "execution_count": 80,
     "metadata": {},
     "output_type": "execute_result"
    }
   ],
   "source": [
    "df.columns\n",
    "\n"
   ]
  },
  {
   "cell_type": "code",
   "execution_count": null,
   "id": "eb0934f0",
   "metadata": {
    "scrolled": true
   },
   "outputs": [],
   "source": []
  },
  {
   "cell_type": "markdown",
   "id": "a91e8073-933c-4d91-b1b8-b8712918c13b",
   "metadata": {},
   "source": [
    "### create method to build predition model and return a prediction"
   ]
  },
  {
   "cell_type": "code",
   "execution_count": 81,
   "id": "ce0c8169-4ad6-4a4c-9b2d-003b5585ccb2",
   "metadata": {},
   "outputs": [],
   "source": [
    "\n",
    "%run my_functions.ipynb"
   ]
  },
  {
   "cell_type": "code",
   "execution_count": 82,
   "id": "c6d1df18-7f94-4c04-805f-c32e4d9b6d19",
   "metadata": {
    "scrolled": true
   },
   "outputs": [],
   "source": [
    "data2 = [3, 10, 0, 0, 0]\n",
    "\n",
    "prediction = make_prediction(data2)"
   ]
  },
  {
   "cell_type": "code",
   "execution_count": 83,
   "id": "50c99287-c038-4dbd-96d2-23878a58187e",
   "metadata": {
    "scrolled": true
   },
   "outputs": [
    {
     "data": {
      "text/plain": [
       "'You have a 51% probability you will not be diagnosed with diabetes.'"
      ]
     },
     "execution_count": 83,
     "metadata": {},
     "output_type": "execute_result"
    }
   ],
   "source": [
    "prediction"
   ]
  },
  {
   "cell_type": "markdown",
   "id": "1523848b-2f0d-4c8d-850b-51829befe5d9",
   "metadata": {},
   "source": [
    "### Added function to prepare.py .  Now will test using the class"
   ]
  },
  {
   "cell_type": "code",
   "execution_count": 84,
   "id": "f691a874-5a56-46df-b4db-dc9436269189",
   "metadata": {},
   "outputs": [],
   "source": [
    "data2 = [3, 10, 0, 0, 0]"
   ]
  },
  {
   "cell_type": "code",
   "execution_count": 85,
   "id": "04f67f4b-c279-40a4-975e-d93dc0630ce4",
   "metadata": {
    "scrolled": true
   },
   "outputs": [
    {
     "name": "stdout",
     "output_type": "stream",
     "text": [
      "You have a 51% probability you will not be diagnosed with diabetes.\n"
     ]
    }
   ],
   "source": [
    "print( prepared_data.make_prediction(data2))"
   ]
  },
  {
   "cell_type": "code",
   "execution_count": null,
   "id": "4dc355a2-8742-4307-966e-ccb762724f1b",
   "metadata": {},
   "outputs": [],
   "source": []
  },
  {
   "cell_type": "markdown",
   "id": "87b4542a-2a15-4811-a089-b71473a6f800",
   "metadata": {},
   "source": [
    "### Added graph function to prepare.py. Now will test using class"
   ]
  },
  {
   "cell_type": "code",
   "execution_count": 86,
   "id": "645015ae-4026-4c35-a8dd-a9692cdb35c0",
   "metadata": {},
   "outputs": [],
   "source": [
    "\n",
    "%run my_functions.ipynb"
   ]
  },
  {
   "cell_type": "code",
   "execution_count": 87,
   "id": "ba1a7fe0-8cba-47f9-8c6e-715bd0efea9e",
   "metadata": {},
   "outputs": [
    {
     "data": {
      "image/png": "[encoded data removed]",
      "text/plain": [
       "<Figure size 1440x432 with 1 Axes>"
      ]
     },
     "metadata": {
      "needs_background": "light"
     },
     "output_type": "display_data"
    }
   ],
   "source": [
    "gr = graph_df(df,\"GeneralHealth\",\"Type\")"
   ]
  },
  {
   "cell_type": "code",
   "execution_count": 88,
   "id": "bd68d9e3-1a4d-498d-85fc-e135451cde2d",
   "metadata": {
    "scrolled": true
   },
   "outputs": [
    {
     "data": {
      "image/png": "[encoded data removed]",
      "text/plain": [
       "<Figure size 1440x432 with 1 Axes>"
      ]
     },
     "metadata": {
      "needs_background": "light"
     },
     "output_type": "display_data"
    }
   ],
   "source": [
    "gr = graph_df(df,\"income\",\"Type\")"
   ]
  },
  {
   "cell_type": "code",
   "execution_count": 89,
   "id": "2591331f-cc01-4f45-bbad-b3ccd9a01588",
   "metadata": {},
   "outputs": [
    {
     "data": {
      "image/png": "[encoded data removed]",
      "text/plain": [
       "<Figure size 1440x432 with 1 Axes>"
      ]
     },
     "metadata": {
      "needs_background": "light"
     },
     "output_type": "display_data"
    }
   ],
   "source": [
    "gr = graph_df(df,\"education\",\"Type\")"
   ]
  },
  {
   "cell_type": "markdown",
   "id": "95f57c36",
   "metadata": {},
   "source": [
    "### Remember to restart kernel after changes to .py"
   ]
  },
  {
   "cell_type": "code",
   "execution_count": 90,
   "id": "2dfbcdce-aa04-469f-bc56-16207965c979",
   "metadata": {},
   "outputs": [],
   "source": [
    "#import my class with data.  setup in feature_engineering notebook\n",
    "\n",
    "from prepare import PrepareData\n",
    "#Testing - Read local data\n"
   ]
  },
  {
   "cell_type": "code",
   "execution_count": 91,
   "id": "49eb722b-6df8-418a-a016-47db2eedbf73",
   "metadata": {},
   "outputs": [],
   "source": [
    "prepared_data = PrepareData(download_new=False)"
   ]
  },
  {
   "cell_type": "code",
   "execution_count": 92,
   "id": "d802850b",
   "metadata": {},
   "outputs": [],
   "source": [
    "data = prepared_data.run()"
   ]
  },
  {
   "cell_type": "code",
   "execution_count": 93,
   "id": "f177bef1-8b06-4337-83b7-28e613c4153b",
   "metadata": {
    "scrolled": true
   },
   "outputs": [
    {
     "data": {
      "image/png": "[encoded data removed]",
      "text/plain": [
       "<Figure size 1440x432 with 1 Axes>"
      ]
     },
     "metadata": {
      "needs_background": "light"
     },
     "output_type": "display_data"
    }
   ],
   "source": [
    "gr = prepared_data.graph_df(data[\"all\"],\"GeneralHealth\",\"Type\")"
   ]
  },
  {
   "cell_type": "markdown",
   "id": "6733850f",
   "metadata": {},
   "source": []
  },
  {
   "cell_type": "code",
   "execution_count": null,
   "id": "b0ac849e",
   "metadata": {},
   "outputs": [],
   "source": []
  },
  {
   "cell_type": "code",
   "execution_count": null,
   "id": "9c21a375",
   "metadata": {},
   "outputs": [],
   "source": []
  }
 ],
 "metadata": {
  "kernelspec": {
   "display_name": "Python 3 (ipykernel)",
   "language": "python",
   "name": "python3"
  },
  "language_info": {
   "codemirror_mode": {
    "name": "ipython",
    "version": 3
   },
   "file_extension": ".py",
   "mimetype": "text/x-python",
   "name": "python",
   "nbconvert_exporter": "python",
   "pygments_lexer": "ipython3",
   "version": "3.9.12"
  }
 },
 "nbformat": 4,
 "nbformat_minor": 5
}
