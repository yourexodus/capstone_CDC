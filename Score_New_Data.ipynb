{
 "cells": [
  {
   "cell_type": "code",
   "execution_count": 64,
   "id": "1fed344b",
   "metadata": {},
   "outputs": [],
   "source": [
    "import pandas as pd\n",
    "import numpy as np\n",
    "import matplotlib.pyplot as plt\n",
    "import scipy.stats as stats\n",
    "import joblib\n",
    "import pickle\n",
    "\n",
    "# Specific Imports\n",
    "from sklearn.datasets import load_boston\n",
    "from sklearn.linear_model import LogisticRegression\n",
    "from sklearn import metrics\n",
    "from sklearn.metrics import mean_squared_error\n",
    "from sklearn.model_selection import train_test_split, KFold, cross_val_score"
   ]
  },
  {
   "cell_type": "code",
   "execution_count": 65,
   "id": "3f2b3a78",
   "metadata": {
    "scrolled": true
   },
   "outputs": [],
   "source": [
    "X_test = pd.read_csv(\"data/prepared/X_test_ScoreNewData.csv\")"
   ]
  },
  {
   "cell_type": "code",
   "execution_count": 66,
   "id": "bea073db",
   "metadata": {},
   "outputs": [],
   "source": [
    "y_test = pd.read_csv(\"data/prepared/y_test_ScoreNewData.csv\")"
   ]
  },
  {
   "cell_type": "markdown",
   "id": "3795eb08",
   "metadata": {},
   "source": [
    "# Load Random Forest Model"
   ]
  },
  {
   "cell_type": "code",
   "execution_count": 15,
   "id": "34499040",
   "metadata": {},
   "outputs": [],
   "source": [
    "from joblib import dump, load#\n",
    "\n",
    "# Load fthe model from the file\n",
    "rfc_from_joblib = load('data/prepared/rfc_mfrancis870.pkl')"
   ]
  },
  {
   "cell_type": "code",
   "execution_count": 16,
   "id": "f78a6e1a",
   "metadata": {
    "scrolled": true
   },
   "outputs": [
    {
     "name": "stdout",
     "output_type": "stream",
     "text": [
      "0.854399243140965\n"
     ]
    }
   ],
   "source": [
    "result = rfc_from_joblib.score(X_test, y_test)\n",
    "print(result)"
   ]
  },
  {
   "cell_type": "code",
   "execution_count": 17,
   "id": "51a6380b",
   "metadata": {
    "scrolled": true
   },
   "outputs": [
    {
     "data": {
      "text/plain": [
       "Index(['Income', 'GenHlth', 'MentHlth', 'PhysHlth', 'DiffWalk'], dtype='object')"
      ]
     },
     "execution_count": 17,
     "metadata": {},
     "output_type": "execute_result"
    }
   ],
   "source": [
    "#data format \n",
    "X_test.columns   # input Data format for x"
   ]
  },
  {
   "cell_type": "code",
   "execution_count": 52,
   "id": "4b1203ff",
   "metadata": {},
   "outputs": [],
   "source": [
    "#creat new dataframe for new data\n",
    "new_data_df = pd.DataFrame()"
   ]
  },
  {
   "cell_type": "code",
   "execution_count": 53,
   "id": "ca79c681",
   "metadata": {},
   "outputs": [],
   "source": [
    "#add columns to new dataframe\n",
    "new_data_X = pd.DataFrame(new_data_df, columns=['Income', 'GenHlth', 'MentHlth', 'PhysHlth', 'DiffWalk'])"
   ]
  },
  {
   "cell_type": "code",
   "execution_count": 55,
   "id": "1ce8113f",
   "metadata": {},
   "outputs": [
    {
     "data": {
      "text/html": [
       "<div>\n",
       "<style scoped>\n",
       "    .dataframe tbody tr th:only-of-type {\n",
       "        vertical-align: middle;\n",
       "    }\n",
       "\n",
       "    .dataframe tbody tr th {\n",
       "        vertical-align: top;\n",
       "    }\n",
       "\n",
       "    .dataframe thead th {\n",
       "        text-align: right;\n",
       "    }\n",
       "</style>\n",
       "<table border=\"1\" class=\"dataframe\">\n",
       "  <thead>\n",
       "    <tr style=\"text-align: right;\">\n",
       "      <th></th>\n",
       "      <th>Income</th>\n",
       "      <th>GenHlth</th>\n",
       "      <th>MentHlth</th>\n",
       "      <th>PhysHlth</th>\n",
       "      <th>DiffWalk</th>\n",
       "    </tr>\n",
       "  </thead>\n",
       "  <tbody>\n",
       "    <tr>\n",
       "      <th>0</th>\n",
       "      <td>2</td>\n",
       "      <td>3</td>\n",
       "      <td>1</td>\n",
       "      <td>0</td>\n",
       "      <td>0</td>\n",
       "    </tr>\n",
       "  </tbody>\n",
       "</table>\n",
       "</div>"
      ],
      "text/plain": [
       "   Income  GenHlth  MentHlth  PhysHlth  DiffWalk\n",
       "0       2        3         1         0         0"
      ]
     },
     "execution_count": 55,
     "metadata": {},
     "output_type": "execute_result"
    }
   ],
   "source": [
    "new_data_X.loc[0] = [2,3,1,0,0] \n",
    "new_data_X "
   ]
  },
  {
   "cell_type": "code",
   "execution_count": 63,
   "id": "7e978bea",
   "metadata": {
    "scrolled": true
   },
   "outputs": [
    {
     "name": "stdout",
     "output_type": "stream",
     "text": [
      "[0]\n"
     ]
    }
   ],
   "source": [
    "y_pred = rfc_from_joblib.predict(new_data_X ) \n",
    "print(y_pred)"
   ]
  },
  {
   "cell_type": "markdown",
   "id": "604171f7",
   "metadata": {},
   "source": [
    "\n",
    "\n",
    "\n",
    "Given income Less than $15,000, good general health, no days where health was not good, and no diffi walking , you have a 85% proababliy you will not be diagnosed with   diabetes"
   ]
  },
  {
   "cell_type": "code",
   "execution_count": null,
   "id": "4b3dade8",
   "metadata": {},
   "outputs": [],
   "source": []
  }
 ],
 "metadata": {
  "kernelspec": {
   "display_name": "Python 3 (ipykernel)",
   "language": "python",
   "name": "python3"
  },
  "language_info": {
   "codemirror_mode": {
    "name": "ipython",
    "version": 3
   },
   "file_extension": ".py",
   "mimetype": "text/x-python",
   "name": "python",
   "nbconvert_exporter": "python",
   "pygments_lexer": "ipython3",
   "version": "3.9.12"
  }
 },
 "nbformat": 4,
 "nbformat_minor": 5
}
