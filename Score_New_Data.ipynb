{
 "cells": [
  {
   "cell_type": "code",
   "execution_count": 27,
   "id": "1b67ff51",
   "metadata": {},
   "outputs": [],
   "source": [
    "import pandas as pd\n",
    "import numpy as np\n",
    "\n",
    "import matplotlib.pyplot as plt\n",
    "\n",
    "import scipy.stats as stats\n",
    "\n",
    "import joblib\n",
    "import pickle\n",
    "\n",
    "# Specific Imports\n",
    "from sklearn.datasets import load_boston\n",
    "from sklearn.linear_model import LogisticRegression\n",
    "from sklearn import metrics\n",
    "from sklearn.metrics import mean_squared_error\n",
    "from sklearn.model_selection import train_test_split, KFold, cross_val_score\n"
   ]
  },
  {
   "cell_type": "code",
   "execution_count": 30,
   "id": "7e04eff2",
   "metadata": {},
   "outputs": [],
   "source": [
    "X_test = pd.read_csv(\"data/prepared/X_test_ScoreNewData.csv\")"
   ]
  },
  {
   "cell_type": "code",
   "execution_count": 4,
   "id": "3f2b3a78",
   "metadata": {},
   "outputs": [
    {
     "name": "stdout",
     "output_type": "stream",
     "text": [
      "   Income  GenHlth  MentHlth  PhysHlth  DiffWalk\n",
      "0       8        1         0         0         0\n"
     ]
    }
   ],
   "source": [
    "print(X_test)"
   ]
  },
  {
   "cell_type": "code",
   "execution_count": 31,
   "id": "bea073db",
   "metadata": {},
   "outputs": [],
   "source": [
    "y_test = pd.read_csv(\"data/prepared/y_test_ScoreNewData.csv\")"
   ]
  },
  {
   "cell_type": "code",
   "execution_count": 171,
   "id": "1840030c",
   "metadata": {},
   "outputs": [],
   "source": [
    "# Opening saved model\n",
    "with open(\"logreg_mfrancis870.pkl\", \"rb\") as file:\n",
    "    logreg_model = pickle.load(file)"
   ]
  },
  {
   "cell_type": "code",
   "execution_count": 172,
   "id": "7f328dba",
   "metadata": {},
   "outputs": [
    {
     "name": "stdout",
     "output_type": "stream",
     "text": [
      "   Income  GenHlth  MentHlth  PhysHlth  DiffWalk\n",
      "0       8        1         0         0         0\n"
     ]
    }
   ],
   "source": [
    "print(X_test[:1] )"
   ]
  },
  {
   "cell_type": "code",
   "execution_count": 173,
   "id": "f3dae1b3",
   "metadata": {},
   "outputs": [
    {
     "data": {
      "text/plain": [
       "['logreg_mfrancis870.pkl']"
      ]
     },
     "execution_count": 173,
     "metadata": {},
     "output_type": "execute_result"
    }
   ],
   "source": [
    "#logreg\n",
    "from joblib import dump, load\n",
    "\n",
    "# Save the model as a pickle file\n",
    "dump(logreg_model, 'logreg_mfrancis870.pkl')"
   ]
  },
  {
   "cell_type": "code",
   "execution_count": 209,
   "id": "ff4e004f",
   "metadata": {},
   "outputs": [
    {
     "ename": "NameError",
     "evalue": "name 'logreg2_model' is not defined",
     "output_type": "error",
     "traceback": [
      "\u001b[1;31m---------------------------------------------------------------------------\u001b[0m",
      "\u001b[1;31mNameError\u001b[0m                                 Traceback (most recent call last)",
      "Input \u001b[1;32mIn [209]\u001b[0m, in \u001b[0;36m<cell line: 1>\u001b[1;34m()\u001b[0m\n\u001b[1;32m----> 1\u001b[0m joblib\u001b[38;5;241m.\u001b[39mdump(\u001b[43mlogreg2_model\u001b[49m, \u001b[38;5;124m\"\u001b[39m\u001b[38;5;124mlogreg_mfrancis870.pkl\u001b[39m\u001b[38;5;124m\"\u001b[39m)\n",
      "\u001b[1;31mNameError\u001b[0m: name 'logreg2_model' is not defined"
     ]
    }
   ],
   "source": [
    "joblib.dump(logreg_model, \"logreg_mfrancis870.pkl\")"
   ]
  },
  {
   "cell_type": "code",
   "execution_count": 174,
   "id": "4c640bf5",
   "metadata": {},
   "outputs": [],
   "source": [
    "# Load fthe model from the file\n",
    "logreg_from_joblib = load('logreg_mfrancis870.pkl')"
   ]
  },
  {
   "cell_type": "code",
   "execution_count": 203,
   "id": "74012bb5",
   "metadata": {},
   "outputs": [],
   "source": [
    "# Load fthe model from the file\n",
    "logreg_from_joblib = load('logreg_mfrancis870.pkl')"
   ]
  },
  {
   "cell_type": "code",
   "execution_count": 204,
   "id": "58f1f72a",
   "metadata": {
    "scrolled": true
   },
   "outputs": [
    {
     "ename": "AttributeError",
     "evalue": "'numpy.ndarray' object has no attribute 'fit'",
     "output_type": "error",
     "traceback": [
      "\u001b[1;31m---------------------------------------------------------------------------\u001b[0m",
      "\u001b[1;31mAttributeError\u001b[0m                            Traceback (most recent call last)",
      "Input \u001b[1;32mIn [204]\u001b[0m, in \u001b[0;36m<cell line: 2>\u001b[1;34m()\u001b[0m\n\u001b[0;32m      1\u001b[0m \u001b[38;5;66;03m#A column-vector y was passed when a 1d array was\u001b[39;00m\n\u001b[1;32m----> 2\u001b[0m \u001b[43mlogreg_from_joblib\u001b[49m\u001b[38;5;241;43m.\u001b[39;49m\u001b[43mfit\u001b[49m([[\u001b[38;5;241m2\u001b[39m,\u001b[38;5;241m3\u001b[39m,\u001b[38;5;241m1\u001b[39m,\u001b[38;5;241m0\u001b[39m,\u001b[38;5;241m0\u001b[39m,\u001b[38;5;241m0\u001b[39m]], [\u001b[38;5;241m1\u001b[39m])\n",
      "\u001b[1;31mAttributeError\u001b[0m: 'numpy.ndarray' object has no attribute 'fit'"
     ]
    }
   ],
   "source": [
    "#A column-vector y was passed when a 1d array was\n",
    "logreg_from_joblib.fit([[2,3,1,0,0,0]], [1])"
   ]
  },
  {
   "cell_type": "markdown",
   "id": "5c9d3dcd",
   "metadata": {},
   "source": [
    "===================================================================="
   ]
  },
  {
   "cell_type": "code",
   "execution_count": 17,
   "id": "c4b95c6e",
   "metadata": {},
   "outputs": [],
   "source": [
    "# Opening saved model\n",
    "with open(\"rfc_mfrancis870.pkl\", \"rb\") as file:\n",
    "    rf_model1 = pickle.load(file)"
   ]
  },
  {
   "cell_type": "code",
   "execution_count": 19,
   "id": "95e4d9a2",
   "metadata": {},
   "outputs": [
    {
     "data": {
      "text/plain": [
       "['logreg_mfrancis870.pkl']"
      ]
     },
     "execution_count": 19,
     "metadata": {},
     "output_type": "execute_result"
    }
   ],
   "source": [
    "joblib.dump(rf_model, \"logreg_mfrancis870.pkl\")"
   ]
  },
  {
   "cell_type": "code",
   "execution_count": 9,
   "id": "07831f32",
   "metadata": {},
   "outputs": [
    {
     "data": {
      "text/plain": [
       "['rfc_mfrancis870.pkl']"
      ]
     },
     "execution_count": 9,
     "metadata": {},
     "output_type": "execute_result"
    }
   ],
   "source": [
    "#from joblib import dump, load#\n",
    "\n",
    "# Save the model as a pickle file\n",
    "#dump(rf_model, 'rfc_mfrancis870.pkl')"
   ]
  },
  {
   "cell_type": "code",
   "execution_count": 12,
   "id": "34499040",
   "metadata": {},
   "outputs": [],
   "source": [
    "\n",
    "\n",
    "# Load fthe model from the file\n",
    "#rfc_from_joblib = load('rfc_mfrancis870.pkl')"
   ]
  },
  {
   "cell_type": "code",
   "execution_count": 20,
   "id": "f78a6e1a",
   "metadata": {
    "scrolled": true
   },
   "outputs": [
    {
     "ename": "AttributeError",
     "evalue": "'numpy.ndarray' object has no attribute 'score'",
     "output_type": "error",
     "traceback": [
      "\u001b[1;31m---------------------------------------------------------------------------\u001b[0m",
      "\u001b[1;31mAttributeError\u001b[0m                            Traceback (most recent call last)",
      "Input \u001b[1;32mIn [20]\u001b[0m, in \u001b[0;36m<cell line: 1>\u001b[1;34m()\u001b[0m\n\u001b[1;32m----> 1\u001b[0m result \u001b[38;5;241m=\u001b[39m \u001b[43mrf_model1\u001b[49m\u001b[38;5;241;43m.\u001b[39;49m\u001b[43mscore\u001b[49m(X_test, y_test)\n\u001b[0;32m      2\u001b[0m \u001b[38;5;28mprint\u001b[39m(result)\n",
      "\u001b[1;31mAttributeError\u001b[0m: 'numpy.ndarray' object has no attribute 'score'"
     ]
    }
   ],
   "source": [
    "result = rf_model1.score(X_test, y_test)\n",
    "print(result)"
   ]
  },
  {
   "cell_type": "code",
   "execution_count": 13,
   "id": "fce09f22",
   "metadata": {
    "scrolled": true
   },
   "outputs": [
    {
     "ename": "AttributeError",
     "evalue": "'numpy.ndarray' object has no attribute 'fit'",
     "output_type": "error",
     "traceback": [
      "\u001b[1;31m---------------------------------------------------------------------------\u001b[0m",
      "\u001b[1;31mAttributeError\u001b[0m                            Traceback (most recent call last)",
      "Input \u001b[1;32mIn [13]\u001b[0m, in \u001b[0;36m<cell line: 2>\u001b[1;34m()\u001b[0m\n\u001b[0;32m      1\u001b[0m \u001b[38;5;66;03m#A column-vector y was passed when a 1d array was\u001b[39;00m\n\u001b[1;32m----> 2\u001b[0m \u001b[43mrfc_from_joblib\u001b[49m\u001b[38;5;241;43m.\u001b[39;49m\u001b[43mfit\u001b[49m([[\u001b[38;5;241m2\u001b[39m,\u001b[38;5;241m3\u001b[39m,\u001b[38;5;241m1\u001b[39m,\u001b[38;5;241m0\u001b[39m,\u001b[38;5;241m0\u001b[39m,\u001b[38;5;241m0\u001b[39m]], [\u001b[38;5;241m1\u001b[39m])\n",
      "\u001b[1;31mAttributeError\u001b[0m: 'numpy.ndarray' object has no attribute 'fit'"
     ]
    }
   ],
   "source": [
    "#A column-vector y was passed when a 1d array was\n",
    "rfc_from_joblib.fit([[2,3,1,0,0,0]], [1])"
   ]
  },
  {
   "cell_type": "code",
   "execution_count": 181,
   "id": "8aeecca9",
   "metadata": {},
   "outputs": [
    {
     "name": "stdout",
     "output_type": "stream",
     "text": [
      "<class 'numpy.ndarray'>\n"
     ]
    }
   ],
   "source": [
    "print(type(rfc_from_joblib))"
   ]
  },
  {
   "cell_type": "code",
   "execution_count": 182,
   "id": "836df44d",
   "metadata": {},
   "outputs": [
    {
     "ename": "AttributeError",
     "evalue": "'numpy.ndarray' object has no attribute 'fit'",
     "output_type": "error",
     "traceback": [
      "\u001b[1;31m---------------------------------------------------------------------------\u001b[0m",
      "\u001b[1;31mAttributeError\u001b[0m                            Traceback (most recent call last)",
      "Input \u001b[1;32mIn [182]\u001b[0m, in \u001b[0;36m<cell line: 2>\u001b[1;34m()\u001b[0m\n\u001b[0;32m      1\u001b[0m \u001b[38;5;66;03m#A column-vector y was passed when a 1d array was\u001b[39;00m\n\u001b[1;32m----> 2\u001b[0m \u001b[43mrfc_from_joblib\u001b[49m\u001b[38;5;241;43m.\u001b[39;49m\u001b[43mfit\u001b[49m(X_test, [\u001b[38;5;241m0\u001b[39m])\n",
      "\u001b[1;31mAttributeError\u001b[0m: 'numpy.ndarray' object has no attribute 'fit'"
     ]
    }
   ],
   "source": [
    "#A column-vector y was passed when a 1d array was\n",
    "rfc_from_joblib.fit(X_test, [0])"
   ]
  },
  {
   "cell_type": "code",
   "execution_count": 183,
   "id": "6dd490e4",
   "metadata": {},
   "outputs": [],
   "source": [
    "y_test = [0]"
   ]
  },
  {
   "cell_type": "code",
   "execution_count": 185,
   "id": "b38c4280",
   "metadata": {},
   "outputs": [
    {
     "ename": "AttributeError",
     "evalue": "'numpy.ndarray' object has no attribute 'predict'",
     "output_type": "error",
     "traceback": [
      "\u001b[1;31m---------------------------------------------------------------------------\u001b[0m",
      "\u001b[1;31mAttributeError\u001b[0m                            Traceback (most recent call last)",
      "Input \u001b[1;32mIn [185]\u001b[0m, in \u001b[0;36m<cell line: 2>\u001b[1;34m()\u001b[0m\n\u001b[0;32m      1\u001b[0m \u001b[38;5;66;03m# Use the model to make predictions\u001b[39;00m\n\u001b[1;32m----> 2\u001b[0m y_pred_from_joblib \u001b[38;5;241m=\u001b[39m \u001b[43mrfc_from_joblib\u001b[49m\u001b[38;5;241;43m.\u001b[39;49m\u001b[43mpredict\u001b[49m(X_test)\n",
      "\u001b[1;31mAttributeError\u001b[0m: 'numpy.ndarray' object has no attribute 'predict'"
     ]
    }
   ],
   "source": [
    "# Use the model to make predictions\n",
    "y_pred_from_joblib = rfc_from_joblib.predict(X_test)"
   ]
  },
  {
   "cell_type": "code",
   "execution_count": 186,
   "id": "33bb2d7a",
   "metadata": {},
   "outputs": [
    {
     "name": "stdout",
     "output_type": "stream",
     "text": [
      "RFC Pickle RMSE: 0.0\n"
     ]
    }
   ],
   "source": [
    "from sklearn.metrics import mean_absolute_error, mean_squared_error\n",
    "\n",
    "rmse_rfc_joblib = np.sqrt(mean_squared_error(y_test, y_pred_from_joblib))\n",
    "\n",
    "\n",
    "print(f'RFC Pickle RMSE: {rmse_rfc_joblib}')"
   ]
  },
  {
   "cell_type": "markdown",
   "id": "8162d508",
   "metadata": {},
   "source": [
    "============================="
   ]
  },
  {
   "cell_type": "code",
   "execution_count": 32,
   "id": "7bb7b7e8",
   "metadata": {},
   "outputs": [
    {
     "name": "stderr",
     "output_type": "stream",
     "text": [
      "C:\\ProgramData\\Anaconda3\\lib\\site-packages\\sklearn\\utils\\validation.py:993: DataConversionWarning: A column-vector y was passed when a 1d array was expected. Please change the shape of y to (n_samples, ), for example using ravel().\n",
      "  y = column_or_1d(y, warn=True)\n"
     ]
    },
    {
     "data": {
      "text/plain": [
       "LogisticRegression()"
      ]
     },
     "execution_count": 32,
     "metadata": {},
     "output_type": "execute_result"
    }
   ],
   "source": [
    " \n",
    "# Instantiate the model.\n",
    "lr = LogisticRegression()\n",
    "\n",
    "# Train the model on the entire data set.\n",
    "lr.fit(X_test, y_test)"
   ]
  },
  {
   "cell_type": "code",
   "execution_count": 33,
   "id": "749812db",
   "metadata": {
    "scrolled": true
   },
   "outputs": [
    {
     "name": "stdout",
     "output_type": "stream",
     "text": [
      "LR Pickle RMSE: 0.37654339177694535\n"
     ]
    }
   ],
   "source": [
    "# Save the model as a pickle file\n",
    "dump(lr, 'test_mfrancis870.pkl')\n",
    "\n",
    "# Load fthe model from the file\n",
    "lr_from_joblib = load('test_mfrancis870.pkl')\n",
    "\n",
    "# Use the model to make predictions\n",
    "y_pred_from_joblib = lr_from_joblib.predict(X_test)\n",
    "\n",
    "# Testing RMSE\n",
    "# Compute Test RMSE for both models\n",
    " \n",
    "rmse_lr_joblib = np.sqrt(mean_squared_error(y_test, y_pred_from_joblib))\n",
    "\n",
    " \n",
    "print(f'LR Pickle RMSE: {rmse_lr_joblib}')"
   ]
  },
  {
   "cell_type": "code",
   "execution_count": 35,
   "id": "bf1f258e",
   "metadata": {},
   "outputs": [
    {
     "data": {
      "text/html": [
       "<div>\n",
       "<style scoped>\n",
       "    .dataframe tbody tr th:only-of-type {\n",
       "        vertical-align: middle;\n",
       "    }\n",
       "\n",
       "    .dataframe tbody tr th {\n",
       "        vertical-align: top;\n",
       "    }\n",
       "\n",
       "    .dataframe thead th {\n",
       "        text-align: right;\n",
       "    }\n",
       "</style>\n",
       "<table border=\"1\" class=\"dataframe\">\n",
       "  <thead>\n",
       "    <tr style=\"text-align: right;\">\n",
       "      <th></th>\n",
       "      <th>Income</th>\n",
       "      <th>GenHlth</th>\n",
       "      <th>MentHlth</th>\n",
       "      <th>PhysHlth</th>\n",
       "      <th>DiffWalk</th>\n",
       "    </tr>\n",
       "  </thead>\n",
       "  <tbody>\n",
       "    <tr>\n",
       "      <th>0</th>\n",
       "      <td>8</td>\n",
       "      <td>1</td>\n",
       "      <td>0</td>\n",
       "      <td>0</td>\n",
       "      <td>0</td>\n",
       "    </tr>\n",
       "    <tr>\n",
       "      <th>1</th>\n",
       "      <td>5</td>\n",
       "      <td>3</td>\n",
       "      <td>0</td>\n",
       "      <td>0</td>\n",
       "      <td>0</td>\n",
       "    </tr>\n",
       "  </tbody>\n",
       "</table>\n",
       "</div>"
      ],
      "text/plain": [
       "   Income  GenHlth  MentHlth  PhysHlth  DiffWalk\n",
       "0       8        1         0         0         0\n",
       "1       5        3         0         0         0"
      ]
     },
     "execution_count": 35,
     "metadata": {},
     "output_type": "execute_result"
    }
   ],
   "source": [
    "X_test[:2]"
   ]
  },
  {
   "cell_type": "code",
   "execution_count": 37,
   "id": "9cd6bf9a",
   "metadata": {
    "scrolled": true
   },
   "outputs": [
    {
     "name": "stderr",
     "output_type": "stream",
     "text": [
      "C:\\ProgramData\\Anaconda3\\lib\\site-packages\\sklearn\\base.py:450: UserWarning: X does not have valid feature names, but LogisticRegression was fitted with feature names\n",
      "  warnings.warn(\n"
     ]
    }
   ],
   "source": [
    "#prediction\n",
    "y_pred = lr.predict([[8,1,0,0,0]])"
   ]
  },
  {
   "cell_type": "code",
   "execution_count": 46,
   "id": "2177f58d",
   "metadata": {},
   "outputs": [],
   "source": [
    "y_pred=['True' if x==1 else 'False' for x in y_pred] "
   ]
  },
  {
   "cell_type": "code",
   "execution_count": 48,
   "id": "ad5abbb3",
   "metadata": {},
   "outputs": [
    {
     "name": "stdout",
     "output_type": "stream",
     "text": [
      "Your predicted diabetes diagnosis is ['False']\n"
     ]
    }
   ],
   "source": [
    "print(f'Your predicted diabetes diagnosis is {y_pred}')"
   ]
  },
  {
   "cell_type": "code",
   "execution_count": null,
   "id": "4b3dade8",
   "metadata": {},
   "outputs": [],
   "source": []
  }
 ],
 "metadata": {
  "kernelspec": {
   "display_name": "Python 3 (ipykernel)",
   "language": "python",
   "name": "python3"
  },
  "language_info": {
   "codemirror_mode": {
    "name": "ipython",
    "version": 3
   },
   "file_extension": ".py",
   "mimetype": "text/x-python",
   "name": "python",
   "nbconvert_exporter": "python",
   "pygments_lexer": "ipython3",
   "version": "3.9.12"
  }
 },
 "nbformat": 4,
 "nbformat_minor": 5
}
