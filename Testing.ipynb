{
 "cells": [
  {
   "cell_type": "code",
   "execution_count": 5,
   "id": "38ceb084-1fed-4a73-9265-f89385c67c20",
   "metadata": {},
   "outputs": [
    {
     "data": {
      "text/html": [
       "<style>\n",
       "    p{\n",
       "        color:red;\n",
       "        font-size:25px;\n",
       "        font-weight:750;\n",
       "        background-color:tan;        \n",
       "    }\n",
       "</style>\n",
       "<h3>Forecasting Diabetes Dashboard</h3>\n",
       "<p>Makes predictions for diabetes</p>\n"
      ],
      "text/plain": [
       "<IPython.core.display.HTML object>"
      ]
     },
     "metadata": {
      "text/html": {
       "isolated": true
      }
     },
     "output_type": "display_data"
    }
   ],
   "source": [
    "%%html --isolated\n",
    "<style>\n",
    "    p{\n",
    "        color:red;\n",
    "        font-size:25px;\n",
    "        font-weight:750;\n",
    "        background-color:tan;        \n",
    "    }\n",
    "</style>\n",
    "<h3>Forecasting Diabetes Dashboard</h3>\n",
    "<p>Makes predictions for diabetes</p>"
   ]
  },
  {
   "cell_type": "code",
   "execution_count": 10,
   "id": "3396c02a-eada-4873-bf0d-2d8b5664167f",
   "metadata": {},
   "outputs": [
    {
     "data": {
      "text/html": [
       "<style>\n",
       "    h2 {\n",
       "        border: 2px dashed blue;\n",
       "        \n",
       "    }\n",
       "    p{\n",
       "        color: darkgreen;\n",
       "        font-size:25px;\n",
       "        font-weight:750;\n",
       "        background-color:tan; \n",
       "        text-align: center;\n",
       "        border: 2px dashed blue;\n",
       "        \n",
       "    }\n",
       "</style>\n",
       "<h2>Forecasting Diabetes Dashboard</h2>\n",
       "<p>Makes predictions for diabetes</p>\n",
       "<h2>Another header</h2>\n"
      ],
      "text/plain": [
       "<IPython.core.display.HTML object>"
      ]
     },
     "metadata": {
      "text/html": {
       "isolated": true
      }
     },
     "output_type": "display_data"
    }
   ],
   "source": [
    "%%html --isolated\n",
    "<style>\n",
    "    h2 {\n",
    "        border: 2px dashed blue;\n",
    "        \n",
    "    }\n",
    "    p{\n",
    "        color: darkgreen;\n",
    "        font-size:25px;\n",
    "        font-weight:750;\n",
    "        background-color:tan; \n",
    "        text-align: center;\n",
    "        border: 2px dashed blue;\n",
    "        \n",
    "    }\n",
    "</style>\n",
    "<h2>Forecasting Diabetes Dashboard</h2>\n",
    "<p>Makes predictions for diabetes</p>\n",
    "<h2>Another header</h2>"
   ]
  },
  {
   "cell_type": "code",
   "execution_count": 11,
   "id": "9ac8bcae-de09-4a49-919a-e6eb5d5cbb9e",
   "metadata": {},
   "outputs": [
    {
     "data": {
      "text/html": [
       "<style>\n",
       "    h2 {\n",
       "        border: 2px dashed blue;\n",
       "        \n",
       "    }\n",
       "    p{\n",
       "        color: darkgreen;\n",
       "        font-size:25px;\n",
       "        font-weight:750;\n",
       "        background-color:tan; \n",
       "        text-align: center;\n",
       "        border: 2px dashed blue;\n",
       "        display: inline;\n",
       "    }\n",
       "</style>\n",
       "<h2>Forecasting Diabetes Dashboard</h2>\n",
       "<p>Makes predictions for diabetes</p>\n",
       "<h2>Another header</h2>\n"
      ],
      "text/plain": [
       "<IPython.core.display.HTML object>"
      ]
     },
     "metadata": {
      "text/html": {
       "isolated": true
      }
     },
     "output_type": "display_data"
    }
   ],
   "source": [
    "%%html --isolated\n",
    "<style>\n",
    "    h2 {\n",
    "        border: 2px dashed blue;\n",
    "        \n",
    "    }\n",
    "    p{\n",
    "        color: darkgreen;\n",
    "        font-size:25px;\n",
    "        font-weight:750;\n",
    "        background-color:tan; \n",
    "        text-align: center;\n",
    "        border: 2px dashed blue;\n",
    "        display: inline;\n",
    "    }\n",
    "</style>\n",
    "<h2>Forecasting Diabetes Dashboard</h2>\n",
    "<p>Makes predictions for diabetes</p>\n",
    "<h2>Another header</h2>"
   ]
  },
  {
   "cell_type": "code",
   "execution_count": 12,
   "id": "c25fa63e-25f0-4dcf-b76a-f431314d7a12",
   "metadata": {},
   "outputs": [
    {
     "data": {
      "text/html": [
       "<style>\n",
       "    h2 {\n",
       "        border: 2px dashed blue;\n",
       "        display: inline;\n",
       "    }\n",
       "    p{\n",
       "        color: darkgreen;\n",
       "        font-size:25px;\n",
       "        font-weight:750;\n",
       "        background-color:tan; \n",
       "        text-align: center;\n",
       "        border: 2px dashed blue;\n",
       "        display: inline;\n",
       "    }\n",
       "</style>\n",
       "<h2>Forecasting Diabetes Dashboard</h2>\n",
       "<p>Makes predictions for diabetes</p>\n",
       "<h2>Another header</h2>\n"
      ],
      "text/plain": [
       "<IPython.core.display.HTML object>"
      ]
     },
     "metadata": {
      "text/html": {
       "isolated": true
      }
     },
     "output_type": "display_data"
    }
   ],
   "source": [
    "%%html --isolated\n",
    "<style>\n",
    "    h2 {\n",
    "        border: 2px dashed blue;\n",
    "        display: inline;\n",
    "    }\n",
    "    p{\n",
    "        color: darkgreen;\n",
    "        font-size:25px;\n",
    "        font-weight:750;\n",
    "        background-color:tan; \n",
    "        text-align: center;\n",
    "        border: 2px dashed blue;\n",
    "        display: inline;\n",
    "    }\n",
    "</style>\n",
    "<h2>Forecasting Diabetes Dashboard</h2>\n",
    "<p>Makes predictions for diabetes</p>\n",
    "<h2>Another header</h2>"
   ]
  },
  {
   "cell_type": "code",
   "execution_count": null,
   "id": "06f3cd82-2ea7-43e0-a4cd-5529f4500e0f",
   "metadata": {},
   "outputs": [],
   "source": []
  }
 ],
 "metadata": {
  "kernelspec": {
   "display_name": "Python 3 (ipykernel)",
   "language": "python",
   "name": "python3"
  },
  "language_info": {
   "codemirror_mode": {
    "name": "ipython",
    "version": 3
   },
   "file_extension": ".py",
   "mimetype": "text/x-python",
   "name": "python",
   "nbconvert_exporter": "python",
   "pygments_lexer": "ipython3",
   "version": "3.9.12"
  }
 },
 "nbformat": 4,
 "nbformat_minor": 5
}
