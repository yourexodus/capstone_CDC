{
 "cells": [
  {
   "cell_type": "markdown",
   "id": "eeabfd5c-f987-44d9-aadc-89409e63af4a",
   "metadata": {},
   "source": [
    "# CDC_Capstone:  Part II - Feature Engineering"
   ]
  },
  {
   "cell_type": "markdown",
   "id": "5af3f927-43d0-4226-a069-649d8664df2e",
   "metadata": {},
   "source": [
    "### This is a classification , categorical response problem used to determine the probability of YES or NO probability of diabetes based select features"
   ]
  },
  {
   "cell_type": "markdown",
   "id": "7b42a18c-83f8-4161-b892-d91156555909",
   "metadata": {},
   "source": [
    "\n",
    "Purpose of Part II:\n",
    "1- Address Outliers \n",
    "2- Replace codes with label for better interprepation of data\n",
    "3- Create datasets needed for the dashboard notebook"
   ]
  },
  {
   "cell_type": "code",
   "execution_count": 26,
   "id": "87ebe3fe",
   "metadata": {
    "scrolled": true
   },
   "outputs": [],
   "source": [
    "\n",
    "#### Run imports:\n",
    "# standard data science imports\n",
    "import numpy as np\n",
    "import pandas as pd\n",
    "import seaborn as sns\n",
    "import matplotlib.pyplot as plt\n",
    "\n",
    " \n",
    "# Statistics imports\n",
    "from scipy import stats\n",
    "#import statsmodels.api as sm\n",
    "\n",
    "import csv\n",
    "#import import_ipynb\n",
    "import pandas as pd\n",
    "\n",
    " "
   ]
  },
  {
   "cell_type": "code",
   "execution_count": 27,
   "id": "d6b8f0e3-313c-49ce-bc4a-9215df6f5fc2",
   "metadata": {},
   "outputs": [],
   "source": [
    "#save functions and data source\n",
    "#%run my_functions.ipynb\n",
    "from prepare import PrepareData\n",
    "#Testing - Read local data\n",
    "prepared_data = PrepareData(download_new=False)"
   ]
  },
  {
   "cell_type": "markdown",
   "id": "d24d816e-3c8c-4ba1-9b54-bd49d59c0685",
   "metadata": {},
   "source": [
    " \n",
    "# Reading from my local directory  is much faster\n",
    "Class : Create a class and method to do the following\n",
    "\n",
    "1. take a list of names. For example: ['menhealth','menhealth','physical','dietary,heart','sex,edu','all']\n",
    "2. each name will call another function to read the local directory and retrieve the CSV adn return it as a df\n",
    "note the directory name is defined in the run function found in my_functions file\n",
    "3.  The data frame key will be the name.  Key, data will be the dataframe\n",
    "4. The dictiionary of dataframes will be returned.  "
   ]
  },
  {
   "cell_type": "code",
   "execution_count": 28,
   "id": "c249f9df-f26a-467d-914b-3a205e024a9b",
   "metadata": {},
   "outputs": [],
   "source": [
    "#read in all the data from your local directory.\n",
    "data = prepared_data.run()\n",
    " "
   ]
  },
  {
   "cell_type": "code",
   "execution_count": 29,
   "id": "92c34df9-c514-478e-a499-b0bc507ed3d0",
   "metadata": {},
   "outputs": [],
   "source": [
    "df = data['all']"
   ]
  },
  {
   "cell_type": "markdown",
   "id": "1ce0d092-8466-49f3-82c1-ad3a212ea8bf",
   "metadata": {},
   "source": [
    "# 1. Addressing the Issue:  Outliers"
   ]
  },
  {
   "cell_type": "markdown",
   "id": "11c9b878-1b0b-4980-abd0-03624251d7eb",
   "metadata": {},
   "source": [
    "I will use quartiles to address outliers identified in Getting To Know the Data - Part I.  \n",
    "Pros: Data maybe anonmies and not true outliers.  I maybe deleting important data for my analysis\n",
    "Cons:  I will increase my logistic model performance"
   ]
  },
  {
   "cell_type": "markdown",
   "id": "c2984997-55e1-420b-924b-220f8281a921",
   "metadata": {},
   "source": [
    "## review boxplot and statistics\n"
   ]
  },
  {
   "cell_type": "code",
   "execution_count": 5,
   "id": "d565d69e-7e2a-4d45-8183-8249eb4e9ecf",
   "metadata": {
    "scrolled": true
   },
   "outputs": [
    {
     "data": {
      "image/png": "[encoded data removed]",
      "text/plain": [
       "<Figure size 640x480 with 1 Axes>"
      ]
     },
     "metadata": {},
     "output_type": "display_data"
    }
   ],
   "source": [
    "#box plot columns in the data to show large variances in data\n",
    "plt.boxplot(df[['Income','GenHlth','MentHlth','PhysHlth','DiffWalk']]);"
   ]
  },
  {
   "cell_type": "markdown",
   "id": "f7710314-5a06-48bb-a459-acfb718d05e4",
   "metadata": {},
   "source": [
    "## IQR Method to remove outliers"
   ]
  },
  {
   "cell_type": "markdown",
   "id": "1f34a9a0-aae9-401a-b1aa-68ae35adb0b0",
   "metadata": {},
   "source": [
    "## MentHlth - remove outliers"
   ]
  },
  {
   "cell_type": "code",
   "execution_count": 6,
   "id": "9fdce699-ff14-4293-ade0-25c1b2502fee",
   "metadata": {
    "scrolled": true
   },
   "outputs": [
    {
     "data": {
      "text/html": [
       "<div>\n",
       "<style scoped>\n",
       "    .dataframe tbody tr th:only-of-type {\n",
       "        vertical-align: middle;\n",
       "    }\n",
       "\n",
       "    .dataframe tbody tr th {\n",
       "        vertical-align: top;\n",
       "    }\n",
       "\n",
       "    .dataframe thead th {\n",
       "        text-align: right;\n",
       "    }\n",
       "</style>\n",
       "<table border=\"1\" class=\"dataframe\">\n",
       "  <thead>\n",
       "    <tr style=\"text-align: right;\">\n",
       "      <th></th>\n",
       "      <th>Income</th>\n",
       "      <th>GenHlth</th>\n",
       "      <th>MentHlth</th>\n",
       "      <th>PhysHlth</th>\n",
       "      <th>DiffWalk</th>\n",
       "    </tr>\n",
       "  </thead>\n",
       "  <tbody>\n",
       "    <tr>\n",
       "      <th>count</th>\n",
       "      <td>253680.000000</td>\n",
       "      <td>253680.000000</td>\n",
       "      <td>253680.000000</td>\n",
       "      <td>253680.000000</td>\n",
       "      <td>253680.000000</td>\n",
       "    </tr>\n",
       "    <tr>\n",
       "      <th>mean</th>\n",
       "      <td>6.053875</td>\n",
       "      <td>2.511392</td>\n",
       "      <td>3.184772</td>\n",
       "      <td>4.242081</td>\n",
       "      <td>0.168224</td>\n",
       "    </tr>\n",
       "    <tr>\n",
       "      <th>std</th>\n",
       "      <td>2.071148</td>\n",
       "      <td>1.068477</td>\n",
       "      <td>7.412847</td>\n",
       "      <td>8.717951</td>\n",
       "      <td>0.374066</td>\n",
       "    </tr>\n",
       "    <tr>\n",
       "      <th>min</th>\n",
       "      <td>1.000000</td>\n",
       "      <td>1.000000</td>\n",
       "      <td>0.000000</td>\n",
       "      <td>0.000000</td>\n",
       "      <td>0.000000</td>\n",
       "    </tr>\n",
       "    <tr>\n",
       "      <th>25%</th>\n",
       "      <td>5.000000</td>\n",
       "      <td>2.000000</td>\n",
       "      <td>0.000000</td>\n",
       "      <td>0.000000</td>\n",
       "      <td>0.000000</td>\n",
       "    </tr>\n",
       "    <tr>\n",
       "      <th>50%</th>\n",
       "      <td>7.000000</td>\n",
       "      <td>2.000000</td>\n",
       "      <td>0.000000</td>\n",
       "      <td>0.000000</td>\n",
       "      <td>0.000000</td>\n",
       "    </tr>\n",
       "    <tr>\n",
       "      <th>75%</th>\n",
       "      <td>8.000000</td>\n",
       "      <td>3.000000</td>\n",
       "      <td>2.000000</td>\n",
       "      <td>3.000000</td>\n",
       "      <td>0.000000</td>\n",
       "    </tr>\n",
       "    <tr>\n",
       "      <th>max</th>\n",
       "      <td>8.000000</td>\n",
       "      <td>5.000000</td>\n",
       "      <td>30.000000</td>\n",
       "      <td>30.000000</td>\n",
       "      <td>1.000000</td>\n",
       "    </tr>\n",
       "  </tbody>\n",
       "</table>\n",
       "</div>"
      ],
      "text/plain": [
       "              Income        GenHlth       MentHlth       PhysHlth  \\\n",
       "count  253680.000000  253680.000000  253680.000000  253680.000000   \n",
       "mean        6.053875       2.511392       3.184772       4.242081   \n",
       "std         2.071148       1.068477       7.412847       8.717951   \n",
       "min         1.000000       1.000000       0.000000       0.000000   \n",
       "25%         5.000000       2.000000       0.000000       0.000000   \n",
       "50%         7.000000       2.000000       0.000000       0.000000   \n",
       "75%         8.000000       3.000000       2.000000       3.000000   \n",
       "max         8.000000       5.000000      30.000000      30.000000   \n",
       "\n",
       "            DiffWalk  \n",
       "count  253680.000000  \n",
       "mean        0.168224  \n",
       "std         0.374066  \n",
       "min         0.000000  \n",
       "25%         0.000000  \n",
       "50%         0.000000  \n",
       "75%         0.000000  \n",
       "max         1.000000  "
      ]
     },
     "execution_count": 6,
     "metadata": {},
     "output_type": "execute_result"
    }
   ],
   "source": [
    "df[['Income','GenHlth','MentHlth','PhysHlth','DiffWalk']].describe()"
   ]
  },
  {
   "cell_type": "markdown",
   "id": "9a272372-7211-4849-be52-fb7724f7be09",
   "metadata": {},
   "source": [
    "MentHlth, 75% of the populatation is less than or equal to 2.0.  PhysHlth, 75% of the population is less than or equal to 3.0"
   ]
  },
  {
   "cell_type": "code",
   "execution_count": 7,
   "id": "dd8393cd-4339-4f0f-aabd-21a7e72af15e",
   "metadata": {},
   "outputs": [
    {
     "data": {
      "text/plain": [
       "(0.0, 2.0)"
      ]
     },
     "execution_count": 7,
     "metadata": {},
     "output_type": "execute_result"
    }
   ],
   "source": [
    "# IQR_MentHlth\n",
    "\n",
    "min_IQR = df['MentHlth'].min()\n",
    "Q1 = df.MentHlth.quantile(0.25)\n",
    "Q3 = df.MentHlth.quantile(0.75)\n",
    "Q1, Q3"
   ]
  },
  {
   "cell_type": "code",
   "execution_count": 8,
   "id": "15c84fc0-a003-476b-8942-1ded288e5b39",
   "metadata": {},
   "outputs": [
    {
     "data": {
      "text/plain": [
       "2.0"
      ]
     },
     "execution_count": 8,
     "metadata": {},
     "output_type": "execute_result"
    }
   ],
   "source": [
    "IQR = Q3 - Q1\n",
    "IQR"
   ]
  },
  {
   "cell_type": "markdown",
   "id": "b06b74c1-d33d-4532-8b75-79ce486a047e",
   "metadata": {},
   "source": [
    "#### Find upper and lower limit"
   ]
  },
  {
   "cell_type": "code",
   "execution_count": 9,
   "id": "8b0df62d-2ca1-40e1-ac11-b7c914761ba8",
   "metadata": {},
   "outputs": [
    {
     "data": {
      "text/plain": [
       "(-3.0, 5.0)"
      ]
     },
     "execution_count": 9,
     "metadata": {},
     "output_type": "execute_result"
    }
   ],
   "source": [
    "lower_limit = Q1 - 1.5*IQR\n",
    "upper_limit = Q3 + 1.5*IQR\n",
    "lower_limit, upper_limit"
   ]
  },
  {
   "cell_type": "code",
   "execution_count": 10,
   "id": "0973597a-0639-4127-a1a6-98792c98e4a5",
   "metadata": {},
   "outputs": [
    {
     "data": {
      "text/plain": [
       "(253680, 23)"
      ]
     },
     "execution_count": 10,
     "metadata": {},
     "output_type": "execute_result"
    }
   ],
   "source": [
    "df.shape"
   ]
  },
  {
   "cell_type": "code",
   "execution_count": 11,
   "id": "970eeecb-2bf0-4cbb-becd-18bbb25c5ab6",
   "metadata": {
    "scrolled": true
   },
   "outputs": [
    {
     "data": {
      "text/html": [
       "<div>\n",
       "<style scoped>\n",
       "    .dataframe tbody tr th:only-of-type {\n",
       "        vertical-align: middle;\n",
       "    }\n",
       "\n",
       "    .dataframe tbody tr th {\n",
       "        vertical-align: top;\n",
       "    }\n",
       "\n",
       "    .dataframe thead th {\n",
       "        text-align: right;\n",
       "    }\n",
       "</style>\n",
       "<table border=\"1\" class=\"dataframe\">\n",
       "  <thead>\n",
       "    <tr style=\"text-align: right;\">\n",
       "      <th></th>\n",
       "      <th>ID</th>\n",
       "      <th>Diabetes_binary</th>\n",
       "      <th>HighBP</th>\n",
       "      <th>HighChol</th>\n",
       "      <th>CholCheck</th>\n",
       "      <th>BMI</th>\n",
       "      <th>Smoker</th>\n",
       "      <th>Stroke</th>\n",
       "      <th>HeartDiseaseorAttack</th>\n",
       "      <th>PhysActivity</th>\n",
       "      <th>...</th>\n",
       "      <th>AnyHealthcare</th>\n",
       "      <th>NoDocbcCost</th>\n",
       "      <th>GenHlth</th>\n",
       "      <th>MentHlth</th>\n",
       "      <th>PhysHlth</th>\n",
       "      <th>DiffWalk</th>\n",
       "      <th>Sex</th>\n",
       "      <th>Age</th>\n",
       "      <th>Education</th>\n",
       "      <th>Income</th>\n",
       "    </tr>\n",
       "  </thead>\n",
       "  <tbody>\n",
       "    <tr>\n",
       "      <th>0</th>\n",
       "      <td>0</td>\n",
       "      <td>0</td>\n",
       "      <td>1</td>\n",
       "      <td>1</td>\n",
       "      <td>1</td>\n",
       "      <td>40</td>\n",
       "      <td>1</td>\n",
       "      <td>0</td>\n",
       "      <td>0</td>\n",
       "      <td>0</td>\n",
       "      <td>...</td>\n",
       "      <td>1</td>\n",
       "      <td>0</td>\n",
       "      <td>5</td>\n",
       "      <td>18</td>\n",
       "      <td>15</td>\n",
       "      <td>1</td>\n",
       "      <td>0</td>\n",
       "      <td>9</td>\n",
       "      <td>4</td>\n",
       "      <td>3</td>\n",
       "    </tr>\n",
       "    <tr>\n",
       "      <th>2</th>\n",
       "      <td>2</td>\n",
       "      <td>0</td>\n",
       "      <td>1</td>\n",
       "      <td>1</td>\n",
       "      <td>1</td>\n",
       "      <td>28</td>\n",
       "      <td>0</td>\n",
       "      <td>0</td>\n",
       "      <td>0</td>\n",
       "      <td>0</td>\n",
       "      <td>...</td>\n",
       "      <td>1</td>\n",
       "      <td>1</td>\n",
       "      <td>5</td>\n",
       "      <td>30</td>\n",
       "      <td>30</td>\n",
       "      <td>1</td>\n",
       "      <td>0</td>\n",
       "      <td>9</td>\n",
       "      <td>4</td>\n",
       "      <td>8</td>\n",
       "    </tr>\n",
       "    <tr>\n",
       "      <th>8</th>\n",
       "      <td>8</td>\n",
       "      <td>1</td>\n",
       "      <td>1</td>\n",
       "      <td>1</td>\n",
       "      <td>1</td>\n",
       "      <td>30</td>\n",
       "      <td>1</td>\n",
       "      <td>0</td>\n",
       "      <td>1</td>\n",
       "      <td>0</td>\n",
       "      <td>...</td>\n",
       "      <td>1</td>\n",
       "      <td>0</td>\n",
       "      <td>5</td>\n",
       "      <td>30</td>\n",
       "      <td>30</td>\n",
       "      <td>1</td>\n",
       "      <td>0</td>\n",
       "      <td>9</td>\n",
       "      <td>5</td>\n",
       "      <td>1</td>\n",
       "    </tr>\n",
       "    <tr>\n",
       "      <th>14</th>\n",
       "      <td>14</td>\n",
       "      <td>0</td>\n",
       "      <td>0</td>\n",
       "      <td>1</td>\n",
       "      <td>1</td>\n",
       "      <td>33</td>\n",
       "      <td>1</td>\n",
       "      <td>1</td>\n",
       "      <td>0</td>\n",
       "      <td>1</td>\n",
       "      <td>...</td>\n",
       "      <td>1</td>\n",
       "      <td>1</td>\n",
       "      <td>4</td>\n",
       "      <td>30</td>\n",
       "      <td>28</td>\n",
       "      <td>0</td>\n",
       "      <td>0</td>\n",
       "      <td>4</td>\n",
       "      <td>6</td>\n",
       "      <td>2</td>\n",
       "    </tr>\n",
       "    <tr>\n",
       "      <th>18</th>\n",
       "      <td>18</td>\n",
       "      <td>0</td>\n",
       "      <td>0</td>\n",
       "      <td>0</td>\n",
       "      <td>0</td>\n",
       "      <td>23</td>\n",
       "      <td>0</td>\n",
       "      <td>0</td>\n",
       "      <td>0</td>\n",
       "      <td>0</td>\n",
       "      <td>...</td>\n",
       "      <td>1</td>\n",
       "      <td>0</td>\n",
       "      <td>2</td>\n",
       "      <td>15</td>\n",
       "      <td>0</td>\n",
       "      <td>0</td>\n",
       "      <td>0</td>\n",
       "      <td>2</td>\n",
       "      <td>6</td>\n",
       "      <td>7</td>\n",
       "    </tr>\n",
       "    <tr>\n",
       "      <th>...</th>\n",
       "      <td>...</td>\n",
       "      <td>...</td>\n",
       "      <td>...</td>\n",
       "      <td>...</td>\n",
       "      <td>...</td>\n",
       "      <td>...</td>\n",
       "      <td>...</td>\n",
       "      <td>...</td>\n",
       "      <td>...</td>\n",
       "      <td>...</td>\n",
       "      <td>...</td>\n",
       "      <td>...</td>\n",
       "      <td>...</td>\n",
       "      <td>...</td>\n",
       "      <td>...</td>\n",
       "      <td>...</td>\n",
       "      <td>...</td>\n",
       "      <td>...</td>\n",
       "      <td>...</td>\n",
       "      <td>...</td>\n",
       "      <td>...</td>\n",
       "    </tr>\n",
       "    <tr>\n",
       "      <th>253648</th>\n",
       "      <td>253648</td>\n",
       "      <td>0</td>\n",
       "      <td>0</td>\n",
       "      <td>0</td>\n",
       "      <td>1</td>\n",
       "      <td>28</td>\n",
       "      <td>0</td>\n",
       "      <td>0</td>\n",
       "      <td>0</td>\n",
       "      <td>0</td>\n",
       "      <td>...</td>\n",
       "      <td>1</td>\n",
       "      <td>1</td>\n",
       "      <td>3</td>\n",
       "      <td>6</td>\n",
       "      <td>14</td>\n",
       "      <td>0</td>\n",
       "      <td>1</td>\n",
       "      <td>5</td>\n",
       "      <td>5</td>\n",
       "      <td>1</td>\n",
       "    </tr>\n",
       "    <tr>\n",
       "      <th>253649</th>\n",
       "      <td>253649</td>\n",
       "      <td>0</td>\n",
       "      <td>0</td>\n",
       "      <td>1</td>\n",
       "      <td>1</td>\n",
       "      <td>27</td>\n",
       "      <td>0</td>\n",
       "      <td>0</td>\n",
       "      <td>0</td>\n",
       "      <td>0</td>\n",
       "      <td>...</td>\n",
       "      <td>1</td>\n",
       "      <td>0</td>\n",
       "      <td>2</td>\n",
       "      <td>30</td>\n",
       "      <td>5</td>\n",
       "      <td>0</td>\n",
       "      <td>0</td>\n",
       "      <td>4</td>\n",
       "      <td>6</td>\n",
       "      <td>5</td>\n",
       "    </tr>\n",
       "    <tr>\n",
       "      <th>253665</th>\n",
       "      <td>253665</td>\n",
       "      <td>0</td>\n",
       "      <td>0</td>\n",
       "      <td>1</td>\n",
       "      <td>1</td>\n",
       "      <td>17</td>\n",
       "      <td>0</td>\n",
       "      <td>0</td>\n",
       "      <td>0</td>\n",
       "      <td>0</td>\n",
       "      <td>...</td>\n",
       "      <td>1</td>\n",
       "      <td>1</td>\n",
       "      <td>4</td>\n",
       "      <td>30</td>\n",
       "      <td>30</td>\n",
       "      <td>0</td>\n",
       "      <td>0</td>\n",
       "      <td>5</td>\n",
       "      <td>4</td>\n",
       "      <td>1</td>\n",
       "    </tr>\n",
       "    <tr>\n",
       "      <th>253670</th>\n",
       "      <td>253670</td>\n",
       "      <td>1</td>\n",
       "      <td>1</td>\n",
       "      <td>1</td>\n",
       "      <td>1</td>\n",
       "      <td>25</td>\n",
       "      <td>0</td>\n",
       "      <td>0</td>\n",
       "      <td>1</td>\n",
       "      <td>0</td>\n",
       "      <td>...</td>\n",
       "      <td>1</td>\n",
       "      <td>0</td>\n",
       "      <td>5</td>\n",
       "      <td>15</td>\n",
       "      <td>0</td>\n",
       "      <td>1</td>\n",
       "      <td>0</td>\n",
       "      <td>13</td>\n",
       "      <td>6</td>\n",
       "      <td>4</td>\n",
       "    </tr>\n",
       "    <tr>\n",
       "      <th>253673</th>\n",
       "      <td>253673</td>\n",
       "      <td>0</td>\n",
       "      <td>1</td>\n",
       "      <td>0</td>\n",
       "      <td>1</td>\n",
       "      <td>42</td>\n",
       "      <td>0</td>\n",
       "      <td>0</td>\n",
       "      <td>0</td>\n",
       "      <td>1</td>\n",
       "      <td>...</td>\n",
       "      <td>1</td>\n",
       "      <td>0</td>\n",
       "      <td>3</td>\n",
       "      <td>14</td>\n",
       "      <td>4</td>\n",
       "      <td>0</td>\n",
       "      <td>1</td>\n",
       "      <td>3</td>\n",
       "      <td>6</td>\n",
       "      <td>8</td>\n",
       "    </tr>\n",
       "  </tbody>\n",
       "</table>\n",
       "<p>36208 rows × 23 columns</p>\n",
       "</div>"
      ],
      "text/plain": [
       "            ID  Diabetes_binary  HighBP  HighChol  CholCheck  BMI  Smoker  \\\n",
       "0            0                0       1         1          1   40       1   \n",
       "2            2                0       1         1          1   28       0   \n",
       "8            8                1       1         1          1   30       1   \n",
       "14          14                0       0         1          1   33       1   \n",
       "18          18                0       0         0          0   23       0   \n",
       "...        ...              ...     ...       ...        ...  ...     ...   \n",
       "253648  253648                0       0         0          1   28       0   \n",
       "253649  253649                0       0         1          1   27       0   \n",
       "253665  253665                0       0         1          1   17       0   \n",
       "253670  253670                1       1         1          1   25       0   \n",
       "253673  253673                0       1         0          1   42       0   \n",
       "\n",
       "        Stroke  HeartDiseaseorAttack  PhysActivity  ...  AnyHealthcare  \\\n",
       "0            0                     0             0  ...              1   \n",
       "2            0                     0             0  ...              1   \n",
       "8            0                     1             0  ...              1   \n",
       "14           1                     0             1  ...              1   \n",
       "18           0                     0             0  ...              1   \n",
       "...        ...                   ...           ...  ...            ...   \n",
       "253648       0                     0             0  ...              1   \n",
       "253649       0                     0             0  ...              1   \n",
       "253665       0                     0             0  ...              1   \n",
       "253670       0                     1             0  ...              1   \n",
       "253673       0                     0             1  ...              1   \n",
       "\n",
       "        NoDocbcCost  GenHlth  MentHlth  PhysHlth  DiffWalk  Sex  Age  \\\n",
       "0                 0        5        18        15         1    0    9   \n",
       "2                 1        5        30        30         1    0    9   \n",
       "8                 0        5        30        30         1    0    9   \n",
       "14                1        4        30        28         0    0    4   \n",
       "18                0        2        15         0         0    0    2   \n",
       "...             ...      ...       ...       ...       ...  ...  ...   \n",
       "253648            1        3         6        14         0    1    5   \n",
       "253649            0        2        30         5         0    0    4   \n",
       "253665            1        4        30        30         0    0    5   \n",
       "253670            0        5        15         0         1    0   13   \n",
       "253673            0        3        14         4         0    1    3   \n",
       "\n",
       "        Education  Income  \n",
       "0               4       3  \n",
       "2               4       8  \n",
       "8               5       1  \n",
       "14              6       2  \n",
       "18              6       7  \n",
       "...           ...     ...  \n",
       "253648          5       1  \n",
       "253649          6       5  \n",
       "253665          4       1  \n",
       "253670          6       4  \n",
       "253673          6       8  \n",
       "\n",
       "[36208 rows x 23 columns]"
      ]
     },
     "execution_count": 11,
     "metadata": {},
     "output_type": "execute_result"
    }
   ],
   "source": [
    "# Identified outliers for Menlth Health Data\n",
    "df[(df['MentHlth'] < lower_limit) | (df['MentHlth'] > upper_limit)]"
   ]
  },
  {
   "cell_type": "code",
   "execution_count": 12,
   "id": "6b0ed20b-f4f4-4c3e-a83d-ed4b514024b7",
   "metadata": {},
   "outputs": [
    {
     "data": {
      "text/plain": [
       "14.273099968464207"
      ]
     },
     "execution_count": 12,
     "metadata": {},
     "output_type": "execute_result"
    }
   ],
   "source": [
    "result = (36208/253680)* 100\n",
    "result"
   ]
  },
  {
   "cell_type": "code",
   "execution_count": 13,
   "id": "077e0a98-426e-4455-9e76-7aa8f53c2a0e",
   "metadata": {},
   "outputs": [
    {
     "name": "stdout",
     "output_type": "stream",
     "text": [
      "I identied 14% percente of the records are outliers using IQP the lower & upper bounds in the MentHlth data\n"
     ]
    }
   ],
   "source": [
    "print(f'I identied {result:.0f}% percente of the records are outliers using IQP the lower & upper bounds in the MentHlth data')"
   ]
  },
  {
   "cell_type": "code",
   "execution_count": 14,
   "id": "e710c4d7-f50e-4637-b0c1-b26bad78c01a",
   "metadata": {
    "scrolled": true
   },
   "outputs": [],
   "source": [
    "### Remove the outliers from the original dataframe\n",
    "df_result = df[(df['MentHlth'] >= lower_limit) & (df['MentHlth'] <= upper_limit)]\n",
    "  "
   ]
  },
  {
   "cell_type": "code",
   "execution_count": 15,
   "id": "4a5f3190-2fde-475c-a17e-4151782e3cc4",
   "metadata": {
    "scrolled": true
   },
   "outputs": [
    {
     "data": {
      "text/plain": [
       "(217472, 23)"
      ]
     },
     "execution_count": 15,
     "metadata": {},
     "output_type": "execute_result"
    }
   ],
   "source": [
    "df_result.shape"
   ]
  },
  {
   "cell_type": "code",
   "execution_count": 16,
   "id": "3fb0ffa8-b2eb-4417-bb68-0eca7981ac2b",
   "metadata": {},
   "outputs": [],
   "source": [
    "df = df_result"
   ]
  },
  {
   "cell_type": "code",
   "execution_count": 17,
   "id": "4a888f2c-d978-4631-bda1-b1a440b75928",
   "metadata": {},
   "outputs": [
    {
     "data": {
      "image/png": "[encoded data removed]",
      "text/plain": [
       "<Figure size 640x480 with 1 Axes>"
      ]
     },
     "metadata": {},
     "output_type": "display_data"
    }
   ],
   "source": [
    "#box plot columns in the data to show large variances in data\n",
    "plt.boxplot(df[['Income','GenHlth','MentHlth','PhysHlth','DiffWalk']]);"
   ]
  },
  {
   "cell_type": "markdown",
   "id": "cb1167de-181b-4711-ba55-d1a200b32821",
   "metadata": {},
   "source": [
    "## PhysHlth - remove outliers"
   ]
  },
  {
   "cell_type": "code",
   "execution_count": 18,
   "id": "d09f970b-add9-4380-9555-fdabd0c2e781",
   "metadata": {
    "scrolled": true
   },
   "outputs": [
    {
     "data": {
      "text/html": [
       "<div>\n",
       "<style scoped>\n",
       "    .dataframe tbody tr th:only-of-type {\n",
       "        vertical-align: middle;\n",
       "    }\n",
       "\n",
       "    .dataframe tbody tr th {\n",
       "        vertical-align: top;\n",
       "    }\n",
       "\n",
       "    .dataframe thead th {\n",
       "        text-align: right;\n",
       "    }\n",
       "</style>\n",
       "<table border=\"1\" class=\"dataframe\">\n",
       "  <thead>\n",
       "    <tr style=\"text-align: right;\">\n",
       "      <th></th>\n",
       "      <th>Income</th>\n",
       "      <th>GenHlth</th>\n",
       "      <th>MentHlth</th>\n",
       "      <th>PhysHlth</th>\n",
       "      <th>DiffWalk</th>\n",
       "    </tr>\n",
       "  </thead>\n",
       "  <tbody>\n",
       "    <tr>\n",
       "      <th>count</th>\n",
       "      <td>217472.000000</td>\n",
       "      <td>217472.000000</td>\n",
       "      <td>217472.000000</td>\n",
       "      <td>217472.000000</td>\n",
       "      <td>217472.000000</td>\n",
       "    </tr>\n",
       "    <tr>\n",
       "      <th>mean</th>\n",
       "      <td>6.219458</td>\n",
       "      <td>2.389581</td>\n",
       "      <td>0.538437</td>\n",
       "      <td>3.115040</td>\n",
       "      <td>0.135622</td>\n",
       "    </tr>\n",
       "    <tr>\n",
       "      <th>std</th>\n",
       "      <td>1.973255</td>\n",
       "      <td>1.002121</td>\n",
       "      <td>1.269547</td>\n",
       "      <td>7.424339</td>\n",
       "      <td>0.342388</td>\n",
       "    </tr>\n",
       "    <tr>\n",
       "      <th>min</th>\n",
       "      <td>1.000000</td>\n",
       "      <td>1.000000</td>\n",
       "      <td>0.000000</td>\n",
       "      <td>0.000000</td>\n",
       "      <td>0.000000</td>\n",
       "    </tr>\n",
       "    <tr>\n",
       "      <th>25%</th>\n",
       "      <td>5.000000</td>\n",
       "      <td>2.000000</td>\n",
       "      <td>0.000000</td>\n",
       "      <td>0.000000</td>\n",
       "      <td>0.000000</td>\n",
       "    </tr>\n",
       "    <tr>\n",
       "      <th>50%</th>\n",
       "      <td>7.000000</td>\n",
       "      <td>2.000000</td>\n",
       "      <td>0.000000</td>\n",
       "      <td>0.000000</td>\n",
       "      <td>0.000000</td>\n",
       "    </tr>\n",
       "    <tr>\n",
       "      <th>75%</th>\n",
       "      <td>8.000000</td>\n",
       "      <td>3.000000</td>\n",
       "      <td>0.000000</td>\n",
       "      <td>2.000000</td>\n",
       "      <td>0.000000</td>\n",
       "    </tr>\n",
       "    <tr>\n",
       "      <th>max</th>\n",
       "      <td>8.000000</td>\n",
       "      <td>5.000000</td>\n",
       "      <td>5.000000</td>\n",
       "      <td>30.000000</td>\n",
       "      <td>1.000000</td>\n",
       "    </tr>\n",
       "  </tbody>\n",
       "</table>\n",
       "</div>"
      ],
      "text/plain": [
       "              Income        GenHlth       MentHlth       PhysHlth  \\\n",
       "count  217472.000000  217472.000000  217472.000000  217472.000000   \n",
       "mean        6.219458       2.389581       0.538437       3.115040   \n",
       "std         1.973255       1.002121       1.269547       7.424339   \n",
       "min         1.000000       1.000000       0.000000       0.000000   \n",
       "25%         5.000000       2.000000       0.000000       0.000000   \n",
       "50%         7.000000       2.000000       0.000000       0.000000   \n",
       "75%         8.000000       3.000000       0.000000       2.000000   \n",
       "max         8.000000       5.000000       5.000000      30.000000   \n",
       "\n",
       "            DiffWalk  \n",
       "count  217472.000000  \n",
       "mean        0.135622  \n",
       "std         0.342388  \n",
       "min         0.000000  \n",
       "25%         0.000000  \n",
       "50%         0.000000  \n",
       "75%         0.000000  \n",
       "max         1.000000  "
      ]
     },
     "execution_count": 18,
     "metadata": {},
     "output_type": "execute_result"
    }
   ],
   "source": [
    "df[['Income','GenHlth','MentHlth','PhysHlth','DiffWalk']].describe()"
   ]
  },
  {
   "cell_type": "markdown",
   "id": "096263ef-e901-4a0f-ae11-4fdeda16bc16",
   "metadata": {},
   "source": [
    "MentHlth, 75% of the populatation is less than or equal to 2.0.  PhysHlth, 75% of the population is less than or equal to 3.0"
   ]
  },
  {
   "cell_type": "code",
   "execution_count": 19,
   "id": "07047163-a2d1-4b15-8014-dcffdb777675",
   "metadata": {},
   "outputs": [
    {
     "data": {
      "text/plain": [
       "(0.0, 0.0)"
      ]
     },
     "execution_count": 19,
     "metadata": {},
     "output_type": "execute_result"
    }
   ],
   "source": [
    "# IQR_PhysHlth\n",
    "\n",
    "min_IQR = df['PhysHlth'].min()\n",
    "Q1 = df.MentHlth.quantile(0.25)\n",
    "Q3 = df.MentHlth.quantile(0.75)\n",
    "Q1, Q3"
   ]
  },
  {
   "cell_type": "code",
   "execution_count": 20,
   "id": "a0432952-d57b-47f0-8288-22e99264c9c5",
   "metadata": {},
   "outputs": [
    {
     "data": {
      "text/plain": [
       "0.0"
      ]
     },
     "execution_count": 20,
     "metadata": {},
     "output_type": "execute_result"
    }
   ],
   "source": [
    "IQR = Q3 - Q1\n",
    "IQR"
   ]
  },
  {
   "cell_type": "markdown",
   "id": "6c439718-4d78-4b6c-80e5-f6072b5a677c",
   "metadata": {},
   "source": [
    "#### Find upper and lower limit"
   ]
  },
  {
   "cell_type": "code",
   "execution_count": 21,
   "id": "866c9f2e-4cda-45b0-992c-1636ea230261",
   "metadata": {},
   "outputs": [
    {
     "data": {
      "text/plain": [
       "(0.0, 0.0)"
      ]
     },
     "execution_count": 21,
     "metadata": {},
     "output_type": "execute_result"
    }
   ],
   "source": [
    "lower_limit = Q1 - 1.5*IQR\n",
    "upper_limit = Q3 + 1.5*IQR\n",
    "lower_limit, upper_limit"
   ]
  },
  {
   "cell_type": "code",
   "execution_count": 22,
   "id": "bafb3197-58fc-4b3b-8306-37c9a7301d2e",
   "metadata": {},
   "outputs": [
    {
     "data": {
      "text/plain": [
       "(217472, 23)"
      ]
     },
     "execution_count": 22,
     "metadata": {},
     "output_type": "execute_result"
    }
   ],
   "source": [
    "df.shape"
   ]
  },
  {
   "cell_type": "code",
   "execution_count": 23,
   "id": "89130b89-69de-4b95-9c9b-65ad2d7f043d",
   "metadata": {
    "scrolled": true
   },
   "outputs": [
    {
     "data": {
      "text/html": [
       "<div>\n",
       "<style scoped>\n",
       "    .dataframe tbody tr th:only-of-type {\n",
       "        vertical-align: middle;\n",
       "    }\n",
       "\n",
       "    .dataframe tbody tr th {\n",
       "        vertical-align: top;\n",
       "    }\n",
       "\n",
       "    .dataframe thead th {\n",
       "        text-align: right;\n",
       "    }\n",
       "</style>\n",
       "<table border=\"1\" class=\"dataframe\">\n",
       "  <thead>\n",
       "    <tr style=\"text-align: right;\">\n",
       "      <th></th>\n",
       "      <th>ID</th>\n",
       "      <th>Diabetes_binary</th>\n",
       "      <th>HighBP</th>\n",
       "      <th>HighChol</th>\n",
       "      <th>CholCheck</th>\n",
       "      <th>BMI</th>\n",
       "      <th>Smoker</th>\n",
       "      <th>Stroke</th>\n",
       "      <th>HeartDiseaseorAttack</th>\n",
       "      <th>PhysActivity</th>\n",
       "      <th>...</th>\n",
       "      <th>AnyHealthcare</th>\n",
       "      <th>NoDocbcCost</th>\n",
       "      <th>GenHlth</th>\n",
       "      <th>MentHlth</th>\n",
       "      <th>PhysHlth</th>\n",
       "      <th>DiffWalk</th>\n",
       "      <th>Sex</th>\n",
       "      <th>Age</th>\n",
       "      <th>Education</th>\n",
       "      <th>Income</th>\n",
       "    </tr>\n",
       "  </thead>\n",
       "  <tbody>\n",
       "    <tr>\n",
       "      <th>5</th>\n",
       "      <td>5</td>\n",
       "      <td>0</td>\n",
       "      <td>1</td>\n",
       "      <td>1</td>\n",
       "      <td>1</td>\n",
       "      <td>25</td>\n",
       "      <td>1</td>\n",
       "      <td>0</td>\n",
       "      <td>0</td>\n",
       "      <td>1</td>\n",
       "      <td>...</td>\n",
       "      <td>1</td>\n",
       "      <td>0</td>\n",
       "      <td>2</td>\n",
       "      <td>0</td>\n",
       "      <td>2</td>\n",
       "      <td>0</td>\n",
       "      <td>1</td>\n",
       "      <td>10</td>\n",
       "      <td>6</td>\n",
       "      <td>8</td>\n",
       "    </tr>\n",
       "    <tr>\n",
       "      <th>6</th>\n",
       "      <td>6</td>\n",
       "      <td>0</td>\n",
       "      <td>1</td>\n",
       "      <td>0</td>\n",
       "      <td>1</td>\n",
       "      <td>30</td>\n",
       "      <td>1</td>\n",
       "      <td>0</td>\n",
       "      <td>0</td>\n",
       "      <td>0</td>\n",
       "      <td>...</td>\n",
       "      <td>1</td>\n",
       "      <td>0</td>\n",
       "      <td>3</td>\n",
       "      <td>0</td>\n",
       "      <td>14</td>\n",
       "      <td>0</td>\n",
       "      <td>0</td>\n",
       "      <td>9</td>\n",
       "      <td>6</td>\n",
       "      <td>7</td>\n",
       "    </tr>\n",
       "    <tr>\n",
       "      <th>11</th>\n",
       "      <td>11</td>\n",
       "      <td>0</td>\n",
       "      <td>1</td>\n",
       "      <td>1</td>\n",
       "      <td>1</td>\n",
       "      <td>34</td>\n",
       "      <td>1</td>\n",
       "      <td>0</td>\n",
       "      <td>0</td>\n",
       "      <td>0</td>\n",
       "      <td>...</td>\n",
       "      <td>1</td>\n",
       "      <td>0</td>\n",
       "      <td>3</td>\n",
       "      <td>0</td>\n",
       "      <td>30</td>\n",
       "      <td>1</td>\n",
       "      <td>0</td>\n",
       "      <td>10</td>\n",
       "      <td>5</td>\n",
       "      <td>1</td>\n",
       "    </tr>\n",
       "    <tr>\n",
       "      <th>12</th>\n",
       "      <td>12</td>\n",
       "      <td>0</td>\n",
       "      <td>0</td>\n",
       "      <td>0</td>\n",
       "      <td>1</td>\n",
       "      <td>26</td>\n",
       "      <td>1</td>\n",
       "      <td>0</td>\n",
       "      <td>0</td>\n",
       "      <td>0</td>\n",
       "      <td>...</td>\n",
       "      <td>1</td>\n",
       "      <td>0</td>\n",
       "      <td>3</td>\n",
       "      <td>0</td>\n",
       "      <td>15</td>\n",
       "      <td>0</td>\n",
       "      <td>0</td>\n",
       "      <td>7</td>\n",
       "      <td>5</td>\n",
       "      <td>7</td>\n",
       "    </tr>\n",
       "    <tr>\n",
       "      <th>22</th>\n",
       "      <td>22</td>\n",
       "      <td>0</td>\n",
       "      <td>0</td>\n",
       "      <td>0</td>\n",
       "      <td>1</td>\n",
       "      <td>28</td>\n",
       "      <td>1</td>\n",
       "      <td>0</td>\n",
       "      <td>0</td>\n",
       "      <td>0</td>\n",
       "      <td>...</td>\n",
       "      <td>1</td>\n",
       "      <td>0</td>\n",
       "      <td>3</td>\n",
       "      <td>0</td>\n",
       "      <td>7</td>\n",
       "      <td>0</td>\n",
       "      <td>1</td>\n",
       "      <td>5</td>\n",
       "      <td>5</td>\n",
       "      <td>5</td>\n",
       "    </tr>\n",
       "    <tr>\n",
       "      <th>...</th>\n",
       "      <td>...</td>\n",
       "      <td>...</td>\n",
       "      <td>...</td>\n",
       "      <td>...</td>\n",
       "      <td>...</td>\n",
       "      <td>...</td>\n",
       "      <td>...</td>\n",
       "      <td>...</td>\n",
       "      <td>...</td>\n",
       "      <td>...</td>\n",
       "      <td>...</td>\n",
       "      <td>...</td>\n",
       "      <td>...</td>\n",
       "      <td>...</td>\n",
       "      <td>...</td>\n",
       "      <td>...</td>\n",
       "      <td>...</td>\n",
       "      <td>...</td>\n",
       "      <td>...</td>\n",
       "      <td>...</td>\n",
       "      <td>...</td>\n",
       "    </tr>\n",
       "    <tr>\n",
       "      <th>253663</th>\n",
       "      <td>253663</td>\n",
       "      <td>0</td>\n",
       "      <td>0</td>\n",
       "      <td>0</td>\n",
       "      <td>1</td>\n",
       "      <td>23</td>\n",
       "      <td>0</td>\n",
       "      <td>0</td>\n",
       "      <td>0</td>\n",
       "      <td>0</td>\n",
       "      <td>...</td>\n",
       "      <td>1</td>\n",
       "      <td>1</td>\n",
       "      <td>2</td>\n",
       "      <td>0</td>\n",
       "      <td>30</td>\n",
       "      <td>0</td>\n",
       "      <td>0</td>\n",
       "      <td>5</td>\n",
       "      <td>6</td>\n",
       "      <td>2</td>\n",
       "    </tr>\n",
       "    <tr>\n",
       "      <th>253666</th>\n",
       "      <td>253666</td>\n",
       "      <td>0</td>\n",
       "      <td>1</td>\n",
       "      <td>0</td>\n",
       "      <td>1</td>\n",
       "      <td>23</td>\n",
       "      <td>0</td>\n",
       "      <td>0</td>\n",
       "      <td>0</td>\n",
       "      <td>0</td>\n",
       "      <td>...</td>\n",
       "      <td>1</td>\n",
       "      <td>0</td>\n",
       "      <td>3</td>\n",
       "      <td>0</td>\n",
       "      <td>15</td>\n",
       "      <td>0</td>\n",
       "      <td>0</td>\n",
       "      <td>6</td>\n",
       "      <td>5</td>\n",
       "      <td>2</td>\n",
       "    </tr>\n",
       "    <tr>\n",
       "      <th>253669</th>\n",
       "      <td>253669</td>\n",
       "      <td>0</td>\n",
       "      <td>0</td>\n",
       "      <td>1</td>\n",
       "      <td>1</td>\n",
       "      <td>27</td>\n",
       "      <td>0</td>\n",
       "      <td>0</td>\n",
       "      <td>0</td>\n",
       "      <td>0</td>\n",
       "      <td>...</td>\n",
       "      <td>1</td>\n",
       "      <td>1</td>\n",
       "      <td>1</td>\n",
       "      <td>0</td>\n",
       "      <td>3</td>\n",
       "      <td>0</td>\n",
       "      <td>1</td>\n",
       "      <td>6</td>\n",
       "      <td>2</td>\n",
       "      <td>4</td>\n",
       "    </tr>\n",
       "    <tr>\n",
       "      <th>253671</th>\n",
       "      <td>253671</td>\n",
       "      <td>0</td>\n",
       "      <td>1</td>\n",
       "      <td>1</td>\n",
       "      <td>1</td>\n",
       "      <td>23</td>\n",
       "      <td>0</td>\n",
       "      <td>1</td>\n",
       "      <td>1</td>\n",
       "      <td>0</td>\n",
       "      <td>...</td>\n",
       "      <td>1</td>\n",
       "      <td>1</td>\n",
       "      <td>4</td>\n",
       "      <td>0</td>\n",
       "      <td>5</td>\n",
       "      <td>0</td>\n",
       "      <td>1</td>\n",
       "      <td>8</td>\n",
       "      <td>3</td>\n",
       "      <td>2</td>\n",
       "    </tr>\n",
       "    <tr>\n",
       "      <th>253675</th>\n",
       "      <td>253675</td>\n",
       "      <td>0</td>\n",
       "      <td>1</td>\n",
       "      <td>1</td>\n",
       "      <td>1</td>\n",
       "      <td>45</td>\n",
       "      <td>0</td>\n",
       "      <td>0</td>\n",
       "      <td>0</td>\n",
       "      <td>0</td>\n",
       "      <td>...</td>\n",
       "      <td>1</td>\n",
       "      <td>0</td>\n",
       "      <td>3</td>\n",
       "      <td>0</td>\n",
       "      <td>5</td>\n",
       "      <td>0</td>\n",
       "      <td>1</td>\n",
       "      <td>5</td>\n",
       "      <td>6</td>\n",
       "      <td>7</td>\n",
       "    </tr>\n",
       "  </tbody>\n",
       "</table>\n",
       "<p>69613 rows × 23 columns</p>\n",
       "</div>"
      ],
      "text/plain": [
       "            ID  Diabetes_binary  HighBP  HighChol  CholCheck  BMI  Smoker  \\\n",
       "5            5                0       1         1          1   25       1   \n",
       "6            6                0       1         0          1   30       1   \n",
       "11          11                0       1         1          1   34       1   \n",
       "12          12                0       0         0          1   26       1   \n",
       "22          22                0       0         0          1   28       1   \n",
       "...        ...              ...     ...       ...        ...  ...     ...   \n",
       "253663  253663                0       0         0          1   23       0   \n",
       "253666  253666                0       1         0          1   23       0   \n",
       "253669  253669                0       0         1          1   27       0   \n",
       "253671  253671                0       1         1          1   23       0   \n",
       "253675  253675                0       1         1          1   45       0   \n",
       "\n",
       "        Stroke  HeartDiseaseorAttack  PhysActivity  ...  AnyHealthcare  \\\n",
       "5            0                     0             1  ...              1   \n",
       "6            0                     0             0  ...              1   \n",
       "11           0                     0             0  ...              1   \n",
       "12           0                     0             0  ...              1   \n",
       "22           0                     0             0  ...              1   \n",
       "...        ...                   ...           ...  ...            ...   \n",
       "253663       0                     0             0  ...              1   \n",
       "253666       0                     0             0  ...              1   \n",
       "253669       0                     0             0  ...              1   \n",
       "253671       1                     1             0  ...              1   \n",
       "253675       0                     0             0  ...              1   \n",
       "\n",
       "        NoDocbcCost  GenHlth  MentHlth  PhysHlth  DiffWalk  Sex  Age  \\\n",
       "5                 0        2         0         2         0    1   10   \n",
       "6                 0        3         0        14         0    0    9   \n",
       "11                0        3         0        30         1    0   10   \n",
       "12                0        3         0        15         0    0    7   \n",
       "22                0        3         0         7         0    1    5   \n",
       "...             ...      ...       ...       ...       ...  ...  ...   \n",
       "253663            1        2         0        30         0    0    5   \n",
       "253666            0        3         0        15         0    0    6   \n",
       "253669            1        1         0         3         0    1    6   \n",
       "253671            1        4         0         5         0    1    8   \n",
       "253675            0        3         0         5         0    1    5   \n",
       "\n",
       "        Education  Income  \n",
       "5               6       8  \n",
       "6               6       7  \n",
       "11              5       1  \n",
       "12              5       7  \n",
       "22              5       5  \n",
       "...           ...     ...  \n",
       "253663          6       2  \n",
       "253666          5       2  \n",
       "253669          2       4  \n",
       "253671          3       2  \n",
       "253675          6       7  \n",
       "\n",
       "[69613 rows x 23 columns]"
      ]
     },
     "execution_count": 23,
     "metadata": {},
     "output_type": "execute_result"
    }
   ],
   "source": [
    "# Identified outliers for Menlth Health Data\n",
    "df[(df['PhysHlth'] < lower_limit) | (df['PhysHlth'] > upper_limit)]"
   ]
  },
  {
   "cell_type": "code",
   "execution_count": 24,
   "id": "b8b98100-e550-4e9c-9f17-b19abd1fb35c",
   "metadata": {},
   "outputs": [
    {
     "data": {
      "text/plain": [
       "19.217186580341377"
      ]
     },
     "execution_count": 24,
     "metadata": {},
     "output_type": "execute_result"
    }
   ],
   "source": [
    "result = (41792/217472)* 100\n",
    "result"
   ]
  },
  {
   "cell_type": "code",
   "execution_count": 25,
   "id": "8b5e7cd2-d9d8-46f4-bfef-626ae0a8ea42",
   "metadata": {},
   "outputs": [
    {
     "name": "stdout",
     "output_type": "stream",
     "text": [
      "I identied 19% percente of the records are outliers using IQP the lower & upper bounds in the PhysHlth data\n"
     ]
    }
   ],
   "source": [
    "print(f'I identied {result:.0f}% percente of the records are outliers using IQP the lower & upper bounds in the PhysHlth data')"
   ]
  },
  {
   "cell_type": "code",
   "execution_count": 74,
   "id": "4c7745af-e9ce-4e49-88c3-d26abdbd9d6c",
   "metadata": {
    "scrolled": true
   },
   "outputs": [],
   "source": [
    "### Remove the outliers from the original dataframe\n",
    "df_result = df[(df['MentHlth'] >= lower_limit) & (df['MentHlth'] <= upper_limit)]\n",
    "  "
   ]
  },
  {
   "cell_type": "code",
   "execution_count": 75,
   "id": "b263ed00-9d36-4eaa-a2c3-7d83a7d97340",
   "metadata": {
    "scrolled": true
   },
   "outputs": [
    {
     "data": {
      "text/plain": [
       "(175680, 23)"
      ]
     },
     "execution_count": 75,
     "metadata": {},
     "output_type": "execute_result"
    }
   ],
   "source": [
    "df_result.shape"
   ]
  },
  {
   "cell_type": "code",
   "execution_count": 76,
   "id": "673c5747-ff00-499b-86f0-2fe3236b6872",
   "metadata": {},
   "outputs": [],
   "source": [
    "df = df_result"
   ]
  },
  {
   "cell_type": "markdown",
   "id": "83408920-d22a-4a08-a95d-a96df8b1e5d8",
   "metadata": {},
   "source": [
    "# Reviewed boxplot"
   ]
  },
  {
   "cell_type": "code",
   "execution_count": 77,
   "id": "e4f14369-55f8-4281-a9cd-6cdcecc1cf4a",
   "metadata": {
    "scrolled": true
   },
   "outputs": [
    {
     "data": {
      "image/png": "[encoded data removed]",
      "text/plain": [
       "<Figure size 640x480 with 1 Axes>"
      ]
     },
     "metadata": {},
     "output_type": "display_data"
    }
   ],
   "source": [
    "#box plot columns in the data to show large variances in data\n",
    "plt.boxplot(df[['Income','GenHlth','MentHlth','PhysHlth','DiffWalk']]);"
   ]
  },
  {
   "cell_type": "markdown",
   "id": "df6b7da8-7465-44de-aaa7-dcf4ba828102",
   "metadata": {},
   "source": [
    "## Replace codes in column data with names "
   ]
  },
  {
   "cell_type": "markdown",
   "id": "a461bf71-38f1-4c51-a884-e8d299a66c24",
   "metadata": {},
   "source": [
    "### Before column update"
   ]
  },
  {
   "cell_type": "code",
   "execution_count": 37,
   "id": "c8a74f7b-0663-408c-80b0-760771e00fd0",
   "metadata": {},
   "outputs": [
    {
     "data": {
      "text/plain": [
       "Index(['ID', 'Diabetes_binary', 'HighBP', 'HighChol', 'CholCheck', 'BMI',\n",
       "       'Smoker', 'Stroke', 'HeartDiseaseorAttack', 'PhysActivity', 'Fruits',\n",
       "       'Veggies', 'HvyAlcoholConsump', 'AnyHealthcare', 'NoDocbcCost',\n",
       "       'GenHlth', 'MentHlth', 'PhysHlth', 'DiffWalk', 'Sex', 'Age',\n",
       "       'Education', 'Income', 'Gender', 'Type', 'GeneralHealth', 'income',\n",
       "       'education'],\n",
       "      dtype='object')"
      ]
     },
     "execution_count": 37,
     "metadata": {},
     "output_type": "execute_result"
    }
   ],
   "source": [
    "df.columns"
   ]
  },
  {
   "cell_type": "code",
   "execution_count": 38,
   "id": "7f68536d-09c6-4261-a427-62818d236869",
   "metadata": {},
   "outputs": [],
   "source": [
    "#created method to update all my column names\n",
    "\n",
    "df = prepared_data.update_labels(df)"
   ]
  },
  {
   "cell_type": "markdown",
   "id": "ae4d8b86-082f-4dfc-bb8e-d580135573c2",
   "metadata": {},
   "source": [
    "### After column update"
   ]
  },
  {
   "cell_type": "code",
   "execution_count": 33,
   "id": "2a0d3df2-b2a5-47db-a0e7-b57054d33a5d",
   "metadata": {},
   "outputs": [
    {
     "data": {
      "text/plain": [
       "Index(['ID', 'Diabetes_binary', 'HighBP', 'HighChol', 'CholCheck', 'BMI',\n",
       "       'Smoker', 'Stroke', 'HeartDiseaseorAttack', 'PhysActivity', 'Fruits',\n",
       "       'Veggies', 'HvyAlcoholConsump', 'AnyHealthcare', 'NoDocbcCost',\n",
       "       'GenHlth', 'MentHlth', 'PhysHlth', 'DiffWalk', 'Sex', 'Age',\n",
       "       'Education', 'Income', 'Gender', 'Type', 'GeneralHealth', 'income',\n",
       "       'education'],\n",
       "      dtype='object')"
      ]
     },
     "execution_count": 33,
     "metadata": {},
     "output_type": "execute_result"
    }
   ],
   "source": [
    "df.columns"
   ]
  },
  {
   "cell_type": "code",
   "execution_count": 78,
   "id": "3b580ec9-be67-42ad-a8d4-1d2b24bd415b",
   "metadata": {
    "scrolled": true
   },
   "outputs": [
    {
     "data": {
      "text/html": [
       "<div>\n",
       "<style scoped>\n",
       "    .dataframe tbody tr th:only-of-type {\n",
       "        vertical-align: middle;\n",
       "    }\n",
       "\n",
       "    .dataframe tbody tr th {\n",
       "        vertical-align: top;\n",
       "    }\n",
       "\n",
       "    .dataframe thead th {\n",
       "        text-align: right;\n",
       "    }\n",
       "</style>\n",
       "<table border=\"1\" class=\"dataframe\">\n",
       "  <thead>\n",
       "    <tr style=\"text-align: right;\">\n",
       "      <th></th>\n",
       "      <th>Diabetes_binary</th>\n",
       "      <th>MentHlth</th>\n",
       "      <th>Sex</th>\n",
       "    </tr>\n",
       "  </thead>\n",
       "  <tbody>\n",
       "    <tr>\n",
       "      <th>0</th>\n",
       "      <td>0</td>\n",
       "      <td>0</td>\n",
       "      <td>1</td>\n",
       "    </tr>\n",
       "    <tr>\n",
       "      <th>1</th>\n",
       "      <td>0</td>\n",
       "      <td>0</td>\n",
       "      <td>1</td>\n",
       "    </tr>\n",
       "    <tr>\n",
       "      <th>2</th>\n",
       "      <td>1</td>\n",
       "      <td>0</td>\n",
       "      <td>0</td>\n",
       "    </tr>\n",
       "    <tr>\n",
       "      <th>3</th>\n",
       "      <td>0</td>\n",
       "      <td>2</td>\n",
       "      <td>0</td>\n",
       "    </tr>\n",
       "    <tr>\n",
       "      <th>4</th>\n",
       "      <td>1</td>\n",
       "      <td>0</td>\n",
       "      <td>1</td>\n",
       "    </tr>\n",
       "    <tr>\n",
       "      <th>...</th>\n",
       "      <td>...</td>\n",
       "      <td>...</td>\n",
       "      <td>...</td>\n",
       "    </tr>\n",
       "    <tr>\n",
       "      <th>495</th>\n",
       "      <td>0</td>\n",
       "      <td>15</td>\n",
       "      <td>0</td>\n",
       "    </tr>\n",
       "    <tr>\n",
       "      <th>496</th>\n",
       "      <td>0</td>\n",
       "      <td>2</td>\n",
       "      <td>0</td>\n",
       "    </tr>\n",
       "    <tr>\n",
       "      <th>497</th>\n",
       "      <td>0</td>\n",
       "      <td>0</td>\n",
       "      <td>0</td>\n",
       "    </tr>\n",
       "    <tr>\n",
       "      <th>498</th>\n",
       "      <td>1</td>\n",
       "      <td>0</td>\n",
       "      <td>1</td>\n",
       "    </tr>\n",
       "    <tr>\n",
       "      <th>499</th>\n",
       "      <td>0</td>\n",
       "      <td>0</td>\n",
       "      <td>1</td>\n",
       "    </tr>\n",
       "  </tbody>\n",
       "</table>\n",
       "<p>500 rows × 3 columns</p>\n",
       "</div>"
      ],
      "text/plain": [
       "     Diabetes_binary  MentHlth  Sex\n",
       "0                  0         0    1\n",
       "1                  0         0    1\n",
       "2                  1         0    0\n",
       "3                  0         2    0\n",
       "4                  1         0    1\n",
       "..               ...       ...  ...\n",
       "495                0        15    0\n",
       "496                0         2    0\n",
       "497                0         0    0\n",
       "498                1         0    1\n",
       "499                0         0    1\n",
       "\n",
       "[500 rows x 3 columns]"
      ]
     },
     "execution_count": 78,
     "metadata": {},
     "output_type": "execute_result"
    }
   ],
   "source": [
    "#Each dictionary keys include a sample subset of data with a total of 500 records with the exception of all.  All includes all the records.  They include 'menhealth','menhealth','physical','dietary','heart','sex','edu','all' \n",
    "#confirm 1 dictionary key \n",
    "data['menhealth']"
   ]
  },
  {
   "cell_type": "markdown",
   "id": "959d7b36-216d-4291-a520-c75123b515f1",
   "metadata": {},
   "source": [
    "# My New Naming Convention"
   ]
  },
  {
   "cell_type": "markdown",
   "id": "2337e315-d30b-406a-a0e9-cfe04ed6e373",
   "metadata": {},
   "source": [
    "## `people`"
   ]
  },
  {
   "cell_type": "code",
   "execution_count": 5,
   "id": "7dc8d38d-17d4-4378-9ab4-d54a862593b9",
   "metadata": {
    "scrolled": true
   },
   "outputs": [
    {
     "data": {
      "text/html": [
       "<div>\n",
       "<style scoped>\n",
       "    .dataframe tbody tr th:only-of-type {\n",
       "        vertical-align: middle;\n",
       "    }\n",
       "\n",
       "    .dataframe tbody tr th {\n",
       "        vertical-align: top;\n",
       "    }\n",
       "\n",
       "    .dataframe thead th {\n",
       "        text-align: right;\n",
       "    }\n",
       "</style>\n",
       "<table border=\"1\" class=\"dataframe\">\n",
       "  <thead>\n",
       "    <tr style=\"text-align: right;\">\n",
       "      <th></th>\n",
       "      <th>ID</th>\n",
       "      <th>Diabetes_binary</th>\n",
       "      <th>HighBP</th>\n",
       "      <th>HighChol</th>\n",
       "      <th>CholCheck</th>\n",
       "      <th>BMI</th>\n",
       "      <th>Smoker</th>\n",
       "      <th>Stroke</th>\n",
       "      <th>HeartDiseaseorAttack</th>\n",
       "      <th>PhysActivity</th>\n",
       "      <th>...</th>\n",
       "      <th>Sex</th>\n",
       "      <th>Age</th>\n",
       "      <th>Education</th>\n",
       "      <th>Income</th>\n",
       "      <th>Gender</th>\n",
       "      <th>Types</th>\n",
       "      <th>GeneralHealth</th>\n",
       "      <th>Type</th>\n",
       "      <th>income</th>\n",
       "      <th>education</th>\n",
       "    </tr>\n",
       "  </thead>\n",
       "  <tbody>\n",
       "    <tr>\n",
       "      <th>0</th>\n",
       "      <td>215265</td>\n",
       "      <td>0</td>\n",
       "      <td>0</td>\n",
       "      <td>1</td>\n",
       "      <td>0</td>\n",
       "      <td>30</td>\n",
       "      <td>1</td>\n",
       "      <td>0</td>\n",
       "      <td>0</td>\n",
       "      <td>1</td>\n",
       "      <td>...</td>\n",
       "      <td>0</td>\n",
       "      <td>3</td>\n",
       "      <td>4</td>\n",
       "      <td>1</td>\n",
       "      <td>men</td>\n",
       "      <td>nondiabetic</td>\n",
       "      <td>Good</td>\n",
       "      <td>nondiabetic</td>\n",
       "      <td>&lt;10K</td>\n",
       "      <td>12orGED</td>\n",
       "    </tr>\n",
       "    <tr>\n",
       "      <th>1</th>\n",
       "      <td>141614</td>\n",
       "      <td>0</td>\n",
       "      <td>0</td>\n",
       "      <td>0</td>\n",
       "      <td>1</td>\n",
       "      <td>35</td>\n",
       "      <td>1</td>\n",
       "      <td>0</td>\n",
       "      <td>0</td>\n",
       "      <td>1</td>\n",
       "      <td>...</td>\n",
       "      <td>1</td>\n",
       "      <td>7</td>\n",
       "      <td>4</td>\n",
       "      <td>1</td>\n",
       "      <td>women</td>\n",
       "      <td>nondiabetic</td>\n",
       "      <td>Excellent</td>\n",
       "      <td>nondiabetic</td>\n",
       "      <td>&lt;10K</td>\n",
       "      <td>12orGED</td>\n",
       "    </tr>\n",
       "  </tbody>\n",
       "</table>\n",
       "<p>2 rows × 29 columns</p>\n",
       "</div>"
      ],
      "text/plain": [
       "       ID  Diabetes_binary  HighBP  HighChol  CholCheck  BMI  Smoker  Stroke  \\\n",
       "0  215265                0       0         1          0   30       1       0   \n",
       "1  141614                0       0         0          1   35       1       0   \n",
       "\n",
       "   HeartDiseaseorAttack  PhysActivity  ...  Sex  Age  Education  Income  \\\n",
       "0                     0             1  ...    0    3          4       1   \n",
       "1                     0             1  ...    1    7          4       1   \n",
       "\n",
       "   Gender        Types  GeneralHealth         Type  income  education  \n",
       "0     men  nondiabetic           Good  nondiabetic    <10K    12orGED  \n",
       "1   women  nondiabetic      Excellent  nondiabetic    <10K    12orGED  \n",
       "\n",
       "[2 rows x 29 columns]"
      ]
     },
     "execution_count": 5,
     "metadata": {},
     "output_type": "execute_result"
    }
   ],
   "source": [
    "#need to convert the dictionary [\"all\"]  to a dataframe.  remeber, all is the key\n",
    "people = data['all']\n",
    "people.head(2)\n",
    "\n"
   ]
  },
  {
   "cell_type": "markdown",
   "id": "4b75fa21-42fb-4be9-8ecb-125a6562391f",
   "metadata": {},
   "source": [
    "I  will use the name `people` to refer to the separate gender groups of people in our data.\n",
    "\n",
    "### gender: \n",
    "* `\"men\"` - represents all data for men - where sex == 1\n",
    "* `\"women\"` - represents all data for women  - where sex == 2\n",
    "\n",
    "\n"
   ]
  },
  {
   "cell_type": "code",
   "execution_count": 6,
   "id": "c68195ab-53f0-4f9b-b639-9026edd5853f",
   "metadata": {},
   "outputs": [
    {
     "data": {
      "text/html": [
       "<div>\n",
       "<style scoped>\n",
       "    .dataframe tbody tr th:only-of-type {\n",
       "        vertical-align: middle;\n",
       "    }\n",
       "\n",
       "    .dataframe tbody tr th {\n",
       "        vertical-align: top;\n",
       "    }\n",
       "\n",
       "    .dataframe thead th {\n",
       "        text-align: right;\n",
       "    }\n",
       "</style>\n",
       "<table border=\"1\" class=\"dataframe\">\n",
       "  <thead>\n",
       "    <tr style=\"text-align: right;\">\n",
       "      <th></th>\n",
       "      <th>Diabetes_binary</th>\n",
       "    </tr>\n",
       "    <tr>\n",
       "      <th>Sex</th>\n",
       "      <th></th>\n",
       "    </tr>\n",
       "  </thead>\n",
       "  <tbody>\n",
       "    <tr>\n",
       "      <th>0</th>\n",
       "      <td>141974</td>\n",
       "    </tr>\n",
       "    <tr>\n",
       "      <th>1</th>\n",
       "      <td>111706</td>\n",
       "    </tr>\n",
       "  </tbody>\n",
       "</table>\n",
       "</div>"
      ],
      "text/plain": [
       "     Diabetes_binary\n",
       "Sex                 \n",
       "0             141974\n",
       "1             111706"
      ]
     },
     "execution_count": 6,
     "metadata": {},
     "output_type": "execute_result"
    }
   ],
   "source": [
    "#Obervation\n",
    "# 0 - Male\n",
    "# 1- Female\n",
    "\n",
    "people.groupby(by = ['Sex']).count()[['Diabetes_binary']]"
   ]
  },
  {
   "cell_type": "code",
   "execution_count": 7,
   "id": "4d08d2d3-a099-4949-959c-93fc8c59fb72",
   "metadata": {},
   "outputs": [
    {
     "data": {
      "text/html": [
       "<div>\n",
       "<style scoped>\n",
       "    .dataframe tbody tr th:only-of-type {\n",
       "        vertical-align: middle;\n",
       "    }\n",
       "\n",
       "    .dataframe tbody tr th {\n",
       "        vertical-align: top;\n",
       "    }\n",
       "\n",
       "    .dataframe thead th {\n",
       "        text-align: right;\n",
       "    }\n",
       "</style>\n",
       "<table border=\"1\" class=\"dataframe\">\n",
       "  <thead>\n",
       "    <tr style=\"text-align: right;\">\n",
       "      <th></th>\n",
       "      <th>ID</th>\n",
       "      <th>Diabetes_binary</th>\n",
       "      <th>HighBP</th>\n",
       "      <th>HighChol</th>\n",
       "      <th>CholCheck</th>\n",
       "      <th>BMI</th>\n",
       "      <th>Smoker</th>\n",
       "      <th>Stroke</th>\n",
       "      <th>HeartDiseaseorAttack</th>\n",
       "      <th>PhysActivity</th>\n",
       "      <th>...</th>\n",
       "      <th>Sex</th>\n",
       "      <th>Age</th>\n",
       "      <th>Education</th>\n",
       "      <th>Income</th>\n",
       "      <th>Gender</th>\n",
       "      <th>Types</th>\n",
       "      <th>GeneralHealth</th>\n",
       "      <th>Type</th>\n",
       "      <th>income</th>\n",
       "      <th>education</th>\n",
       "    </tr>\n",
       "  </thead>\n",
       "  <tbody>\n",
       "    <tr>\n",
       "      <th>0</th>\n",
       "      <td>215265</td>\n",
       "      <td>0</td>\n",
       "      <td>0</td>\n",
       "      <td>1</td>\n",
       "      <td>0</td>\n",
       "      <td>30</td>\n",
       "      <td>1</td>\n",
       "      <td>0</td>\n",
       "      <td>0</td>\n",
       "      <td>1</td>\n",
       "      <td>...</td>\n",
       "      <td>0</td>\n",
       "      <td>3</td>\n",
       "      <td>4</td>\n",
       "      <td>1</td>\n",
       "      <td>men</td>\n",
       "      <td>nondiabetic</td>\n",
       "      <td>Good</td>\n",
       "      <td>nondiabetic</td>\n",
       "      <td>&lt;10K</td>\n",
       "      <td>12orGED</td>\n",
       "    </tr>\n",
       "    <tr>\n",
       "      <th>1</th>\n",
       "      <td>141614</td>\n",
       "      <td>0</td>\n",
       "      <td>0</td>\n",
       "      <td>0</td>\n",
       "      <td>1</td>\n",
       "      <td>35</td>\n",
       "      <td>1</td>\n",
       "      <td>0</td>\n",
       "      <td>0</td>\n",
       "      <td>1</td>\n",
       "      <td>...</td>\n",
       "      <td>1</td>\n",
       "      <td>7</td>\n",
       "      <td>4</td>\n",
       "      <td>1</td>\n",
       "      <td>women</td>\n",
       "      <td>nondiabetic</td>\n",
       "      <td>Excellent</td>\n",
       "      <td>nondiabetic</td>\n",
       "      <td>&lt;10K</td>\n",
       "      <td>12orGED</td>\n",
       "    </tr>\n",
       "    <tr>\n",
       "      <th>2</th>\n",
       "      <td>28979</td>\n",
       "      <td>0</td>\n",
       "      <td>0</td>\n",
       "      <td>0</td>\n",
       "      <td>1</td>\n",
       "      <td>25</td>\n",
       "      <td>0</td>\n",
       "      <td>0</td>\n",
       "      <td>0</td>\n",
       "      <td>1</td>\n",
       "      <td>...</td>\n",
       "      <td>0</td>\n",
       "      <td>10</td>\n",
       "      <td>2</td>\n",
       "      <td>1</td>\n",
       "      <td>men</td>\n",
       "      <td>nondiabetic</td>\n",
       "      <td>Very good</td>\n",
       "      <td>nondiabetic</td>\n",
       "      <td>&lt;10K</td>\n",
       "      <td>1-8</td>\n",
       "    </tr>\n",
       "    <tr>\n",
       "      <th>3</th>\n",
       "      <td>123066</td>\n",
       "      <td>1</td>\n",
       "      <td>0</td>\n",
       "      <td>1</td>\n",
       "      <td>1</td>\n",
       "      <td>45</td>\n",
       "      <td>0</td>\n",
       "      <td>0</td>\n",
       "      <td>0</td>\n",
       "      <td>0</td>\n",
       "      <td>...</td>\n",
       "      <td>0</td>\n",
       "      <td>4</td>\n",
       "      <td>3</td>\n",
       "      <td>1</td>\n",
       "      <td>men</td>\n",
       "      <td>diabetics</td>\n",
       "      <td>Fair</td>\n",
       "      <td>diabetic</td>\n",
       "      <td>&lt;10K</td>\n",
       "      <td>9-11</td>\n",
       "    </tr>\n",
       "    <tr>\n",
       "      <th>4</th>\n",
       "      <td>36247</td>\n",
       "      <td>0</td>\n",
       "      <td>0</td>\n",
       "      <td>0</td>\n",
       "      <td>1</td>\n",
       "      <td>28</td>\n",
       "      <td>0</td>\n",
       "      <td>0</td>\n",
       "      <td>0</td>\n",
       "      <td>1</td>\n",
       "      <td>...</td>\n",
       "      <td>1</td>\n",
       "      <td>13</td>\n",
       "      <td>6</td>\n",
       "      <td>1</td>\n",
       "      <td>women</td>\n",
       "      <td>nondiabetic</td>\n",
       "      <td>Good</td>\n",
       "      <td>nondiabetic</td>\n",
       "      <td>&lt;10K</td>\n",
       "      <td>C4+</td>\n",
       "    </tr>\n",
       "  </tbody>\n",
       "</table>\n",
       "<p>5 rows × 29 columns</p>\n",
       "</div>"
      ],
      "text/plain": [
       "       ID  Diabetes_binary  HighBP  HighChol  CholCheck  BMI  Smoker  Stroke  \\\n",
       "0  215265                0       0         1          0   30       1       0   \n",
       "1  141614                0       0         0          1   35       1       0   \n",
       "2   28979                0       0         0          1   25       0       0   \n",
       "3  123066                1       0         1          1   45       0       0   \n",
       "4   36247                0       0         0          1   28       0       0   \n",
       "\n",
       "   HeartDiseaseorAttack  PhysActivity  ...  Sex  Age  Education  Income  \\\n",
       "0                     0             1  ...    0    3          4       1   \n",
       "1                     0             1  ...    1    7          4       1   \n",
       "2                     0             1  ...    0   10          2       1   \n",
       "3                     0             0  ...    0    4          3       1   \n",
       "4                     0             1  ...    1   13          6       1   \n",
       "\n",
       "   Gender        Types  GeneralHealth         Type  income  education  \n",
       "0     men  nondiabetic           Good  nondiabetic    <10K    12orGED  \n",
       "1   women  nondiabetic      Excellent  nondiabetic    <10K    12orGED  \n",
       "2     men  nondiabetic      Very good  nondiabetic    <10K        1-8  \n",
       "3     men    diabetics           Fair     diabetic    <10K       9-11  \n",
       "4   women  nondiabetic           Good  nondiabetic    <10K        C4+  \n",
       "\n",
       "[5 rows x 29 columns]"
      ]
     },
     "execution_count": 7,
     "metadata": {},
     "output_type": "execute_result"
    }
   ],
   "source": [
    "#Using np.where for Conditional Replacement\n",
    "#NumPy's where function can also be used for conditional replacements:\n",
    "# Replace values in 'Sex'  with 'men' where the value is 0.  other will be women\n",
    "people['Gender'] = np.where(people['Sex'] ==0, 'men', 'women')\n",
    "people.head()\n",
    "\n"
   ]
  },
  {
   "cell_type": "markdown",
   "id": "bfc59c53-6efb-4184-8640-7f160fe6ff1b",
   "metadata": {},
   "source": [
    "### `Types`\n",
    "\n",
    "We will use the name `kind` to refer to the two different kinds of people.\n",
    "\n",
    "* `\"diabetics\"`\n",
    "* `\"nondiabetics\"`\n"
   ]
  },
  {
   "cell_type": "code",
   "execution_count": 8,
   "id": "e14606ed-ea3f-4cd3-9118-d3d7f9295a36",
   "metadata": {
    "scrolled": true
   },
   "outputs": [],
   "source": [
    "# Replace the value 2 in column 'column1' with 5\n",
    "people['Type'] = np.where(people['Diabetes_binary'] ==0, 'nondiabetic', 'diabetic')\n"
   ]
  },
  {
   "cell_type": "code",
   "execution_count": 9,
   "id": "75f5399e-ae1f-41eb-aeb7-aaf67b7308ee",
   "metadata": {},
   "outputs": [
    {
     "data": {
      "text/html": [
       "<div>\n",
       "<style scoped>\n",
       "    .dataframe tbody tr th:only-of-type {\n",
       "        vertical-align: middle;\n",
       "    }\n",
       "\n",
       "    .dataframe tbody tr th {\n",
       "        vertical-align: top;\n",
       "    }\n",
       "\n",
       "    .dataframe thead th {\n",
       "        text-align: right;\n",
       "    }\n",
       "</style>\n",
       "<table border=\"1\" class=\"dataframe\">\n",
       "  <thead>\n",
       "    <tr style=\"text-align: right;\">\n",
       "      <th></th>\n",
       "      <th>Diabetes_binary</th>\n",
       "    </tr>\n",
       "    <tr>\n",
       "      <th>Type</th>\n",
       "      <th></th>\n",
       "    </tr>\n",
       "  </thead>\n",
       "  <tbody>\n",
       "    <tr>\n",
       "      <th>diabetic</th>\n",
       "      <td>35346</td>\n",
       "    </tr>\n",
       "    <tr>\n",
       "      <th>nondiabetic</th>\n",
       "      <td>218334</td>\n",
       "    </tr>\n",
       "  </tbody>\n",
       "</table>\n",
       "</div>"
      ],
      "text/plain": [
       "             Diabetes_binary\n",
       "Type                        \n",
       "diabetic               35346\n",
       "nondiabetic           218334"
      ]
     },
     "execution_count": 9,
     "metadata": {},
     "output_type": "execute_result"
    }
   ],
   "source": [
    "#Obervation\n",
    "# 0 - nondiabetic\n",
    "# 1- diabetic\n",
    "\n",
    "people.groupby(by = ['Type']).count()[['Diabetes_binary']]"
   ]
  },
  {
   "cell_type": "code",
   "execution_count": null,
   "id": "cd5569a1-17fb-4049-9c10-00e450cd76be",
   "metadata": {},
   "outputs": [],
   "source": []
  },
  {
   "cell_type": "markdown",
   "id": "6420e44d",
   "metadata": {},
   "source": [
    "### Add Labels to represent General Health"
   ]
  },
  {
   "cell_type": "code",
   "execution_count": 10,
   "id": "ddad0163",
   "metadata": {},
   "outputs": [],
   "source": [
    "#definitions variable will be used in RFC table below to view cm matrix results\n",
    "#1 Excellent\n",
    "#2 Very good\n",
    "#3 Good\n",
    "#4 Fair\n",
    "#5 Poor\n",
    "#7 Don’t know/Not Sure 9 Refused\n",
    " \n",
    "definitions = pd.Series([0, \"Excellent\", \"Very good\", \"Good\", \"Fair\",\"Poor\",\"UNKNOWN\"], dtype=\"category\")"
   ]
  },
  {
   "cell_type": "code",
   "execution_count": 11,
   "id": "e486d91d",
   "metadata": {},
   "outputs": [
    {
     "data": {
      "text/plain": [
       "{0: 0,\n",
       " 1: 'Excellent',\n",
       " 2: 'Very good',\n",
       " 3: 'Good',\n",
       " 4: 'Fair',\n",
       " 5: 'Poor',\n",
       " 6: 'UNKNOWN'}"
      ]
     },
     "execution_count": 11,
     "metadata": {},
     "output_type": "execute_result"
    }
   ],
   "source": [
    "\n",
    "reversefactor = dict(zip(range(7),definitions))\n",
    "reversefactor"
   ]
  },
  {
   "cell_type": "code",
   "execution_count": 12,
   "id": "b340a653",
   "metadata": {},
   "outputs": [],
   "source": [
    "people['GeneralHealth'] = np.vectorize(reversefactor.get)(people[['GenHlth']])\n",
    "#y_pred_v = np.vectorize(reversefactor.get)(y_pred)"
   ]
  },
  {
   "cell_type": "code",
   "execution_count": 13,
   "id": "3ff5646c-a59f-4ecd-87f2-6c0bfd94ddc9",
   "metadata": {},
   "outputs": [
    {
     "data": {
      "text/plain": [
       "Index(['ID', 'Diabetes_binary', 'HighBP', 'HighChol', 'CholCheck', 'BMI',\n",
       "       'Smoker', 'Stroke', 'HeartDiseaseorAttack', 'PhysActivity', 'Fruits',\n",
       "       'Veggies', 'HvyAlcoholConsump', 'AnyHealthcare', 'NoDocbcCost',\n",
       "       'GenHlth', 'MentHlth', 'PhysHlth', 'DiffWalk', 'Sex', 'Age',\n",
       "       'Education', 'Income', 'Gender', 'Types', 'GeneralHealth', 'Type',\n",
       "       'income', 'education'],\n",
       "      dtype='object')"
      ]
     },
     "execution_count": 13,
     "metadata": {},
     "output_type": "execute_result"
    }
   ],
   "source": [
    "people.columns"
   ]
  },
  {
   "cell_type": "code",
   "execution_count": 14,
   "id": "c08daa8e",
   "metadata": {
    "scrolled": true
   },
   "outputs": [
    {
     "data": {
      "text/html": [
       "<div>\n",
       "<style scoped>\n",
       "    .dataframe tbody tr th:only-of-type {\n",
       "        vertical-align: middle;\n",
       "    }\n",
       "\n",
       "    .dataframe tbody tr th {\n",
       "        vertical-align: top;\n",
       "    }\n",
       "\n",
       "    .dataframe thead th {\n",
       "        text-align: right;\n",
       "    }\n",
       "</style>\n",
       "<table border=\"1\" class=\"dataframe\">\n",
       "  <thead>\n",
       "    <tr style=\"text-align: right;\">\n",
       "      <th></th>\n",
       "      <th>ID</th>\n",
       "      <th>Diabetes_binary</th>\n",
       "      <th>HighBP</th>\n",
       "      <th>HighChol</th>\n",
       "      <th>CholCheck</th>\n",
       "      <th>BMI</th>\n",
       "      <th>Smoker</th>\n",
       "      <th>Stroke</th>\n",
       "      <th>HeartDiseaseorAttack</th>\n",
       "      <th>PhysActivity</th>\n",
       "      <th>...</th>\n",
       "      <th>Sex</th>\n",
       "      <th>Age</th>\n",
       "      <th>Education</th>\n",
       "      <th>Income</th>\n",
       "      <th>Gender</th>\n",
       "      <th>Types</th>\n",
       "      <th>GeneralHealth</th>\n",
       "      <th>Type</th>\n",
       "      <th>income</th>\n",
       "      <th>education</th>\n",
       "    </tr>\n",
       "  </thead>\n",
       "  <tbody>\n",
       "    <tr>\n",
       "      <th>0</th>\n",
       "      <td>215265</td>\n",
       "      <td>0</td>\n",
       "      <td>0</td>\n",
       "      <td>1</td>\n",
       "      <td>0</td>\n",
       "      <td>30</td>\n",
       "      <td>1</td>\n",
       "      <td>0</td>\n",
       "      <td>0</td>\n",
       "      <td>1</td>\n",
       "      <td>...</td>\n",
       "      <td>0</td>\n",
       "      <td>3</td>\n",
       "      <td>4</td>\n",
       "      <td>1</td>\n",
       "      <td>men</td>\n",
       "      <td>nondiabetic</td>\n",
       "      <td>Good</td>\n",
       "      <td>nondiabetic</td>\n",
       "      <td>&lt;10K</td>\n",
       "      <td>12orGED</td>\n",
       "    </tr>\n",
       "    <tr>\n",
       "      <th>1</th>\n",
       "      <td>141614</td>\n",
       "      <td>0</td>\n",
       "      <td>0</td>\n",
       "      <td>0</td>\n",
       "      <td>1</td>\n",
       "      <td>35</td>\n",
       "      <td>1</td>\n",
       "      <td>0</td>\n",
       "      <td>0</td>\n",
       "      <td>1</td>\n",
       "      <td>...</td>\n",
       "      <td>1</td>\n",
       "      <td>7</td>\n",
       "      <td>4</td>\n",
       "      <td>1</td>\n",
       "      <td>women</td>\n",
       "      <td>nondiabetic</td>\n",
       "      <td>Excellent</td>\n",
       "      <td>nondiabetic</td>\n",
       "      <td>&lt;10K</td>\n",
       "      <td>12orGED</td>\n",
       "    </tr>\n",
       "    <tr>\n",
       "      <th>2</th>\n",
       "      <td>28979</td>\n",
       "      <td>0</td>\n",
       "      <td>0</td>\n",
       "      <td>0</td>\n",
       "      <td>1</td>\n",
       "      <td>25</td>\n",
       "      <td>0</td>\n",
       "      <td>0</td>\n",
       "      <td>0</td>\n",
       "      <td>1</td>\n",
       "      <td>...</td>\n",
       "      <td>0</td>\n",
       "      <td>10</td>\n",
       "      <td>2</td>\n",
       "      <td>1</td>\n",
       "      <td>men</td>\n",
       "      <td>nondiabetic</td>\n",
       "      <td>Very good</td>\n",
       "      <td>nondiabetic</td>\n",
       "      <td>&lt;10K</td>\n",
       "      <td>1-8</td>\n",
       "    </tr>\n",
       "    <tr>\n",
       "      <th>3</th>\n",
       "      <td>123066</td>\n",
       "      <td>1</td>\n",
       "      <td>0</td>\n",
       "      <td>1</td>\n",
       "      <td>1</td>\n",
       "      <td>45</td>\n",
       "      <td>0</td>\n",
       "      <td>0</td>\n",
       "      <td>0</td>\n",
       "      <td>0</td>\n",
       "      <td>...</td>\n",
       "      <td>0</td>\n",
       "      <td>4</td>\n",
       "      <td>3</td>\n",
       "      <td>1</td>\n",
       "      <td>men</td>\n",
       "      <td>diabetics</td>\n",
       "      <td>Fair</td>\n",
       "      <td>diabetic</td>\n",
       "      <td>&lt;10K</td>\n",
       "      <td>9-11</td>\n",
       "    </tr>\n",
       "    <tr>\n",
       "      <th>4</th>\n",
       "      <td>36247</td>\n",
       "      <td>0</td>\n",
       "      <td>0</td>\n",
       "      <td>0</td>\n",
       "      <td>1</td>\n",
       "      <td>28</td>\n",
       "      <td>0</td>\n",
       "      <td>0</td>\n",
       "      <td>0</td>\n",
       "      <td>1</td>\n",
       "      <td>...</td>\n",
       "      <td>1</td>\n",
       "      <td>13</td>\n",
       "      <td>6</td>\n",
       "      <td>1</td>\n",
       "      <td>women</td>\n",
       "      <td>nondiabetic</td>\n",
       "      <td>Good</td>\n",
       "      <td>nondiabetic</td>\n",
       "      <td>&lt;10K</td>\n",
       "      <td>C4+</td>\n",
       "    </tr>\n",
       "  </tbody>\n",
       "</table>\n",
       "<p>5 rows × 29 columns</p>\n",
       "</div>"
      ],
      "text/plain": [
       "       ID  Diabetes_binary  HighBP  HighChol  CholCheck  BMI  Smoker  Stroke  \\\n",
       "0  215265                0       0         1          0   30       1       0   \n",
       "1  141614                0       0         0          1   35       1       0   \n",
       "2   28979                0       0         0          1   25       0       0   \n",
       "3  123066                1       0         1          1   45       0       0   \n",
       "4   36247                0       0         0          1   28       0       0   \n",
       "\n",
       "   HeartDiseaseorAttack  PhysActivity  ...  Sex  Age  Education  Income  \\\n",
       "0                     0             1  ...    0    3          4       1   \n",
       "1                     0             1  ...    1    7          4       1   \n",
       "2                     0             1  ...    0   10          2       1   \n",
       "3                     0             0  ...    0    4          3       1   \n",
       "4                     0             1  ...    1   13          6       1   \n",
       "\n",
       "   Gender        Types  GeneralHealth         Type  income  education  \n",
       "0     men  nondiabetic           Good  nondiabetic    <10K    12orGED  \n",
       "1   women  nondiabetic      Excellent  nondiabetic    <10K    12orGED  \n",
       "2     men  nondiabetic      Very good  nondiabetic    <10K        1-8  \n",
       "3     men    diabetics           Fair     diabetic    <10K       9-11  \n",
       "4   women  nondiabetic           Good  nondiabetic    <10K        C4+  \n",
       "\n",
       "[5 rows x 29 columns]"
      ]
     },
     "execution_count": 14,
     "metadata": {},
     "output_type": "execute_result"
    }
   ],
   "source": [
    "#convert back to dataframe\n",
    "people.head()\n",
    " "
   ]
  },
  {
   "cell_type": "code",
   "execution_count": 15,
   "id": "749accd6-5278-486c-92ca-c5b49480cd0a",
   "metadata": {
    "scrolled": true
   },
   "outputs": [
    {
     "data": {
      "text/html": [
       "<div>\n",
       "<style scoped>\n",
       "    .dataframe tbody tr th:only-of-type {\n",
       "        vertical-align: middle;\n",
       "    }\n",
       "\n",
       "    .dataframe tbody tr th {\n",
       "        vertical-align: top;\n",
       "    }\n",
       "\n",
       "    .dataframe thead th {\n",
       "        text-align: right;\n",
       "    }\n",
       "</style>\n",
       "<table border=\"1\" class=\"dataframe\">\n",
       "  <thead>\n",
       "    <tr style=\"text-align: right;\">\n",
       "      <th></th>\n",
       "      <th></th>\n",
       "      <th>Diabetes_binary</th>\n",
       "    </tr>\n",
       "    <tr>\n",
       "      <th>GeneralHealth</th>\n",
       "      <th>GenHlth</th>\n",
       "      <th></th>\n",
       "    </tr>\n",
       "  </thead>\n",
       "  <tbody>\n",
       "    <tr>\n",
       "      <th>Excellent</th>\n",
       "      <th>1</th>\n",
       "      <td>45299</td>\n",
       "    </tr>\n",
       "    <tr>\n",
       "      <th>Fair</th>\n",
       "      <th>4</th>\n",
       "      <td>31570</td>\n",
       "    </tr>\n",
       "    <tr>\n",
       "      <th>Good</th>\n",
       "      <th>3</th>\n",
       "      <td>75646</td>\n",
       "    </tr>\n",
       "    <tr>\n",
       "      <th>Poor</th>\n",
       "      <th>5</th>\n",
       "      <td>12081</td>\n",
       "    </tr>\n",
       "    <tr>\n",
       "      <th>Very good</th>\n",
       "      <th>2</th>\n",
       "      <td>89084</td>\n",
       "    </tr>\n",
       "  </tbody>\n",
       "</table>\n",
       "</div>"
      ],
      "text/plain": [
       "                       Diabetes_binary\n",
       "GeneralHealth GenHlth                 \n",
       "Excellent     1                  45299\n",
       "Fair          4                  31570\n",
       "Good          3                  75646\n",
       "Poor          5                  12081\n",
       "Very good     2                  89084"
      ]
     },
     "execution_count": 15,
     "metadata": {},
     "output_type": "execute_result"
    }
   ],
   "source": [
    "#Verified counts are the same\n",
    "\n",
    "df_gen_h = people.groupby(by = ['GeneralHealth','GenHlth']).count()[['Diabetes_binary']]\n",
    "df_gen_h"
   ]
  },
  {
   "cell_type": "code",
   "execution_count": 16,
   "id": "2cf34644-b1cd-4fc0-b7e2-3195bb3a17f3",
   "metadata": {},
   "outputs": [],
   "source": [
    "people = people.sort_values(by='Type', ascending=False)\n"
   ]
  },
  {
   "cell_type": "code",
   "execution_count": 17,
   "id": "d87e4581-cacd-47e6-b6a6-51fba4c5465e",
   "metadata": {},
   "outputs": [
    {
     "data": {
      "image/png": "[encoded data removed]",
      "text/plain": [
       "<Figure size 720x432 with 1 Axes>"
      ]
     },
     "metadata": {
      "needs_background": "light"
     },
     "output_type": "display_data"
    }
   ],
   "source": [
    "import pandas as pd\n",
    "import matplotlib.pyplot as plt\n",
    "\n",
    "# Sample data\n",
    " \n",
    "df = people[[\"GeneralHealth\",\"Type\"]]\n",
    "\n",
    "# Calculate counts and percentages\n",
    "counts = df[[\"GeneralHealth\",\"Type\"]].value_counts()\n",
    "percentages = (counts / len(df)) * 100\n",
    "\n",
    "# Create the bar chart\n",
    "plt.figure(figsize=(10, 6))\n",
    "ax = counts.plot(kind='bar')\n",
    "\n",
    "# Add percentage labels\n",
    "for i, v in enumerate(counts):\n",
    "    ax.text(i, v + 0.1, f'{v} ({percentages[i]:.1f}%)', ha='center', va='bottom')\n",
    "\n",
    "plt.ylabel('Count')\n",
    "plt.xticks(fontsize=12)\n",
    "plt.title('General Health vs Diabetes')\n",
    "plt.show()"
   ]
  },
  {
   "cell_type": "markdown",
   "id": "688b5e76",
   "metadata": {},
   "source": [
    "Question:What percentage of people have good health and have diabetis compared to others? 5.3%\n"
   ]
  },
  {
   "cell_type": "markdown",
   "id": "d52f1dcf",
   "metadata": {},
   "source": [
    "Individuals in good health can still get diabetes"
   ]
  },
  {
   "cell_type": "code",
   "execution_count": null,
   "id": "161454cf-f602-43a7-a281-c0968efaa932",
   "metadata": {},
   "outputs": [],
   "source": []
  },
  {
   "cell_type": "markdown",
   "id": "dc9a1f7f",
   "metadata": {},
   "source": [
    "### Feature Engineer Labels for Income"
   ]
  },
  {
   "cell_type": "code",
   "execution_count": 18,
   "id": "5c62ba16",
   "metadata": {},
   "outputs": [],
   "source": [
    "#definitions variable will be used in RFC table below to view cm matrix results\n",
    "\n",
    " \n",
    "definitions = pd.Series([0, \"<10K\", \"10-15K\", \"15-20K\", \"20-25K\",\"25K-35K\",\"35-50K\",\"50-75K\",\"75>\"], dtype=\"category\")"
   ]
  },
  {
   "cell_type": "code",
   "execution_count": 19,
   "id": "d116e7c4",
   "metadata": {},
   "outputs": [
    {
     "data": {
      "text/plain": [
       "{0: 0,\n",
       " 1: '<10K',\n",
       " 2: '10-15K',\n",
       " 3: '15-20K',\n",
       " 4: '20-25K',\n",
       " 5: '25K-35K',\n",
       " 6: '35-50K',\n",
       " 7: '50-75K',\n",
       " 8: '75>'}"
      ]
     },
     "execution_count": 19,
     "metadata": {},
     "output_type": "execute_result"
    }
   ],
   "source": [
    "\n",
    "reversefactor = dict(zip(range(9),definitions))\n",
    "reversefactor"
   ]
  },
  {
   "cell_type": "code",
   "execution_count": 20,
   "id": "bda26385",
   "metadata": {},
   "outputs": [],
   "source": [
    "people['income'] = np.vectorize(reversefactor.get)(people[['Income']])\n",
    " "
   ]
  },
  {
   "cell_type": "code",
   "execution_count": 21,
   "id": "79fe9482",
   "metadata": {
    "scrolled": true
   },
   "outputs": [
    {
     "data": {
      "text/html": [
       "<div>\n",
       "<style scoped>\n",
       "    .dataframe tbody tr th:only-of-type {\n",
       "        vertical-align: middle;\n",
       "    }\n",
       "\n",
       "    .dataframe tbody tr th {\n",
       "        vertical-align: top;\n",
       "    }\n",
       "\n",
       "    .dataframe thead th {\n",
       "        text-align: right;\n",
       "    }\n",
       "</style>\n",
       "<table border=\"1\" class=\"dataframe\">\n",
       "  <thead>\n",
       "    <tr style=\"text-align: right;\">\n",
       "      <th></th>\n",
       "      <th>income</th>\n",
       "      <th>Income</th>\n",
       "    </tr>\n",
       "  </thead>\n",
       "  <tbody>\n",
       "    <tr>\n",
       "      <th>0</th>\n",
       "      <td>&lt;10K</td>\n",
       "      <td>1</td>\n",
       "    </tr>\n",
       "    <tr>\n",
       "      <th>158667</th>\n",
       "      <td>35-50K</td>\n",
       "      <td>6</td>\n",
       "    </tr>\n",
       "    <tr>\n",
       "      <th>158228</th>\n",
       "      <td>35-50K</td>\n",
       "      <td>6</td>\n",
       "    </tr>\n",
       "    <tr>\n",
       "      <th>158230</th>\n",
       "      <td>35-50K</td>\n",
       "      <td>6</td>\n",
       "    </tr>\n",
       "    <tr>\n",
       "      <th>158231</th>\n",
       "      <td>35-50K</td>\n",
       "      <td>6</td>\n",
       "    </tr>\n",
       "  </tbody>\n",
       "</table>\n",
       "</div>"
      ],
      "text/plain": [
       "        income  Income\n",
       "0         <10K       1\n",
       "158667  35-50K       6\n",
       "158228  35-50K       6\n",
       "158230  35-50K       6\n",
       "158231  35-50K       6"
      ]
     },
     "execution_count": 21,
     "metadata": {},
     "output_type": "execute_result"
    }
   ],
   "source": [
    "people[['income','Income']].head(5)"
   ]
  },
  {
   "cell_type": "code",
   "execution_count": 22,
   "id": "a288bb4a",
   "metadata": {},
   "outputs": [
    {
     "data": {
      "text/html": [
       "<div>\n",
       "<style scoped>\n",
       "    .dataframe tbody tr th:only-of-type {\n",
       "        vertical-align: middle;\n",
       "    }\n",
       "\n",
       "    .dataframe tbody tr th {\n",
       "        vertical-align: top;\n",
       "    }\n",
       "\n",
       "    .dataframe thead th {\n",
       "        text-align: right;\n",
       "    }\n",
       "</style>\n",
       "<table border=\"1\" class=\"dataframe\">\n",
       "  <thead>\n",
       "    <tr style=\"text-align: right;\">\n",
       "      <th></th>\n",
       "      <th></th>\n",
       "      <th>Diabetes_binary</th>\n",
       "    </tr>\n",
       "    <tr>\n",
       "      <th>income</th>\n",
       "      <th>Income</th>\n",
       "      <th></th>\n",
       "    </tr>\n",
       "  </thead>\n",
       "  <tbody>\n",
       "    <tr>\n",
       "      <th>10-15K</th>\n",
       "      <th>2</th>\n",
       "      <td>11783</td>\n",
       "    </tr>\n",
       "    <tr>\n",
       "      <th>15-20K</th>\n",
       "      <th>3</th>\n",
       "      <td>15994</td>\n",
       "    </tr>\n",
       "    <tr>\n",
       "      <th>20-25K</th>\n",
       "      <th>4</th>\n",
       "      <td>20135</td>\n",
       "    </tr>\n",
       "    <tr>\n",
       "      <th>25K-35K</th>\n",
       "      <th>5</th>\n",
       "      <td>25883</td>\n",
       "    </tr>\n",
       "    <tr>\n",
       "      <th>35-50K</th>\n",
       "      <th>6</th>\n",
       "      <td>36470</td>\n",
       "    </tr>\n",
       "    <tr>\n",
       "      <th>50-75K</th>\n",
       "      <th>7</th>\n",
       "      <td>43219</td>\n",
       "    </tr>\n",
       "    <tr>\n",
       "      <th>75&gt;</th>\n",
       "      <th>8</th>\n",
       "      <td>90385</td>\n",
       "    </tr>\n",
       "    <tr>\n",
       "      <th>&lt;10K</th>\n",
       "      <th>1</th>\n",
       "      <td>9811</td>\n",
       "    </tr>\n",
       "  </tbody>\n",
       "</table>\n",
       "</div>"
      ],
      "text/plain": [
       "                Diabetes_binary\n",
       "income  Income                 \n",
       "10-15K  2                 11783\n",
       "15-20K  3                 15994\n",
       "20-25K  4                 20135\n",
       "25K-35K 5                 25883\n",
       "35-50K  6                 36470\n",
       "50-75K  7                 43219\n",
       "75>     8                 90385\n",
       "<10K    1                  9811"
      ]
     },
     "execution_count": 22,
     "metadata": {},
     "output_type": "execute_result"
    }
   ],
   "source": [
    "#Verified counts are the same\n",
    "\n",
    "df_income_cnt  = people.groupby(by = ['income','Income']).count()[['Diabetes_binary']]\n",
    "df_income_cnt "
   ]
  },
  {
   "cell_type": "code",
   "execution_count": 23,
   "id": "8124adcd-5ffb-45a7-b2ab-51ba60ba5cdc",
   "metadata": {},
   "outputs": [
    {
     "data": {
      "image/png": "[encoded data removed]",
      "text/plain": [
       "<Figure size 1440x432 with 1 Axes>"
      ]
     },
     "metadata": {
      "needs_background": "light"
     },
     "output_type": "display_data"
    }
   ],
   "source": [
    "import pandas as pd\n",
    "import matplotlib.pyplot as plt\n",
    "\n",
    "# Sample data\n",
    " \n",
    "df = people[[\"income\",\"Type\"]]\n",
    "\n",
    "# Calculate counts and percentages\n",
    "counts = df[[\"income\",\"Type\"]].value_counts()\n",
    "percentages = (counts / len(df)) * 100\n",
    "\n",
    "# Create the bar chart\n",
    "plt.figure(figsize=(20, 6))\n",
    "ax = counts.plot(kind='bar')\n",
    "\n",
    "# Add percentage labels\n",
    "for i, v in enumerate(counts):\n",
    "    ax.text(i, v + 0.1, f'{v} ({percentages[i]:.1f}%)', ha='center', va='bottom')\n",
    "\n",
    "plt.ylabel('Count')\n",
    "plt.xticks(fontsize=12)\n",
    "plt.title('Income vs Diabetes')\n",
    "plt.show()"
   ]
  },
  {
   "cell_type": "markdown",
   "id": "4e1687f9",
   "metadata": {},
   "source": [
    "Question: How many people with high income have diabetis compared to others?  Of the individuals that have an income higher than 75K ,  2.8% are diabetic "
   ]
  },
  {
   "cell_type": "code",
   "execution_count": 24,
   "id": "9c5823bd-bf9f-4681-b5a1-2321dcea64e8",
   "metadata": {
    "scrolled": true
   },
   "outputs": [
    {
     "data": {
      "text/plain": [
       "Index(['ID', 'Diabetes_binary', 'HighBP', 'HighChol', 'CholCheck', 'BMI',\n",
       "       'Smoker', 'Stroke', 'HeartDiseaseorAttack', 'PhysActivity', 'Fruits',\n",
       "       'Veggies', 'HvyAlcoholConsump', 'AnyHealthcare', 'NoDocbcCost',\n",
       "       'GenHlth', 'MentHlth', 'PhysHlth', 'DiffWalk', 'Sex', 'Age',\n",
       "       'Education', 'Income', 'Gender', 'Types', 'GeneralHealth', 'Type',\n",
       "       'income', 'education'],\n",
       "      dtype='object')"
      ]
     },
     "execution_count": 24,
     "metadata": {},
     "output_type": "execute_result"
    }
   ],
   "source": [
    "people.columns\n"
   ]
  },
  {
   "cell_type": "code",
   "execution_count": 25,
   "id": "21201799-b657-435d-a08b-a7ac73e50263",
   "metadata": {},
   "outputs": [],
   "source": [
    "people = people.sort_values(by='income', ascending=False)"
   ]
  },
  {
   "cell_type": "code",
   "execution_count": 26,
   "id": "7eb25117",
   "metadata": {
    "scrolled": true
   },
   "outputs": [
    {
     "data": {
      "image/png": "[encoded data removed]",
      "text/plain": [
       "<Figure size 432x288 with 1 Axes>"
      ]
     },
     "metadata": {
      "needs_background": "light"
     },
     "output_type": "display_data"
    }
   ],
   "source": [
    "sns.barplot(y='Veggies', x='income',data=people)\n",
    " \n",
    "# Add a title\n",
    "plt.title(\"Veggies vs income\")\n",
    "plt.show()"
   ]
  },
  {
   "cell_type": "code",
   "execution_count": 27,
   "id": "956672b9-9db1-4d7f-826a-a22d5595d2ac",
   "metadata": {},
   "outputs": [
    {
     "data": {
      "image/png": "[encoded data removed]",
      "text/plain": [
       "<Figure size 432x288 with 1 Axes>"
      ]
     },
     "metadata": {
      "needs_background": "light"
     },
     "output_type": "display_data"
    }
   ],
   "source": [
    "sns.barplot(y='Fruits', x='income',data=people)\n",
    " \n",
    "# Add a title\n",
    "plt.title(\"Fruit vs income\")\n",
    "plt.show()"
   ]
  },
  {
   "cell_type": "markdown",
   "id": "b388c931",
   "metadata": {},
   "source": [
    "People in the income range of 70K eat more fruits and veggies and have less percentage of diagnosed  \n"
   ]
  },
  {
   "cell_type": "code",
   "execution_count": 28,
   "id": "d8a093af-bb26-4ff5-bef6-d6a5c934338c",
   "metadata": {
    "scrolled": true
   },
   "outputs": [
    {
     "data": {
      "text/plain": [
       "Index(['ID', 'Diabetes_binary', 'HighBP', 'HighChol', 'CholCheck', 'BMI',\n",
       "       'Smoker', 'Stroke', 'HeartDiseaseorAttack', 'PhysActivity', 'Fruits',\n",
       "       'Veggies', 'HvyAlcoholConsump', 'AnyHealthcare', 'NoDocbcCost',\n",
       "       'GenHlth', 'MentHlth', 'PhysHlth', 'DiffWalk', 'Sex', 'Age',\n",
       "       'Education', 'Income', 'Gender', 'Types', 'GeneralHealth', 'Type',\n",
       "       'income', 'education'],\n",
       "      dtype='object')"
      ]
     },
     "execution_count": 28,
     "metadata": {},
     "output_type": "execute_result"
    }
   ],
   "source": [
    "people.columns"
   ]
  },
  {
   "cell_type": "markdown",
   "id": "8ea77370",
   "metadata": {},
   "source": [
    "### Feature Engineer Labels for Education"
   ]
  },
  {
   "cell_type": "code",
   "execution_count": 29,
   "id": "a01d7775",
   "metadata": {},
   "outputs": [],
   "source": [
    "#PhysHlth  DiffWalk  Sex  Age  Education  Income  \n",
    "#1 Never attended school or only kindergarten  \n",
    "#2 Grades 1 through 8 (Elementary)   \n",
    "#3 Grades 9 through 11 (Some high school)   \n",
    "#4 Grade 12 or GED (High school graduate)   \n",
    "#5 College 1 year to 3 years (Some college or technical school)   \n",
    "#6 College 4 years or more (College graduate)   \n",
    "#9 Refused   \n",
    "#BLANK Not asked or Missing 1,770"
   ]
  },
  {
   "cell_type": "code",
   "execution_count": 30,
   "id": "5019a281",
   "metadata": {},
   "outputs": [],
   "source": [
    "#definitions variable will be used in RFC table below to view cm matrix results\n",
    "\n",
    " \n",
    "definitions = pd.Series([0, \"None\", \"1-8\", \"9-11\", \"12orGED\",\"C1-3\",\"C4+\"], dtype=\"category\")"
   ]
  },
  {
   "cell_type": "code",
   "execution_count": 31,
   "id": "a3c68333",
   "metadata": {},
   "outputs": [
    {
     "data": {
      "text/plain": [
       "{0: 0, 1: 'None', 2: '1-8', 3: '9-11', 4: '12orGED', 5: 'C1-3', 6: 'C4+'}"
      ]
     },
     "execution_count": 31,
     "metadata": {},
     "output_type": "execute_result"
    }
   ],
   "source": [
    "\n",
    "reversefactor = dict(zip(range(7),definitions))\n",
    "reversefactor"
   ]
  },
  {
   "cell_type": "code",
   "execution_count": 32,
   "id": "487c9158",
   "metadata": {},
   "outputs": [],
   "source": [
    "people['education'] = np.vectorize(reversefactor.get)(people[['Education']])\n",
    " "
   ]
  },
  {
   "cell_type": "code",
   "execution_count": 33,
   "id": "f70efe52",
   "metadata": {},
   "outputs": [],
   "source": [
    "# Convert to DataFrame\n",
    "df_education_label = pd.DataFrame(people, columns=['education']).reindex()"
   ]
  },
  {
   "cell_type": "code",
   "execution_count": 34,
   "id": "03125422",
   "metadata": {
    "scrolled": true
   },
   "outputs": [
    {
     "data": {
      "text/html": [
       "<div>\n",
       "<style scoped>\n",
       "    .dataframe tbody tr th:only-of-type {\n",
       "        vertical-align: middle;\n",
       "    }\n",
       "\n",
       "    .dataframe tbody tr th {\n",
       "        vertical-align: top;\n",
       "    }\n",
       "\n",
       "    .dataframe thead th {\n",
       "        text-align: right;\n",
       "    }\n",
       "</style>\n",
       "<table border=\"1\" class=\"dataframe\">\n",
       "  <thead>\n",
       "    <tr style=\"text-align: right;\">\n",
       "      <th></th>\n",
       "      <th>education</th>\n",
       "    </tr>\n",
       "  </thead>\n",
       "  <tbody>\n",
       "    <tr>\n",
       "      <th>0</th>\n",
       "      <td>12orGED</td>\n",
       "    </tr>\n",
       "    <tr>\n",
       "      <th>5082</th>\n",
       "      <td>C4+</td>\n",
       "    </tr>\n",
       "  </tbody>\n",
       "</table>\n",
       "</div>"
      ],
      "text/plain": [
       "     education\n",
       "0      12orGED\n",
       "5082       C4+"
      ]
     },
     "execution_count": 34,
     "metadata": {},
     "output_type": "execute_result"
    }
   ],
   "source": [
    "df_education_label.head(2)"
   ]
  },
  {
   "cell_type": "code",
   "execution_count": 35,
   "id": "975285f2",
   "metadata": {
    "scrolled": true
   },
   "outputs": [
    {
     "data": {
      "text/html": [
       "<div>\n",
       "<style scoped>\n",
       "    .dataframe tbody tr th:only-of-type {\n",
       "        vertical-align: middle;\n",
       "    }\n",
       "\n",
       "    .dataframe tbody tr th {\n",
       "        vertical-align: top;\n",
       "    }\n",
       "\n",
       "    .dataframe thead th {\n",
       "        text-align: right;\n",
       "    }\n",
       "</style>\n",
       "<table border=\"1\" class=\"dataframe\">\n",
       "  <thead>\n",
       "    <tr style=\"text-align: right;\">\n",
       "      <th></th>\n",
       "      <th>Education</th>\n",
       "      <th>education</th>\n",
       "      <th>GenHlth</th>\n",
       "      <th>Diabetes_binary</th>\n",
       "      <th>HighBP</th>\n",
       "      <th>HighChol</th>\n",
       "    </tr>\n",
       "  </thead>\n",
       "  <tbody>\n",
       "    <tr>\n",
       "      <th>0</th>\n",
       "      <td>4</td>\n",
       "      <td>12orGED</td>\n",
       "      <td>3</td>\n",
       "      <td>0</td>\n",
       "      <td>0</td>\n",
       "      <td>1</td>\n",
       "    </tr>\n",
       "    <tr>\n",
       "      <th>5082</th>\n",
       "      <td>6</td>\n",
       "      <td>C4+</td>\n",
       "      <td>2</td>\n",
       "      <td>0</td>\n",
       "      <td>0</td>\n",
       "      <td>0</td>\n",
       "    </tr>\n",
       "    <tr>\n",
       "      <th>5912</th>\n",
       "      <td>5</td>\n",
       "      <td>C1-3</td>\n",
       "      <td>5</td>\n",
       "      <td>0</td>\n",
       "      <td>1</td>\n",
       "      <td>0</td>\n",
       "    </tr>\n",
       "    <tr>\n",
       "      <th>5913</th>\n",
       "      <td>4</td>\n",
       "      <td>12orGED</td>\n",
       "      <td>3</td>\n",
       "      <td>0</td>\n",
       "      <td>1</td>\n",
       "      <td>0</td>\n",
       "    </tr>\n",
       "    <tr>\n",
       "      <th>5080</th>\n",
       "      <td>3</td>\n",
       "      <td>9-11</td>\n",
       "      <td>4</td>\n",
       "      <td>0</td>\n",
       "      <td>1</td>\n",
       "      <td>0</td>\n",
       "    </tr>\n",
       "  </tbody>\n",
       "</table>\n",
       "</div>"
      ],
      "text/plain": [
       "      Education education  GenHlth  Diabetes_binary  HighBP  HighChol\n",
       "0             4   12orGED        3                0       0         1\n",
       "5082          6       C4+        2                0       0         0\n",
       "5912          5      C1-3        5                0       1         0\n",
       "5913          4   12orGED        3                0       1         0\n",
       "5080          3      9-11        4                0       1         0"
      ]
     },
     "execution_count": 35,
     "metadata": {},
     "output_type": "execute_result"
    }
   ],
   "source": [
    "people[[ 'Education','education','GenHlth','Diabetes_binary','HighBP','HighChol']].head()"
   ]
  },
  {
   "cell_type": "code",
   "execution_count": 36,
   "id": "b4414334-7d29-4d1c-8c12-7d3cf66d83e8",
   "metadata": {
    "scrolled": true
   },
   "outputs": [
    {
     "data": {
      "image/png": "[encoded data removed]",
      "text/plain": [
       "<Figure size 1440x432 with 1 Axes>"
      ]
     },
     "metadata": {
      "needs_background": "light"
     },
     "output_type": "display_data"
    }
   ],
   "source": [
    "import pandas as pd\n",
    "import matplotlib.pyplot as plt\n",
    "\n",
    "# Sample data\n",
    " \n",
    "df = people[[\"education\",\"Type\"]]\n",
    "\n",
    "# Calculate counts and percentages\n",
    "counts = df[[\"education\",\"Type\"]].value_counts()\n",
    "percentages = (counts / len(df)) * 100\n",
    "\n",
    "# Create the bar chart\n",
    "plt.figure(figsize=(20, 6))\n",
    "ax = counts.plot(kind='bar')\n",
    "\n",
    "# Add percentage labels\n",
    "for i, v in enumerate(counts):\n",
    "    ax.text(i, v + 0.1, f'{v} ({percentages[i]:.1f}%)', ha='center', va='bottom')\n",
    "\n",
    "plt.ylabel('Count')\n",
    "plt.xticks(fontsize=12)\n",
    "plt.title('Education vs Diabetes')\n",
    "plt.show()"
   ]
  },
  {
   "cell_type": "markdown",
   "id": "9350bef4",
   "metadata": {},
   "source": [
    "Question: How many people with higher education have diabetis compared to others\n",
    "? 10,400 (4.1%)"
   ]
  },
  {
   "cell_type": "markdown",
   "id": "ca48ad92",
   "metadata": {},
   "source": [
    "### Export Data for dashboard¶"
   ]
  },
  {
   "cell_type": "code",
   "execution_count": 37,
   "id": "3468002d-d521-4dec-ac31-ffa25d750cd4",
   "metadata": {},
   "outputs": [
    {
     "data": {
      "text/plain": [
       "Index(['ID', 'Diabetes_binary', 'HighBP', 'HighChol', 'CholCheck', 'BMI',\n",
       "       'Smoker', 'Stroke', 'HeartDiseaseorAttack', 'PhysActivity', 'Fruits',\n",
       "       'Veggies', 'HvyAlcoholConsump', 'AnyHealthcare', 'NoDocbcCost',\n",
       "       'GenHlth', 'MentHlth', 'PhysHlth', 'DiffWalk', 'Sex', 'Age',\n",
       "       'Education', 'Income', 'Gender', 'Types', 'GeneralHealth', 'Type',\n",
       "       'income', 'education'],\n",
       "      dtype='object')"
      ]
     },
     "execution_count": 37,
     "metadata": {},
     "output_type": "execute_result"
    }
   ],
   "source": [
    "people.columns"
   ]
  },
  {
   "cell_type": "code",
   "execution_count": 38,
   "id": "2bd8daf1-43ff-4c48-b07d-129e2074766a",
   "metadata": {},
   "outputs": [],
   "source": [
    "new_columns = ['Diabetes_binary','Gender', 'Types','MentHlth', 'GeneralHealth', 'Type',\n",
    "       'income', 'education','Sex','PhysHlth','PhysActivity','Fruits',\n",
    "       'Veggies','HeartDiseaseorAttack']"
   ]
  },
  {
   "cell_type": "code",
   "execution_count": 39,
   "id": "c1989c6c-3858-43cf-90c1-8ff1d941fe72",
   "metadata": {},
   "outputs": [],
   "source": [
    "#create a dictionary. Save all my dataframes to my dictionary\n",
    "# Choose a random sample of 2 rows\n",
    "sample_df = pd.DataFrame(people.sample(n=500),columns = new_columns)"
   ]
  },
  {
   "cell_type": "code",
   "execution_count": 40,
   "id": "302213b0-a3f2-4378-bcc7-0c435d15bf12",
   "metadata": {},
   "outputs": [
    {
     "data": {
      "text/html": [
       "<div>\n",
       "<style scoped>\n",
       "    .dataframe tbody tr th:only-of-type {\n",
       "        vertical-align: middle;\n",
       "    }\n",
       "\n",
       "    .dataframe tbody tr th {\n",
       "        vertical-align: top;\n",
       "    }\n",
       "\n",
       "    .dataframe thead th {\n",
       "        text-align: right;\n",
       "    }\n",
       "</style>\n",
       "<table border=\"1\" class=\"dataframe\">\n",
       "  <thead>\n",
       "    <tr style=\"text-align: right;\">\n",
       "      <th></th>\n",
       "      <th>Diabetes_binary</th>\n",
       "      <th>Gender</th>\n",
       "      <th>Types</th>\n",
       "      <th>MentHlth</th>\n",
       "      <th>GeneralHealth</th>\n",
       "      <th>Type</th>\n",
       "      <th>income</th>\n",
       "      <th>education</th>\n",
       "      <th>Sex</th>\n",
       "      <th>PhysHlth</th>\n",
       "      <th>PhysActivity</th>\n",
       "      <th>Fruits</th>\n",
       "      <th>Veggies</th>\n",
       "      <th>HeartDiseaseorAttack</th>\n",
       "    </tr>\n",
       "  </thead>\n",
       "  <tbody>\n",
       "    <tr>\n",
       "      <th>120685</th>\n",
       "      <td>0</td>\n",
       "      <td>men</td>\n",
       "      <td>nondiabetic</td>\n",
       "      <td>0</td>\n",
       "      <td>Excellent</td>\n",
       "      <td>nondiabetic</td>\n",
       "      <td>50-75K</td>\n",
       "      <td>C1-3</td>\n",
       "      <td>0</td>\n",
       "      <td>2</td>\n",
       "      <td>1</td>\n",
       "      <td>0</td>\n",
       "      <td>0</td>\n",
       "      <td>0</td>\n",
       "    </tr>\n",
       "    <tr>\n",
       "      <th>213611</th>\n",
       "      <td>1</td>\n",
       "      <td>men</td>\n",
       "      <td>diabetics</td>\n",
       "      <td>5</td>\n",
       "      <td>Poor</td>\n",
       "      <td>diabetic</td>\n",
       "      <td>20-25K</td>\n",
       "      <td>C1-3</td>\n",
       "      <td>0</td>\n",
       "      <td>4</td>\n",
       "      <td>0</td>\n",
       "      <td>0</td>\n",
       "      <td>1</td>\n",
       "      <td>0</td>\n",
       "    </tr>\n",
       "    <tr>\n",
       "      <th>113802</th>\n",
       "      <td>0</td>\n",
       "      <td>women</td>\n",
       "      <td>nondiabetic</td>\n",
       "      <td>0</td>\n",
       "      <td>Very good</td>\n",
       "      <td>nondiabetic</td>\n",
       "      <td>50-75K</td>\n",
       "      <td>C1-3</td>\n",
       "      <td>1</td>\n",
       "      <td>2</td>\n",
       "      <td>0</td>\n",
       "      <td>1</td>\n",
       "      <td>0</td>\n",
       "      <td>0</td>\n",
       "    </tr>\n",
       "    <tr>\n",
       "      <th>147501</th>\n",
       "      <td>0</td>\n",
       "      <td>men</td>\n",
       "      <td>nondiabetic</td>\n",
       "      <td>15</td>\n",
       "      <td>Very good</td>\n",
       "      <td>nondiabetic</td>\n",
       "      <td>35-50K</td>\n",
       "      <td>C1-3</td>\n",
       "      <td>0</td>\n",
       "      <td>0</td>\n",
       "      <td>0</td>\n",
       "      <td>1</td>\n",
       "      <td>1</td>\n",
       "      <td>0</td>\n",
       "    </tr>\n",
       "    <tr>\n",
       "      <th>194044</th>\n",
       "      <td>0</td>\n",
       "      <td>women</td>\n",
       "      <td>nondiabetic</td>\n",
       "      <td>0</td>\n",
       "      <td>Fair</td>\n",
       "      <td>nondiabetic</td>\n",
       "      <td>25K-35K</td>\n",
       "      <td>12orGED</td>\n",
       "      <td>1</td>\n",
       "      <td>0</td>\n",
       "      <td>1</td>\n",
       "      <td>1</td>\n",
       "      <td>1</td>\n",
       "      <td>1</td>\n",
       "    </tr>\n",
       "  </tbody>\n",
       "</table>\n",
       "</div>"
      ],
      "text/plain": [
       "        Diabetes_binary Gender        Types  MentHlth GeneralHealth  \\\n",
       "120685                0    men  nondiabetic         0     Excellent   \n",
       "213611                1    men    diabetics         5          Poor   \n",
       "113802                0  women  nondiabetic         0     Very good   \n",
       "147501                0    men  nondiabetic        15     Very good   \n",
       "194044                0  women  nondiabetic         0          Fair   \n",
       "\n",
       "               Type   income education  Sex  PhysHlth  PhysActivity  Fruits  \\\n",
       "120685  nondiabetic   50-75K      C1-3    0         2             1       0   \n",
       "213611     diabetic   20-25K      C1-3    0         4             0       0   \n",
       "113802  nondiabetic   50-75K      C1-3    1         2             0       1   \n",
       "147501  nondiabetic   35-50K      C1-3    0         0             0       1   \n",
       "194044  nondiabetic  25K-35K   12orGED    1         0             1       1   \n",
       "\n",
       "        Veggies  HeartDiseaseorAttack  \n",
       "120685        0                     0  \n",
       "213611        1                     0  \n",
       "113802        0                     0  \n",
       "147501        1                     0  \n",
       "194044        1                     1  "
      ]
     },
     "execution_count": 40,
     "metadata": {},
     "output_type": "execute_result"
    }
   ],
   "source": [
    "sample_df.head()"
   ]
  },
  {
   "cell_type": "code",
   "execution_count": 41,
   "id": "134d08c9-5ccc-4b36-8a2d-8643012f3224",
   "metadata": {},
   "outputs": [],
   "source": [
    "#write update file to drive\n",
    "data_dic = {}"
   ]
  },
  {
   "cell_type": "code",
   "execution_count": 42,
   "id": "06036756-a92c-4eb7-8e72-ffca7f1435ab",
   "metadata": {},
   "outputs": [],
   "source": [
    "#create a subset of data\n",
    "data_dic['menhealth_data'] = sample_df[['Diabetes_binary','Type', 'MentHlth','Gender' ]]"
   ]
  },
  {
   "cell_type": "code",
   "execution_count": 43,
   "id": "3ed3b3cd-593b-46f1-8f20-0630a20a7edb",
   "metadata": {},
   "outputs": [],
   "source": [
    "#create a subset of data\n",
    "data_dic['genhealth_data'] = sample_df[['Diabetes_binary','Type','GeneralHealth', 'Gender' ]]"
   ]
  },
  {
   "cell_type": "code",
   "execution_count": 44,
   "id": "44137d03-9d14-4097-aef9-f39126e26f68",
   "metadata": {},
   "outputs": [
    {
     "data": {
      "text/html": [
       "<div>\n",
       "<style scoped>\n",
       "    .dataframe tbody tr th:only-of-type {\n",
       "        vertical-align: middle;\n",
       "    }\n",
       "\n",
       "    .dataframe tbody tr th {\n",
       "        vertical-align: top;\n",
       "    }\n",
       "\n",
       "    .dataframe thead th {\n",
       "        text-align: right;\n",
       "    }\n",
       "</style>\n",
       "<table border=\"1\" class=\"dataframe\">\n",
       "  <thead>\n",
       "    <tr style=\"text-align: right;\">\n",
       "      <th></th>\n",
       "      <th>Diabetes_binary</th>\n",
       "    </tr>\n",
       "    <tr>\n",
       "      <th>PhysActivity</th>\n",
       "      <th></th>\n",
       "    </tr>\n",
       "  </thead>\n",
       "  <tbody>\n",
       "    <tr>\n",
       "      <th>0</th>\n",
       "      <td>61760</td>\n",
       "    </tr>\n",
       "    <tr>\n",
       "      <th>1</th>\n",
       "      <td>191920</td>\n",
       "    </tr>\n",
       "  </tbody>\n",
       "</table>\n",
       "</div>"
      ],
      "text/plain": [
       "              Diabetes_binary\n",
       "PhysActivity                 \n",
       "0                       61760\n",
       "1                      191920"
      ]
     },
     "execution_count": 44,
     "metadata": {},
     "output_type": "execute_result"
    }
   ],
   "source": [
    "#Obervation\n",
    "# 0 - No_PhysicalActivity\n",
    "# 1- Yes_PhysicalActivity\n",
    "\n",
    "people.groupby(by = ['PhysActivity']).count()[['Diabetes_binary']]"
   ]
  },
  {
   "cell_type": "code",
   "execution_count": 45,
   "id": "ec5e813e-b269-405c-8cfa-2045d5075d00",
   "metadata": {},
   "outputs": [
    {
     "data": {
      "text/plain": [
       "6"
      ]
     },
     "execution_count": 45,
     "metadata": {},
     "output_type": "execute_result"
    }
   ],
   "source": [
    "\n",
    "#bin - I choose to keep my bins under 20.  I wrote function to calculate the range and reture\n",
    "# an approprite bin number\n",
    "#1. Get the range = Max - min\n",
    "#2. Calcute the bin :  range divided by multiple of 5 until the nbr is less than 20\n",
    "#3.  round up to the nearest integer\n",
    "\n",
    "def appropriate_bin_nbr(max_, min_):\n",
    "    \n",
    "     \n",
    "    if (max_ - min_) / 5 < 20:\n",
    "        return  int(round((max_ - min_) / 5,0))\n",
    "    elif (max_ - min_) / 10 < 20:\n",
    "          return   int(round((max_ - min_) / 10,0))\n",
    "    elif (max_ - min_) / 15 < 20:\n",
    "          return   int(round((max_ - min_) / 15,0))\n",
    "    else:\n",
    "         return    int(round((max_ - min_) / 20,0))\n",
    "    \n",
    "bin_nbr =  appropriate_bin_nbr(people.PhysHlth.sort_values().max(),people.PhysHlth.sort_values().min())\n",
    "bin_nbr"
   ]
  },
  {
   "cell_type": "code",
   "execution_count": null,
   "id": "a395e625-8422-4928-9019-93711f67b717",
   "metadata": {},
   "outputs": [],
   "source": []
  },
  {
   "cell_type": "code",
   "execution_count": 46,
   "id": "53c48040-64a2-43b0-879e-d8f129133e12",
   "metadata": {
    "scrolled": true
   },
   "outputs": [
    {
     "data": {
      "text/plain": [
       "Text(0.5, 0, 'PhysHlth')"
      ]
     },
     "execution_count": 46,
     "metadata": {},
     "output_type": "execute_result"
    },
    {
     "data": {
      "image/png": "[encoded data removed]",
      "text/plain": [
       "<Figure size 432x288 with 1 Axes>"
      ]
     },
     "metadata": {
      "needs_background": "light"
     },
     "output_type": "display_data"
    }
   ],
   "source": [
    "people.PhysHlth.plot(kind='hist')\n",
    "# using loc method- create histogram using loc method\n",
    "#1. grab all duations so we will have a series\n",
    "#2. plot with a histogram\n",
    "\n",
    "people.loc[:,\"PhysHlth\"].plot(kind='hist',bins=bin_nbr, edgecolor='white');\n",
    "plt.ylabel('count');\n",
    "plt.xlabel('PhysHlth')"
   ]
  },
  {
   "cell_type": "code",
   "execution_count": 47,
   "id": "60231746-9915-4920-ac3a-2836c39cda7f",
   "metadata": {},
   "outputs": [],
   "source": [
    "def summary_statistics(column, data):\n",
    "    X = data[column]\n",
    "    print ('COLUMN: ' + column)\n",
    "    print ('mean: ' + str(np.mean(X)))\n",
    "    print ('median: ' + str(np.median(X)))\n",
    "    print ('mode: ' + str(stats.mode([round(d) for d in X])))\n",
    "    print ('variance: ' + str(np.var(X)))\n",
    "    print ('standard deviation: ' + str(np.std(X)))"
   ]
  },
  {
   "cell_type": "code",
   "execution_count": 48,
   "id": "d2ef631b-5699-49f3-9949-1631af916942",
   "metadata": {},
   "outputs": [
    {
     "name": "stdout",
     "output_type": "stream",
     "text": [
      "COLUMN: PhysHlth\n",
      "mean: 4.2420805739514345\n",
      "median: 0.0\n",
      "mode: ModeResult(mode=array([0]), count=array([160052]))\n",
      "variance: 76.00237539350776\n",
      "standard deviation: 8.717934124178031\n"
     ]
    }
   ],
   "source": [
    "#Obervation\n",
    "#1 - Number of days  \n",
    "#88 None  \n",
    "#77 unknown\n",
    "#99 Refused\n",
    "\n",
    "#Identify a normal distribution within a data set using summary statistics and data visualizations\n",
    "summary_statistics('PhysHlth', people)"
   ]
  },
  {
   "cell_type": "markdown",
   "id": "edd4cec7-6337-4125-9a12-421b4d404310",
   "metadata": {},
   "source": [
    "Statistics show on average 4 day in the past 30 days individuals have not had good physical health  "
   ]
  },
  {
   "cell_type": "code",
   "execution_count": 49,
   "id": "d9d111ea-1d7c-40d9-a5c3-394b170eead5",
   "metadata": {
    "scrolled": true
   },
   "outputs": [
    {
     "data": {
      "text/plain": [
       "Index(['ID', 'Diabetes_binary', 'HighBP', 'HighChol', 'CholCheck', 'BMI',\n",
       "       'Smoker', 'Stroke', 'HeartDiseaseorAttack', 'PhysActivity', 'Fruits',\n",
       "       'Veggies', 'HvyAlcoholConsump', 'AnyHealthcare', 'NoDocbcCost',\n",
       "       'GenHlth', 'MentHlth', 'PhysHlth', 'DiffWalk', 'Sex', 'Age',\n",
       "       'Education', 'Income', 'Gender', 'Types', 'GeneralHealth', 'Type',\n",
       "       'income', 'education'],\n",
       "      dtype='object')"
      ]
     },
     "execution_count": 49,
     "metadata": {},
     "output_type": "execute_result"
    }
   ],
   "source": [
    "people.columns"
   ]
  },
  {
   "cell_type": "code",
   "execution_count": 50,
   "id": "efa98c93-2658-418f-a9ca-40704c6bf77c",
   "metadata": {},
   "outputs": [],
   "source": [
    "data_dic['dietary_data'] = sample_df[['Diabetes_binary', 'Fruits','Veggies','Gender','Types']]  "
   ]
  },
  {
   "cell_type": "code",
   "execution_count": 51,
   "id": "ea06387f-feed-42b1-bb22-327d7af42dda",
   "metadata": {},
   "outputs": [],
   "source": [
    "data_dic['heart_data'] = sample_df[['Diabetes_binary','HeartDiseaseorAttack' , 'Gender','Type' ]]"
   ]
  },
  {
   "cell_type": "code",
   "execution_count": 52,
   "id": "d3490365-7e35-490b-9a96-fab243c0dfcf",
   "metadata": {},
   "outputs": [],
   "source": [
    "data_dic['sex_data'] = sample_df[['Diabetes_binary', 'Gender']]"
   ]
  },
  {
   "cell_type": "code",
   "execution_count": 53,
   "id": "39eec1b7-71c2-478d-b17a-b853fb77d19f",
   "metadata": {},
   "outputs": [],
   "source": [
    "data_dic['edu_data'] = sample_df[['Diabetes_binary', 'education','Type']]"
   ]
  },
  {
   "cell_type": "code",
   "execution_count": 54,
   "id": "37e32878-893a-44e6-a843-6bb17922a796",
   "metadata": {},
   "outputs": [],
   "source": [
    "#all data\n",
    "#data_dic['all_data'] = people"
   ]
  },
  {
   "cell_type": "code",
   "execution_count": null,
   "id": "4a00c3b9-78d9-4679-bf7d-bdfb884d5096",
   "metadata": {},
   "outputs": [],
   "source": []
  },
  {
   "cell_type": "code",
   "execution_count": 55,
   "id": "ea19fba3-6a80-48ae-a245-0952bc733d68",
   "metadata": {
    "scrolled": true
   },
   "outputs": [],
   "source": [
    "#Write file to local directory\n",
    "prepared_data.write_data(data, 'data/prepared',index=True )"
   ]
  },
  {
   "cell_type": "code",
   "execution_count": 56,
   "id": "4e740493-fcd5-44cb-ba0a-b5f3a49d955b",
   "metadata": {
    "scrolled": true
   },
   "outputs": [],
   "source": [
    "#save these dataframes to my data/raw folder on my local drive \n",
    "prepared_data.write_data(data_dic,'data/raw',index=False)"
   ]
  },
  {
   "cell_type": "markdown",
   "id": "971c9a46-2249-4405-afa6-1ffaaea56433",
   "metadata": {},
   "source": [
    "## Filter for fewer rows and  columns: "
   ]
  },
  {
   "cell_type": "markdown",
   "id": "ff7c8cfc-fdfc-42e0-b318-e6bae6867716",
   "metadata": {},
   "source": [
    "testing code for my select_columns(df) function"
   ]
  },
  {
   "cell_type": "code",
   "execution_count": 57,
   "id": "9d1bb9e0-b011-40f5-b300-0d1fabb2dad1",
   "metadata": {},
   "outputs": [],
   "source": [
    "# Choose a random sample of 2 rows\n",
    "sample_df = pd.DataFrame(people.sample(n=300),columns = people.columns)"
   ]
  },
  {
   "cell_type": "code",
   "execution_count": 58,
   "id": "89134bc7-1a66-46a8-8da6-da813c2991fa",
   "metadata": {},
   "outputs": [],
   "source": [
    "labels = ['Diabetes_binary','Gender', 'Types','MentHlth', 'GeneralHealth', 'Type',\n",
    "       'income', 'education','Sex','PhysHlth','PhysActivity','Fruits',\n",
    "       'Veggies','HeartDiseaseorAttack']"
   ]
  },
  {
   "cell_type": "code",
   "execution_count": 59,
   "id": "9e6cea1b-afea-4715-8589-61ebdbdf2fb9",
   "metadata": {},
   "outputs": [],
   "source": [
    "cols = people.columns"
   ]
  },
  {
   "cell_type": "code",
   "execution_count": 60,
   "id": "baf19bf7-7a11-42b6-b709-52b0a10b35d5",
   "metadata": {},
   "outputs": [
    {
     "data": {
      "text/plain": [
       "pandas.core.indexes.base.Index"
      ]
     },
     "execution_count": 60,
     "metadata": {},
     "output_type": "execute_result"
    }
   ],
   "source": [
    "type(cols)"
   ]
  },
  {
   "cell_type": "code",
   "execution_count": 61,
   "id": "3461e56a-b94c-445f-941d-2cdf3affd264",
   "metadata": {},
   "outputs": [],
   "source": [
    "filt = cols.isin(labels)"
   ]
  },
  {
   "cell_type": "code",
   "execution_count": 62,
   "id": "129fecf3-5d59-489e-aba9-a5a24901a0fc",
   "metadata": {},
   "outputs": [
    {
     "data": {
      "text/html": [
       "<div>\n",
       "<style scoped>\n",
       "    .dataframe tbody tr th:only-of-type {\n",
       "        vertical-align: middle;\n",
       "    }\n",
       "\n",
       "    .dataframe tbody tr th {\n",
       "        vertical-align: top;\n",
       "    }\n",
       "\n",
       "    .dataframe thead th {\n",
       "        text-align: right;\n",
       "    }\n",
       "</style>\n",
       "<table border=\"1\" class=\"dataframe\">\n",
       "  <thead>\n",
       "    <tr style=\"text-align: right;\">\n",
       "      <th></th>\n",
       "      <th>Diabetes_binary</th>\n",
       "      <th>HeartDiseaseorAttack</th>\n",
       "      <th>PhysActivity</th>\n",
       "      <th>Fruits</th>\n",
       "      <th>Veggies</th>\n",
       "      <th>MentHlth</th>\n",
       "      <th>PhysHlth</th>\n",
       "      <th>Sex</th>\n",
       "      <th>Gender</th>\n",
       "      <th>Types</th>\n",
       "      <th>GeneralHealth</th>\n",
       "      <th>Type</th>\n",
       "      <th>income</th>\n",
       "      <th>education</th>\n",
       "    </tr>\n",
       "  </thead>\n",
       "  <tbody>\n",
       "    <tr>\n",
       "      <th>123764</th>\n",
       "      <td>0</td>\n",
       "      <td>0</td>\n",
       "      <td>1</td>\n",
       "      <td>1</td>\n",
       "      <td>1</td>\n",
       "      <td>0</td>\n",
       "      <td>0</td>\n",
       "      <td>1</td>\n",
       "      <td>women</td>\n",
       "      <td>nondiabetic</td>\n",
       "      <td>Good</td>\n",
       "      <td>nondiabetic</td>\n",
       "      <td>50-75K</td>\n",
       "      <td>12orGED</td>\n",
       "    </tr>\n",
       "    <tr>\n",
       "      <th>166708</th>\n",
       "      <td>0</td>\n",
       "      <td>0</td>\n",
       "      <td>0</td>\n",
       "      <td>1</td>\n",
       "      <td>1</td>\n",
       "      <td>0</td>\n",
       "      <td>0</td>\n",
       "      <td>1</td>\n",
       "      <td>women</td>\n",
       "      <td>nondiabetic</td>\n",
       "      <td>Good</td>\n",
       "      <td>nondiabetic</td>\n",
       "      <td>35-50K</td>\n",
       "      <td>C4+</td>\n",
       "    </tr>\n",
       "    <tr>\n",
       "      <th>166687</th>\n",
       "      <td>0</td>\n",
       "      <td>0</td>\n",
       "      <td>1</td>\n",
       "      <td>1</td>\n",
       "      <td>1</td>\n",
       "      <td>3</td>\n",
       "      <td>5</td>\n",
       "      <td>0</td>\n",
       "      <td>men</td>\n",
       "      <td>nondiabetic</td>\n",
       "      <td>Good</td>\n",
       "      <td>nondiabetic</td>\n",
       "      <td>35-50K</td>\n",
       "      <td>C1-3</td>\n",
       "    </tr>\n",
       "    <tr>\n",
       "      <th>140071</th>\n",
       "      <td>0</td>\n",
       "      <td>0</td>\n",
       "      <td>1</td>\n",
       "      <td>1</td>\n",
       "      <td>1</td>\n",
       "      <td>8</td>\n",
       "      <td>25</td>\n",
       "      <td>1</td>\n",
       "      <td>women</td>\n",
       "      <td>nondiabetic</td>\n",
       "      <td>Fair</td>\n",
       "      <td>nondiabetic</td>\n",
       "      <td>50-75K</td>\n",
       "      <td>C4+</td>\n",
       "    </tr>\n",
       "    <tr>\n",
       "      <th>146171</th>\n",
       "      <td>0</td>\n",
       "      <td>0</td>\n",
       "      <td>1</td>\n",
       "      <td>1</td>\n",
       "      <td>1</td>\n",
       "      <td>0</td>\n",
       "      <td>0</td>\n",
       "      <td>0</td>\n",
       "      <td>men</td>\n",
       "      <td>nondiabetic</td>\n",
       "      <td>Good</td>\n",
       "      <td>nondiabetic</td>\n",
       "      <td>35-50K</td>\n",
       "      <td>C4+</td>\n",
       "    </tr>\n",
       "    <tr>\n",
       "      <th>...</th>\n",
       "      <td>...</td>\n",
       "      <td>...</td>\n",
       "      <td>...</td>\n",
       "      <td>...</td>\n",
       "      <td>...</td>\n",
       "      <td>...</td>\n",
       "      <td>...</td>\n",
       "      <td>...</td>\n",
       "      <td>...</td>\n",
       "      <td>...</td>\n",
       "      <td>...</td>\n",
       "      <td>...</td>\n",
       "      <td>...</td>\n",
       "      <td>...</td>\n",
       "    </tr>\n",
       "    <tr>\n",
       "      <th>47059</th>\n",
       "      <td>0</td>\n",
       "      <td>0</td>\n",
       "      <td>1</td>\n",
       "      <td>1</td>\n",
       "      <td>1</td>\n",
       "      <td>2</td>\n",
       "      <td>0</td>\n",
       "      <td>0</td>\n",
       "      <td>men</td>\n",
       "      <td>nondiabetic</td>\n",
       "      <td>Very good</td>\n",
       "      <td>nondiabetic</td>\n",
       "      <td>75&gt;</td>\n",
       "      <td>C1-3</td>\n",
       "    </tr>\n",
       "    <tr>\n",
       "      <th>40840</th>\n",
       "      <td>0</td>\n",
       "      <td>0</td>\n",
       "      <td>1</td>\n",
       "      <td>1</td>\n",
       "      <td>1</td>\n",
       "      <td>0</td>\n",
       "      <td>0</td>\n",
       "      <td>0</td>\n",
       "      <td>men</td>\n",
       "      <td>nondiabetic</td>\n",
       "      <td>Excellent</td>\n",
       "      <td>nondiabetic</td>\n",
       "      <td>75&gt;</td>\n",
       "      <td>C4+</td>\n",
       "    </tr>\n",
       "    <tr>\n",
       "      <th>218875</th>\n",
       "      <td>0</td>\n",
       "      <td>0</td>\n",
       "      <td>1</td>\n",
       "      <td>0</td>\n",
       "      <td>0</td>\n",
       "      <td>0</td>\n",
       "      <td>0</td>\n",
       "      <td>1</td>\n",
       "      <td>women</td>\n",
       "      <td>nondiabetic</td>\n",
       "      <td>Very good</td>\n",
       "      <td>nondiabetic</td>\n",
       "      <td>20-25K</td>\n",
       "      <td>12orGED</td>\n",
       "    </tr>\n",
       "    <tr>\n",
       "      <th>165417</th>\n",
       "      <td>0</td>\n",
       "      <td>0</td>\n",
       "      <td>1</td>\n",
       "      <td>0</td>\n",
       "      <td>1</td>\n",
       "      <td>0</td>\n",
       "      <td>0</td>\n",
       "      <td>1</td>\n",
       "      <td>women</td>\n",
       "      <td>nondiabetic</td>\n",
       "      <td>Very good</td>\n",
       "      <td>nondiabetic</td>\n",
       "      <td>35-50K</td>\n",
       "      <td>12orGED</td>\n",
       "    </tr>\n",
       "    <tr>\n",
       "      <th>113890</th>\n",
       "      <td>0</td>\n",
       "      <td>0</td>\n",
       "      <td>1</td>\n",
       "      <td>1</td>\n",
       "      <td>1</td>\n",
       "      <td>0</td>\n",
       "      <td>0</td>\n",
       "      <td>0</td>\n",
       "      <td>men</td>\n",
       "      <td>nondiabetic</td>\n",
       "      <td>Very good</td>\n",
       "      <td>nondiabetic</td>\n",
       "      <td>50-75K</td>\n",
       "      <td>C4+</td>\n",
       "    </tr>\n",
       "  </tbody>\n",
       "</table>\n",
       "<p>300 rows × 14 columns</p>\n",
       "</div>"
      ],
      "text/plain": [
       "        Diabetes_binary  HeartDiseaseorAttack  PhysActivity  Fruits  Veggies  \\\n",
       "123764                0                     0             1       1        1   \n",
       "166708                0                     0             0       1        1   \n",
       "166687                0                     0             1       1        1   \n",
       "140071                0                     0             1       1        1   \n",
       "146171                0                     0             1       1        1   \n",
       "...                 ...                   ...           ...     ...      ...   \n",
       "47059                 0                     0             1       1        1   \n",
       "40840                 0                     0             1       1        1   \n",
       "218875                0                     0             1       0        0   \n",
       "165417                0                     0             1       0        1   \n",
       "113890                0                     0             1       1        1   \n",
       "\n",
       "        MentHlth  PhysHlth  Sex Gender        Types GeneralHealth  \\\n",
       "123764         0         0    1  women  nondiabetic          Good   \n",
       "166708         0         0    1  women  nondiabetic          Good   \n",
       "166687         3         5    0    men  nondiabetic          Good   \n",
       "140071         8        25    1  women  nondiabetic          Fair   \n",
       "146171         0         0    0    men  nondiabetic          Good   \n",
       "...          ...       ...  ...    ...          ...           ...   \n",
       "47059          2         0    0    men  nondiabetic     Very good   \n",
       "40840          0         0    0    men  nondiabetic     Excellent   \n",
       "218875         0         0    1  women  nondiabetic     Very good   \n",
       "165417         0         0    1  women  nondiabetic     Very good   \n",
       "113890         0         0    0    men  nondiabetic     Very good   \n",
       "\n",
       "               Type  income education  \n",
       "123764  nondiabetic  50-75K   12orGED  \n",
       "166708  nondiabetic  35-50K       C4+  \n",
       "166687  nondiabetic  35-50K      C1-3  \n",
       "140071  nondiabetic  50-75K       C4+  \n",
       "146171  nondiabetic  35-50K       C4+  \n",
       "...             ...     ...       ...  \n",
       "47059   nondiabetic     75>      C1-3  \n",
       "40840   nondiabetic     75>       C4+  \n",
       "218875  nondiabetic  20-25K   12orGED  \n",
       "165417  nondiabetic  35-50K   12orGED  \n",
       "113890  nondiabetic  50-75K       C4+  \n",
       "\n",
       "[300 rows x 14 columns]"
      ]
     },
     "execution_count": 62,
     "metadata": {},
     "output_type": "execute_result"
    }
   ],
   "source": [
    "sample_df.loc[:, filt]"
   ]
  },
  {
   "cell_type": "markdown",
   "id": "ced345dc-7e8b-4159-9d10-3a0a7a175334",
   "metadata": {},
   "source": [
    "#### Desired result"
   ]
  },
  {
   "cell_type": "code",
   "execution_count": 63,
   "id": "a953ad72-c2b9-485f-9a01-50223ec05f35",
   "metadata": {},
   "outputs": [
    {
     "name": "stdout",
     "output_type": "stream",
     "text": [
      "           Count Percentage\n",
      "Very good  89084      35.1%\n",
      "Good       75646      29.8%\n",
      "Excellent  45299      17.9%\n",
      "Fair       31570      12.4%\n",
      "Poor       12081       4.8%\n"
     ]
    }
   ],
   "source": [
    "import pandas as pd\n",
    "\n",
    "# Assuming your DataFrame 'people' has columns 'GeneralHealth' and 'Type'\n",
    "\n",
    "# Filter data for relevant columns\n",
    "df = people[[\"GeneralHealth\", \"Type\"]]\n",
    "\n",
    "# Calculate counts using value_counts()\n",
    "counts = df[\"GeneralHealth\"].value_counts().to_frame(name=\"Count\")\n",
    "\n",
    "# Calculate percentages (optional)\n",
    "#if you want percentages:\n",
    "percentages = (counts[\"Count\"] / len(df)) * 100\n",
    "counts[\"Percentage\"] = percentages.apply(\"{:.1f}%\".format)  # Format as percentages\n",
    "\n",
    "# Display the table\n",
    "print(counts)"
   ]
  },
  {
   "cell_type": "markdown",
   "id": "b2b33261-552d-4452-b19e-39dc10cc7176",
   "metadata": {},
   "source": [
    "## Repeating loop function"
   ]
  },
  {
   "cell_type": "code",
   "execution_count": 64,
   "id": "31f6a258-68bf-4275-a20e-adfd13bed7d7",
   "metadata": {},
   "outputs": [],
   "source": [
    "%run my_functions.ipynb"
   ]
  },
  {
   "cell_type": "code",
   "execution_count": 65,
   "id": "7b02480f-a6fd-4128-995c-5f1637fc7081",
   "metadata": {
    "scrolled": true
   },
   "outputs": [
    {
     "data": {
      "text/plain": [
       "(253680, 29)"
      ]
     },
     "execution_count": 65,
     "metadata": {},
     "output_type": "execute_result"
    }
   ],
   "source": [
    "people.shape "
   ]
  },
  {
   "cell_type": "code",
   "execution_count": 66,
   "id": "ebfe1189-f201-4eff-b2db-1160302da358",
   "metadata": {
    "scrolled": true
   },
   "outputs": [
    {
     "data": {
      "text/plain": [
       "Index(['ID', 'Diabetes_binary', 'HighBP', 'HighChol', 'CholCheck', 'BMI',\n",
       "       'Smoker', 'Stroke', 'HeartDiseaseorAttack', 'PhysActivity', 'Fruits',\n",
       "       'Veggies', 'HvyAlcoholConsump', 'AnyHealthcare', 'NoDocbcCost',\n",
       "       'GenHlth', 'MentHlth', 'PhysHlth', 'DiffWalk', 'Sex', 'Age',\n",
       "       'Education', 'Income', 'Gender', 'Types', 'GeneralHealth', 'Type',\n",
       "       'income', 'education'],\n",
       "      dtype='object')"
      ]
     },
     "execution_count": 66,
     "metadata": {},
     "output_type": "execute_result"
    }
   ],
   "source": [
    "people.columns"
   ]
  },
  {
   "cell_type": "code",
   "execution_count": 67,
   "id": "1f142290-7f8e-41d6-82bb-b345a9f03a7d",
   "metadata": {},
   "outputs": [
    {
     "data": {
      "text/html": [
       "<div>\n",
       "<style scoped>\n",
       "    .dataframe tbody tr th:only-of-type {\n",
       "        vertical-align: middle;\n",
       "    }\n",
       "\n",
       "    .dataframe tbody tr th {\n",
       "        vertical-align: top;\n",
       "    }\n",
       "\n",
       "    .dataframe thead th {\n",
       "        text-align: right;\n",
       "    }\n",
       "</style>\n",
       "<table border=\"1\" class=\"dataframe\">\n",
       "  <thead>\n",
       "    <tr style=\"text-align: right;\">\n",
       "      <th></th>\n",
       "      <th>Types</th>\n",
       "      <th>GeneralHealth</th>\n",
       "      <th>Gender</th>\n",
       "      <th>count</th>\n",
       "      <th>mean</th>\n",
       "    </tr>\n",
       "  </thead>\n",
       "  <tbody>\n",
       "    <tr>\n",
       "      <th>0</th>\n",
       "      <td>diabetics</td>\n",
       "      <td>Excellent</td>\n",
       "      <td>men</td>\n",
       "      <td>449</td>\n",
       "      <td>1.0</td>\n",
       "    </tr>\n",
       "    <tr>\n",
       "      <th>1</th>\n",
       "      <td>diabetics</td>\n",
       "      <td>Excellent</td>\n",
       "      <td>women</td>\n",
       "      <td>691</td>\n",
       "      <td>1.0</td>\n",
       "    </tr>\n",
       "    <tr>\n",
       "      <th>2</th>\n",
       "      <td>diabetics</td>\n",
       "      <td>Fair</td>\n",
       "      <td>men</td>\n",
       "      <td>5529</td>\n",
       "      <td>1.0</td>\n",
       "    </tr>\n",
       "    <tr>\n",
       "      <th>3</th>\n",
       "      <td>diabetics</td>\n",
       "      <td>Fair</td>\n",
       "      <td>women</td>\n",
       "      <td>4261</td>\n",
       "      <td>1.0</td>\n",
       "    </tr>\n",
       "    <tr>\n",
       "      <th>4</th>\n",
       "      <td>diabetics</td>\n",
       "      <td>Good</td>\n",
       "      <td>men</td>\n",
       "      <td>6865</td>\n",
       "      <td>1.0</td>\n",
       "    </tr>\n",
       "    <tr>\n",
       "      <th>5</th>\n",
       "      <td>diabetics</td>\n",
       "      <td>Good</td>\n",
       "      <td>women</td>\n",
       "      <td>6592</td>\n",
       "      <td>1.0</td>\n",
       "    </tr>\n",
       "    <tr>\n",
       "      <th>6</th>\n",
       "      <td>diabetics</td>\n",
       "      <td>Poor</td>\n",
       "      <td>men</td>\n",
       "      <td>2551</td>\n",
       "      <td>1.0</td>\n",
       "    </tr>\n",
       "    <tr>\n",
       "      <th>7</th>\n",
       "      <td>diabetics</td>\n",
       "      <td>Poor</td>\n",
       "      <td>women</td>\n",
       "      <td>2027</td>\n",
       "      <td>1.0</td>\n",
       "    </tr>\n",
       "    <tr>\n",
       "      <th>8</th>\n",
       "      <td>diabetics</td>\n",
       "      <td>Very good</td>\n",
       "      <td>men</td>\n",
       "      <td>3017</td>\n",
       "      <td>1.0</td>\n",
       "    </tr>\n",
       "    <tr>\n",
       "      <th>9</th>\n",
       "      <td>diabetics</td>\n",
       "      <td>Very good</td>\n",
       "      <td>women</td>\n",
       "      <td>3364</td>\n",
       "      <td>1.0</td>\n",
       "    </tr>\n",
       "    <tr>\n",
       "      <th>10</th>\n",
       "      <td>nondiabetic</td>\n",
       "      <td>Excellent</td>\n",
       "      <td>men</td>\n",
       "      <td>25106</td>\n",
       "      <td>0.0</td>\n",
       "    </tr>\n",
       "    <tr>\n",
       "      <th>11</th>\n",
       "      <td>nondiabetic</td>\n",
       "      <td>Excellent</td>\n",
       "      <td>women</td>\n",
       "      <td>19053</td>\n",
       "      <td>0.0</td>\n",
       "    </tr>\n",
       "    <tr>\n",
       "      <th>12</th>\n",
       "      <td>nondiabetic</td>\n",
       "      <td>Fair</td>\n",
       "      <td>men</td>\n",
       "      <td>12785</td>\n",
       "      <td>0.0</td>\n",
       "    </tr>\n",
       "    <tr>\n",
       "      <th>13</th>\n",
       "      <td>nondiabetic</td>\n",
       "      <td>Fair</td>\n",
       "      <td>women</td>\n",
       "      <td>8995</td>\n",
       "      <td>0.0</td>\n",
       "    </tr>\n",
       "    <tr>\n",
       "      <th>14</th>\n",
       "      <td>nondiabetic</td>\n",
       "      <td>Good</td>\n",
       "      <td>men</td>\n",
       "      <td>34507</td>\n",
       "      <td>0.0</td>\n",
       "    </tr>\n",
       "    <tr>\n",
       "      <th>15</th>\n",
       "      <td>nondiabetic</td>\n",
       "      <td>Good</td>\n",
       "      <td>women</td>\n",
       "      <td>27682</td>\n",
       "      <td>0.0</td>\n",
       "    </tr>\n",
       "    <tr>\n",
       "      <th>16</th>\n",
       "      <td>nondiabetic</td>\n",
       "      <td>Poor</td>\n",
       "      <td>men</td>\n",
       "      <td>4442</td>\n",
       "      <td>0.0</td>\n",
       "    </tr>\n",
       "    <tr>\n",
       "      <th>17</th>\n",
       "      <td>nondiabetic</td>\n",
       "      <td>Poor</td>\n",
       "      <td>women</td>\n",
       "      <td>3061</td>\n",
       "      <td>0.0</td>\n",
       "    </tr>\n",
       "    <tr>\n",
       "      <th>18</th>\n",
       "      <td>nondiabetic</td>\n",
       "      <td>Very good</td>\n",
       "      <td>men</td>\n",
       "      <td>46723</td>\n",
       "      <td>0.0</td>\n",
       "    </tr>\n",
       "    <tr>\n",
       "      <th>19</th>\n",
       "      <td>nondiabetic</td>\n",
       "      <td>Very good</td>\n",
       "      <td>women</td>\n",
       "      <td>35980</td>\n",
       "      <td>0.0</td>\n",
       "    </tr>\n",
       "  </tbody>\n",
       "</table>\n",
       "</div>"
      ],
      "text/plain": [
       "          Types GeneralHealth Gender  count  mean\n",
       "0     diabetics     Excellent    men    449   1.0\n",
       "1     diabetics     Excellent  women    691   1.0\n",
       "2     diabetics          Fair    men   5529   1.0\n",
       "3     diabetics          Fair  women   4261   1.0\n",
       "4     diabetics          Good    men   6865   1.0\n",
       "5     diabetics          Good  women   6592   1.0\n",
       "6     diabetics          Poor    men   2551   1.0\n",
       "7     diabetics          Poor  women   2027   1.0\n",
       "8     diabetics     Very good    men   3017   1.0\n",
       "9     diabetics     Very good  women   3364   1.0\n",
       "10  nondiabetic     Excellent    men  25106   0.0\n",
       "11  nondiabetic     Excellent  women  19053   0.0\n",
       "12  nondiabetic          Fair    men  12785   0.0\n",
       "13  nondiabetic          Fair  women   8995   0.0\n",
       "14  nondiabetic          Good    men  34507   0.0\n",
       "15  nondiabetic          Good  women  27682   0.0\n",
       "16  nondiabetic          Poor    men   4442   0.0\n",
       "17  nondiabetic          Poor  women   3061   0.0\n",
       "18  nondiabetic     Very good    men  46723   0.0\n",
       "19  nondiabetic     Very good  women  35980   0.0"
      ]
     },
     "execution_count": 67,
     "metadata": {},
     "output_type": "execute_result"
    }
   ],
   "source": [
    "#Expected results\n",
    "\n",
    "people.groupby([\"Types\", \"GeneralHealth\", \"Gender\"])[\"Diabetes_binary\"].agg(['count', 'mean']).reset_index()\n"
   ]
  },
  {
   "cell_type": "markdown",
   "id": "2d0bcdec-852e-4ce4-b9b0-c981f37923c4",
   "metadata": {},
   "source": [
    "### Testing my class\n",
    "Lastly, create prepare.py file and add all my functions\n",
    "Better to view py file in pycharm so you done mess up the formatting incase you have to make changes\n"
   ]
  },
  {
   "cell_type": "code",
   "execution_count": 68,
   "id": "edc704fe-e341-46d0-9c20-34d68ae4dc60",
   "metadata": {
    "scrolled": true
   },
   "outputs": [],
   "source": [
    "from prepare import PrepareData"
   ]
  },
  {
   "cell_type": "markdown",
   "id": "483529ed-192a-4e21-a25f-e1c414200590",
   "metadata": {},
   "source": [
    "### Testing reading local data"
   ]
  },
  {
   "cell_type": "code",
   "execution_count": 69,
   "id": "d06f6ae9-8ff9-48db-90d6-789514b39afc",
   "metadata": {},
   "outputs": [],
   "source": [
    "#Testing - Read local data\n",
    "prepare_data = PrepareData(download_new=False)"
   ]
  },
  {
   "cell_type": "code",
   "execution_count": 70,
   "id": "27e2b5ec-ce87-4cf3-90c6-a6dc045db5f5",
   "metadata": {},
   "outputs": [],
   "source": [
    "#will return these dataframe already cleaned and transformed\n",
    "# 'menhealth','menhealth','physical','dietary','heart','sex','edu','all' \n",
    "data = prepare_data.run()\n"
   ]
  },
  {
   "cell_type": "code",
   "execution_count": 71,
   "id": "59450e64-8743-4786-aa7a-1e6ce62923b4",
   "metadata": {},
   "outputs": [
    {
     "data": {
      "text/html": [
       "<div>\n",
       "<style scoped>\n",
       "    .dataframe tbody tr th:only-of-type {\n",
       "        vertical-align: middle;\n",
       "    }\n",
       "\n",
       "    .dataframe tbody tr th {\n",
       "        vertical-align: top;\n",
       "    }\n",
       "\n",
       "    .dataframe thead th {\n",
       "        text-align: right;\n",
       "    }\n",
       "</style>\n",
       "<table border=\"1\" class=\"dataframe\">\n",
       "  <thead>\n",
       "    <tr style=\"text-align: right;\">\n",
       "      <th></th>\n",
       "      <th>Diabetes_binary</th>\n",
       "      <th>Type</th>\n",
       "      <th>MentHlth</th>\n",
       "      <th>Gender</th>\n",
       "    </tr>\n",
       "  </thead>\n",
       "  <tbody>\n",
       "    <tr>\n",
       "      <th>0</th>\n",
       "      <td>0</td>\n",
       "      <td>nondiabetic</td>\n",
       "      <td>14</td>\n",
       "      <td>men</td>\n",
       "    </tr>\n",
       "    <tr>\n",
       "      <th>1</th>\n",
       "      <td>0</td>\n",
       "      <td>nondiabetic</td>\n",
       "      <td>0</td>\n",
       "      <td>men</td>\n",
       "    </tr>\n",
       "    <tr>\n",
       "      <th>2</th>\n",
       "      <td>0</td>\n",
       "      <td>nondiabetic</td>\n",
       "      <td>0</td>\n",
       "      <td>men</td>\n",
       "    </tr>\n",
       "    <tr>\n",
       "      <th>3</th>\n",
       "      <td>0</td>\n",
       "      <td>nondiabetic</td>\n",
       "      <td>0</td>\n",
       "      <td>women</td>\n",
       "    </tr>\n",
       "    <tr>\n",
       "      <th>4</th>\n",
       "      <td>1</td>\n",
       "      <td>diabetic</td>\n",
       "      <td>0</td>\n",
       "      <td>women</td>\n",
       "    </tr>\n",
       "  </tbody>\n",
       "</table>\n",
       "</div>"
      ],
      "text/plain": [
       "   Diabetes_binary         Type  MentHlth Gender\n",
       "0                0  nondiabetic        14    men\n",
       "1                0  nondiabetic         0    men\n",
       "2                0  nondiabetic         0    men\n",
       "3                0  nondiabetic         0  women\n",
       "4                1     diabetic         0  women"
      ]
     },
     "execution_count": 71,
     "metadata": {},
     "output_type": "execute_result"
    }
   ],
   "source": [
    "data['menhealth'].head()"
   ]
  },
  {
   "cell_type": "code",
   "execution_count": 72,
   "id": "e052edd8-f9c3-4c81-94c4-85719a7b5343",
   "metadata": {},
   "outputs": [
    {
     "data": {
      "text/html": [
       "<div>\n",
       "<style scoped>\n",
       "    .dataframe tbody tr th:only-of-type {\n",
       "        vertical-align: middle;\n",
       "    }\n",
       "\n",
       "    .dataframe tbody tr th {\n",
       "        vertical-align: top;\n",
       "    }\n",
       "\n",
       "    .dataframe thead th {\n",
       "        text-align: right;\n",
       "    }\n",
       "</style>\n",
       "<table border=\"1\" class=\"dataframe\">\n",
       "  <thead>\n",
       "    <tr style=\"text-align: right;\">\n",
       "      <th></th>\n",
       "      <th>ID</th>\n",
       "      <th>Diabetes_binary</th>\n",
       "      <th>HighBP</th>\n",
       "      <th>HighChol</th>\n",
       "      <th>CholCheck</th>\n",
       "      <th>BMI</th>\n",
       "      <th>Smoker</th>\n",
       "      <th>Stroke</th>\n",
       "      <th>HeartDiseaseorAttack</th>\n",
       "      <th>PhysActivity</th>\n",
       "      <th>...</th>\n",
       "      <th>Sex</th>\n",
       "      <th>Age</th>\n",
       "      <th>Education</th>\n",
       "      <th>Income</th>\n",
       "      <th>Gender</th>\n",
       "      <th>Types</th>\n",
       "      <th>GeneralHealth</th>\n",
       "      <th>Type</th>\n",
       "      <th>income</th>\n",
       "      <th>education</th>\n",
       "    </tr>\n",
       "  </thead>\n",
       "  <tbody>\n",
       "    <tr>\n",
       "      <th>0</th>\n",
       "      <td>215265</td>\n",
       "      <td>0</td>\n",
       "      <td>0</td>\n",
       "      <td>1</td>\n",
       "      <td>0</td>\n",
       "      <td>30</td>\n",
       "      <td>1</td>\n",
       "      <td>0</td>\n",
       "      <td>0</td>\n",
       "      <td>1</td>\n",
       "      <td>...</td>\n",
       "      <td>0</td>\n",
       "      <td>3</td>\n",
       "      <td>4</td>\n",
       "      <td>1</td>\n",
       "      <td>men</td>\n",
       "      <td>nondiabetic</td>\n",
       "      <td>Good</td>\n",
       "      <td>nondiabetic</td>\n",
       "      <td>&lt;10K</td>\n",
       "      <td>12orGED</td>\n",
       "    </tr>\n",
       "    <tr>\n",
       "      <th>1</th>\n",
       "      <td>141614</td>\n",
       "      <td>0</td>\n",
       "      <td>0</td>\n",
       "      <td>0</td>\n",
       "      <td>1</td>\n",
       "      <td>35</td>\n",
       "      <td>1</td>\n",
       "      <td>0</td>\n",
       "      <td>0</td>\n",
       "      <td>1</td>\n",
       "      <td>...</td>\n",
       "      <td>1</td>\n",
       "      <td>7</td>\n",
       "      <td>4</td>\n",
       "      <td>1</td>\n",
       "      <td>women</td>\n",
       "      <td>nondiabetic</td>\n",
       "      <td>Excellent</td>\n",
       "      <td>nondiabetic</td>\n",
       "      <td>&lt;10K</td>\n",
       "      <td>12orGED</td>\n",
       "    </tr>\n",
       "    <tr>\n",
       "      <th>2</th>\n",
       "      <td>28979</td>\n",
       "      <td>0</td>\n",
       "      <td>0</td>\n",
       "      <td>0</td>\n",
       "      <td>1</td>\n",
       "      <td>25</td>\n",
       "      <td>0</td>\n",
       "      <td>0</td>\n",
       "      <td>0</td>\n",
       "      <td>1</td>\n",
       "      <td>...</td>\n",
       "      <td>0</td>\n",
       "      <td>10</td>\n",
       "      <td>2</td>\n",
       "      <td>1</td>\n",
       "      <td>men</td>\n",
       "      <td>nondiabetic</td>\n",
       "      <td>Very good</td>\n",
       "      <td>nondiabetic</td>\n",
       "      <td>&lt;10K</td>\n",
       "      <td>1-8</td>\n",
       "    </tr>\n",
       "    <tr>\n",
       "      <th>3</th>\n",
       "      <td>123066</td>\n",
       "      <td>1</td>\n",
       "      <td>0</td>\n",
       "      <td>1</td>\n",
       "      <td>1</td>\n",
       "      <td>45</td>\n",
       "      <td>0</td>\n",
       "      <td>0</td>\n",
       "      <td>0</td>\n",
       "      <td>0</td>\n",
       "      <td>...</td>\n",
       "      <td>0</td>\n",
       "      <td>4</td>\n",
       "      <td>3</td>\n",
       "      <td>1</td>\n",
       "      <td>men</td>\n",
       "      <td>diabetics</td>\n",
       "      <td>Fair</td>\n",
       "      <td>diabetic</td>\n",
       "      <td>&lt;10K</td>\n",
       "      <td>9-11</td>\n",
       "    </tr>\n",
       "    <tr>\n",
       "      <th>4</th>\n",
       "      <td>36247</td>\n",
       "      <td>0</td>\n",
       "      <td>0</td>\n",
       "      <td>0</td>\n",
       "      <td>1</td>\n",
       "      <td>28</td>\n",
       "      <td>0</td>\n",
       "      <td>0</td>\n",
       "      <td>0</td>\n",
       "      <td>1</td>\n",
       "      <td>...</td>\n",
       "      <td>1</td>\n",
       "      <td>13</td>\n",
       "      <td>6</td>\n",
       "      <td>1</td>\n",
       "      <td>women</td>\n",
       "      <td>nondiabetic</td>\n",
       "      <td>Good</td>\n",
       "      <td>nondiabetic</td>\n",
       "      <td>&lt;10K</td>\n",
       "      <td>C4+</td>\n",
       "    </tr>\n",
       "  </tbody>\n",
       "</table>\n",
       "<p>5 rows × 29 columns</p>\n",
       "</div>"
      ],
      "text/plain": [
       "       ID  Diabetes_binary  HighBP  HighChol  CholCheck  BMI  Smoker  Stroke  \\\n",
       "0  215265                0       0         1          0   30       1       0   \n",
       "1  141614                0       0         0          1   35       1       0   \n",
       "2   28979                0       0         0          1   25       0       0   \n",
       "3  123066                1       0         1          1   45       0       0   \n",
       "4   36247                0       0         0          1   28       0       0   \n",
       "\n",
       "   HeartDiseaseorAttack  PhysActivity  ...  Sex  Age  Education  Income  \\\n",
       "0                     0             1  ...    0    3          4       1   \n",
       "1                     0             1  ...    1    7          4       1   \n",
       "2                     0             1  ...    0   10          2       1   \n",
       "3                     0             0  ...    0    4          3       1   \n",
       "4                     0             1  ...    1   13          6       1   \n",
       "\n",
       "   Gender        Types  GeneralHealth         Type  income  education  \n",
       "0     men  nondiabetic           Good  nondiabetic    <10K    12orGED  \n",
       "1   women  nondiabetic      Excellent  nondiabetic    <10K    12orGED  \n",
       "2     men  nondiabetic      Very good  nondiabetic    <10K        1-8  \n",
       "3     men    diabetics           Fair     diabetic    <10K       9-11  \n",
       "4   women  nondiabetic           Good  nondiabetic    <10K        C4+  \n",
       "\n",
       "[5 rows x 29 columns]"
      ]
     },
     "execution_count": 72,
     "metadata": {},
     "output_type": "execute_result"
    }
   ],
   "source": [
    "data['all'].head()"
   ]
  },
  {
   "cell_type": "code",
   "execution_count": 73,
   "id": "cf3739b0-a75f-4ae6-8735-2414ea140ccf",
   "metadata": {
    "scrolled": true
   },
   "outputs": [
    {
     "data": {
      "text/plain": [
       "(253680, 29)"
      ]
     },
     "execution_count": 73,
     "metadata": {},
     "output_type": "execute_result"
    }
   ],
   "source": [
    " data['all'].shape"
   ]
  },
  {
   "cell_type": "code",
   "execution_count": null,
   "id": "9f0438c4",
   "metadata": {},
   "outputs": [],
   "source": []
  }
 ],
 "metadata": {
  "kernelspec": {
   "display_name": "Python 3 (ipykernel)",
   "language": "python",
   "name": "python3"
  },
  "language_info": {
   "codemirror_mode": {
    "name": "ipython",
    "version": 3
   },
   "file_extension": ".py",
   "mimetype": "text/x-python",
   "name": "python",
   "nbconvert_exporter": "python",
   "pygments_lexer": "ipython3",
   "version": "3.9.12"
  }
 },
 "nbformat": 4,
 "nbformat_minor": 5
}
